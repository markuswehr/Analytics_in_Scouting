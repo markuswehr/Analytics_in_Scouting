{
 "cells": [
  {
   "cell_type": "markdown",
   "metadata": {
    "colab_type": "text",
    "id": "xmZKjC8xkH3X"
   },
   "source": [
    "## Import Libraries"
   ]
  },
  {
   "cell_type": "code",
   "execution_count": 1,
   "metadata": {
    "colab": {
     "base_uri": "https://localhost:8080/",
     "height": 16
    },
    "colab_type": "code",
    "id": "l6GH5t1wjrsB",
    "outputId": "8001469a-519a-4a95-aa8b-71b5861f4356"
   },
   "outputs": [
    {
     "data": {
      "text/html": [
       "        <script type=\"text/javascript\">\n",
       "        window.PlotlyConfig = {MathJaxConfig: 'local'};\n",
       "        if (window.MathJax) {MathJax.Hub.Config({SVG: {font: \"STIX-Web\"}});}\n",
       "        if (typeof require !== 'undefined') {\n",
       "        require.undef(\"plotly\");\n",
       "        requirejs.config({\n",
       "            paths: {\n",
       "                'plotly': ['https://cdn.plot.ly/plotly-latest.min']\n",
       "            }\n",
       "        });\n",
       "        require(['plotly'], function(Plotly) {\n",
       "            window._Plotly = Plotly;\n",
       "        });\n",
       "        }\n",
       "        </script>\n",
       "        "
      ]
     },
     "metadata": {},
     "output_type": "display_data"
    }
   ],
   "source": [
    "# Data manipulation\n",
    "import pandas as pd\n",
    "import numpy as np\n",
    "\n",
    "# Data visualization\n",
    "import seaborn as sns\n",
    "import matplotlib.pyplot as plt\n",
    "\n",
    "# Plotly visualizations\n",
    "from plotly import tools\n",
    "import plotly.plotly as py\n",
    "import plotly.figure_factory as ff\n",
    "import plotly.graph_objs as go\n",
    "from plotly.offline import download_plotlyjs, init_notebook_mode, plot, iplot\n",
    "init_notebook_mode(connected=True)\n",
    "\n",
    "# Display properties\n",
    "pd.set_option('display.max_columns', 150)\n",
    "pd.set_option('display.max_rows', 150)\n",
    "from IPython.display import display, HTML\n",
    "\n",
    "# Date\n",
    "import datetime\n",
    "from datetime import date, timedelta\n",
    "\n",
    "\n",
    "# Maps\n",
    "from math import pi\n",
    "\n",
    "# Storing and Reading data (pickle)\n",
    "import pickle \n"
   ]
  },
  {
   "cell_type": "code",
   "execution_count": 2,
   "metadata": {
    "colab": {},
    "colab_type": "code",
    "id": "0PPHBQrxjrsL"
   },
   "outputs": [],
   "source": [
    "#Sklearn packages\n",
    "\n",
    "# Import required packages for pre and post processing\n",
    "from sklearn.preprocessing import normalize\n",
    "\n",
    "# Perform the necessary imports\n",
    "from scipy.cluster.hierarchy import linkage, dendrogram\n"
   ]
  },
  {
   "cell_type": "markdown",
   "metadata": {
    "colab_type": "text",
    "id": "zfhBy7RNkPf0"
   },
   "source": [
    "## Call Pickle"
   ]
  },
  {
   "cell_type": "code",
   "execution_count": 3,
   "metadata": {},
   "outputs": [],
   "source": [
    "with open('fifa_processed.pkl', 'rb') as f:\n",
    "    fifa = pickle.load(f)"
   ]
  },
  {
   "cell_type": "code",
   "execution_count": 4,
   "metadata": {},
   "outputs": [],
   "source": [
    "with open('predictors_processed.pkl', 'rb') as f:\n",
    "    predictors_df = pickle.load(f)"
   ]
  },
  {
   "cell_type": "markdown",
   "metadata": {},
   "source": [
    "Changing the categorical variables to dtype 'categorical'."
   ]
  },
  {
   "cell_type": "code",
   "execution_count": 5,
   "metadata": {},
   "outputs": [],
   "source": [
    "predictors_df[['Preferred Foot','International Reputation','Weak Foot','Skill Moves','Real Face']]=predictors_df[['Preferred Foot',\n",
    "                                                                                                                  'International Reputation',\n",
    "                                                                                                                  'Weak Foot','Skill Moves',\n",
    "                                                                                                                  'Real Face']].astype('category')"
   ]
  },
  {
   "cell_type": "code",
   "execution_count": 6,
   "metadata": {},
   "outputs": [],
   "source": [
    "predictors_df[list(predictors_df.loc[:,'Body Type':'Position_Group_Midfielder'])]=predictors_df[list(predictors_df.loc[:,'Body Type':'Position_Group_Midfielder'])].astype('category')"
   ]
  },
  {
   "cell_type": "markdown",
   "metadata": {},
   "source": [
    "## 1.) Linear Regression"
   ]
  },
  {
   "cell_type": "code",
   "execution_count": 7,
   "metadata": {},
   "outputs": [
    {
     "name": "stderr",
     "output_type": "stream",
     "text": [
      "C:\\Users\\wehrm\\AppData\\Local\\Continuum\\anaconda3\\lib\\site-packages\\statsmodels\\compat\\pandas.py:49: FutureWarning:\n",
      "\n",
      "The Panel class is removed from pandas. Accessing it from the top-level namespace will also be removed in the next version\n",
      "\n"
     ]
    }
   ],
   "source": [
    "from sklearn.linear_model import LinearRegression\n",
    "import statsmodels.api as sm"
   ]
  },
  {
   "cell_type": "markdown",
   "metadata": {},
   "source": [
    "First, we are seperating value of player out from the fifa data frame, as these are the values we would like to predict."
   ]
  },
  {
   "cell_type": "code",
   "execution_count": 8,
   "metadata": {},
   "outputs": [],
   "source": [
    "target_val = fifa.Value"
   ]
  },
  {
   "cell_type": "markdown",
   "metadata": {},
   "source": [
    "Next, we run a simple linear regression model to get a first impression of what is going on."
   ]
  },
  {
   "cell_type": "code",
   "execution_count": 9,
   "metadata": {},
   "outputs": [
    {
     "name": "stdout",
     "output_type": "stream",
     "text": [
      "Intercept: \n",
      " -14799392093692.605\n",
      "Coefficients: \n",
      " [-3.48640994e+05 -3.79861117e+16  3.79861117e+16 -4.18271163e+04\n",
      " -3.34419519e+04  3.42066805e+06  7.79750731e+04  1.29307541e+05\n",
      "  1.01594625e+06 -1.00820000e+04  1.72000000e+02  3.50699688e+04\n",
      "  2.64960438e+05 -6.15350000e+03  1.44800000e+03  5.82435658e+14\n",
      " -2.08458554e+14 -3.73977104e+14  1.91772874e+14 -5.51351973e+13\n",
      "  5.34971915e+13  1.63800592e+12 -1.91772874e+14  2.43524915e+15\n",
      " -1.15362983e+15 -1.28161931e+15 -2.10800106e+14 -1.05364314e+13\n",
      "  6.48714259e+12  4.04928875e+12  2.10800106e+14  4.28481925e+14\n",
      " -1.78365680e+13 -2.76531297e+11  1.81130992e+13 -4.28481925e+14\n",
      "  2.72935275e+12 -2.58876566e+14  1.39499087e+14  1.19377478e+14\n",
      " -2.72935278e+12  4.02817792e+13  4.02817792e+13  4.02817792e+13\n",
      "  4.02817792e+13  4.02817792e+13 -1.12403274e+14 -1.12403274e+14\n",
      " -1.12403274e+14 -1.12403274e+14 -1.12403274e+14  1.40108006e+14\n",
      "  1.40108006e+14  1.40108006e+14  1.40108006e+14  1.40108006e+14\n",
      "  1.41050468e+14  1.41050468e+14  1.41050468e+14  1.41050468e+14\n",
      "  1.41050468e+14 -1.16375105e+14 -1.16375105e+14 -1.16375105e+14\n",
      " -1.16375105e+14 -1.16375105e+14 -1.16375105e+14  1.00687888e+14\n",
      "  1.00687888e+14  1.00687888e+14  1.40338264e+14  1.40338264e+14\n",
      "  1.40338264e+14  1.40338264e+14  1.40338264e+14  4.94454795e+06\n",
      "  6.49866262e+06 -2.01408896e+14  5.62016372e+14 -7.00540028e+14\n",
      " -7.05252341e+14  6.98250632e+14 -3.02063665e+14 -7.01691318e+14\n",
      " -3.79861117e+16  1.02161250e+04  1.17748625e+05  2.23001711e+05\n",
      "  1.16898325e+12 -2.21836366e+12  1.16898345e+12  1.29538678e+12\n",
      "  1.16898372e+12  9.49045923e+12  1.16898427e+12 -2.21836395e+12\n",
      " -2.21836339e+12  1.16898408e+12  1.16898374e+12  1.29539528e+12\n",
      "  1.16898320e+12  1.29538771e+12  1.29538738e+12 -2.21836362e+12\n",
      "  1.16898340e+12 -2.21836399e+12 -2.21836363e+12  1.16898403e+12\n",
      "  1.16898370e+12  1.29539210e+12  1.16898325e+12  1.29538721e+12\n",
      "  1.29538718e+12 -2.21836333e+12  1.29538702e+12 -2.91354707e+12\n",
      " -2.91354684e+12 -2.91354688e+12 -2.91354719e+12 -2.91354667e+12\n",
      " -2.91354661e+12  1.99312712e+13  1.64175201e+13  8.22246063e+12\n",
      "  1.65439240e+13]\n"
     ]
    }
   ],
   "source": [
    "# with sklearn\n",
    "lre = LinearRegression()\n",
    "lre.fit(predictors_df, target_val)\n",
    "\n",
    "print('Intercept: \\n', lre.intercept_)\n",
    "print('Coefficients: \\n', lre.coef_)"
   ]
  },
  {
   "cell_type": "markdown",
   "metadata": {},
   "source": []
  },
  {
   "cell_type": "markdown",
   "metadata": {},
   "source": [
    "## 2.) Baseline models and feature importance for Value prediction\n",
    "### 2.1) Splitting data (stratified)\n",
    "\n",
    "To make sure that our test set as well as all k-folds have a similar value distribution, we stratify our data when splitting it into test and training set. To identify reasonable bins for stratifying, we first identify outliers and how big the portion of outliers is in the dataset. We, therefore, only consider exceptionally high values to be outliers, as the value distribution does not follow a normal distribution (rather a gamma distribution)."
   ]
  },
  {
   "cell_type": "code",
   "execution_count": 10,
   "metadata": {},
   "outputs": [],
   "source": [
    "target_val_q25, target_val_q75 = np.percentile(target_val, 25), np.percentile(target_val, 75)\n",
    "target_val_iqr = target_val_q75 - target_val_q25\n",
    "\n",
    "cut_off = target_val_iqr * 1.5\n",
    "target_val_upper = target_val_q75 + cut_off\n",
    "\n",
    "target_val_outliers = [x for x in target_val if x > target_val_upper]"
   ]
  },
  {
   "cell_type": "code",
   "execution_count": 11,
   "metadata": {},
   "outputs": [
    {
     "data": {
      "text/plain": [
       "0.1369568808855113"
      ]
     },
     "execution_count": 11,
     "metadata": {},
     "output_type": "execute_result"
    }
   ],
   "source": [
    "len(target_val_outliers)/len(target_val)"
   ]
  },
  {
   "cell_type": "markdown",
   "metadata": {},
   "source": [
    "Over 13% of the data are considered to have exceptionally high values. This group is big enough to build its own bin. We are going to split all the rest into four bins, each containing 25% of the left portion of the data. "
   ]
  },
  {
   "cell_type": "code",
   "execution_count": 12,
   "metadata": {},
   "outputs": [],
   "source": [
    "target_val_left=[x for x in target_val if x <= target_val_upper]\n",
    "q25, q50, q75=np.percentile(target_val_left,25), np.percentile(target_val_left,50), np.percentile(target_val_left,75)"
   ]
  },
  {
   "cell_type": "code",
   "execution_count": 13,
   "metadata": {},
   "outputs": [],
   "source": [
    "y_binned=[1 if x<=q25 else 2 if q25<x<=q50 else 3 if q50<x<=q75 else 4 if q75<x<=target_val_upper else 5 for x in target_val]"
   ]
  },
  {
   "cell_type": "markdown",
   "metadata": {},
   "source": [
    "These bins can now be used for stratifying our training and test set."
   ]
  },
  {
   "cell_type": "code",
   "execution_count": 14,
   "metadata": {},
   "outputs": [],
   "source": [
    "from sklearn.model_selection import train_test_split\n",
    "train_predictors_val, test_predictors_val, train_target_val, test_target_val = train_test_split(predictors_df,\n",
    "                                                                                                target_val,\n",
    "                                                                                                test_size=0.2,\n",
    "                                                                                                stratify=y_binned)"
   ]
  },
  {
   "cell_type": "code",
   "execution_count": 15,
   "metadata": {},
   "outputs": [
    {
     "data": {
      "text/plain": [
       "count    1.452700e+04\n",
       "mean     2.426096e+06\n",
       "std      5.692163e+06\n",
       "min      0.000000e+00\n",
       "25%      3.000000e+05\n",
       "50%      6.750000e+05\n",
       "75%      2.000000e+06\n",
       "max      1.185000e+08\n",
       "Name: Value, dtype: float64"
      ]
     },
     "execution_count": 15,
     "metadata": {},
     "output_type": "execute_result"
    }
   ],
   "source": [
    "train_target_val.describe()"
   ]
  },
  {
   "cell_type": "code",
   "execution_count": 16,
   "metadata": {},
   "outputs": [
    {
     "data": {
      "text/plain": [
       "count    3.632000e+03\n",
       "mean     2.376276e+06\n",
       "std      5.222748e+06\n",
       "min      0.000000e+00\n",
       "25%      3.000000e+05\n",
       "50%      6.750000e+05\n",
       "75%      2.000000e+06\n",
       "max      7.200000e+07\n",
       "Name: Value, dtype: float64"
      ]
     },
     "execution_count": 16,
     "metadata": {},
     "output_type": "execute_result"
    }
   ],
   "source": [
    "test_target_val.describe()"
   ]
  },
  {
   "cell_type": "code",
   "execution_count": 17,
   "metadata": {},
   "outputs": [
    {
     "data": {
      "text/plain": [
       "(array([3.318e+03, 2.170e+02, 4.700e+01, 2.100e+01, 1.200e+01, 5.000e+00,\n",
       "        4.000e+00, 3.000e+00, 3.000e+00, 2.000e+00]),\n",
       " array([       0.,  7200000., 14400000., 21600000., 28800000., 36000000.,\n",
       "        43200000., 50400000., 57600000., 64800000., 72000000.]),\n",
       " <a list of 10 Patch objects>)"
      ]
     },
     "execution_count": 17,
     "metadata": {},
     "output_type": "execute_result"
    },
    {
     "data": {
      "image/png": "[encoded data removed]",
      "text/plain": [
       "<Figure size 432x288 with 1 Axes>"
      ]
     },
     "metadata": {
      "needs_background": "light"
     },
     "output_type": "display_data"
    }
   ],
   "source": [
    "plt.hist(test_target_val)"
   ]
  },
  {
   "cell_type": "code",
   "execution_count": 18,
   "metadata": {},
   "outputs": [
    {
     "data": {
      "text/plain": [
       "(array([1.396e+04, 3.840e+02, 1.050e+02, 3.600e+01, 1.400e+01, 1.400e+01,\n",
       "        8.000e+00, 3.000e+00, 1.000e+00, 2.000e+00]),\n",
       " array([0.0000e+00, 1.1850e+07, 2.3700e+07, 3.5550e+07, 4.7400e+07,\n",
       "        5.9250e+07, 7.1100e+07, 8.2950e+07, 9.4800e+07, 1.0665e+08,\n",
       "        1.1850e+08]),\n",
       " <a list of 10 Patch objects>)"
      ]
     },
     "execution_count": 18,
     "metadata": {},
     "output_type": "execute_result"
    },
    {
     "data": {
      "image/png": "[encoded data removed]",
      "text/plain": [
       "<Figure size 432x288 with 1 Axes>"
      ]
     },
     "metadata": {
      "needs_background": "light"
     },
     "output_type": "display_data"
    }
   ],
   "source": [
    "plt.hist(train_target_val)"
   ]
  },
  {
   "cell_type": "markdown",
   "metadata": {},
   "source": [
    "The distribution of our test and training set look very similar. Just as we wanted them to be."
   ]
  },
  {
   "cell_type": "markdown",
   "metadata": {},
   "source": [
    "### 2.2) Baseline models\n",
    "First, we are applying some models to our data without doing any parameter tuning or dropping any features. The obtained cross-validation, test and training errors can then be used as a baseline as we progress.\n",
    "\n",
    "Before fitting the models, we scale all numeric features. Since the dataframe only has data of type categorical, float and int, we select the latter two for scaling."
   ]
  },
  {
   "cell_type": "code",
   "execution_count": 19,
   "metadata": {
    "scrolled": true
   },
   "outputs": [
    {
     "name": "stdout",
     "output_type": "stream",
     "text": [
      "<class 'pandas.core.frame.DataFrame'>\n",
      "Int64Index: 14527 entries, 11893 to 13818\n",
      "Columns: 125 entries, Age to Position_Group_Midfielder\n",
      "dtypes: category(45), float64(43), int64(37)\n",
      "memory usage: 9.6 MB\n"
     ]
    }
   ],
   "source": [
    "train_predictors_val.info()"
   ]
  },
  {
   "cell_type": "code",
   "execution_count": 20,
   "metadata": {},
   "outputs": [],
   "source": [
    "from sklearn.preprocessing import StandardScaler\n",
    "\n",
    "scaler = StandardScaler()\n",
    "train_predictors_val[train_predictors_val.select_dtypes(include=['float64','float32','int64','int32'], exclude=['category']).columns] = scaler.fit_transform(train_predictors_val.select_dtypes(include=['float64','float32','int64','int32'], exclude=['category']))\n",
    "\n",
    "test_predictors_val[test_predictors_val.select_dtypes(include=['float64','float32','int64','int32'], exclude=['category']).columns] = scaler.fit_transform(test_predictors_val.select_dtypes(include=['float64','float32','int64','int32'],exclude=['category']))\n"
   ]
  },
  {
   "cell_type": "code",
   "execution_count": 21,
   "metadata": {},
   "outputs": [],
   "source": [
    "train_predictors_val[train_predictors_val.select_dtypes(include='category').columns]=train_predictors_val[train_predictors_val.select_dtypes(include='category').columns].astype('int')\n",
    "test_predictors_val[test_predictors_val.select_dtypes(include='category').columns]=test_predictors_val[test_predictors_val.select_dtypes(include='category').columns].astype('int')"
   ]
  },
  {
   "cell_type": "code",
   "execution_count": 22,
   "metadata": {},
   "outputs": [
    {
     "data": {
      "text/html": [
       "<div>\n",
       "<style scoped>\n",
       "    .dataframe tbody tr th:only-of-type {\n",
       "        vertical-align: middle;\n",
       "    }\n",
       "\n",
       "    .dataframe tbody tr th {\n",
       "        vertical-align: top;\n",
       "    }\n",
       "\n",
       "    .dataframe thead th {\n",
       "        text-align: right;\n",
       "    }\n",
       "</style>\n",
       "<table border=\"1\" class=\"dataframe\">\n",
       "  <thead>\n",
       "    <tr style=\"text-align: right;\">\n",
       "      <th></th>\n",
       "      <th>Age</th>\n",
       "      <th>Overall</th>\n",
       "      <th>Potential</th>\n",
       "      <th>Special</th>\n",
       "      <th>Preferred Foot</th>\n",
       "      <th>International Reputation</th>\n",
       "      <th>Weak Foot</th>\n",
       "      <th>Skill Moves</th>\n",
       "      <th>Real Face</th>\n",
       "      <th>Jersey Number</th>\n",
       "      <th>Joined</th>\n",
       "      <th>Loaned From</th>\n",
       "      <th>Contract Valid Until</th>\n",
       "      <th>Height</th>\n",
       "      <th>Weight</th>\n",
       "      <th>LS</th>\n",
       "      <th>ST</th>\n",
       "      <th>RS</th>\n",
       "      <th>LW</th>\n",
       "      <th>LF</th>\n",
       "      <th>CF</th>\n",
       "      <th>RF</th>\n",
       "      <th>RW</th>\n",
       "      <th>LAM</th>\n",
       "      <th>CAM</th>\n",
       "      <th>RAM</th>\n",
       "      <th>LM</th>\n",
       "      <th>LCM</th>\n",
       "      <th>CM</th>\n",
       "      <th>RCM</th>\n",
       "      <th>RM</th>\n",
       "      <th>LWB</th>\n",
       "      <th>LDM</th>\n",
       "      <th>CDM</th>\n",
       "      <th>RDM</th>\n",
       "      <th>RWB</th>\n",
       "      <th>LB</th>\n",
       "      <th>LCB</th>\n",
       "      <th>CB</th>\n",
       "      <th>RCB</th>\n",
       "      <th>RB</th>\n",
       "      <th>Crossing</th>\n",
       "      <th>Finishing</th>\n",
       "      <th>HeadingAccuracy</th>\n",
       "      <th>ShortPassing</th>\n",
       "      <th>Volleys</th>\n",
       "      <th>Dribbling</th>\n",
       "      <th>Curve</th>\n",
       "      <th>FKAccuracy</th>\n",
       "      <th>LongPassing</th>\n",
       "      <th>BallControl</th>\n",
       "      <th>Acceleration</th>\n",
       "      <th>SprintSpeed</th>\n",
       "      <th>Agility</th>\n",
       "      <th>Reactions</th>\n",
       "      <th>Balance</th>\n",
       "      <th>ShotPower</th>\n",
       "      <th>Jumping</th>\n",
       "      <th>Stamina</th>\n",
       "      <th>Strength</th>\n",
       "      <th>LongShots</th>\n",
       "      <th>Aggression</th>\n",
       "      <th>Interceptions</th>\n",
       "      <th>Positioning</th>\n",
       "      <th>Vision</th>\n",
       "      <th>Penalties</th>\n",
       "      <th>Composure</th>\n",
       "      <th>Marking</th>\n",
       "      <th>StandingTackle</th>\n",
       "      <th>SlidingTackle</th>\n",
       "      <th>GKDiving</th>\n",
       "      <th>GKHandling</th>\n",
       "      <th>GKKicking</th>\n",
       "      <th>GKPositioning</th>\n",
       "      <th>GKReflexes</th>\n",
       "      <th>Club_Reputation</th>\n",
       "      <th>Position_Potential</th>\n",
       "      <th>Attacking</th>\n",
       "      <th>Skill</th>\n",
       "      <th>Movement</th>\n",
       "      <th>Power</th>\n",
       "      <th>Mentality</th>\n",
       "      <th>Defending</th>\n",
       "      <th>GoalKeeping</th>\n",
       "      <th>Potential_Difference</th>\n",
       "      <th>Body Type</th>\n",
       "      <th>Attack_WR</th>\n",
       "      <th>Defense_WR</th>\n",
       "      <th>Position_CAM</th>\n",
       "      <th>Position_CB</th>\n",
       "      <th>Position_CDM</th>\n",
       "      <th>Position_CF</th>\n",
       "      <th>Position_CM</th>\n",
       "      <th>Position_GK</th>\n",
       "      <th>Position_LAM</th>\n",
       "      <th>Position_LB</th>\n",
       "      <th>Position_LCB</th>\n",
       "      <th>Position_LCM</th>\n",
       "      <th>Position_LDM</th>\n",
       "      <th>Position_LF</th>\n",
       "      <th>Position_LM</th>\n",
       "      <th>Position_LS</th>\n",
       "      <th>Position_LW</th>\n",
       "      <th>Position_LWB</th>\n",
       "      <th>Position_RAM</th>\n",
       "      <th>Position_RB</th>\n",
       "      <th>Position_RCB</th>\n",
       "      <th>Position_RCM</th>\n",
       "      <th>Position_RDM</th>\n",
       "      <th>Position_RF</th>\n",
       "      <th>Position_RM</th>\n",
       "      <th>Position_RS</th>\n",
       "      <th>Position_RW</th>\n",
       "      <th>Position_RWB</th>\n",
       "      <th>Position_ST</th>\n",
       "      <th>Continent_Africa</th>\n",
       "      <th>Continent_Asia</th>\n",
       "      <th>Continent_Europe</th>\n",
       "      <th>Continent_North America</th>\n",
       "      <th>Continent_Oceania</th>\n",
       "      <th>Continent_South America</th>\n",
       "      <th>Position_Group_Defender</th>\n",
       "      <th>Position_Group_Forward</th>\n",
       "      <th>Position_Group_GoalKeeper</th>\n",
       "      <th>Position_Group_Midfielder</th>\n",
       "    </tr>\n",
       "  </thead>\n",
       "  <tbody>\n",
       "    <tr>\n",
       "      <td>11893</td>\n",
       "      <td>-0.026879</td>\n",
       "      <td>-0.326537</td>\n",
       "      <td>-0.377531</td>\n",
       "      <td>-1.957513</td>\n",
       "      <td>1</td>\n",
       "      <td>1</td>\n",
       "      <td>2</td>\n",
       "      <td>1</td>\n",
       "      <td>0</td>\n",
       "      <td>0.157975</td>\n",
       "      <td>0.724599</td>\n",
       "      <td>-0.274513</td>\n",
       "      <td>1.433110</td>\n",
       "      <td>1.012672</td>\n",
       "      <td>0.256345</td>\n",
       "      <td>-2.534018</td>\n",
       "      <td>-2.534018</td>\n",
       "      <td>-2.534018</td>\n",
       "      <td>-2.504813</td>\n",
       "      <td>-2.504943</td>\n",
       "      <td>-2.504943</td>\n",
       "      <td>-2.504943</td>\n",
       "      <td>-2.504813</td>\n",
       "      <td>-2.510670</td>\n",
       "      <td>-2.510670</td>\n",
       "      <td>-2.510670</td>\n",
       "      <td>-2.541207</td>\n",
       "      <td>-2.552899</td>\n",
       "      <td>-2.552899</td>\n",
       "      <td>-2.552899</td>\n",
       "      <td>-2.541207</td>\n",
       "      <td>-2.536604</td>\n",
       "      <td>-2.473143</td>\n",
       "      <td>-2.473143</td>\n",
       "      <td>-2.473143</td>\n",
       "      <td>-2.536604</td>\n",
       "      <td>-2.501955</td>\n",
       "      <td>-2.369425</td>\n",
       "      <td>-2.369425</td>\n",
       "      <td>-2.369425</td>\n",
       "      <td>-2.501955</td>\n",
       "      <td>-1.774264</td>\n",
       "      <td>-1.969235</td>\n",
       "      <td>-2.251654</td>\n",
       "      <td>-1.673917</td>\n",
       "      <td>-2.084089</td>\n",
       "      <td>-2.181190</td>\n",
       "      <td>-1.580779</td>\n",
       "      <td>-1.588286</td>\n",
       "      <td>-1.740636</td>\n",
       "      <td>-3.009445</td>\n",
       "      <td>-1.635844</td>\n",
       "      <td>-1.128942</td>\n",
       "      <td>-1.715828</td>\n",
       "      <td>0.016166</td>\n",
       "      <td>-0.908398</td>\n",
       "      <td>-1.532306</td>\n",
       "      <td>-0.933117</td>\n",
       "      <td>-1.141113</td>\n",
       "      <td>-0.347675</td>\n",
       "      <td>-1.767453</td>\n",
       "      <td>-2.168351</td>\n",
       "      <td>-1.140290</td>\n",
       "      <td>-2.089176</td>\n",
       "      <td>-2.710039</td>\n",
       "      <td>-1.304909</td>\n",
       "      <td>-2.761188</td>\n",
       "      <td>-1.316796</td>\n",
       "      <td>-1.408347</td>\n",
       "      <td>-1.387178</td>\n",
       "      <td>2.550967</td>\n",
       "      <td>2.685877</td>\n",
       "      <td>2.758203</td>\n",
       "      <td>2.665921</td>\n",
       "      <td>2.844348</td>\n",
       "      <td>-0.173253</td>\n",
       "      <td>-2.735504</td>\n",
       "      <td>-2.310606</td>\n",
       "      <td>-2.205011</td>\n",
       "      <td>-1.411056</td>\n",
       "      <td>-1.695130</td>\n",
       "      <td>-2.626452</td>\n",
       "      <td>-1.406341</td>\n",
       "      <td>2.735389</td>\n",
       "      <td>-0.012293</td>\n",
       "      <td>2</td>\n",
       "      <td>2</td>\n",
       "      <td>2</td>\n",
       "      <td>0</td>\n",
       "      <td>0</td>\n",
       "      <td>0</td>\n",
       "      <td>0</td>\n",
       "      <td>0</td>\n",
       "      <td>1</td>\n",
       "      <td>0</td>\n",
       "      <td>0</td>\n",
       "      <td>0</td>\n",
       "      <td>0</td>\n",
       "      <td>0</td>\n",
       "      <td>0</td>\n",
       "      <td>0</td>\n",
       "      <td>0</td>\n",
       "      <td>0</td>\n",
       "      <td>0</td>\n",
       "      <td>0</td>\n",
       "      <td>0</td>\n",
       "      <td>0</td>\n",
       "      <td>0</td>\n",
       "      <td>0</td>\n",
       "      <td>0</td>\n",
       "      <td>0</td>\n",
       "      <td>0</td>\n",
       "      <td>0</td>\n",
       "      <td>0</td>\n",
       "      <td>0</td>\n",
       "      <td>0</td>\n",
       "      <td>0</td>\n",
       "      <td>0</td>\n",
       "      <td>0</td>\n",
       "      <td>0</td>\n",
       "      <td>1</td>\n",
       "      <td>0</td>\n",
       "      <td>0</td>\n",
       "      <td>1</td>\n",
       "      <td>0</td>\n",
       "    </tr>\n",
       "    <tr>\n",
       "      <td>2672</td>\n",
       "      <td>2.329249</td>\n",
       "      <td>0.977567</td>\n",
       "      <td>0.273397</td>\n",
       "      <td>0.670659</td>\n",
       "      <td>0</td>\n",
       "      <td>2</td>\n",
       "      <td>2</td>\n",
       "      <td>3</td>\n",
       "      <td>1</td>\n",
       "      <td>0.157975</td>\n",
       "      <td>-0.777071</td>\n",
       "      <td>-0.274513</td>\n",
       "      <td>-1.613802</td>\n",
       "      <td>-1.974715</td>\n",
       "      <td>-0.576948</td>\n",
       "      <td>0.630116</td>\n",
       "      <td>0.630116</td>\n",
       "      <td>0.630116</td>\n",
       "      <td>0.798782</td>\n",
       "      <td>0.816303</td>\n",
       "      <td>0.816303</td>\n",
       "      <td>0.816303</td>\n",
       "      <td>0.798782</td>\n",
       "      <td>0.947259</td>\n",
       "      <td>0.947259</td>\n",
       "      <td>0.947259</td>\n",
       "      <td>0.771154</td>\n",
       "      <td>0.860020</td>\n",
       "      <td>0.860020</td>\n",
       "      <td>0.860020</td>\n",
       "      <td>0.771154</td>\n",
       "      <td>0.249601</td>\n",
       "      <td>0.324490</td>\n",
       "      <td>0.324490</td>\n",
       "      <td>0.324490</td>\n",
       "      <td>0.249601</td>\n",
       "      <td>0.131050</td>\n",
       "      <td>-0.111701</td>\n",
       "      <td>-0.111701</td>\n",
       "      <td>-0.111701</td>\n",
       "      <td>0.131050</td>\n",
       "      <td>1.218376</td>\n",
       "      <td>0.895340</td>\n",
       "      <td>-0.533713</td>\n",
       "      <td>1.178301</td>\n",
       "      <td>1.083172</td>\n",
       "      <td>0.990126</td>\n",
       "      <td>1.408282</td>\n",
       "      <td>1.390602</td>\n",
       "      <td>1.260642</td>\n",
       "      <td>1.298534</td>\n",
       "      <td>-0.302430</td>\n",
       "      <td>-0.857631</td>\n",
       "      <td>0.441535</td>\n",
       "      <td>0.461159</td>\n",
       "      <td>1.695991</td>\n",
       "      <td>0.846964</td>\n",
       "      <td>-2.701805</td>\n",
       "      <td>-0.702148</td>\n",
       "      <td>-0.985416</td>\n",
       "      <td>1.038463</td>\n",
       "      <td>-0.964429</td>\n",
       "      <td>-0.562213</td>\n",
       "      <td>0.721929</td>\n",
       "      <td>1.881990</td>\n",
       "      <td>1.811280</td>\n",
       "      <td>1.257783</td>\n",
       "      <td>-0.264127</td>\n",
       "      <td>0.154115</td>\n",
       "      <td>-0.450233</td>\n",
       "      <td>-0.207226</td>\n",
       "      <td>-0.557767</td>\n",
       "      <td>-0.017901</td>\n",
       "      <td>-0.318153</td>\n",
       "      <td>-0.042934</td>\n",
       "      <td>0.692733</td>\n",
       "      <td>0.318732</td>\n",
       "      <td>0.901504</td>\n",
       "      <td>1.384870</td>\n",
       "      <td>0.312968</td>\n",
       "      <td>-0.379497</td>\n",
       "      <td>0.751068</td>\n",
       "      <td>-0.187339</td>\n",
       "      <td>-0.230296</td>\n",
       "      <td>-0.937608</td>\n",
       "      <td>1</td>\n",
       "      <td>2</td>\n",
       "      <td>2</td>\n",
       "      <td>1</td>\n",
       "      <td>0</td>\n",
       "      <td>0</td>\n",
       "      <td>0</td>\n",
       "      <td>0</td>\n",
       "      <td>0</td>\n",
       "      <td>0</td>\n",
       "      <td>0</td>\n",
       "      <td>0</td>\n",
       "      <td>0</td>\n",
       "      <td>0</td>\n",
       "      <td>0</td>\n",
       "      <td>0</td>\n",
       "      <td>0</td>\n",
       "      <td>0</td>\n",
       "      <td>0</td>\n",
       "      <td>0</td>\n",
       "      <td>0</td>\n",
       "      <td>0</td>\n",
       "      <td>0</td>\n",
       "      <td>0</td>\n",
       "      <td>0</td>\n",
       "      <td>0</td>\n",
       "      <td>0</td>\n",
       "      <td>0</td>\n",
       "      <td>0</td>\n",
       "      <td>0</td>\n",
       "      <td>0</td>\n",
       "      <td>0</td>\n",
       "      <td>1</td>\n",
       "      <td>0</td>\n",
       "      <td>0</td>\n",
       "      <td>0</td>\n",
       "      <td>0</td>\n",
       "      <td>0</td>\n",
       "      <td>0</td>\n",
       "      <td>1</td>\n",
       "    </tr>\n",
       "    <tr>\n",
       "      <td>9565</td>\n",
       "      <td>0.187314</td>\n",
       "      <td>-0.036736</td>\n",
       "      <td>-0.214799</td>\n",
       "      <td>-1.990457</td>\n",
       "      <td>1</td>\n",
       "      <td>1</td>\n",
       "      <td>2</td>\n",
       "      <td>1</td>\n",
       "      <td>0</td>\n",
       "      <td>-1.157338</td>\n",
       "      <td>-0.689495</td>\n",
       "      <td>-0.274513</td>\n",
       "      <td>0.671382</td>\n",
       "      <td>1.012672</td>\n",
       "      <td>1.217837</td>\n",
       "      <td>-2.534018</td>\n",
       "      <td>-2.534018</td>\n",
       "      <td>-2.534018</td>\n",
       "      <td>-2.504813</td>\n",
       "      <td>-2.504943</td>\n",
       "      <td>-2.504943</td>\n",
       "      <td>-2.504943</td>\n",
       "      <td>-2.504813</td>\n",
       "      <td>-2.510670</td>\n",
       "      <td>-2.510670</td>\n",
       "      <td>-2.510670</td>\n",
       "      <td>-2.541207</td>\n",
       "      <td>-2.552899</td>\n",
       "      <td>-2.552899</td>\n",
       "      <td>-2.552899</td>\n",
       "      <td>-2.541207</td>\n",
       "      <td>-2.536604</td>\n",
       "      <td>-2.473143</td>\n",
       "      <td>-2.473143</td>\n",
       "      <td>-2.473143</td>\n",
       "      <td>-2.536604</td>\n",
       "      <td>-2.501955</td>\n",
       "      <td>-2.369425</td>\n",
       "      <td>-2.369425</td>\n",
       "      <td>-2.369425</td>\n",
       "      <td>-2.501955</td>\n",
       "      <td>-1.991911</td>\n",
       "      <td>-1.662317</td>\n",
       "      <td>-1.965330</td>\n",
       "      <td>-2.420927</td>\n",
       "      <td>-1.914415</td>\n",
       "      <td>-2.181190</td>\n",
       "      <td>-2.015552</td>\n",
       "      <td>-1.588286</td>\n",
       "      <td>-2.393088</td>\n",
       "      <td>-2.171782</td>\n",
       "      <td>-2.102538</td>\n",
       "      <td>-2.146359</td>\n",
       "      <td>-1.041652</td>\n",
       "      <td>1.239896</td>\n",
       "      <td>-1.471509</td>\n",
       "      <td>-2.228678</td>\n",
       "      <td>-0.512001</td>\n",
       "      <td>-1.830915</td>\n",
       "      <td>0.210349</td>\n",
       "      <td>-1.715492</td>\n",
       "      <td>-1.996362</td>\n",
       "      <td>-1.573848</td>\n",
       "      <td>-1.833621</td>\n",
       "      <td>-0.378701</td>\n",
       "      <td>-1.750079</td>\n",
       "      <td>-0.052751</td>\n",
       "      <td>-1.366923</td>\n",
       "      <td>-1.638120</td>\n",
       "      <td>-1.527719</td>\n",
       "      <td>2.944994</td>\n",
       "      <td>2.567926</td>\n",
       "      <td>2.335752</td>\n",
       "      <td>2.724432</td>\n",
       "      <td>2.844348</td>\n",
       "      <td>-0.506325</td>\n",
       "      <td>-2.735504</td>\n",
       "      <td>-2.324046</td>\n",
       "      <td>-2.255395</td>\n",
       "      <td>-1.571017</td>\n",
       "      <td>-1.875354</td>\n",
       "      <td>-1.863786</td>\n",
       "      <td>-1.552621</td>\n",
       "      <td>2.723667</td>\n",
       "      <td>-0.197356</td>\n",
       "      <td>2</td>\n",
       "      <td>2</td>\n",
       "      <td>2</td>\n",
       "      <td>0</td>\n",
       "      <td>0</td>\n",
       "      <td>0</td>\n",
       "      <td>0</td>\n",
       "      <td>0</td>\n",
       "      <td>1</td>\n",
       "      <td>0</td>\n",
       "      <td>0</td>\n",
       "      <td>0</td>\n",
       "      <td>0</td>\n",
       "      <td>0</td>\n",
       "      <td>0</td>\n",
       "      <td>0</td>\n",
       "      <td>0</td>\n",
       "      <td>0</td>\n",
       "      <td>0</td>\n",
       "      <td>0</td>\n",
       "      <td>0</td>\n",
       "      <td>0</td>\n",
       "      <td>0</td>\n",
       "      <td>0</td>\n",
       "      <td>0</td>\n",
       "      <td>0</td>\n",
       "      <td>0</td>\n",
       "      <td>0</td>\n",
       "      <td>0</td>\n",
       "      <td>0</td>\n",
       "      <td>0</td>\n",
       "      <td>0</td>\n",
       "      <td>1</td>\n",
       "      <td>0</td>\n",
       "      <td>0</td>\n",
       "      <td>0</td>\n",
       "      <td>0</td>\n",
       "      <td>0</td>\n",
       "      <td>1</td>\n",
       "      <td>0</td>\n",
       "    </tr>\n",
       "    <tr>\n",
       "      <td>17906</td>\n",
       "      <td>-1.312040</td>\n",
       "      <td>-2.210243</td>\n",
       "      <td>-0.540263</td>\n",
       "      <td>-0.555577</td>\n",
       "      <td>1</td>\n",
       "      <td>1</td>\n",
       "      <td>3</td>\n",
       "      <td>2</td>\n",
       "      <td>0</td>\n",
       "      <td>0.909583</td>\n",
       "      <td>0.022703</td>\n",
       "      <td>-0.274513</td>\n",
       "      <td>0.671382</td>\n",
       "      <td>-2.422823</td>\n",
       "      <td>-2.756329</td>\n",
       "      <td>-0.210357</td>\n",
       "      <td>-0.210357</td>\n",
       "      <td>-0.210357</td>\n",
       "      <td>-0.110904</td>\n",
       "      <td>-0.146377</td>\n",
       "      <td>-0.146377</td>\n",
       "      <td>-0.146377</td>\n",
       "      <td>-0.110904</td>\n",
       "      <td>-0.061304</td>\n",
       "      <td>-0.061304</td>\n",
       "      <td>-0.061304</td>\n",
       "      <td>-0.092941</td>\n",
       "      <td>-0.129232</td>\n",
       "      <td>-0.129232</td>\n",
       "      <td>-0.129232</td>\n",
       "      <td>-0.092941</td>\n",
       "      <td>-0.148429</td>\n",
       "      <td>-0.215404</td>\n",
       "      <td>-0.215404</td>\n",
       "      <td>-0.215404</td>\n",
       "      <td>-0.148429</td>\n",
       "      <td>-0.167026</td>\n",
       "      <td>-0.303848</td>\n",
       "      <td>-0.303848</td>\n",
       "      <td>-0.303848</td>\n",
       "      <td>-0.167026</td>\n",
       "      <td>-0.413973</td>\n",
       "      <td>-0.434641</td>\n",
       "      <td>-0.590977</td>\n",
       "      <td>0.363382</td>\n",
       "      <td>-0.161109</td>\n",
       "      <td>-0.278401</td>\n",
       "      <td>-0.004729</td>\n",
       "      <td>-0.041556</td>\n",
       "      <td>0.151474</td>\n",
       "      <td>-0.795623</td>\n",
       "      <td>0.164265</td>\n",
       "      <td>0.431096</td>\n",
       "      <td>0.441535</td>\n",
       "      <td>-1.207563</td>\n",
       "      <td>1.907157</td>\n",
       "      <td>-0.313656</td>\n",
       "      <td>-0.343554</td>\n",
       "      <td>-0.764857</td>\n",
       "      <td>-2.500051</td>\n",
       "      <td>-0.572341</td>\n",
       "      <td>-0.735111</td>\n",
       "      <td>-0.995771</td>\n",
       "      <td>-0.095847</td>\n",
       "      <td>-0.378701</td>\n",
       "      <td>-0.032995</td>\n",
       "      <td>-0.576965</td>\n",
       "      <td>-0.113746</td>\n",
       "      <td>-0.213523</td>\n",
       "      <td>0.111934</td>\n",
       "      <td>-0.319805</td>\n",
       "      <td>-0.439816</td>\n",
       "      <td>-0.078251</td>\n",
       "      <td>-0.435175</td>\n",
       "      <td>-0.598181</td>\n",
       "      <td>-0.056678</td>\n",
       "      <td>0.318732</td>\n",
       "      <td>-0.321517</td>\n",
       "      <td>-0.214831</td>\n",
       "      <td>0.561796</td>\n",
       "      <td>-1.154459</td>\n",
       "      <td>-0.651692</td>\n",
       "      <td>-0.073566</td>\n",
       "      <td>-0.382683</td>\n",
       "      <td>2.208463</td>\n",
       "      <td>1</td>\n",
       "      <td>2</td>\n",
       "      <td>2</td>\n",
       "      <td>0</td>\n",
       "      <td>0</td>\n",
       "      <td>0</td>\n",
       "      <td>0</td>\n",
       "      <td>1</td>\n",
       "      <td>0</td>\n",
       "      <td>0</td>\n",
       "      <td>0</td>\n",
       "      <td>0</td>\n",
       "      <td>0</td>\n",
       "      <td>0</td>\n",
       "      <td>0</td>\n",
       "      <td>0</td>\n",
       "      <td>0</td>\n",
       "      <td>0</td>\n",
       "      <td>0</td>\n",
       "      <td>0</td>\n",
       "      <td>0</td>\n",
       "      <td>0</td>\n",
       "      <td>0</td>\n",
       "      <td>0</td>\n",
       "      <td>0</td>\n",
       "      <td>0</td>\n",
       "      <td>0</td>\n",
       "      <td>0</td>\n",
       "      <td>0</td>\n",
       "      <td>0</td>\n",
       "      <td>0</td>\n",
       "      <td>1</td>\n",
       "      <td>0</td>\n",
       "      <td>0</td>\n",
       "      <td>0</td>\n",
       "      <td>0</td>\n",
       "      <td>0</td>\n",
       "      <td>0</td>\n",
       "      <td>0</td>\n",
       "      <td>1</td>\n",
       "    </tr>\n",
       "    <tr>\n",
       "      <td>15656</td>\n",
       "      <td>0.401508</td>\n",
       "      <td>-1.051039</td>\n",
       "      <td>-1.842120</td>\n",
       "      <td>0.084994</td>\n",
       "      <td>0</td>\n",
       "      <td>1</td>\n",
       "      <td>3</td>\n",
       "      <td>2</td>\n",
       "      <td>0</td>\n",
       "      <td>-1.032071</td>\n",
       "      <td>1.431645</td>\n",
       "      <td>-0.274513</td>\n",
       "      <td>-0.852074</td>\n",
       "      <td>-0.481021</td>\n",
       "      <td>-0.448749</td>\n",
       "      <td>0.086280</td>\n",
       "      <td>0.086280</td>\n",
       "      <td>0.086280</td>\n",
       "      <td>0.080609</td>\n",
       "      <td>0.094293</td>\n",
       "      <td>0.094293</td>\n",
       "      <td>0.094293</td>\n",
       "      <td>0.080609</td>\n",
       "      <td>0.082777</td>\n",
       "      <td>0.082777</td>\n",
       "      <td>0.082777</td>\n",
       "      <td>0.099080</td>\n",
       "      <td>0.167544</td>\n",
       "      <td>0.167544</td>\n",
       "      <td>0.167544</td>\n",
       "      <td>0.099080</td>\n",
       "      <td>0.349108</td>\n",
       "      <td>0.275409</td>\n",
       "      <td>0.275409</td>\n",
       "      <td>0.275409</td>\n",
       "      <td>0.349108</td>\n",
       "      <td>0.379447</td>\n",
       "      <td>0.320629</td>\n",
       "      <td>0.320629</td>\n",
       "      <td>0.320629</td>\n",
       "      <td>0.379447</td>\n",
       "      <td>0.293378</td>\n",
       "      <td>-0.025416</td>\n",
       "      <td>-0.648242</td>\n",
       "      <td>-0.451538</td>\n",
       "      <td>-1.122599</td>\n",
       "      <td>-0.119835</td>\n",
       "      <td>-0.656888</td>\n",
       "      <td>0.588594</td>\n",
       "      <td>0.020983</td>\n",
       "      <td>-0.017793</td>\n",
       "      <td>-0.235759</td>\n",
       "      <td>0.295441</td>\n",
       "      <td>-0.232641</td>\n",
       "      <td>-1.430060</td>\n",
       "      <td>0.780935</td>\n",
       "      <td>0.730902</td>\n",
       "      <td>1.256687</td>\n",
       "      <td>0.802875</td>\n",
       "      <td>0.050913</td>\n",
       "      <td>0.570810</td>\n",
       "      <td>0.182163</td>\n",
       "      <td>0.401249</td>\n",
       "      <td>0.159708</td>\n",
       "      <td>0.045178</td>\n",
       "      <td>-0.414569</td>\n",
       "      <td>-0.926440</td>\n",
       "      <td>0.187016</td>\n",
       "      <td>0.659617</td>\n",
       "      <td>0.674101</td>\n",
       "      <td>-0.376095</td>\n",
       "      <td>-0.262890</td>\n",
       "      <td>-0.380002</td>\n",
       "      <td>-0.259641</td>\n",
       "      <td>-0.376082</td>\n",
       "      <td>-0.506325</td>\n",
       "      <td>0.318732</td>\n",
       "      <td>-0.442475</td>\n",
       "      <td>-0.051082</td>\n",
       "      <td>-0.078048</td>\n",
       "      <td>0.936136</td>\n",
       "      <td>-0.025217</td>\n",
       "      <td>0.527808</td>\n",
       "      <td>-0.335795</td>\n",
       "      <td>-0.752545</td>\n",
       "      <td>2</td>\n",
       "      <td>3</td>\n",
       "      <td>2</td>\n",
       "      <td>0</td>\n",
       "      <td>0</td>\n",
       "      <td>0</td>\n",
       "      <td>0</td>\n",
       "      <td>0</td>\n",
       "      <td>0</td>\n",
       "      <td>0</td>\n",
       "      <td>1</td>\n",
       "      <td>0</td>\n",
       "      <td>0</td>\n",
       "      <td>0</td>\n",
       "      <td>0</td>\n",
       "      <td>0</td>\n",
       "      <td>0</td>\n",
       "      <td>0</td>\n",
       "      <td>0</td>\n",
       "      <td>0</td>\n",
       "      <td>0</td>\n",
       "      <td>0</td>\n",
       "      <td>0</td>\n",
       "      <td>0</td>\n",
       "      <td>0</td>\n",
       "      <td>0</td>\n",
       "      <td>0</td>\n",
       "      <td>0</td>\n",
       "      <td>0</td>\n",
       "      <td>0</td>\n",
       "      <td>0</td>\n",
       "      <td>0</td>\n",
       "      <td>1</td>\n",
       "      <td>0</td>\n",
       "      <td>0</td>\n",
       "      <td>0</td>\n",
       "      <td>1</td>\n",
       "      <td>0</td>\n",
       "      <td>0</td>\n",
       "      <td>0</td>\n",
       "    </tr>\n",
       "  </tbody>\n",
       "</table>\n",
       "</div>"
      ],
      "text/plain": [
       "            Age   Overall  Potential   Special  Preferred Foot  \\\n",
       "11893 -0.026879 -0.326537  -0.377531 -1.957513               1   \n",
       "2672   2.329249  0.977567   0.273397  0.670659               0   \n",
       "9565   0.187314 -0.036736  -0.214799 -1.990457               1   \n",
       "17906 -1.312040 -2.210243  -0.540263 -0.555577               1   \n",
       "15656  0.401508 -1.051039  -1.842120  0.084994               0   \n",
       "\n",
       "       International Reputation  Weak Foot  Skill Moves  Real Face  \\\n",
       "11893                         1          2            1          0   \n",
       "2672                          2          2            3          1   \n",
       "9565                          1          2            1          0   \n",
       "17906                         1          3            2          0   \n",
       "15656                         1          3            2          0   \n",
       "\n",
       "       Jersey Number    Joined  Loaned From  Contract Valid Until    Height  \\\n",
       "11893       0.157975  0.724599    -0.274513              1.433110  1.012672   \n",
       "2672        0.157975 -0.777071    -0.274513             -1.613802 -1.974715   \n",
       "9565       -1.157338 -0.689495    -0.274513              0.671382  1.012672   \n",
       "17906       0.909583  0.022703    -0.274513              0.671382 -2.422823   \n",
       "15656      -1.032071  1.431645    -0.274513             -0.852074 -0.481021   \n",
       "\n",
       "         Weight        LS        ST        RS        LW        LF        CF  \\\n",
       "11893  0.256345 -2.534018 -2.534018 -2.534018 -2.504813 -2.504943 -2.504943   \n",
       "2672  -0.576948  0.630116  0.630116  0.630116  0.798782  0.816303  0.816303   \n",
       "9565   1.217837 -2.534018 -2.534018 -2.534018 -2.504813 -2.504943 -2.504943   \n",
       "17906 -2.756329 -0.210357 -0.210357 -0.210357 -0.110904 -0.146377 -0.146377   \n",
       "15656 -0.448749  0.086280  0.086280  0.086280  0.080609  0.094293  0.094293   \n",
       "\n",
       "             RF        RW       LAM       CAM       RAM        LM       LCM  \\\n",
       "11893 -2.504943 -2.504813 -2.510670 -2.510670 -2.510670 -2.541207 -2.552899   \n",
       "2672   0.816303  0.798782  0.947259  0.947259  0.947259  0.771154  0.860020   \n",
       "9565  -2.504943 -2.504813 -2.510670 -2.510670 -2.510670 -2.541207 -2.552899   \n",
       "17906 -0.146377 -0.110904 -0.061304 -0.061304 -0.061304 -0.092941 -0.129232   \n",
       "15656  0.094293  0.080609  0.082777  0.082777  0.082777  0.099080  0.167544   \n",
       "\n",
       "             CM       RCM        RM       LWB       LDM       CDM       RDM  \\\n",
       "11893 -2.552899 -2.552899 -2.541207 -2.536604 -2.473143 -2.473143 -2.473143   \n",
       "2672   0.860020  0.860020  0.771154  0.249601  0.324490  0.324490  0.324490   \n",
       "9565  -2.552899 -2.552899 -2.541207 -2.536604 -2.473143 -2.473143 -2.473143   \n",
       "17906 -0.129232 -0.129232 -0.092941 -0.148429 -0.215404 -0.215404 -0.215404   \n",
       "15656  0.167544  0.167544  0.099080  0.349108  0.275409  0.275409  0.275409   \n",
       "\n",
       "            RWB        LB       LCB        CB       RCB        RB  Crossing  \\\n",
       "11893 -2.536604 -2.501955 -2.369425 -2.369425 -2.369425 -2.501955 -1.774264   \n",
       "2672   0.249601  0.131050 -0.111701 -0.111701 -0.111701  0.131050  1.218376   \n",
       "9565  -2.536604 -2.501955 -2.369425 -2.369425 -2.369425 -2.501955 -1.991911   \n",
       "17906 -0.148429 -0.167026 -0.303848 -0.303848 -0.303848 -0.167026 -0.413973   \n",
       "15656  0.349108  0.379447  0.320629  0.320629  0.320629  0.379447  0.293378   \n",
       "\n",
       "       Finishing  HeadingAccuracy  ShortPassing   Volleys  Dribbling  \\\n",
       "11893  -1.969235        -2.251654     -1.673917 -2.084089  -2.181190   \n",
       "2672    0.895340        -0.533713      1.178301  1.083172   0.990126   \n",
       "9565   -1.662317        -1.965330     -2.420927 -1.914415  -2.181190   \n",
       "17906  -0.434641        -0.590977      0.363382 -0.161109  -0.278401   \n",
       "15656  -0.025416        -0.648242     -0.451538 -1.122599  -0.119835   \n",
       "\n",
       "          Curve  FKAccuracy  LongPassing  BallControl  Acceleration  \\\n",
       "11893 -1.580779   -1.588286    -1.740636    -3.009445     -1.635844   \n",
       "2672   1.408282    1.390602     1.260642     1.298534     -0.302430   \n",
       "9565  -2.015552   -1.588286    -2.393088    -2.171782     -2.102538   \n",
       "17906 -0.004729   -0.041556     0.151474    -0.795623      0.164265   \n",
       "15656 -0.656888    0.588594     0.020983    -0.017793     -0.235759   \n",
       "\n",
       "       SprintSpeed   Agility  Reactions   Balance  ShotPower   Jumping  \\\n",
       "11893    -1.128942 -1.715828   0.016166 -0.908398  -1.532306 -0.933117   \n",
       "2672     -0.857631  0.441535   0.461159  1.695991   0.846964 -2.701805   \n",
       "9565     -2.146359 -1.041652   1.239896 -1.471509  -2.228678 -0.512001   \n",
       "17906     0.431096  0.441535  -1.207563  1.907157  -0.313656 -0.343554   \n",
       "15656     0.295441 -0.232641  -1.430060  0.780935   0.730902  1.256687   \n",
       "\n",
       "        Stamina  Strength  LongShots  Aggression  Interceptions  Positioning  \\\n",
       "11893 -1.141113 -0.347675  -1.767453   -2.168351      -1.140290    -2.089176   \n",
       "2672  -0.702148 -0.985416   1.038463   -0.964429      -0.562213     0.721929   \n",
       "9565  -1.830915  0.210349  -1.715492   -1.996362      -1.573848    -1.833621   \n",
       "17906 -0.764857 -2.500051  -0.572341   -0.735111      -0.995771    -0.095847   \n",
       "15656  0.802875  0.050913   0.570810    0.182163       0.401249     0.159708   \n",
       "\n",
       "         Vision  Penalties  Composure   Marking  StandingTackle  \\\n",
       "11893 -2.710039  -1.304909  -2.761188 -1.316796       -1.408347   \n",
       "2672   1.881990   1.811280   1.257783 -0.264127        0.154115   \n",
       "9565  -0.378701  -1.750079  -0.052751 -1.366923       -1.638120   \n",
       "17906 -0.378701  -0.032995  -0.576965 -0.113746       -0.213523   \n",
       "15656  0.045178  -0.414569  -0.926440  0.187016        0.659617   \n",
       "\n",
       "       SlidingTackle  GKDiving  GKHandling  GKKicking  GKPositioning  \\\n",
       "11893      -1.387178  2.550967    2.685877   2.758203       2.665921   \n",
       "2672       -0.450233 -0.207226   -0.557767  -0.017901      -0.318153   \n",
       "9565       -1.527719  2.944994    2.567926   2.335752       2.724432   \n",
       "17906       0.111934 -0.319805   -0.439816  -0.078251      -0.435175   \n",
       "15656       0.674101 -0.376095   -0.262890  -0.380002      -0.259641   \n",
       "\n",
       "       GKReflexes  Club_Reputation  Position_Potential  Attacking     Skill  \\\n",
       "11893    2.844348        -0.173253           -2.735504  -2.310606 -2.205011   \n",
       "2672    -0.042934         0.692733            0.318732   0.901504  1.384870   \n",
       "9565     2.844348        -0.506325           -2.735504  -2.324046 -2.255395   \n",
       "17906   -0.598181        -0.056678            0.318732  -0.321517 -0.214831   \n",
       "15656   -0.376082        -0.506325            0.318732  -0.442475 -0.051082   \n",
       "\n",
       "       Movement     Power  Mentality  Defending  GoalKeeping  \\\n",
       "11893 -1.411056 -1.695130  -2.626452  -1.406341     2.735389   \n",
       "2672   0.312968 -0.379497   0.751068  -0.187339    -0.230296   \n",
       "9565  -1.571017 -1.875354  -1.863786  -1.552621     2.723667   \n",
       "17906  0.561796 -1.154459  -0.651692  -0.073566    -0.382683   \n",
       "15656 -0.078048  0.936136  -0.025217   0.527808    -0.335795   \n",
       "\n",
       "       Potential_Difference  Body Type  Attack_WR  Defense_WR  Position_CAM  \\\n",
       "11893             -0.012293          2          2           2             0   \n",
       "2672              -0.937608          1          2           2             1   \n",
       "9565              -0.197356          2          2           2             0   \n",
       "17906              2.208463          1          2           2             0   \n",
       "15656             -0.752545          2          3           2             0   \n",
       "\n",
       "       Position_CB  Position_CDM  Position_CF  Position_CM  Position_GK  \\\n",
       "11893            0             0            0            0            1   \n",
       "2672             0             0            0            0            0   \n",
       "9565             0             0            0            0            1   \n",
       "17906            0             0            0            1            0   \n",
       "15656            0             0            0            0            0   \n",
       "\n",
       "       Position_LAM  Position_LB  Position_LCB  Position_LCM  Position_LDM  \\\n",
       "11893             0            0             0             0             0   \n",
       "2672              0            0             0             0             0   \n",
       "9565              0            0             0             0             0   \n",
       "17906             0            0             0             0             0   \n",
       "15656             0            1             0             0             0   \n",
       "\n",
       "       Position_LF  Position_LM  Position_LS  Position_LW  Position_LWB  \\\n",
       "11893            0            0            0            0             0   \n",
       "2672             0            0            0            0             0   \n",
       "9565             0            0            0            0             0   \n",
       "17906            0            0            0            0             0   \n",
       "15656            0            0            0            0             0   \n",
       "\n",
       "       Position_RAM  Position_RB  Position_RCB  Position_RCM  Position_RDM  \\\n",
       "11893             0            0             0             0             0   \n",
       "2672              0            0             0             0             0   \n",
       "9565              0            0             0             0             0   \n",
       "17906             0            0             0             0             0   \n",
       "15656             0            0             0             0             0   \n",
       "\n",
       "       Position_RF  Position_RM  Position_RS  Position_RW  Position_RWB  \\\n",
       "11893            0            0            0            0             0   \n",
       "2672             0            0            0            0             0   \n",
       "9565             0            0            0            0             0   \n",
       "17906            0            0            0            0             0   \n",
       "15656            0            0            0            0             0   \n",
       "\n",
       "       Position_ST  Continent_Africa  Continent_Asia  Continent_Europe  \\\n",
       "11893            0                 0               0                 0   \n",
       "2672             0                 0               0                 1   \n",
       "9565             0                 0               0                 1   \n",
       "17906            0                 0               1                 0   \n",
       "15656            0                 0               0                 1   \n",
       "\n",
       "       Continent_North America  Continent_Oceania  Continent_South America  \\\n",
       "11893                        0                  0                        1   \n",
       "2672                         0                  0                        0   \n",
       "9565                         0                  0                        0   \n",
       "17906                        0                  0                        0   \n",
       "15656                        0                  0                        0   \n",
       "\n",
       "       Position_Group_Defender  Position_Group_Forward  \\\n",
       "11893                        0                       0   \n",
       "2672                         0                       0   \n",
       "9565                         0                       0   \n",
       "17906                        0                       0   \n",
       "15656                        1                       0   \n",
       "\n",
       "       Position_Group_GoalKeeper  Position_Group_Midfielder  \n",
       "11893                          1                          0  \n",
       "2672                           0                          1  \n",
       "9565                           1                          0  \n",
       "17906                          0                          1  \n",
       "15656                          0                          0  "
      ]
     },
     "execution_count": 22,
     "metadata": {},
     "output_type": "execute_result"
    }
   ],
   "source": [
    "train_predictors_val.head()"
   ]
  },
  {
   "cell_type": "markdown",
   "metadata": {},
   "source": [
    "Now that all numerical non-categorical data are scaled and categorical data are converted to integer (the models do not take dtype categorical as input) we proceed with fitting our baseline models."
   ]
  },
  {
   "cell_type": "code",
   "execution_count": 23,
   "metadata": {},
   "outputs": [
    {
     "name": "stderr",
     "output_type": "stream",
     "text": [
      "C:\\Users\\wehrm\\AppData\\Local\\Continuum\\anaconda3\\lib\\site-packages\\sklearn\\ensemble\\forest.py:245: FutureWarning:\n",
      "\n",
      "The default value of n_estimators will change from 10 in version 0.20 to 100 in 0.22.\n",
      "\n",
      "C:\\Users\\wehrm\\AppData\\Local\\Continuum\\anaconda3\\lib\\site-packages\\xgboost\\core.py:587: FutureWarning:\n",
      "\n",
      "Series.base is deprecated and will be removed in a future version\n",
      "\n"
     ]
    },
    {
     "name": "stdout",
     "output_type": "stream",
     "text": [
      "[14:00:56] WARNING: C:/Jenkins/workspace/xgboost-win64_release_0.90/src/objective/regression_obj.cu:152: reg:linear is now deprecated in favor of reg:squarederror.\n"
     ]
    },
    {
     "name": "stderr",
     "output_type": "stream",
     "text": [
      "C:\\Users\\wehrm\\AppData\\Local\\Continuum\\anaconda3\\lib\\site-packages\\sklearn\\svm\\base.py:193: FutureWarning:\n",
      "\n",
      "The default value of gamma will change from 'auto' to 'scale' in version 0.22 to account better for unscaled features. Set gamma explicitly to 'auto' or 'scale' to avoid this warning.\n",
      "\n"
     ]
    }
   ],
   "source": [
    "import sklearn.model_selection as cv\n",
    "from sklearn.metrics import mean_squared_error as MSE\n",
    "from sklearn.model_selection import cross_val_score, LeaveOneOut\n",
    "\n",
    "from sklearn.tree import DecisionTreeRegressor\n",
    "from sklearn.ensemble import RandomForestRegressor\n",
    "import xgboost as xgb\n",
    "from sklearn.linear_model import LinearRegression\n",
    "from sklearn.svm import SVR\n",
    "\n",
    "dtr=DecisionTreeRegressor()\n",
    "rfr=RandomForestRegressor()\n",
    "xbr=xgb.XGBRegressor()\n",
    "lre=LinearRegression()\n",
    "svr=SVR()\n",
    "\n",
    "models = [dtr,rfr,xbr,lre,svr]\n",
    "\n",
    "for mod in models:\n",
    "    mod.fit(train_predictors_val, train_target_val)"
   ]
  },
  {
   "cell_type": "code",
   "execution_count": 24,
   "metadata": {},
   "outputs": [],
   "source": [
    "test_error = []\n",
    "\n",
    "# Sequentially fit all models and calculate test score\n",
    "for mod in models:\n",
    "    y_pred = mod.predict(test_predictors_val)\n",
    "    mse_mod = MSE(test_target_val, y_pred)\n",
    "    rmse_mod = round(mse_mod**(1/2))\n",
    "    test_error.append(rmse_mod)"
   ]
  },
  {
   "cell_type": "code",
   "execution_count": 25,
   "metadata": {},
   "outputs": [
    {
     "name": "stderr",
     "output_type": "stream",
     "text": [
      "C:\\Users\\wehrm\\AppData\\Local\\Continuum\\anaconda3\\lib\\site-packages\\sklearn\\model_selection\\_split.py:1978: FutureWarning:\n",
      "\n",
      "The default value of cv will change from 3 to 5 in version 0.22. Specify it explicitly to silence this warning.\n",
      "\n"
     ]
    }
   ],
   "source": [
    "cv_error=[]\n",
    "\n",
    "for mod in models:\n",
    "    MSE_cv_error = -cross_val_score(mod, train_predictors_val,\n",
    "                                    train_target_val, scoring='neg_mean_squared_error', n_jobs=-1)\n",
    "    RMSE_cv = round((MSE_cv_error.mean())**(1/2))\n",
    "    cv_error.append(RMSE_cv)"
   ]
  },
  {
   "cell_type": "code",
   "execution_count": 26,
   "metadata": {},
   "outputs": [],
   "source": [
    "train_error=[]\n",
    "\n",
    "# Sequentially fit all models and calculate train score\n",
    "for mod in models:\n",
    "    y_pred = mod.predict(train_predictors_val)\n",
    "    mse_mod = MSE(train_target_val, y_pred)\n",
    "    rmse_mod = round(mse_mod**(1/2))\n",
    "    train_error.append(rmse_mod)"
   ]
  },
  {
   "cell_type": "code",
   "execution_count": 27,
   "metadata": {},
   "outputs": [
    {
     "data": {
      "image/png": "[encoded data removed]",
      "text/plain": [
       "<Figure size 864x432 with 1 Axes>"
      ]
     },
     "metadata": {
      "needs_background": "light"
     },
     "output_type": "display_data"
    }
   ],
   "source": [
    "model_names = ['dtr','rfr','xbr','lre','svc']\n",
    "\n",
    "error = pd.DataFrame(dict(graph=model_names,test_error=test_error, cv_error=cv_error, train_error=train_error)) \n",
    "\n",
    "ind = np.arange(len(error))\n",
    "width = 0.2\n",
    "\n",
    "fig, ax = plt.subplots(figsize=(12,6))\n",
    "ax.barh(ind, error.test_error, width, color='maroon', label='test')\n",
    "ax.barh(ind + width, error.cv_error, width, color='forestgreen', label='cv')\n",
    "ax.barh(ind + 2*width, error.train_error, width, color='slategrey', label='train')\n",
    "ax.set_xlim(0, max(error.cv_error)+min(error.cv_error))\n",
    "plt.xlabel('RMSE', fontsize=16)\n",
    "plt.ylabel('Algorithms', fontsize=16)\n",
    "plt.title('Test, Cross Validation and Train Error per Algorithm',fontsize=20)\n",
    "\n",
    "ax.set(yticks=ind + width, yticklabels=error.graph, ylim=[2*width - 1, len(error)])\n",
    "ax.legend()\n",
    "\n",
    "plt.show()\n"
   ]
  },
  {
   "cell_type": "code",
   "execution_count": 28,
   "metadata": {},
   "outputs": [
    {
     "data": {
      "text/html": [
       "<div>\n",
       "<style scoped>\n",
       "    .dataframe tbody tr th:only-of-type {\n",
       "        vertical-align: middle;\n",
       "    }\n",
       "\n",
       "    .dataframe tbody tr th {\n",
       "        vertical-align: top;\n",
       "    }\n",
       "\n",
       "    .dataframe thead th {\n",
       "        text-align: right;\n",
       "    }\n",
       "</style>\n",
       "<table border=\"1\" class=\"dataframe\">\n",
       "  <thead>\n",
       "    <tr style=\"text-align: right;\">\n",
       "      <th></th>\n",
       "      <th>graph</th>\n",
       "      <th>test_error</th>\n",
       "      <th>cv_error</th>\n",
       "      <th>train_error</th>\n",
       "    </tr>\n",
       "  </thead>\n",
       "  <tbody>\n",
       "    <tr>\n",
       "      <td>0</td>\n",
       "      <td>dtr</td>\n",
       "      <td>8.899300e+05</td>\n",
       "      <td>1582050.0</td>\n",
       "      <td>0.0</td>\n",
       "    </tr>\n",
       "    <tr>\n",
       "      <td>1</td>\n",
       "      <td>rfr</td>\n",
       "      <td>8.853950e+05</td>\n",
       "      <td>963003.0</td>\n",
       "      <td>412169.0</td>\n",
       "    </tr>\n",
       "    <tr>\n",
       "      <td>2</td>\n",
       "      <td>xbr</td>\n",
       "      <td>6.058860e+05</td>\n",
       "      <td>742355.0</td>\n",
       "      <td>423097.0</td>\n",
       "    </tr>\n",
       "    <tr>\n",
       "      <td>3</td>\n",
       "      <td>lre</td>\n",
       "      <td>6.421262e+16</td>\n",
       "      <td>3353246.0</td>\n",
       "      <td>3277148.0</td>\n",
       "    </tr>\n",
       "    <tr>\n",
       "      <td>4</td>\n",
       "      <td>svc</td>\n",
       "      <td>5.491672e+06</td>\n",
       "      <td>5952538.0</td>\n",
       "      <td>5954762.0</td>\n",
       "    </tr>\n",
       "  </tbody>\n",
       "</table>\n",
       "</div>"
      ],
      "text/plain": [
       "  graph    test_error   cv_error  train_error\n",
       "0   dtr  8.899300e+05  1582050.0          0.0\n",
       "1   rfr  8.853950e+05   963003.0     412169.0\n",
       "2   xbr  6.058860e+05   742355.0     423097.0\n",
       "3   lre  6.421262e+16  3353246.0    3277148.0\n",
       "4   svc  5.491672e+06  5952538.0    5954762.0"
      ]
     },
     "execution_count": 28,
     "metadata": {},
     "output_type": "execute_result"
    }
   ],
   "source": [
    "error"
   ]
  },
  {
   "cell_type": "markdown",
   "metadata": {},
   "source": [
    "While the Support Vector Regression is the most stable model, we can see that the Linear Regression has a very high test error (and, therefore, is overfit). The Decision Tree Regressor is also overfit, as its train error is zero. XGBoost and Random Forest also need some complexity reduction.<br>\n",
    "\n",
    "In general, the errors are fluctuating between 500K and 6M, which serves as a good first impression."
   ]
  },
  {
   "cell_type": "markdown",
   "metadata": {},
   "source": [
    "### 2.3) Feature selection based on feature importance\n",
    "Next, we are looking at the respective features to find out which ones have the most explanatory power and which ones should not be considered or could be transformed for further analysis. First we are looking at the features using SelectKBest from the sklearn package. As an evaluation criteria we are using the F-value for each respective feature."
   ]
  },
  {
   "cell_type": "code",
   "execution_count": 29,
   "metadata": {},
   "outputs": [
    {
     "data": {
      "text/html": [
       "<div>\n",
       "<style scoped>\n",
       "    .dataframe tbody tr th:only-of-type {\n",
       "        vertical-align: middle;\n",
       "    }\n",
       "\n",
       "    .dataframe tbody tr th {\n",
       "        vertical-align: top;\n",
       "    }\n",
       "\n",
       "    .dataframe thead th {\n",
       "        text-align: right;\n",
       "    }\n",
       "</style>\n",
       "<table border=\"1\" class=\"dataframe\">\n",
       "  <thead>\n",
       "    <tr style=\"text-align: right;\">\n",
       "      <th></th>\n",
       "      <th>Specs</th>\n",
       "      <th>Score</th>\n",
       "      <th>Expl_percent</th>\n",
       "    </tr>\n",
       "  </thead>\n",
       "  <tbody>\n",
       "    <tr>\n",
       "      <td>5</td>\n",
       "      <td>International Reputation</td>\n",
       "      <td>10926.667128</td>\n",
       "      <td>1.020489e+01</td>\n",
       "    </tr>\n",
       "    <tr>\n",
       "      <td>1</td>\n",
       "      <td>Overall</td>\n",
       "      <td>9247.932429</td>\n",
       "      <td>8.637050e+00</td>\n",
       "    </tr>\n",
       "    <tr>\n",
       "      <td>75</td>\n",
       "      <td>Club_Reputation</td>\n",
       "      <td>8635.202466</td>\n",
       "      <td>8.064794e+00</td>\n",
       "    </tr>\n",
       "    <tr>\n",
       "      <td>2</td>\n",
       "      <td>Potential</td>\n",
       "      <td>7144.411856</td>\n",
       "      <td>6.672479e+00</td>\n",
       "    </tr>\n",
       "    <tr>\n",
       "      <td>54</td>\n",
       "      <td>Reactions</td>\n",
       "      <td>5942.582653</td>\n",
       "      <td>5.550038e+00</td>\n",
       "    </tr>\n",
       "    <tr>\n",
       "      <td>66</td>\n",
       "      <td>Composure</td>\n",
       "      <td>3632.566134</td>\n",
       "      <td>3.392613e+00</td>\n",
       "    </tr>\n",
       "    <tr>\n",
       "      <td>8</td>\n",
       "      <td>Real Face</td>\n",
       "      <td>3565.014584</td>\n",
       "      <td>3.329523e+00</td>\n",
       "    </tr>\n",
       "    <tr>\n",
       "      <td>3</td>\n",
       "      <td>Special</td>\n",
       "      <td>2416.453120</td>\n",
       "      <td>2.256832e+00</td>\n",
       "    </tr>\n",
       "    <tr>\n",
       "      <td>64</td>\n",
       "      <td>Vision</td>\n",
       "      <td>2126.810904</td>\n",
       "      <td>1.986322e+00</td>\n",
       "    </tr>\n",
       "    <tr>\n",
       "      <td>81</td>\n",
       "      <td>Mentality</td>\n",
       "      <td>1937.306594</td>\n",
       "      <td>1.809336e+00</td>\n",
       "    </tr>\n",
       "    <tr>\n",
       "      <td>44</td>\n",
       "      <td>ShortPassing</td>\n",
       "      <td>1773.834349</td>\n",
       "      <td>1.656662e+00</td>\n",
       "    </tr>\n",
       "    <tr>\n",
       "      <td>7</td>\n",
       "      <td>Skill Moves</td>\n",
       "      <td>1609.357013</td>\n",
       "      <td>1.503049e+00</td>\n",
       "    </tr>\n",
       "    <tr>\n",
       "      <td>78</td>\n",
       "      <td>Skill</td>\n",
       "      <td>1594.888134</td>\n",
       "      <td>1.489536e+00</td>\n",
       "    </tr>\n",
       "    <tr>\n",
       "      <td>50</td>\n",
       "      <td>BallControl</td>\n",
       "      <td>1545.430054</td>\n",
       "      <td>1.443345e+00</td>\n",
       "    </tr>\n",
       "    <tr>\n",
       "      <td>77</td>\n",
       "      <td>Attacking</td>\n",
       "      <td>1515.701463</td>\n",
       "      <td>1.415580e+00</td>\n",
       "    </tr>\n",
       "    <tr>\n",
       "      <td>49</td>\n",
       "      <td>LongPassing</td>\n",
       "      <td>1483.227399</td>\n",
       "      <td>1.385251e+00</td>\n",
       "    </tr>\n",
       "    <tr>\n",
       "      <td>80</td>\n",
       "      <td>Power</td>\n",
       "      <td>1445.259271</td>\n",
       "      <td>1.349791e+00</td>\n",
       "    </tr>\n",
       "    <tr>\n",
       "      <td>47</td>\n",
       "      <td>Curve</td>\n",
       "      <td>1306.580608</td>\n",
       "      <td>1.220273e+00</td>\n",
       "    </tr>\n",
       "    <tr>\n",
       "      <td>45</td>\n",
       "      <td>Volleys</td>\n",
       "      <td>1287.712881</td>\n",
       "      <td>1.202652e+00</td>\n",
       "    </tr>\n",
       "    <tr>\n",
       "      <td>60</td>\n",
       "      <td>LongShots</td>\n",
       "      <td>1237.448985</td>\n",
       "      <td>1.155708e+00</td>\n",
       "    </tr>\n",
       "    <tr>\n",
       "      <td>56</td>\n",
       "      <td>ShotPower</td>\n",
       "      <td>1231.491020</td>\n",
       "      <td>1.150143e+00</td>\n",
       "    </tr>\n",
       "    <tr>\n",
       "      <td>46</td>\n",
       "      <td>Dribbling</td>\n",
       "      <td>1177.527261</td>\n",
       "      <td>1.099744e+00</td>\n",
       "    </tr>\n",
       "    <tr>\n",
       "      <td>48</td>\n",
       "      <td>FKAccuracy</td>\n",
       "      <td>1112.727598</td>\n",
       "      <td>1.039225e+00</td>\n",
       "    </tr>\n",
       "    <tr>\n",
       "      <td>63</td>\n",
       "      <td>Positioning</td>\n",
       "      <td>1053.322863</td>\n",
       "      <td>9.837444e-01</td>\n",
       "    </tr>\n",
       "    <tr>\n",
       "      <td>79</td>\n",
       "      <td>Movement</td>\n",
       "      <td>1029.623299</td>\n",
       "      <td>9.616103e-01</td>\n",
       "    </tr>\n",
       "    <tr>\n",
       "      <td>42</td>\n",
       "      <td>Finishing</td>\n",
       "      <td>1018.239114</td>\n",
       "      <td>9.509782e-01</td>\n",
       "    </tr>\n",
       "    <tr>\n",
       "      <td>41</td>\n",
       "      <td>Crossing</td>\n",
       "      <td>996.793642</td>\n",
       "      <td>9.309493e-01</td>\n",
       "    </tr>\n",
       "    <tr>\n",
       "      <td>27</td>\n",
       "      <td>LCM</td>\n",
       "      <td>943.087127</td>\n",
       "      <td>8.807904e-01</td>\n",
       "    </tr>\n",
       "    <tr>\n",
       "      <td>28</td>\n",
       "      <td>CM</td>\n",
       "      <td>943.087127</td>\n",
       "      <td>8.807904e-01</td>\n",
       "    </tr>\n",
       "    <tr>\n",
       "      <td>29</td>\n",
       "      <td>RCM</td>\n",
       "      <td>943.087127</td>\n",
       "      <td>8.807904e-01</td>\n",
       "    </tr>\n",
       "    <tr>\n",
       "      <td>25</td>\n",
       "      <td>RAM</td>\n",
       "      <td>939.067333</td>\n",
       "      <td>8.770362e-01</td>\n",
       "    </tr>\n",
       "    <tr>\n",
       "      <td>24</td>\n",
       "      <td>CAM</td>\n",
       "      <td>939.067333</td>\n",
       "      <td>8.770362e-01</td>\n",
       "    </tr>\n",
       "    <tr>\n",
       "      <td>23</td>\n",
       "      <td>LAM</td>\n",
       "      <td>939.067333</td>\n",
       "      <td>8.770362e-01</td>\n",
       "    </tr>\n",
       "    <tr>\n",
       "      <td>20</td>\n",
       "      <td>CF</td>\n",
       "      <td>928.109609</td>\n",
       "      <td>8.668023e-01</td>\n",
       "    </tr>\n",
       "    <tr>\n",
       "      <td>19</td>\n",
       "      <td>LF</td>\n",
       "      <td>928.109609</td>\n",
       "      <td>8.668023e-01</td>\n",
       "    </tr>\n",
       "    <tr>\n",
       "      <td>21</td>\n",
       "      <td>RF</td>\n",
       "      <td>928.109609</td>\n",
       "      <td>8.668023e-01</td>\n",
       "    </tr>\n",
       "    <tr>\n",
       "      <td>22</td>\n",
       "      <td>RW</td>\n",
       "      <td>869.721881</td>\n",
       "      <td>8.122714e-01</td>\n",
       "    </tr>\n",
       "    <tr>\n",
       "      <td>18</td>\n",
       "      <td>LW</td>\n",
       "      <td>869.721881</td>\n",
       "      <td>8.122714e-01</td>\n",
       "    </tr>\n",
       "    <tr>\n",
       "      <td>17</td>\n",
       "      <td>RS</td>\n",
       "      <td>865.959134</td>\n",
       "      <td>8.087572e-01</td>\n",
       "    </tr>\n",
       "    <tr>\n",
       "      <td>16</td>\n",
       "      <td>ST</td>\n",
       "      <td>865.959134</td>\n",
       "      <td>8.087572e-01</td>\n",
       "    </tr>\n",
       "    <tr>\n",
       "      <td>15</td>\n",
       "      <td>LS</td>\n",
       "      <td>865.959134</td>\n",
       "      <td>8.087572e-01</td>\n",
       "    </tr>\n",
       "    <tr>\n",
       "      <td>65</td>\n",
       "      <td>Penalties</td>\n",
       "      <td>862.551767</td>\n",
       "      <td>8.055749e-01</td>\n",
       "    </tr>\n",
       "    <tr>\n",
       "      <td>30</td>\n",
       "      <td>RM</td>\n",
       "      <td>859.391734</td>\n",
       "      <td>8.026236e-01</td>\n",
       "    </tr>\n",
       "    <tr>\n",
       "      <td>26</td>\n",
       "      <td>LM</td>\n",
       "      <td>859.391734</td>\n",
       "      <td>8.026236e-01</td>\n",
       "    </tr>\n",
       "    <tr>\n",
       "      <td>12</td>\n",
       "      <td>Contract Valid Until</td>\n",
       "      <td>830.171904</td>\n",
       "      <td>7.753339e-01</td>\n",
       "    </tr>\n",
       "    <tr>\n",
       "      <td>58</td>\n",
       "      <td>Stamina</td>\n",
       "      <td>697.230413</td>\n",
       "      <td>6.511741e-01</td>\n",
       "    </tr>\n",
       "    <tr>\n",
       "      <td>34</td>\n",
       "      <td>RDM</td>\n",
       "      <td>594.490257</td>\n",
       "      <td>5.552205e-01</td>\n",
       "    </tr>\n",
       "    <tr>\n",
       "      <td>33</td>\n",
       "      <td>CDM</td>\n",
       "      <td>594.490257</td>\n",
       "      <td>5.552205e-01</td>\n",
       "    </tr>\n",
       "    <tr>\n",
       "      <td>32</td>\n",
       "      <td>LDM</td>\n",
       "      <td>594.490257</td>\n",
       "      <td>5.552205e-01</td>\n",
       "    </tr>\n",
       "    <tr>\n",
       "      <td>35</td>\n",
       "      <td>RWB</td>\n",
       "      <td>579.239919</td>\n",
       "      <td>5.409776e-01</td>\n",
       "    </tr>\n",
       "    <tr>\n",
       "      <td>31</td>\n",
       "      <td>LWB</td>\n",
       "      <td>579.239919</td>\n",
       "      <td>5.409776e-01</td>\n",
       "    </tr>\n",
       "    <tr>\n",
       "      <td>53</td>\n",
       "      <td>Agility</td>\n",
       "      <td>563.470035</td>\n",
       "      <td>5.262494e-01</td>\n",
       "    </tr>\n",
       "    <tr>\n",
       "      <td>43</td>\n",
       "      <td>HeadingAccuracy</td>\n",
       "      <td>540.462276</td>\n",
       "      <td>5.047614e-01</td>\n",
       "    </tr>\n",
       "    <tr>\n",
       "      <td>61</td>\n",
       "      <td>Aggression</td>\n",
       "      <td>514.281218</td>\n",
       "      <td>4.803098e-01</td>\n",
       "    </tr>\n",
       "    <tr>\n",
       "      <td>40</td>\n",
       "      <td>RB</td>\n",
       "      <td>496.009921</td>\n",
       "      <td>4.632454e-01</td>\n",
       "    </tr>\n",
       "    <tr>\n",
       "      <td>36</td>\n",
       "      <td>LB</td>\n",
       "      <td>496.009921</td>\n",
       "      <td>4.632454e-01</td>\n",
       "    </tr>\n",
       "    <tr>\n",
       "      <td>52</td>\n",
       "      <td>SprintSpeed</td>\n",
       "      <td>452.855522</td>\n",
       "      <td>4.229416e-01</td>\n",
       "    </tr>\n",
       "    <tr>\n",
       "      <td>51</td>\n",
       "      <td>Acceleration</td>\n",
       "      <td>439.705422</td>\n",
       "      <td>4.106602e-01</td>\n",
       "    </tr>\n",
       "    <tr>\n",
       "      <td>76</td>\n",
       "      <td>Position_Potential</td>\n",
       "      <td>437.654993</td>\n",
       "      <td>4.087452e-01</td>\n",
       "    </tr>\n",
       "    <tr>\n",
       "      <td>6</td>\n",
       "      <td>Weak Foot</td>\n",
       "      <td>398.802887</td>\n",
       "      <td>3.724595e-01</td>\n",
       "    </tr>\n",
       "    <tr>\n",
       "      <td>38</td>\n",
       "      <td>CB</td>\n",
       "      <td>362.545501</td>\n",
       "      <td>3.385971e-01</td>\n",
       "    </tr>\n",
       "    <tr>\n",
       "      <td>39</td>\n",
       "      <td>RCB</td>\n",
       "      <td>362.545501</td>\n",
       "      <td>3.385971e-01</td>\n",
       "    </tr>\n",
       "    <tr>\n",
       "      <td>37</td>\n",
       "      <td>LCB</td>\n",
       "      <td>362.545501</td>\n",
       "      <td>3.385971e-01</td>\n",
       "    </tr>\n",
       "    <tr>\n",
       "      <td>86</td>\n",
       "      <td>Attack_WR</td>\n",
       "      <td>356.854766</td>\n",
       "      <td>3.332823e-01</td>\n",
       "    </tr>\n",
       "    <tr>\n",
       "      <td>84</td>\n",
       "      <td>Potential_Difference</td>\n",
       "      <td>305.796991</td>\n",
       "      <td>2.855972e-01</td>\n",
       "    </tr>\n",
       "    <tr>\n",
       "      <td>62</td>\n",
       "      <td>Interceptions</td>\n",
       "      <td>304.515571</td>\n",
       "      <td>2.844004e-01</td>\n",
       "    </tr>\n",
       "    <tr>\n",
       "      <td>67</td>\n",
       "      <td>Marking</td>\n",
       "      <td>278.868261</td>\n",
       "      <td>2.604473e-01</td>\n",
       "    </tr>\n",
       "    <tr>\n",
       "      <td>59</td>\n",
       "      <td>Strength</td>\n",
       "      <td>245.357389</td>\n",
       "      <td>2.291500e-01</td>\n",
       "    </tr>\n",
       "    <tr>\n",
       "      <td>57</td>\n",
       "      <td>Jumping</td>\n",
       "      <td>220.658733</td>\n",
       "      <td>2.060829e-01</td>\n",
       "    </tr>\n",
       "    <tr>\n",
       "      <td>55</td>\n",
       "      <td>Balance</td>\n",
       "      <td>194.010460</td>\n",
       "      <td>1.811949e-01</td>\n",
       "    </tr>\n",
       "    <tr>\n",
       "      <td>82</td>\n",
       "      <td>Defending</td>\n",
       "      <td>193.679636</td>\n",
       "      <td>1.808859e-01</td>\n",
       "    </tr>\n",
       "    <tr>\n",
       "      <td>10</td>\n",
       "      <td>Joined</td>\n",
       "      <td>189.819486</td>\n",
       "      <td>1.772807e-01</td>\n",
       "    </tr>\n",
       "    <tr>\n",
       "      <td>68</td>\n",
       "      <td>StandingTackle</td>\n",
       "      <td>180.733899</td>\n",
       "      <td>1.687953e-01</td>\n",
       "    </tr>\n",
       "    <tr>\n",
       "      <td>9</td>\n",
       "      <td>Jersey Number</td>\n",
       "      <td>135.724439</td>\n",
       "      <td>1.267590e-01</td>\n",
       "    </tr>\n",
       "    <tr>\n",
       "      <td>116</td>\n",
       "      <td>Continent_Asia</td>\n",
       "      <td>134.369482</td>\n",
       "      <td>1.254936e-01</td>\n",
       "    </tr>\n",
       "    <tr>\n",
       "      <td>69</td>\n",
       "      <td>SlidingTackle</td>\n",
       "      <td>116.897428</td>\n",
       "      <td>1.091756e-01</td>\n",
       "    </tr>\n",
       "    <tr>\n",
       "      <td>99</td>\n",
       "      <td>Position_LF</td>\n",
       "      <td>101.207693</td>\n",
       "      <td>9.452230e-02</td>\n",
       "    </tr>\n",
       "    <tr>\n",
       "      <td>0</td>\n",
       "      <td>Age</td>\n",
       "      <td>72.731146</td>\n",
       "      <td>6.792681e-02</td>\n",
       "    </tr>\n",
       "    <tr>\n",
       "      <td>87</td>\n",
       "      <td>Defense_WR</td>\n",
       "      <td>52.734450</td>\n",
       "      <td>4.925101e-02</td>\n",
       "    </tr>\n",
       "    <tr>\n",
       "      <td>123</td>\n",
       "      <td>Position_Group_GoalKeeper</td>\n",
       "      <td>47.677265</td>\n",
       "      <td>4.452789e-02</td>\n",
       "    </tr>\n",
       "    <tr>\n",
       "      <td>93</td>\n",
       "      <td>Position_GK</td>\n",
       "      <td>47.677265</td>\n",
       "      <td>4.452789e-02</td>\n",
       "    </tr>\n",
       "    <tr>\n",
       "      <td>109</td>\n",
       "      <td>Position_RF</td>\n",
       "      <td>39.097459</td>\n",
       "      <td>3.651483e-02</td>\n",
       "    </tr>\n",
       "    <tr>\n",
       "      <td>121</td>\n",
       "      <td>Position_Group_Defender</td>\n",
       "      <td>38.073964</td>\n",
       "      <td>3.555894e-02</td>\n",
       "    </tr>\n",
       "    <tr>\n",
       "      <td>107</td>\n",
       "      <td>Position_RCM</td>\n",
       "      <td>37.209815</td>\n",
       "      <td>3.475188e-02</td>\n",
       "    </tr>\n",
       "    <tr>\n",
       "      <td>120</td>\n",
       "      <td>Continent_South America</td>\n",
       "      <td>37.076901</td>\n",
       "      <td>3.462774e-02</td>\n",
       "    </tr>\n",
       "    <tr>\n",
       "      <td>89</td>\n",
       "      <td>Position_CB</td>\n",
       "      <td>34.999811</td>\n",
       "      <td>3.268786e-02</td>\n",
       "    </tr>\n",
       "    <tr>\n",
       "      <td>124</td>\n",
       "      <td>Position_Group_Midfielder</td>\n",
       "      <td>34.718032</td>\n",
       "      <td>3.242469e-02</td>\n",
       "    </tr>\n",
       "    <tr>\n",
       "      <td>101</td>\n",
       "      <td>Position_LS</td>\n",
       "      <td>32.375791</td>\n",
       "      <td>3.023717e-02</td>\n",
       "    </tr>\n",
       "    <tr>\n",
       "      <td>122</td>\n",
       "      <td>Position_Group_Forward</td>\n",
       "      <td>31.844387</td>\n",
       "      <td>2.974087e-02</td>\n",
       "    </tr>\n",
       "    <tr>\n",
       "      <td>97</td>\n",
       "      <td>Position_LCM</td>\n",
       "      <td>30.475299</td>\n",
       "      <td>2.846222e-02</td>\n",
       "    </tr>\n",
       "    <tr>\n",
       "      <td>14</td>\n",
       "      <td>Weight</td>\n",
       "      <td>27.955588</td>\n",
       "      <td>2.610895e-02</td>\n",
       "    </tr>\n",
       "    <tr>\n",
       "      <td>72</td>\n",
       "      <td>GKKicking</td>\n",
       "      <td>19.583735</td>\n",
       "      <td>1.829011e-02</td>\n",
       "    </tr>\n",
       "    <tr>\n",
       "      <td>119</td>\n",
       "      <td>Continent_Oceania</td>\n",
       "      <td>19.137204</td>\n",
       "      <td>1.787307e-02</td>\n",
       "    </tr>\n",
       "    <tr>\n",
       "      <td>117</td>\n",
       "      <td>Continent_Europe</td>\n",
       "      <td>17.971948</td>\n",
       "      <td>1.678479e-02</td>\n",
       "    </tr>\n",
       "    <tr>\n",
       "      <td>118</td>\n",
       "      <td>Continent_North America</td>\n",
       "      <td>17.889371</td>\n",
       "      <td>1.670767e-02</td>\n",
       "    </tr>\n",
       "    <tr>\n",
       "      <td>83</td>\n",
       "      <td>GoalKeeping</td>\n",
       "      <td>17.838895</td>\n",
       "      <td>1.666053e-02</td>\n",
       "    </tr>\n",
       "    <tr>\n",
       "      <td>102</td>\n",
       "      <td>Position_LW</td>\n",
       "      <td>17.732047</td>\n",
       "      <td>1.656074e-02</td>\n",
       "    </tr>\n",
       "    <tr>\n",
       "      <td>70</td>\n",
       "      <td>GKDiving</td>\n",
       "      <td>17.698213</td>\n",
       "      <td>1.652914e-02</td>\n",
       "    </tr>\n",
       "    <tr>\n",
       "      <td>88</td>\n",
       "      <td>Position_CAM</td>\n",
       "      <td>17.513030</td>\n",
       "      <td>1.635619e-02</td>\n",
       "    </tr>\n",
       "    <tr>\n",
       "      <td>71</td>\n",
       "      <td>GKHandling</td>\n",
       "      <td>17.426762</td>\n",
       "      <td>1.627562e-02</td>\n",
       "    </tr>\n",
       "    <tr>\n",
       "      <td>73</td>\n",
       "      <td>GKPositioning</td>\n",
       "      <td>16.411120</td>\n",
       "      <td>1.532706e-02</td>\n",
       "    </tr>\n",
       "    <tr>\n",
       "      <td>95</td>\n",
       "      <td>Position_LB</td>\n",
       "      <td>16.132401</td>\n",
       "      <td>1.506676e-02</td>\n",
       "    </tr>\n",
       "    <tr>\n",
       "      <td>74</td>\n",
       "      <td>GKReflexes</td>\n",
       "      <td>16.081189</td>\n",
       "      <td>1.501893e-02</td>\n",
       "    </tr>\n",
       "    <tr>\n",
       "      <td>105</td>\n",
       "      <td>Position_RB</td>\n",
       "      <td>15.477208</td>\n",
       "      <td>1.445484e-02</td>\n",
       "    </tr>\n",
       "    <tr>\n",
       "      <td>111</td>\n",
       "      <td>Position_RS</td>\n",
       "      <td>11.702836</td>\n",
       "      <td>1.092979e-02</td>\n",
       "    </tr>\n",
       "    <tr>\n",
       "      <td>92</td>\n",
       "      <td>Position_CM</td>\n",
       "      <td>10.519173</td>\n",
       "      <td>9.824317e-03</td>\n",
       "    </tr>\n",
       "    <tr>\n",
       "      <td>112</td>\n",
       "      <td>Position_RW</td>\n",
       "      <td>8.628299</td>\n",
       "      <td>8.058347e-03</td>\n",
       "    </tr>\n",
       "    <tr>\n",
       "      <td>106</td>\n",
       "      <td>Position_RCB</td>\n",
       "      <td>7.659450</td>\n",
       "      <td>7.153496e-03</td>\n",
       "    </tr>\n",
       "    <tr>\n",
       "      <td>4</td>\n",
       "      <td>Preferred Foot</td>\n",
       "      <td>6.779774</td>\n",
       "      <td>6.331928e-03</td>\n",
       "    </tr>\n",
       "    <tr>\n",
       "      <td>115</td>\n",
       "      <td>Continent_Africa</td>\n",
       "      <td>6.256469</td>\n",
       "      <td>5.843191e-03</td>\n",
       "    </tr>\n",
       "    <tr>\n",
       "      <td>96</td>\n",
       "      <td>Position_LCB</td>\n",
       "      <td>6.101768</td>\n",
       "      <td>5.698709e-03</td>\n",
       "    </tr>\n",
       "    <tr>\n",
       "      <td>98</td>\n",
       "      <td>Position_LDM</td>\n",
       "      <td>4.716522</td>\n",
       "      <td>4.404967e-03</td>\n",
       "    </tr>\n",
       "    <tr>\n",
       "      <td>100</td>\n",
       "      <td>Position_LM</td>\n",
       "      <td>4.209737</td>\n",
       "      <td>3.931658e-03</td>\n",
       "    </tr>\n",
       "    <tr>\n",
       "      <td>108</td>\n",
       "      <td>Position_RDM</td>\n",
       "      <td>4.072637</td>\n",
       "      <td>3.803614e-03</td>\n",
       "    </tr>\n",
       "    <tr>\n",
       "      <td>110</td>\n",
       "      <td>Position_RM</td>\n",
       "      <td>3.523240</td>\n",
       "      <td>3.290508e-03</td>\n",
       "    </tr>\n",
       "    <tr>\n",
       "      <td>90</td>\n",
       "      <td>Position_CDM</td>\n",
       "      <td>2.702496</td>\n",
       "      <td>2.523980e-03</td>\n",
       "    </tr>\n",
       "    <tr>\n",
       "      <td>104</td>\n",
       "      <td>Position_RAM</td>\n",
       "      <td>1.612176</td>\n",
       "      <td>1.505682e-03</td>\n",
       "    </tr>\n",
       "    <tr>\n",
       "      <td>91</td>\n",
       "      <td>Position_CF</td>\n",
       "      <td>1.286187</td>\n",
       "      <td>1.201226e-03</td>\n",
       "    </tr>\n",
       "    <tr>\n",
       "      <td>114</td>\n",
       "      <td>Position_ST</td>\n",
       "      <td>1.056556</td>\n",
       "      <td>9.867639e-04</td>\n",
       "    </tr>\n",
       "    <tr>\n",
       "      <td>113</td>\n",
       "      <td>Position_RWB</td>\n",
       "      <td>0.991997</td>\n",
       "      <td>9.264695e-04</td>\n",
       "    </tr>\n",
       "    <tr>\n",
       "      <td>85</td>\n",
       "      <td>Body Type</td>\n",
       "      <td>0.847246</td>\n",
       "      <td>7.912803e-04</td>\n",
       "    </tr>\n",
       "    <tr>\n",
       "      <td>11</td>\n",
       "      <td>Loaned From</td>\n",
       "      <td>0.130068</td>\n",
       "      <td>1.214757e-04</td>\n",
       "    </tr>\n",
       "    <tr>\n",
       "      <td>94</td>\n",
       "      <td>Position_LAM</td>\n",
       "      <td>0.108806</td>\n",
       "      <td>1.016187e-04</td>\n",
       "    </tr>\n",
       "    <tr>\n",
       "      <td>13</td>\n",
       "      <td>Height</td>\n",
       "      <td>0.075696</td>\n",
       "      <td>7.069613e-05</td>\n",
       "    </tr>\n",
       "    <tr>\n",
       "      <td>103</td>\n",
       "      <td>Position_LWB</td>\n",
       "      <td>0.000003</td>\n",
       "      <td>2.870708e-09</td>\n",
       "    </tr>\n",
       "  </tbody>\n",
       "</table>\n",
       "</div>"
      ],
      "text/plain": [
       "                         Specs         Score  Expl_percent\n",
       "5     International Reputation  10926.667128  1.020489e+01\n",
       "1                      Overall   9247.932429  8.637050e+00\n",
       "75             Club_Reputation   8635.202466  8.064794e+00\n",
       "2                    Potential   7144.411856  6.672479e+00\n",
       "54                   Reactions   5942.582653  5.550038e+00\n",
       "66                   Composure   3632.566134  3.392613e+00\n",
       "8                    Real Face   3565.014584  3.329523e+00\n",
       "3                      Special   2416.453120  2.256832e+00\n",
       "64                      Vision   2126.810904  1.986322e+00\n",
       "81                   Mentality   1937.306594  1.809336e+00\n",
       "44                ShortPassing   1773.834349  1.656662e+00\n",
       "7                  Skill Moves   1609.357013  1.503049e+00\n",
       "78                       Skill   1594.888134  1.489536e+00\n",
       "50                 BallControl   1545.430054  1.443345e+00\n",
       "77                   Attacking   1515.701463  1.415580e+00\n",
       "49                 LongPassing   1483.227399  1.385251e+00\n",
       "80                       Power   1445.259271  1.349791e+00\n",
       "47                       Curve   1306.580608  1.220273e+00\n",
       "45                     Volleys   1287.712881  1.202652e+00\n",
       "60                   LongShots   1237.448985  1.155708e+00\n",
       "56                   ShotPower   1231.491020  1.150143e+00\n",
       "46                   Dribbling   1177.527261  1.099744e+00\n",
       "48                  FKAccuracy   1112.727598  1.039225e+00\n",
       "63                 Positioning   1053.322863  9.837444e-01\n",
       "79                    Movement   1029.623299  9.616103e-01\n",
       "42                   Finishing   1018.239114  9.509782e-01\n",
       "41                    Crossing    996.793642  9.309493e-01\n",
       "27                         LCM    943.087127  8.807904e-01\n",
       "28                          CM    943.087127  8.807904e-01\n",
       "29                         RCM    943.087127  8.807904e-01\n",
       "25                         RAM    939.067333  8.770362e-01\n",
       "24                         CAM    939.067333  8.770362e-01\n",
       "23                         LAM    939.067333  8.770362e-01\n",
       "20                          CF    928.109609  8.668023e-01\n",
       "19                          LF    928.109609  8.668023e-01\n",
       "21                          RF    928.109609  8.668023e-01\n",
       "22                          RW    869.721881  8.122714e-01\n",
       "18                          LW    869.721881  8.122714e-01\n",
       "17                          RS    865.959134  8.087572e-01\n",
       "16                          ST    865.959134  8.087572e-01\n",
       "15                          LS    865.959134  8.087572e-01\n",
       "65                   Penalties    862.551767  8.055749e-01\n",
       "30                          RM    859.391734  8.026236e-01\n",
       "26                          LM    859.391734  8.026236e-01\n",
       "12        Contract Valid Until    830.171904  7.753339e-01\n",
       "58                     Stamina    697.230413  6.511741e-01\n",
       "34                         RDM    594.490257  5.552205e-01\n",
       "33                         CDM    594.490257  5.552205e-01\n",
       "32                         LDM    594.490257  5.552205e-01\n",
       "35                         RWB    579.239919  5.409776e-01\n",
       "31                         LWB    579.239919  5.409776e-01\n",
       "53                     Agility    563.470035  5.262494e-01\n",
       "43             HeadingAccuracy    540.462276  5.047614e-01\n",
       "61                  Aggression    514.281218  4.803098e-01\n",
       "40                          RB    496.009921  4.632454e-01\n",
       "36                          LB    496.009921  4.632454e-01\n",
       "52                 SprintSpeed    452.855522  4.229416e-01\n",
       "51                Acceleration    439.705422  4.106602e-01\n",
       "76          Position_Potential    437.654993  4.087452e-01\n",
       "6                    Weak Foot    398.802887  3.724595e-01\n",
       "38                          CB    362.545501  3.385971e-01\n",
       "39                         RCB    362.545501  3.385971e-01\n",
       "37                         LCB    362.545501  3.385971e-01\n",
       "86                   Attack_WR    356.854766  3.332823e-01\n",
       "84        Potential_Difference    305.796991  2.855972e-01\n",
       "62               Interceptions    304.515571  2.844004e-01\n",
       "67                     Marking    278.868261  2.604473e-01\n",
       "59                    Strength    245.357389  2.291500e-01\n",
       "57                     Jumping    220.658733  2.060829e-01\n",
       "55                     Balance    194.010460  1.811949e-01\n",
       "82                   Defending    193.679636  1.808859e-01\n",
       "10                      Joined    189.819486  1.772807e-01\n",
       "68              StandingTackle    180.733899  1.687953e-01\n",
       "9                Jersey Number    135.724439  1.267590e-01\n",
       "116             Continent_Asia    134.369482  1.254936e-01\n",
       "69               SlidingTackle    116.897428  1.091756e-01\n",
       "99                 Position_LF    101.207693  9.452230e-02\n",
       "0                          Age     72.731146  6.792681e-02\n",
       "87                  Defense_WR     52.734450  4.925101e-02\n",
       "123  Position_Group_GoalKeeper     47.677265  4.452789e-02\n",
       "93                 Position_GK     47.677265  4.452789e-02\n",
       "109                Position_RF     39.097459  3.651483e-02\n",
       "121    Position_Group_Defender     38.073964  3.555894e-02\n",
       "107               Position_RCM     37.209815  3.475188e-02\n",
       "120    Continent_South America     37.076901  3.462774e-02\n",
       "89                 Position_CB     34.999811  3.268786e-02\n",
       "124  Position_Group_Midfielder     34.718032  3.242469e-02\n",
       "101                Position_LS     32.375791  3.023717e-02\n",
       "122     Position_Group_Forward     31.844387  2.974087e-02\n",
       "97                Position_LCM     30.475299  2.846222e-02\n",
       "14                      Weight     27.955588  2.610895e-02\n",
       "72                   GKKicking     19.583735  1.829011e-02\n",
       "119          Continent_Oceania     19.137204  1.787307e-02\n",
       "117           Continent_Europe     17.971948  1.678479e-02\n",
       "118    Continent_North America     17.889371  1.670767e-02\n",
       "83                 GoalKeeping     17.838895  1.666053e-02\n",
       "102                Position_LW     17.732047  1.656074e-02\n",
       "70                    GKDiving     17.698213  1.652914e-02\n",
       "88                Position_CAM     17.513030  1.635619e-02\n",
       "71                  GKHandling     17.426762  1.627562e-02\n",
       "73               GKPositioning     16.411120  1.532706e-02\n",
       "95                 Position_LB     16.132401  1.506676e-02\n",
       "74                  GKReflexes     16.081189  1.501893e-02\n",
       "105                Position_RB     15.477208  1.445484e-02\n",
       "111                Position_RS     11.702836  1.092979e-02\n",
       "92                 Position_CM     10.519173  9.824317e-03\n",
       "112                Position_RW      8.628299  8.058347e-03\n",
       "106               Position_RCB      7.659450  7.153496e-03\n",
       "4               Preferred Foot      6.779774  6.331928e-03\n",
       "115           Continent_Africa      6.256469  5.843191e-03\n",
       "96                Position_LCB      6.101768  5.698709e-03\n",
       "98                Position_LDM      4.716522  4.404967e-03\n",
       "100                Position_LM      4.209737  3.931658e-03\n",
       "108               Position_RDM      4.072637  3.803614e-03\n",
       "110                Position_RM      3.523240  3.290508e-03\n",
       "90                Position_CDM      2.702496  2.523980e-03\n",
       "104               Position_RAM      1.612176  1.505682e-03\n",
       "91                 Position_CF      1.286187  1.201226e-03\n",
       "114                Position_ST      1.056556  9.867639e-04\n",
       "113               Position_RWB      0.991997  9.264695e-04\n",
       "85                   Body Type      0.847246  7.912803e-04\n",
       "11                 Loaned From      0.130068  1.214757e-04\n",
       "94                Position_LAM      0.108806  1.016187e-04\n",
       "13                      Height      0.075696  7.069613e-05\n",
       "103               Position_LWB      0.000003  2.870708e-09"
      ]
     },
     "execution_count": 29,
     "metadata": {},
     "output_type": "execute_result"
    }
   ],
   "source": [
    "from sklearn.feature_selection import SelectKBest\n",
    "from sklearn.feature_selection import f_regression\n",
    "\n",
    "X = train_predictors_val  \n",
    "y = train_target_val\n",
    "bestfeatures = SelectKBest(score_func=f_regression, k='all')\n",
    "fit = bestfeatures.fit(X,y)\n",
    "dfscores = pd.DataFrame(fit.scores_)\n",
    "dfcolumns = pd.DataFrame(X.columns) \n",
    "featureScores = pd.concat([dfcolumns,dfscores],axis=1)\n",
    "featureScores.columns = ['Specs','Score']  #naming the dataframe columns\n",
    "featureScores['Expl_percent']=(featureScores['Score']/featureScores['Score'].sum())*100\n",
    "featureScores.nlargest(125,'Score')"
   ]
  },
  {
   "cell_type": "markdown",
   "metadata": {},
   "source": [
    "From the F-values, we can see that International Reputation, Overall score, Club Reputation, Potential, Reactions, Real Face, Composure, Special, Vision and Mentality are the ten most important features. Height, Loaned From, Body Type and a couple of position features are among the ten least important features. \n",
    "\n",
    "To confirm our findings, we are also running an ExtraTreeRegressor and extract the feature importance. Feature importance gives back a score. A more important feature is indicated by a higher score."
   ]
  },
  {
   "cell_type": "code",
   "execution_count": 30,
   "metadata": {},
   "outputs": [
    {
     "name": "stderr",
     "output_type": "stream",
     "text": [
      "C:\\Users\\wehrm\\AppData\\Local\\Continuum\\anaconda3\\lib\\site-packages\\sklearn\\ensemble\\forest.py:245: FutureWarning:\n",
      "\n",
      "The default value of n_estimators will change from 10 in version 0.20 to 100 in 0.22.\n",
      "\n"
     ]
    },
    {
     "data": {
      "image/png": "[encoded data removed]",
      "text/plain": [
       "<Figure size 2880x1800 with 1 Axes>"
      ]
     },
     "metadata": {
      "needs_background": "light"
     },
     "output_type": "display_data"
    }
   ],
   "source": [
    "from sklearn.ensemble import ExtraTreesRegressor\n",
    "\n",
    "model = ExtraTreesRegressor()\n",
    "model.fit(X,y)\n",
    "\n",
    "#plot graph of feature importances for better visualization\n",
    "fig, ax = plt.subplots(figsize=(40,25))\n",
    "feat_importances = pd.Series(model.feature_importances_, index=X.columns)\n",
    "feat_importances.nlargest(125).plot(kind='barh')\n",
    "\n",
    "plt.show()"
   ]
  },
  {
   "cell_type": "markdown",
   "metadata": {},
   "source": [
    "Based on the ExtraTreeRegressor scores, the following features are the ten most important:<br>\n",
    "- Overall\n",
    "- Potential\n",
    "- LAM\n",
    "- RF\n",
    "- International Reputation\n",
    "- Ball Control\n",
    "- Position Potential\n",
    "- Reactions\n",
    "- LF\n",
    "- Age\n",
    "\n",
    "Some of the features are in line with the F-scores, however, some features vary vastly in their importance between the two methods. E.g., Real Face is very important according to F-score, but not at all according to ExtraTreeRegressor. Same goes for Special. Reversely, Age is very important according to ExtraTreeRegressor, but not si much based on its F-value."
   ]
  },
  {
   "cell_type": "markdown",
   "metadata": {},
   "source": [
    "Additionally, we are also looking at the RMSE when using each individual feature as a stand alone predictor for the player's value. To do so, we are running each model using only the repsective feature. We then calculate the RMSE and compare the results. The features with a higher RMSE relative to the others are considered to have less explanatory power (WARNING: This is not taking effects between features into consideration)."
   ]
  },
  {
   "cell_type": "code",
   "execution_count": 31,
   "metadata": {},
   "outputs": [],
   "source": [
    "n_feats=predictors_df.shape[1]\n",
    "col_names=pd.DataFrame(np.array(predictors_df.columns))"
   ]
  },
  {
   "cell_type": "code",
   "execution_count": 32,
   "metadata": {},
   "outputs": [
    {
     "name": "stderr",
     "output_type": "stream",
     "text": [
      "C:\\Users\\wehrm\\AppData\\Local\\Continuum\\anaconda3\\lib\\site-packages\\sklearn\\model_selection\\_split.py:1978: FutureWarning:\n",
      "\n",
      "The default value of cv will change from 3 to 5 in version 0.22. Specify it explicitly to silence this warning.\n",
      "\n"
     ]
    }
   ],
   "source": [
    "cv_score_features=pd.DataFrame()\n",
    "best_models=[dtr,rfr,xbr,lre,svr]\n",
    "index=0\n",
    "\n",
    "for mod in best_models:\n",
    "    score_list=[]\n",
    "    index+=1\n",
    "    for i in range(n_feats):\n",
    "        X_feature = pd.DataFrame(np.array(predictors_df.iloc[:, i]).reshape(-1,1))\n",
    "        scores = -cross_val_score(mod, X_feature, target_val, scoring='neg_mean_squared_error', n_jobs=-1)\n",
    "        score_list.append(scores.mean())\n",
    "    cv_score_features[str(index)]=score_list"
   ]
  },
  {
   "cell_type": "code",
   "execution_count": 33,
   "metadata": {},
   "outputs": [
    {
     "data": {
      "text/html": [
       "<div>\n",
       "<style scoped>\n",
       "    .dataframe tbody tr th:only-of-type {\n",
       "        vertical-align: middle;\n",
       "    }\n",
       "\n",
       "    .dataframe tbody tr th {\n",
       "        vertical-align: top;\n",
       "    }\n",
       "\n",
       "    .dataframe thead th {\n",
       "        text-align: right;\n",
       "    }\n",
       "</style>\n",
       "<table border=\"1\" class=\"dataframe\">\n",
       "  <thead>\n",
       "    <tr style=\"text-align: right;\">\n",
       "      <th></th>\n",
       "      <th>Feature</th>\n",
       "      <th>DTR</th>\n",
       "      <th>RFR</th>\n",
       "      <th>XBR</th>\n",
       "      <th>LRE</th>\n",
       "      <th>SVC</th>\n",
       "    </tr>\n",
       "  </thead>\n",
       "  <tbody>\n",
       "    <tr>\n",
       "      <td>1</td>\n",
       "      <td>Overall</td>\n",
       "      <td>3.291131e+13</td>\n",
       "      <td>3.294635e+13</td>\n",
       "      <td>3.291657e+13</td>\n",
       "      <td>6.343037e+13</td>\n",
       "      <td>3.559205e+13</td>\n",
       "    </tr>\n",
       "    <tr>\n",
       "      <td>50</td>\n",
       "      <td>BallControl</td>\n",
       "      <td>3.363363e+13</td>\n",
       "      <td>3.431617e+13</td>\n",
       "      <td>3.359435e+13</td>\n",
       "      <td>3.976522e+13</td>\n",
       "      <td>3.559360e+13</td>\n",
       "    </tr>\n",
       "    <tr>\n",
       "      <td>22</td>\n",
       "      <td>RW</td>\n",
       "      <td>3.404289e+13</td>\n",
       "      <td>3.425635e+13</td>\n",
       "      <td>3.403353e+13</td>\n",
       "      <td>4.016000e+13</td>\n",
       "      <td>3.559329e+13</td>\n",
       "    </tr>\n",
       "    <tr>\n",
       "      <td>18</td>\n",
       "      <td>LW</td>\n",
       "      <td>3.404289e+13</td>\n",
       "      <td>3.418134e+13</td>\n",
       "      <td>3.403353e+13</td>\n",
       "      <td>4.016000e+13</td>\n",
       "      <td>3.559329e+13</td>\n",
       "    </tr>\n",
       "    <tr>\n",
       "      <td>23</td>\n",
       "      <td>LAM</td>\n",
       "      <td>3.503860e+13</td>\n",
       "      <td>3.495623e+13</td>\n",
       "      <td>3.501742e+13</td>\n",
       "      <td>4.009771e+13</td>\n",
       "      <td>3.559356e+13</td>\n",
       "    </tr>\n",
       "    <tr>\n",
       "      <td>25</td>\n",
       "      <td>RAM</td>\n",
       "      <td>3.503860e+13</td>\n",
       "      <td>3.493453e+13</td>\n",
       "      <td>3.501742e+13</td>\n",
       "      <td>4.009771e+13</td>\n",
       "      <td>3.559356e+13</td>\n",
       "    </tr>\n",
       "    <tr>\n",
       "      <td>24</td>\n",
       "      <td>CAM</td>\n",
       "      <td>3.503860e+13</td>\n",
       "      <td>3.500816e+13</td>\n",
       "      <td>3.501742e+13</td>\n",
       "      <td>4.009771e+13</td>\n",
       "      <td>3.559356e+13</td>\n",
       "    </tr>\n",
       "    <tr>\n",
       "      <td>21</td>\n",
       "      <td>RF</td>\n",
       "      <td>3.510001e+13</td>\n",
       "      <td>3.507777e+13</td>\n",
       "      <td>3.507277e+13</td>\n",
       "      <td>4.010982e+13</td>\n",
       "      <td>3.559353e+13</td>\n",
       "    </tr>\n",
       "    <tr>\n",
       "      <td>19</td>\n",
       "      <td>LF</td>\n",
       "      <td>3.510001e+13</td>\n",
       "      <td>3.516358e+13</td>\n",
       "      <td>3.507277e+13</td>\n",
       "      <td>4.010982e+13</td>\n",
       "      <td>3.559353e+13</td>\n",
       "    </tr>\n",
       "    <tr>\n",
       "      <td>20</td>\n",
       "      <td>CF</td>\n",
       "      <td>3.510001e+13</td>\n",
       "      <td>3.506381e+13</td>\n",
       "      <td>3.507277e+13</td>\n",
       "      <td>4.010982e+13</td>\n",
       "      <td>3.559353e+13</td>\n",
       "    </tr>\n",
       "    <tr>\n",
       "      <td>30</td>\n",
       "      <td>RM</td>\n",
       "      <td>3.523238e+13</td>\n",
       "      <td>3.496112e+13</td>\n",
       "      <td>3.521924e+13</td>\n",
       "      <td>4.015433e+13</td>\n",
       "      <td>3.559332e+13</td>\n",
       "    </tr>\n",
       "    <tr>\n",
       "      <td>26</td>\n",
       "      <td>LM</td>\n",
       "      <td>3.523238e+13</td>\n",
       "      <td>3.561174e+13</td>\n",
       "      <td>3.521924e+13</td>\n",
       "      <td>4.015433e+13</td>\n",
       "      <td>3.559332e+13</td>\n",
       "    </tr>\n",
       "    <tr>\n",
       "      <td>44</td>\n",
       "      <td>ShortPassing</td>\n",
       "      <td>3.530417e+13</td>\n",
       "      <td>3.542422e+13</td>\n",
       "      <td>3.527164e+13</td>\n",
       "      <td>3.969333e+13</td>\n",
       "      <td>3.559412e+13</td>\n",
       "    </tr>\n",
       "    <tr>\n",
       "      <td>2</td>\n",
       "      <td>Potential</td>\n",
       "      <td>3.532868e+13</td>\n",
       "      <td>3.537813e+13</td>\n",
       "      <td>3.533525e+13</td>\n",
       "      <td>4.168772e+13</td>\n",
       "      <td>3.559093e+13</td>\n",
       "    </tr>\n",
       "    <tr>\n",
       "      <td>46</td>\n",
       "      <td>Dribbling</td>\n",
       "      <td>3.547305e+13</td>\n",
       "      <td>3.545947e+13</td>\n",
       "      <td>3.541716e+13</td>\n",
       "      <td>4.004378e+13</td>\n",
       "      <td>3.559388e+13</td>\n",
       "    </tr>\n",
       "    <tr>\n",
       "      <td>54</td>\n",
       "      <td>Reactions</td>\n",
       "      <td>3.568605e+13</td>\n",
       "      <td>3.564557e+13</td>\n",
       "      <td>3.574151e+13</td>\n",
       "      <td>4.535629e+13</td>\n",
       "      <td>3.559331e+13</td>\n",
       "    </tr>\n",
       "    <tr>\n",
       "      <td>15</td>\n",
       "      <td>LS</td>\n",
       "      <td>3.587456e+13</td>\n",
       "      <td>3.587886e+13</td>\n",
       "      <td>3.586294e+13</td>\n",
       "      <td>4.012114e+13</td>\n",
       "      <td>3.559382e+13</td>\n",
       "    </tr>\n",
       "    <tr>\n",
       "      <td>16</td>\n",
       "      <td>ST</td>\n",
       "      <td>3.587456e+13</td>\n",
       "      <td>3.581031e+13</td>\n",
       "      <td>3.586294e+13</td>\n",
       "      <td>4.012114e+13</td>\n",
       "      <td>3.559382e+13</td>\n",
       "    </tr>\n",
       "    <tr>\n",
       "      <td>17</td>\n",
       "      <td>RS</td>\n",
       "      <td>3.587456e+13</td>\n",
       "      <td>3.576295e+13</td>\n",
       "      <td>3.586294e+13</td>\n",
       "      <td>4.012114e+13</td>\n",
       "      <td>3.559382e+13</td>\n",
       "    </tr>\n",
       "    <tr>\n",
       "      <td>64</td>\n",
       "      <td>Vision</td>\n",
       "      <td>3.646856e+13</td>\n",
       "      <td>3.644209e+13</td>\n",
       "      <td>3.641733e+13</td>\n",
       "      <td>3.969074e+13</td>\n",
       "      <td>3.559435e+13</td>\n",
       "    </tr>\n",
       "    <tr>\n",
       "      <td>27</td>\n",
       "      <td>LCM</td>\n",
       "      <td>3.646782e+13</td>\n",
       "      <td>3.605517e+13</td>\n",
       "      <td>3.643896e+13</td>\n",
       "      <td>4.001880e+13</td>\n",
       "      <td>3.559367e+13</td>\n",
       "    </tr>\n",
       "    <tr>\n",
       "      <td>29</td>\n",
       "      <td>RCM</td>\n",
       "      <td>3.646782e+13</td>\n",
       "      <td>3.604131e+13</td>\n",
       "      <td>3.643896e+13</td>\n",
       "      <td>4.001880e+13</td>\n",
       "      <td>3.559367e+13</td>\n",
       "    </tr>\n",
       "    <tr>\n",
       "      <td>28</td>\n",
       "      <td>CM</td>\n",
       "      <td>3.646782e+13</td>\n",
       "      <td>3.606953e+13</td>\n",
       "      <td>3.643896e+13</td>\n",
       "      <td>4.001880e+13</td>\n",
       "      <td>3.559367e+13</td>\n",
       "    </tr>\n",
       "    <tr>\n",
       "      <td>66</td>\n",
       "      <td>Composure</td>\n",
       "      <td>3.667634e+13</td>\n",
       "      <td>3.665991e+13</td>\n",
       "      <td>3.661637e+13</td>\n",
       "      <td>4.021195e+13</td>\n",
       "      <td>3.559377e+13</td>\n",
       "    </tr>\n",
       "    <tr>\n",
       "      <td>77</td>\n",
       "      <td>Attacking</td>\n",
       "      <td>3.718240e+13</td>\n",
       "      <td>3.699858e+13</td>\n",
       "      <td>3.665597e+13</td>\n",
       "      <td>3.964200e+13</td>\n",
       "      <td>3.559391e+13</td>\n",
       "    </tr>\n",
       "    <tr>\n",
       "      <td>3</td>\n",
       "      <td>Special</td>\n",
       "      <td>4.039301e+13</td>\n",
       "      <td>3.967300e+13</td>\n",
       "      <td>3.677384e+13</td>\n",
       "      <td>3.936163e+13</td>\n",
       "      <td>3.559508e+13</td>\n",
       "    </tr>\n",
       "    <tr>\n",
       "      <td>78</td>\n",
       "      <td>Skill</td>\n",
       "      <td>3.761462e+13</td>\n",
       "      <td>3.773848e+13</td>\n",
       "      <td>3.691074e+13</td>\n",
       "      <td>3.960158e+13</td>\n",
       "      <td>3.559421e+13</td>\n",
       "    </tr>\n",
       "    <tr>\n",
       "      <td>63</td>\n",
       "      <td>Positioning</td>\n",
       "      <td>3.710834e+13</td>\n",
       "      <td>3.702116e+13</td>\n",
       "      <td>3.705036e+13</td>\n",
       "      <td>4.008411e+13</td>\n",
       "      <td>3.559426e+13</td>\n",
       "    </tr>\n",
       "    <tr>\n",
       "      <td>49</td>\n",
       "      <td>LongPassing</td>\n",
       "      <td>3.703052e+13</td>\n",
       "      <td>3.725048e+13</td>\n",
       "      <td>3.707486e+13</td>\n",
       "      <td>3.972126e+13</td>\n",
       "      <td>3.559443e+13</td>\n",
       "    </tr>\n",
       "    <tr>\n",
       "      <td>5</td>\n",
       "      <td>International Reputation</td>\n",
       "      <td>3.712385e+13</td>\n",
       "      <td>3.708087e+13</td>\n",
       "      <td>3.712412e+13</td>\n",
       "      <td>3.702092e+13</td>\n",
       "      <td>3.559517e+13</td>\n",
       "    </tr>\n",
       "    <tr>\n",
       "      <td>34</td>\n",
       "      <td>RDM</td>\n",
       "      <td>3.725316e+13</td>\n",
       "      <td>3.732581e+13</td>\n",
       "      <td>3.726221e+13</td>\n",
       "      <td>4.018408e+13</td>\n",
       "      <td>3.559431e+13</td>\n",
       "    </tr>\n",
       "    <tr>\n",
       "      <td>33</td>\n",
       "      <td>CDM</td>\n",
       "      <td>3.725316e+13</td>\n",
       "      <td>3.751836e+13</td>\n",
       "      <td>3.726221e+13</td>\n",
       "      <td>4.018408e+13</td>\n",
       "      <td>3.559431e+13</td>\n",
       "    </tr>\n",
       "    <tr>\n",
       "      <td>32</td>\n",
       "      <td>LDM</td>\n",
       "      <td>3.725316e+13</td>\n",
       "      <td>3.754583e+13</td>\n",
       "      <td>3.726221e+13</td>\n",
       "      <td>4.018408e+13</td>\n",
       "      <td>3.559431e+13</td>\n",
       "    </tr>\n",
       "    <tr>\n",
       "      <td>60</td>\n",
       "      <td>LongShots</td>\n",
       "      <td>3.730820e+13</td>\n",
       "      <td>3.732562e+13</td>\n",
       "      <td>3.729669e+13</td>\n",
       "      <td>3.983257e+13</td>\n",
       "      <td>3.559450e+13</td>\n",
       "    </tr>\n",
       "    <tr>\n",
       "      <td>56</td>\n",
       "      <td>ShotPower</td>\n",
       "      <td>3.774815e+13</td>\n",
       "      <td>3.765473e+13</td>\n",
       "      <td>3.769899e+13</td>\n",
       "      <td>3.973684e+13</td>\n",
       "      <td>3.559433e+13</td>\n",
       "    </tr>\n",
       "    <tr>\n",
       "      <td>42</td>\n",
       "      <td>Finishing</td>\n",
       "      <td>3.785361e+13</td>\n",
       "      <td>3.764233e+13</td>\n",
       "      <td>3.779046e+13</td>\n",
       "      <td>4.018861e+13</td>\n",
       "      <td>3.559469e+13</td>\n",
       "    </tr>\n",
       "    <tr>\n",
       "      <td>41</td>\n",
       "      <td>Crossing</td>\n",
       "      <td>3.797931e+13</td>\n",
       "      <td>3.794522e+13</td>\n",
       "      <td>3.788268e+13</td>\n",
       "      <td>4.002732e+13</td>\n",
       "      <td>3.559454e+13</td>\n",
       "    </tr>\n",
       "    <tr>\n",
       "      <td>45</td>\n",
       "      <td>Volleys</td>\n",
       "      <td>3.795030e+13</td>\n",
       "      <td>3.795453e+13</td>\n",
       "      <td>3.792699e+13</td>\n",
       "      <td>3.986659e+13</td>\n",
       "      <td>3.559466e+13</td>\n",
       "    </tr>\n",
       "    <tr>\n",
       "      <td>81</td>\n",
       "      <td>Mentality</td>\n",
       "      <td>3.901254e+13</td>\n",
       "      <td>3.914657e+13</td>\n",
       "      <td>3.798656e+13</td>\n",
       "      <td>3.928514e+13</td>\n",
       "      <td>3.559373e+13</td>\n",
       "    </tr>\n",
       "    <tr>\n",
       "      <td>36</td>\n",
       "      <td>LB</td>\n",
       "      <td>3.803766e+13</td>\n",
       "      <td>3.821657e+13</td>\n",
       "      <td>3.803114e+13</td>\n",
       "      <td>4.026994e+13</td>\n",
       "      <td>3.559417e+13</td>\n",
       "    </tr>\n",
       "    <tr>\n",
       "      <td>40</td>\n",
       "      <td>RB</td>\n",
       "      <td>3.803766e+13</td>\n",
       "      <td>3.808355e+13</td>\n",
       "      <td>3.803114e+13</td>\n",
       "      <td>4.026994e+13</td>\n",
       "      <td>3.559417e+13</td>\n",
       "    </tr>\n",
       "    <tr>\n",
       "      <td>47</td>\n",
       "      <td>Curve</td>\n",
       "      <td>3.807209e+13</td>\n",
       "      <td>3.814493e+13</td>\n",
       "      <td>3.804161e+13</td>\n",
       "      <td>3.979783e+13</td>\n",
       "      <td>3.559453e+13</td>\n",
       "    </tr>\n",
       "    <tr>\n",
       "      <td>31</td>\n",
       "      <td>LWB</td>\n",
       "      <td>3.823767e+13</td>\n",
       "      <td>3.829537e+13</td>\n",
       "      <td>3.821822e+13</td>\n",
       "      <td>4.022300e+13</td>\n",
       "      <td>3.559454e+13</td>\n",
       "    </tr>\n",
       "    <tr>\n",
       "      <td>35</td>\n",
       "      <td>RWB</td>\n",
       "      <td>3.823767e+13</td>\n",
       "      <td>3.817528e+13</td>\n",
       "      <td>3.821822e+13</td>\n",
       "      <td>4.022300e+13</td>\n",
       "      <td>3.559454e+13</td>\n",
       "    </tr>\n",
       "    <tr>\n",
       "      <td>7</td>\n",
       "      <td>Skill Moves</td>\n",
       "      <td>3.846869e+13</td>\n",
       "      <td>3.847564e+13</td>\n",
       "      <td>3.846849e+13</td>\n",
       "      <td>3.957370e+13</td>\n",
       "      <td>3.558797e+13</td>\n",
       "    </tr>\n",
       "    <tr>\n",
       "      <td>80</td>\n",
       "      <td>Power</td>\n",
       "      <td>3.926227e+13</td>\n",
       "      <td>3.944756e+13</td>\n",
       "      <td>3.847206e+13</td>\n",
       "      <td>3.972625e+13</td>\n",
       "      <td>3.559380e+13</td>\n",
       "    </tr>\n",
       "    <tr>\n",
       "      <td>76</td>\n",
       "      <td>Position_Potential</td>\n",
       "      <td>3.859366e+13</td>\n",
       "      <td>3.853693e+13</td>\n",
       "      <td>3.859348e+13</td>\n",
       "      <td>4.097735e+13</td>\n",
       "      <td>3.559578e+13</td>\n",
       "    </tr>\n",
       "    <tr>\n",
       "      <td>8</td>\n",
       "      <td>Real Face</td>\n",
       "      <td>3.868142e+13</td>\n",
       "      <td>3.869908e+13</td>\n",
       "      <td>3.868123e+13</td>\n",
       "      <td>3.868142e+13</td>\n",
       "      <td>3.559496e+13</td>\n",
       "    </tr>\n",
       "    <tr>\n",
       "      <td>62</td>\n",
       "      <td>Interceptions</td>\n",
       "      <td>3.894271e+13</td>\n",
       "      <td>3.900229e+13</td>\n",
       "      <td>3.881148e+13</td>\n",
       "      <td>4.046144e+13</td>\n",
       "      <td>3.559447e+13</td>\n",
       "    </tr>\n",
       "    <tr>\n",
       "      <td>43</td>\n",
       "      <td>HeadingAccuracy</td>\n",
       "      <td>3.919032e+13</td>\n",
       "      <td>3.921825e+13</td>\n",
       "      <td>3.906376e+13</td>\n",
       "      <td>4.018653e+13</td>\n",
       "      <td>3.559467e+13</td>\n",
       "    </tr>\n",
       "    <tr>\n",
       "      <td>79</td>\n",
       "      <td>Movement</td>\n",
       "      <td>3.950834e+13</td>\n",
       "      <td>3.948714e+13</td>\n",
       "      <td>3.911419e+13</td>\n",
       "      <td>4.045258e+13</td>\n",
       "      <td>3.559410e+13</td>\n",
       "    </tr>\n",
       "    <tr>\n",
       "      <td>48</td>\n",
       "      <td>FKAccuracy</td>\n",
       "      <td>3.920840e+13</td>\n",
       "      <td>3.917831e+13</td>\n",
       "      <td>3.911572e+13</td>\n",
       "      <td>3.991706e+13</td>\n",
       "      <td>3.559464e+13</td>\n",
       "    </tr>\n",
       "    <tr>\n",
       "      <td>68</td>\n",
       "      <td>StandingTackle</td>\n",
       "      <td>3.923663e+13</td>\n",
       "      <td>3.938180e+13</td>\n",
       "      <td>3.916141e+13</td>\n",
       "      <td>4.051417e+13</td>\n",
       "      <td>3.559436e+13</td>\n",
       "    </tr>\n",
       "    <tr>\n",
       "      <td>69</td>\n",
       "      <td>SlidingTackle</td>\n",
       "      <td>3.935045e+13</td>\n",
       "      <td>3.930441e+13</td>\n",
       "      <td>3.919273e+13</td>\n",
       "      <td>4.054869e+13</td>\n",
       "      <td>3.559440e+13</td>\n",
       "    </tr>\n",
       "    <tr>\n",
       "      <td>65</td>\n",
       "      <td>Penalties</td>\n",
       "      <td>3.948346e+13</td>\n",
       "      <td>3.943302e+13</td>\n",
       "      <td>3.938622e+13</td>\n",
       "      <td>3.999467e+13</td>\n",
       "      <td>3.559464e+13</td>\n",
       "    </tr>\n",
       "    <tr>\n",
       "      <td>67</td>\n",
       "      <td>Marking</td>\n",
       "      <td>3.951506e+13</td>\n",
       "      <td>3.962020e+13</td>\n",
       "      <td>3.941244e+13</td>\n",
       "      <td>4.046294e+13</td>\n",
       "      <td>3.559463e+13</td>\n",
       "    </tr>\n",
       "    <tr>\n",
       "      <td>82</td>\n",
       "      <td>Defending</td>\n",
       "      <td>4.000452e+13</td>\n",
       "      <td>4.023640e+13</td>\n",
       "      <td>3.941836e+13</td>\n",
       "      <td>4.050480e+13</td>\n",
       "      <td>3.559433e+13</td>\n",
       "    </tr>\n",
       "    <tr>\n",
       "      <td>39</td>\n",
       "      <td>RCB</td>\n",
       "      <td>3.962185e+13</td>\n",
       "      <td>3.966552e+13</td>\n",
       "      <td>3.953114e+13</td>\n",
       "      <td>4.035521e+13</td>\n",
       "      <td>3.559418e+13</td>\n",
       "    </tr>\n",
       "    <tr>\n",
       "      <td>38</td>\n",
       "      <td>CB</td>\n",
       "      <td>3.962185e+13</td>\n",
       "      <td>3.965921e+13</td>\n",
       "      <td>3.953114e+13</td>\n",
       "      <td>4.035521e+13</td>\n",
       "      <td>3.559418e+13</td>\n",
       "    </tr>\n",
       "    <tr>\n",
       "      <td>37</td>\n",
       "      <td>LCB</td>\n",
       "      <td>3.962185e+13</td>\n",
       "      <td>3.965597e+13</td>\n",
       "      <td>3.953114e+13</td>\n",
       "      <td>4.035521e+13</td>\n",
       "      <td>3.559418e+13</td>\n",
       "    </tr>\n",
       "    <tr>\n",
       "      <td>61</td>\n",
       "      <td>Aggression</td>\n",
       "      <td>4.030169e+13</td>\n",
       "      <td>4.035343e+13</td>\n",
       "      <td>4.016983e+13</td>\n",
       "      <td>4.028812e+13</td>\n",
       "      <td>3.559470e+13</td>\n",
       "    </tr>\n",
       "    <tr>\n",
       "      <td>71</td>\n",
       "      <td>GKHandling</td>\n",
       "      <td>4.017113e+13</td>\n",
       "      <td>4.024809e+13</td>\n",
       "      <td>4.016995e+13</td>\n",
       "      <td>4.058494e+13</td>\n",
       "      <td>3.559492e+13</td>\n",
       "    </tr>\n",
       "    <tr>\n",
       "      <td>75</td>\n",
       "      <td>Club_Reputation</td>\n",
       "      <td>4.043025e+13</td>\n",
       "      <td>4.039635e+13</td>\n",
       "      <td>4.019410e+13</td>\n",
       "      <td>3.949069e+13</td>\n",
       "      <td>3.559478e+13</td>\n",
       "    </tr>\n",
       "    <tr>\n",
       "      <td>83</td>\n",
       "      <td>GoalKeeping</td>\n",
       "      <td>4.070534e+13</td>\n",
       "      <td>4.059779e+13</td>\n",
       "      <td>4.029215e+13</td>\n",
       "      <td>4.058338e+13</td>\n",
       "      <td>3.559438e+13</td>\n",
       "    </tr>\n",
       "    <tr>\n",
       "      <td>70</td>\n",
       "      <td>GKDiving</td>\n",
       "      <td>4.061509e+13</td>\n",
       "      <td>4.050402e+13</td>\n",
       "      <td>4.042991e+13</td>\n",
       "      <td>4.058557e+13</td>\n",
       "      <td>3.559484e+13</td>\n",
       "    </tr>\n",
       "    <tr>\n",
       "      <td>116</td>\n",
       "      <td>Continent_Asia</td>\n",
       "      <td>4.049309e+13</td>\n",
       "      <td>4.046750e+13</td>\n",
       "      <td>4.049280e+13</td>\n",
       "      <td>4.049309e+13</td>\n",
       "      <td>3.559517e+13</td>\n",
       "    </tr>\n",
       "    <tr>\n",
       "      <td>51</td>\n",
       "      <td>Acceleration</td>\n",
       "      <td>4.054570e+13</td>\n",
       "      <td>4.052450e+13</td>\n",
       "      <td>4.050439e+13</td>\n",
       "      <td>4.063825e+13</td>\n",
       "      <td>3.559464e+13</td>\n",
       "    </tr>\n",
       "    <tr>\n",
       "      <td>58</td>\n",
       "      <td>Stamina</td>\n",
       "      <td>4.061329e+13</td>\n",
       "      <td>4.065371e+13</td>\n",
       "      <td>4.053882e+13</td>\n",
       "      <td>4.044311e+13</td>\n",
       "      <td>3.559439e+13</td>\n",
       "    </tr>\n",
       "    <tr>\n",
       "      <td>120</td>\n",
       "      <td>Continent_South America</td>\n",
       "      <td>4.055348e+13</td>\n",
       "      <td>4.055314e+13</td>\n",
       "      <td>4.055318e+13</td>\n",
       "      <td>4.055348e+13</td>\n",
       "      <td>3.559474e+13</td>\n",
       "    </tr>\n",
       "    <tr>\n",
       "      <td>123</td>\n",
       "      <td>Position_Group_GoalKeeper</td>\n",
       "      <td>4.056619e+13</td>\n",
       "      <td>4.058352e+13</td>\n",
       "      <td>4.056590e+13</td>\n",
       "      <td>4.056619e+13</td>\n",
       "      <td>3.559532e+13</td>\n",
       "    </tr>\n",
       "    <tr>\n",
       "      <td>93</td>\n",
       "      <td>Position_GK</td>\n",
       "      <td>4.056619e+13</td>\n",
       "      <td>4.042336e+13</td>\n",
       "      <td>4.056590e+13</td>\n",
       "      <td>4.056619e+13</td>\n",
       "      <td>3.559532e+13</td>\n",
       "    </tr>\n",
       "    <tr>\n",
       "      <td>101</td>\n",
       "      <td>Position_LS</td>\n",
       "      <td>4.056743e+13</td>\n",
       "      <td>4.059826e+13</td>\n",
       "      <td>4.056713e+13</td>\n",
       "      <td>4.056743e+13</td>\n",
       "      <td>3.559514e+13</td>\n",
       "    </tr>\n",
       "    <tr>\n",
       "      <td>124</td>\n",
       "      <td>Position_Group_Midfielder</td>\n",
       "      <td>4.057505e+13</td>\n",
       "      <td>4.065053e+13</td>\n",
       "      <td>4.057475e+13</td>\n",
       "      <td>4.057505e+13</td>\n",
       "      <td>3.559397e+13</td>\n",
       "    </tr>\n",
       "    <tr>\n",
       "      <td>104</td>\n",
       "      <td>Position_RAM</td>\n",
       "      <td>4.057549e+13</td>\n",
       "      <td>4.064459e+13</td>\n",
       "      <td>4.057520e+13</td>\n",
       "      <td>4.057549e+13</td>\n",
       "      <td>3.559514e+13</td>\n",
       "    </tr>\n",
       "    <tr>\n",
       "      <td>94</td>\n",
       "      <td>Position_LAM</td>\n",
       "      <td>4.057999e+13</td>\n",
       "      <td>4.062341e+13</td>\n",
       "      <td>4.057970e+13</td>\n",
       "      <td>4.057999e+13</td>\n",
       "      <td>3.559514e+13</td>\n",
       "    </tr>\n",
       "    <tr>\n",
       "      <td>89</td>\n",
       "      <td>Position_CB</td>\n",
       "      <td>4.058014e+13</td>\n",
       "      <td>4.051565e+13</td>\n",
       "      <td>4.057984e+13</td>\n",
       "      <td>4.058014e+13</td>\n",
       "      <td>3.559516e+13</td>\n",
       "    </tr>\n",
       "    <tr>\n",
       "      <td>111</td>\n",
       "      <td>Position_RS</td>\n",
       "      <td>4.058024e+13</td>\n",
       "      <td>4.054201e+13</td>\n",
       "      <td>4.057994e+13</td>\n",
       "      <td>4.058024e+13</td>\n",
       "      <td>3.559514e+13</td>\n",
       "    </tr>\n",
       "    <tr>\n",
       "      <td>119</td>\n",
       "      <td>Continent_Oceania</td>\n",
       "      <td>4.058075e+13</td>\n",
       "      <td>4.059081e+13</td>\n",
       "      <td>4.058046e+13</td>\n",
       "      <td>4.058075e+13</td>\n",
       "      <td>3.559514e+13</td>\n",
       "    </tr>\n",
       "    <tr>\n",
       "      <td>88</td>\n",
       "      <td>Position_CAM</td>\n",
       "      <td>4.058364e+13</td>\n",
       "      <td>4.053184e+13</td>\n",
       "      <td>4.058335e+13</td>\n",
       "      <td>4.058364e+13</td>\n",
       "      <td>3.559511e+13</td>\n",
       "    </tr>\n",
       "    <tr>\n",
       "      <td>100</td>\n",
       "      <td>Position_LM</td>\n",
       "      <td>4.058558e+13</td>\n",
       "      <td>4.061478e+13</td>\n",
       "      <td>4.058528e+13</td>\n",
       "      <td>4.058558e+13</td>\n",
       "      <td>3.559509e+13</td>\n",
       "    </tr>\n",
       "    <tr>\n",
       "      <td>110</td>\n",
       "      <td>Position_RM</td>\n",
       "      <td>4.058744e+13</td>\n",
       "      <td>4.060298e+13</td>\n",
       "      <td>4.058715e+13</td>\n",
       "      <td>4.058744e+13</td>\n",
       "      <td>3.559511e+13</td>\n",
       "    </tr>\n",
       "    <tr>\n",
       "      <td>108</td>\n",
       "      <td>Position_RDM</td>\n",
       "      <td>4.058798e+13</td>\n",
       "      <td>4.064590e+13</td>\n",
       "      <td>4.058769e+13</td>\n",
       "      <td>4.058798e+13</td>\n",
       "      <td>3.559514e+13</td>\n",
       "    </tr>\n",
       "    <tr>\n",
       "      <td>103</td>\n",
       "      <td>Position_LWB</td>\n",
       "      <td>4.058846e+13</td>\n",
       "      <td>4.056909e+13</td>\n",
       "      <td>4.058816e+13</td>\n",
       "      <td>4.058846e+13</td>\n",
       "      <td>3.559514e+13</td>\n",
       "    </tr>\n",
       "    <tr>\n",
       "      <td>113</td>\n",
       "      <td>Position_RWB</td>\n",
       "      <td>4.059027e+13</td>\n",
       "      <td>4.059812e+13</td>\n",
       "      <td>4.058998e+13</td>\n",
       "      <td>4.059027e+13</td>\n",
       "      <td>3.559515e+13</td>\n",
       "    </tr>\n",
       "    <tr>\n",
       "      <td>87</td>\n",
       "      <td>Defense_WR</td>\n",
       "      <td>4.059084e+13</td>\n",
       "      <td>4.061972e+13</td>\n",
       "      <td>4.059055e+13</td>\n",
       "      <td>4.062020e+13</td>\n",
       "      <td>3.559449e+13</td>\n",
       "    </tr>\n",
       "    <tr>\n",
       "      <td>91</td>\n",
       "      <td>Position_CF</td>\n",
       "      <td>4.059545e+13</td>\n",
       "      <td>4.060072e+13</td>\n",
       "      <td>4.059516e+13</td>\n",
       "      <td>4.059545e+13</td>\n",
       "      <td>3.559514e+13</td>\n",
       "    </tr>\n",
       "    <tr>\n",
       "      <td>114</td>\n",
       "      <td>Position_ST</td>\n",
       "      <td>4.059688e+13</td>\n",
       "      <td>4.065603e+13</td>\n",
       "      <td>4.059659e+13</td>\n",
       "      <td>4.059688e+13</td>\n",
       "      <td>3.559509e+13</td>\n",
       "    </tr>\n",
       "    <tr>\n",
       "      <td>86</td>\n",
       "      <td>Attack_WR</td>\n",
       "      <td>4.059741e+13</td>\n",
       "      <td>4.052668e+13</td>\n",
       "      <td>4.059711e+13</td>\n",
       "      <td>4.061665e+13</td>\n",
       "      <td>3.559312e+13</td>\n",
       "    </tr>\n",
       "    <tr>\n",
       "      <td>98</td>\n",
       "      <td>Position_LDM</td>\n",
       "      <td>4.059742e+13</td>\n",
       "      <td>4.053577e+13</td>\n",
       "      <td>4.059713e+13</td>\n",
       "      <td>4.059742e+13</td>\n",
       "      <td>3.559514e+13</td>\n",
       "    </tr>\n",
       "    <tr>\n",
       "      <td>90</td>\n",
       "      <td>Position_CDM</td>\n",
       "      <td>4.059848e+13</td>\n",
       "      <td>4.062884e+13</td>\n",
       "      <td>4.059818e+13</td>\n",
       "      <td>4.059848e+13</td>\n",
       "      <td>3.559514e+13</td>\n",
       "    </tr>\n",
       "    <tr>\n",
       "      <td>107</td>\n",
       "      <td>Position_RCM</td>\n",
       "      <td>4.059857e+13</td>\n",
       "      <td>4.051201e+13</td>\n",
       "      <td>4.059827e+13</td>\n",
       "      <td>4.059857e+13</td>\n",
       "      <td>3.559513e+13</td>\n",
       "    </tr>\n",
       "    <tr>\n",
       "      <td>115</td>\n",
       "      <td>Continent_Africa</td>\n",
       "      <td>4.060050e+13</td>\n",
       "      <td>4.065196e+13</td>\n",
       "      <td>4.060021e+13</td>\n",
       "      <td>4.060050e+13</td>\n",
       "      <td>3.559506e+13</td>\n",
       "    </tr>\n",
       "    <tr>\n",
       "      <td>95</td>\n",
       "      <td>Position_LB</td>\n",
       "      <td>4.060203e+13</td>\n",
       "      <td>4.061604e+13</td>\n",
       "      <td>4.060174e+13</td>\n",
       "      <td>4.060203e+13</td>\n",
       "      <td>3.559514e+13</td>\n",
       "    </tr>\n",
       "    <tr>\n",
       "      <td>97</td>\n",
       "      <td>Position_LCM</td>\n",
       "      <td>4.060453e+13</td>\n",
       "      <td>4.067682e+13</td>\n",
       "      <td>4.060423e+13</td>\n",
       "      <td>4.060453e+13</td>\n",
       "      <td>3.559513e+13</td>\n",
       "    </tr>\n",
       "    <tr>\n",
       "      <td>4</td>\n",
       "      <td>Preferred Foot</td>\n",
       "      <td>4.060673e+13</td>\n",
       "      <td>4.065177e+13</td>\n",
       "      <td>4.060644e+13</td>\n",
       "      <td>4.060673e+13</td>\n",
       "      <td>3.559479e+13</td>\n",
       "    </tr>\n",
       "    <tr>\n",
       "      <td>112</td>\n",
       "      <td>Position_RW</td>\n",
       "      <td>4.060816e+13</td>\n",
       "      <td>4.058124e+13</td>\n",
       "      <td>4.060786e+13</td>\n",
       "      <td>4.060816e+13</td>\n",
       "      <td>3.559513e+13</td>\n",
       "    </tr>\n",
       "    <tr>\n",
       "      <td>6</td>\n",
       "      <td>Weak Foot</td>\n",
       "      <td>4.060848e+13</td>\n",
       "      <td>4.065150e+13</td>\n",
       "      <td>4.060818e+13</td>\n",
       "      <td>4.062002e+13</td>\n",
       "      <td>3.559302e+13</td>\n",
       "    </tr>\n",
       "    <tr>\n",
       "      <td>11</td>\n",
       "      <td>Loaned From</td>\n",
       "      <td>4.061036e+13</td>\n",
       "      <td>4.064751e+13</td>\n",
       "      <td>4.061006e+13</td>\n",
       "      <td>4.061036e+13</td>\n",
       "      <td>3.559503e+13</td>\n",
       "    </tr>\n",
       "    <tr>\n",
       "      <td>106</td>\n",
       "      <td>Position_RCB</td>\n",
       "      <td>4.061562e+13</td>\n",
       "      <td>4.061802e+13</td>\n",
       "      <td>4.061532e+13</td>\n",
       "      <td>4.061562e+13</td>\n",
       "      <td>3.559512e+13</td>\n",
       "    </tr>\n",
       "    <tr>\n",
       "      <td>118</td>\n",
       "      <td>Continent_North America</td>\n",
       "      <td>4.061745e+13</td>\n",
       "      <td>4.061235e+13</td>\n",
       "      <td>4.061716e+13</td>\n",
       "      <td>4.061745e+13</td>\n",
       "      <td>3.559514e+13</td>\n",
       "    </tr>\n",
       "    <tr>\n",
       "      <td>105</td>\n",
       "      <td>Position_RB</td>\n",
       "      <td>4.062090e+13</td>\n",
       "      <td>4.057000e+13</td>\n",
       "      <td>4.062060e+13</td>\n",
       "      <td>4.062090e+13</td>\n",
       "      <td>3.559514e+13</td>\n",
       "    </tr>\n",
       "    <tr>\n",
       "      <td>102</td>\n",
       "      <td>Position_LW</td>\n",
       "      <td>4.062130e+13</td>\n",
       "      <td>4.062293e+13</td>\n",
       "      <td>4.062100e+13</td>\n",
       "      <td>4.062130e+13</td>\n",
       "      <td>3.559513e+13</td>\n",
       "    </tr>\n",
       "    <tr>\n",
       "      <td>96</td>\n",
       "      <td>Position_LCB</td>\n",
       "      <td>4.062844e+13</td>\n",
       "      <td>4.066746e+13</td>\n",
       "      <td>4.062815e+13</td>\n",
       "      <td>4.062844e+13</td>\n",
       "      <td>3.559513e+13</td>\n",
       "    </tr>\n",
       "    <tr>\n",
       "      <td>99</td>\n",
       "      <td>Position_LF</td>\n",
       "      <td>4.063674e+13</td>\n",
       "      <td>4.067840e+13</td>\n",
       "      <td>4.063643e+13</td>\n",
       "      <td>4.063674e+13</td>\n",
       "      <td>3.559514e+13</td>\n",
       "    </tr>\n",
       "    <tr>\n",
       "      <td>122</td>\n",
       "      <td>Position_Group_Forward</td>\n",
       "      <td>4.063847e+13</td>\n",
       "      <td>4.062271e+13</td>\n",
       "      <td>4.063817e+13</td>\n",
       "      <td>4.063847e+13</td>\n",
       "      <td>3.559463e+13</td>\n",
       "    </tr>\n",
       "    <tr>\n",
       "      <td>13</td>\n",
       "      <td>Height</td>\n",
       "      <td>4.064589e+13</td>\n",
       "      <td>4.067548e+13</td>\n",
       "      <td>4.064278e+13</td>\n",
       "      <td>4.059698e+13</td>\n",
       "      <td>3.559501e+13</td>\n",
       "    </tr>\n",
       "    <tr>\n",
       "      <td>53</td>\n",
       "      <td>Agility</td>\n",
       "      <td>4.072630e+13</td>\n",
       "      <td>4.062334e+13</td>\n",
       "      <td>4.064309e+13</td>\n",
       "      <td>4.055930e+13</td>\n",
       "      <td>3.559455e+13</td>\n",
       "    </tr>\n",
       "    <tr>\n",
       "      <td>92</td>\n",
       "      <td>Position_CM</td>\n",
       "      <td>4.065203e+13</td>\n",
       "      <td>4.072975e+13</td>\n",
       "      <td>4.065174e+13</td>\n",
       "      <td>4.065203e+13</td>\n",
       "      <td>3.559518e+13</td>\n",
       "    </tr>\n",
       "    <tr>\n",
       "      <td>72</td>\n",
       "      <td>GKKicking</td>\n",
       "      <td>4.135352e+13</td>\n",
       "      <td>4.100044e+13</td>\n",
       "      <td>4.065761e+13</td>\n",
       "      <td>4.057962e+13</td>\n",
       "      <td>3.559474e+13</td>\n",
       "    </tr>\n",
       "    <tr>\n",
       "      <td>117</td>\n",
       "      <td>Continent_Europe</td>\n",
       "      <td>4.066388e+13</td>\n",
       "      <td>4.062134e+13</td>\n",
       "      <td>4.066358e+13</td>\n",
       "      <td>4.066388e+13</td>\n",
       "      <td>3.559486e+13</td>\n",
       "    </tr>\n",
       "    <tr>\n",
       "      <td>109</td>\n",
       "      <td>Position_RF</td>\n",
       "      <td>4.069445e+13</td>\n",
       "      <td>4.068104e+13</td>\n",
       "      <td>4.069413e+13</td>\n",
       "      <td>4.069445e+13</td>\n",
       "      <td>3.559514e+13</td>\n",
       "    </tr>\n",
       "    <tr>\n",
       "      <td>121</td>\n",
       "      <td>Position_Group_Defender</td>\n",
       "      <td>4.070186e+13</td>\n",
       "      <td>4.070087e+13</td>\n",
       "      <td>4.070156e+13</td>\n",
       "      <td>4.070186e+13</td>\n",
       "      <td>3.559457e+13</td>\n",
       "    </tr>\n",
       "    <tr>\n",
       "      <td>57</td>\n",
       "      <td>Jumping</td>\n",
       "      <td>4.079931e+13</td>\n",
       "      <td>4.081470e+13</td>\n",
       "      <td>4.071576e+13</td>\n",
       "      <td>4.062103e+13</td>\n",
       "      <td>3.559474e+13</td>\n",
       "    </tr>\n",
       "    <tr>\n",
       "      <td>52</td>\n",
       "      <td>SprintSpeed</td>\n",
       "      <td>4.079643e+13</td>\n",
       "      <td>4.088547e+13</td>\n",
       "      <td>4.073411e+13</td>\n",
       "      <td>4.063930e+13</td>\n",
       "      <td>3.559450e+13</td>\n",
       "    </tr>\n",
       "    <tr>\n",
       "      <td>85</td>\n",
       "      <td>Body Type</td>\n",
       "      <td>4.073744e+13</td>\n",
       "      <td>4.078065e+13</td>\n",
       "      <td>4.073714e+13</td>\n",
       "      <td>4.072909e+13</td>\n",
       "      <td>3.559507e+13</td>\n",
       "    </tr>\n",
       "    <tr>\n",
       "      <td>14</td>\n",
       "      <td>Weight</td>\n",
       "      <td>4.084161e+13</td>\n",
       "      <td>4.085690e+13</td>\n",
       "      <td>4.078900e+13</td>\n",
       "      <td>4.067301e+13</td>\n",
       "      <td>3.559496e+13</td>\n",
       "    </tr>\n",
       "    <tr>\n",
       "      <td>55</td>\n",
       "      <td>Balance</td>\n",
       "      <td>4.091976e+13</td>\n",
       "      <td>4.095201e+13</td>\n",
       "      <td>4.083913e+13</td>\n",
       "      <td>4.064931e+13</td>\n",
       "      <td>3.559493e+13</td>\n",
       "    </tr>\n",
       "    <tr>\n",
       "      <td>9</td>\n",
       "      <td>Jersey Number</td>\n",
       "      <td>4.092715e+13</td>\n",
       "      <td>4.093653e+13</td>\n",
       "      <td>4.085776e+13</td>\n",
       "      <td>4.071989e+13</td>\n",
       "      <td>3.559471e+13</td>\n",
       "    </tr>\n",
       "    <tr>\n",
       "      <td>59</td>\n",
       "      <td>Strength</td>\n",
       "      <td>4.103734e+13</td>\n",
       "      <td>4.108102e+13</td>\n",
       "      <td>4.095919e+13</td>\n",
       "      <td>4.075654e+13</td>\n",
       "      <td>3.559478e+13</td>\n",
       "    </tr>\n",
       "    <tr>\n",
       "      <td>12</td>\n",
       "      <td>Contract Valid Until</td>\n",
       "      <td>4.097543e+13</td>\n",
       "      <td>4.084194e+13</td>\n",
       "      <td>4.097354e+13</td>\n",
       "      <td>4.115312e+13</td>\n",
       "      <td>3.559390e+13</td>\n",
       "    </tr>\n",
       "    <tr>\n",
       "      <td>84</td>\n",
       "      <td>Potential_Difference</td>\n",
       "      <td>4.134340e+13</td>\n",
       "      <td>4.133834e+13</td>\n",
       "      <td>4.134291e+13</td>\n",
       "      <td>4.143626e+13</td>\n",
       "      <td>3.559468e+13</td>\n",
       "    </tr>\n",
       "    <tr>\n",
       "      <td>0</td>\n",
       "      <td>Age</td>\n",
       "      <td>4.170572e+13</td>\n",
       "      <td>4.173941e+13</td>\n",
       "      <td>4.170205e+13</td>\n",
       "      <td>4.218390e+13</td>\n",
       "      <td>3.559363e+13</td>\n",
       "    </tr>\n",
       "    <tr>\n",
       "      <td>74</td>\n",
       "      <td>GKReflexes</td>\n",
       "      <td>4.405168e+13</td>\n",
       "      <td>4.063388e+13</td>\n",
       "      <td>4.172554e+13</td>\n",
       "      <td>4.058282e+13</td>\n",
       "      <td>3.559485e+13</td>\n",
       "    </tr>\n",
       "    <tr>\n",
       "      <td>10</td>\n",
       "      <td>Joined</td>\n",
       "      <td>4.730089e+13</td>\n",
       "      <td>4.530670e+13</td>\n",
       "      <td>4.236384e+13</td>\n",
       "      <td>4.082795e+13</td>\n",
       "      <td>3.559494e+13</td>\n",
       "    </tr>\n",
       "    <tr>\n",
       "      <td>73</td>\n",
       "      <td>GKPositioning</td>\n",
       "      <td>4.607656e+13</td>\n",
       "      <td>4.412526e+13</td>\n",
       "      <td>4.294646e+13</td>\n",
       "      <td>4.058505e+13</td>\n",
       "      <td>3.559484e+13</td>\n",
       "    </tr>\n",
       "  </tbody>\n",
       "</table>\n",
       "</div>"
      ],
      "text/plain": [
       "                       Feature           DTR           RFR           XBR  \\\n",
       "1                      Overall  3.291131e+13  3.294635e+13  3.291657e+13   \n",
       "50                 BallControl  3.363363e+13  3.431617e+13  3.359435e+13   \n",
       "22                          RW  3.404289e+13  3.425635e+13  3.403353e+13   \n",
       "18                          LW  3.404289e+13  3.418134e+13  3.403353e+13   \n",
       "23                         LAM  3.503860e+13  3.495623e+13  3.501742e+13   \n",
       "25                         RAM  3.503860e+13  3.493453e+13  3.501742e+13   \n",
       "24                         CAM  3.503860e+13  3.500816e+13  3.501742e+13   \n",
       "21                          RF  3.510001e+13  3.507777e+13  3.507277e+13   \n",
       "19                          LF  3.510001e+13  3.516358e+13  3.507277e+13   \n",
       "20                          CF  3.510001e+13  3.506381e+13  3.507277e+13   \n",
       "30                          RM  3.523238e+13  3.496112e+13  3.521924e+13   \n",
       "26                          LM  3.523238e+13  3.561174e+13  3.521924e+13   \n",
       "44                ShortPassing  3.530417e+13  3.542422e+13  3.527164e+13   \n",
       "2                    Potential  3.532868e+13  3.537813e+13  3.533525e+13   \n",
       "46                   Dribbling  3.547305e+13  3.545947e+13  3.541716e+13   \n",
       "54                   Reactions  3.568605e+13  3.564557e+13  3.574151e+13   \n",
       "15                          LS  3.587456e+13  3.587886e+13  3.586294e+13   \n",
       "16                          ST  3.587456e+13  3.581031e+13  3.586294e+13   \n",
       "17                          RS  3.587456e+13  3.576295e+13  3.586294e+13   \n",
       "64                      Vision  3.646856e+13  3.644209e+13  3.641733e+13   \n",
       "27                         LCM  3.646782e+13  3.605517e+13  3.643896e+13   \n",
       "29                         RCM  3.646782e+13  3.604131e+13  3.643896e+13   \n",
       "28                          CM  3.646782e+13  3.606953e+13  3.643896e+13   \n",
       "66                   Composure  3.667634e+13  3.665991e+13  3.661637e+13   \n",
       "77                   Attacking  3.718240e+13  3.699858e+13  3.665597e+13   \n",
       "3                      Special  4.039301e+13  3.967300e+13  3.677384e+13   \n",
       "78                       Skill  3.761462e+13  3.773848e+13  3.691074e+13   \n",
       "63                 Positioning  3.710834e+13  3.702116e+13  3.705036e+13   \n",
       "49                 LongPassing  3.703052e+13  3.725048e+13  3.707486e+13   \n",
       "5     International Reputation  3.712385e+13  3.708087e+13  3.712412e+13   \n",
       "34                         RDM  3.725316e+13  3.732581e+13  3.726221e+13   \n",
       "33                         CDM  3.725316e+13  3.751836e+13  3.726221e+13   \n",
       "32                         LDM  3.725316e+13  3.754583e+13  3.726221e+13   \n",
       "60                   LongShots  3.730820e+13  3.732562e+13  3.729669e+13   \n",
       "56                   ShotPower  3.774815e+13  3.765473e+13  3.769899e+13   \n",
       "42                   Finishing  3.785361e+13  3.764233e+13  3.779046e+13   \n",
       "41                    Crossing  3.797931e+13  3.794522e+13  3.788268e+13   \n",
       "45                     Volleys  3.795030e+13  3.795453e+13  3.792699e+13   \n",
       "81                   Mentality  3.901254e+13  3.914657e+13  3.798656e+13   \n",
       "36                          LB  3.803766e+13  3.821657e+13  3.803114e+13   \n",
       "40                          RB  3.803766e+13  3.808355e+13  3.803114e+13   \n",
       "47                       Curve  3.807209e+13  3.814493e+13  3.804161e+13   \n",
       "31                         LWB  3.823767e+13  3.829537e+13  3.821822e+13   \n",
       "35                         RWB  3.823767e+13  3.817528e+13  3.821822e+13   \n",
       "7                  Skill Moves  3.846869e+13  3.847564e+13  3.846849e+13   \n",
       "80                       Power  3.926227e+13  3.944756e+13  3.847206e+13   \n",
       "76          Position_Potential  3.859366e+13  3.853693e+13  3.859348e+13   \n",
       "8                    Real Face  3.868142e+13  3.869908e+13  3.868123e+13   \n",
       "62               Interceptions  3.894271e+13  3.900229e+13  3.881148e+13   \n",
       "43             HeadingAccuracy  3.919032e+13  3.921825e+13  3.906376e+13   \n",
       "79                    Movement  3.950834e+13  3.948714e+13  3.911419e+13   \n",
       "48                  FKAccuracy  3.920840e+13  3.917831e+13  3.911572e+13   \n",
       "68              StandingTackle  3.923663e+13  3.938180e+13  3.916141e+13   \n",
       "69               SlidingTackle  3.935045e+13  3.930441e+13  3.919273e+13   \n",
       "65                   Penalties  3.948346e+13  3.943302e+13  3.938622e+13   \n",
       "67                     Marking  3.951506e+13  3.962020e+13  3.941244e+13   \n",
       "82                   Defending  4.000452e+13  4.023640e+13  3.941836e+13   \n",
       "39                         RCB  3.962185e+13  3.966552e+13  3.953114e+13   \n",
       "38                          CB  3.962185e+13  3.965921e+13  3.953114e+13   \n",
       "37                         LCB  3.962185e+13  3.965597e+13  3.953114e+13   \n",
       "61                  Aggression  4.030169e+13  4.035343e+13  4.016983e+13   \n",
       "71                  GKHandling  4.017113e+13  4.024809e+13  4.016995e+13   \n",
       "75             Club_Reputation  4.043025e+13  4.039635e+13  4.019410e+13   \n",
       "83                 GoalKeeping  4.070534e+13  4.059779e+13  4.029215e+13   \n",
       "70                    GKDiving  4.061509e+13  4.050402e+13  4.042991e+13   \n",
       "116             Continent_Asia  4.049309e+13  4.046750e+13  4.049280e+13   \n",
       "51                Acceleration  4.054570e+13  4.052450e+13  4.050439e+13   \n",
       "58                     Stamina  4.061329e+13  4.065371e+13  4.053882e+13   \n",
       "120    Continent_South America  4.055348e+13  4.055314e+13  4.055318e+13   \n",
       "123  Position_Group_GoalKeeper  4.056619e+13  4.058352e+13  4.056590e+13   \n",
       "93                 Position_GK  4.056619e+13  4.042336e+13  4.056590e+13   \n",
       "101                Position_LS  4.056743e+13  4.059826e+13  4.056713e+13   \n",
       "124  Position_Group_Midfielder  4.057505e+13  4.065053e+13  4.057475e+13   \n",
       "104               Position_RAM  4.057549e+13  4.064459e+13  4.057520e+13   \n",
       "94                Position_LAM  4.057999e+13  4.062341e+13  4.057970e+13   \n",
       "89                 Position_CB  4.058014e+13  4.051565e+13  4.057984e+13   \n",
       "111                Position_RS  4.058024e+13  4.054201e+13  4.057994e+13   \n",
       "119          Continent_Oceania  4.058075e+13  4.059081e+13  4.058046e+13   \n",
       "88                Position_CAM  4.058364e+13  4.053184e+13  4.058335e+13   \n",
       "100                Position_LM  4.058558e+13  4.061478e+13  4.058528e+13   \n",
       "110                Position_RM  4.058744e+13  4.060298e+13  4.058715e+13   \n",
       "108               Position_RDM  4.058798e+13  4.064590e+13  4.058769e+13   \n",
       "103               Position_LWB  4.058846e+13  4.056909e+13  4.058816e+13   \n",
       "113               Position_RWB  4.059027e+13  4.059812e+13  4.058998e+13   \n",
       "87                  Defense_WR  4.059084e+13  4.061972e+13  4.059055e+13   \n",
       "91                 Position_CF  4.059545e+13  4.060072e+13  4.059516e+13   \n",
       "114                Position_ST  4.059688e+13  4.065603e+13  4.059659e+13   \n",
       "86                   Attack_WR  4.059741e+13  4.052668e+13  4.059711e+13   \n",
       "98                Position_LDM  4.059742e+13  4.053577e+13  4.059713e+13   \n",
       "90                Position_CDM  4.059848e+13  4.062884e+13  4.059818e+13   \n",
       "107               Position_RCM  4.059857e+13  4.051201e+13  4.059827e+13   \n",
       "115           Continent_Africa  4.060050e+13  4.065196e+13  4.060021e+13   \n",
       "95                 Position_LB  4.060203e+13  4.061604e+13  4.060174e+13   \n",
       "97                Position_LCM  4.060453e+13  4.067682e+13  4.060423e+13   \n",
       "4               Preferred Foot  4.060673e+13  4.065177e+13  4.060644e+13   \n",
       "112                Position_RW  4.060816e+13  4.058124e+13  4.060786e+13   \n",
       "6                    Weak Foot  4.060848e+13  4.065150e+13  4.060818e+13   \n",
       "11                 Loaned From  4.061036e+13  4.064751e+13  4.061006e+13   \n",
       "106               Position_RCB  4.061562e+13  4.061802e+13  4.061532e+13   \n",
       "118    Continent_North America  4.061745e+13  4.061235e+13  4.061716e+13   \n",
       "105                Position_RB  4.062090e+13  4.057000e+13  4.062060e+13   \n",
       "102                Position_LW  4.062130e+13  4.062293e+13  4.062100e+13   \n",
       "96                Position_LCB  4.062844e+13  4.066746e+13  4.062815e+13   \n",
       "99                 Position_LF  4.063674e+13  4.067840e+13  4.063643e+13   \n",
       "122     Position_Group_Forward  4.063847e+13  4.062271e+13  4.063817e+13   \n",
       "13                      Height  4.064589e+13  4.067548e+13  4.064278e+13   \n",
       "53                     Agility  4.072630e+13  4.062334e+13  4.064309e+13   \n",
       "92                 Position_CM  4.065203e+13  4.072975e+13  4.065174e+13   \n",
       "72                   GKKicking  4.135352e+13  4.100044e+13  4.065761e+13   \n",
       "117           Continent_Europe  4.066388e+13  4.062134e+13  4.066358e+13   \n",
       "109                Position_RF  4.069445e+13  4.068104e+13  4.069413e+13   \n",
       "121    Position_Group_Defender  4.070186e+13  4.070087e+13  4.070156e+13   \n",
       "57                     Jumping  4.079931e+13  4.081470e+13  4.071576e+13   \n",
       "52                 SprintSpeed  4.079643e+13  4.088547e+13  4.073411e+13   \n",
       "85                   Body Type  4.073744e+13  4.078065e+13  4.073714e+13   \n",
       "14                      Weight  4.084161e+13  4.085690e+13  4.078900e+13   \n",
       "55                     Balance  4.091976e+13  4.095201e+13  4.083913e+13   \n",
       "9                Jersey Number  4.092715e+13  4.093653e+13  4.085776e+13   \n",
       "59                    Strength  4.103734e+13  4.108102e+13  4.095919e+13   \n",
       "12        Contract Valid Until  4.097543e+13  4.084194e+13  4.097354e+13   \n",
       "84        Potential_Difference  4.134340e+13  4.133834e+13  4.134291e+13   \n",
       "0                          Age  4.170572e+13  4.173941e+13  4.170205e+13   \n",
       "74                  GKReflexes  4.405168e+13  4.063388e+13  4.172554e+13   \n",
       "10                      Joined  4.730089e+13  4.530670e+13  4.236384e+13   \n",
       "73               GKPositioning  4.607656e+13  4.412526e+13  4.294646e+13   \n",
       "\n",
       "              LRE           SVC  \n",
       "1    6.343037e+13  3.559205e+13  \n",
       "50   3.976522e+13  3.559360e+13  \n",
       "22   4.016000e+13  3.559329e+13  \n",
       "18   4.016000e+13  3.559329e+13  \n",
       "23   4.009771e+13  3.559356e+13  \n",
       "25   4.009771e+13  3.559356e+13  \n",
       "24   4.009771e+13  3.559356e+13  \n",
       "21   4.010982e+13  3.559353e+13  \n",
       "19   4.010982e+13  3.559353e+13  \n",
       "20   4.010982e+13  3.559353e+13  \n",
       "30   4.015433e+13  3.559332e+13  \n",
       "26   4.015433e+13  3.559332e+13  \n",
       "44   3.969333e+13  3.559412e+13  \n",
       "2    4.168772e+13  3.559093e+13  \n",
       "46   4.004378e+13  3.559388e+13  \n",
       "54   4.535629e+13  3.559331e+13  \n",
       "15   4.012114e+13  3.559382e+13  \n",
       "16   4.012114e+13  3.559382e+13  \n",
       "17   4.012114e+13  3.559382e+13  \n",
       "64   3.969074e+13  3.559435e+13  \n",
       "27   4.001880e+13  3.559367e+13  \n",
       "29   4.001880e+13  3.559367e+13  \n",
       "28   4.001880e+13  3.559367e+13  \n",
       "66   4.021195e+13  3.559377e+13  \n",
       "77   3.964200e+13  3.559391e+13  \n",
       "3    3.936163e+13  3.559508e+13  \n",
       "78   3.960158e+13  3.559421e+13  \n",
       "63   4.008411e+13  3.559426e+13  \n",
       "49   3.972126e+13  3.559443e+13  \n",
       "5    3.702092e+13  3.559517e+13  \n",
       "34   4.018408e+13  3.559431e+13  \n",
       "33   4.018408e+13  3.559431e+13  \n",
       "32   4.018408e+13  3.559431e+13  \n",
       "60   3.983257e+13  3.559450e+13  \n",
       "56   3.973684e+13  3.559433e+13  \n",
       "42   4.018861e+13  3.559469e+13  \n",
       "41   4.002732e+13  3.559454e+13  \n",
       "45   3.986659e+13  3.559466e+13  \n",
       "81   3.928514e+13  3.559373e+13  \n",
       "36   4.026994e+13  3.559417e+13  \n",
       "40   4.026994e+13  3.559417e+13  \n",
       "47   3.979783e+13  3.559453e+13  \n",
       "31   4.022300e+13  3.559454e+13  \n",
       "35   4.022300e+13  3.559454e+13  \n",
       "7    3.957370e+13  3.558797e+13  \n",
       "80   3.972625e+13  3.559380e+13  \n",
       "76   4.097735e+13  3.559578e+13  \n",
       "8    3.868142e+13  3.559496e+13  \n",
       "62   4.046144e+13  3.559447e+13  \n",
       "43   4.018653e+13  3.559467e+13  \n",
       "79   4.045258e+13  3.559410e+13  \n",
       "48   3.991706e+13  3.559464e+13  \n",
       "68   4.051417e+13  3.559436e+13  \n",
       "69   4.054869e+13  3.559440e+13  \n",
       "65   3.999467e+13  3.559464e+13  \n",
       "67   4.046294e+13  3.559463e+13  \n",
       "82   4.050480e+13  3.559433e+13  \n",
       "39   4.035521e+13  3.559418e+13  \n",
       "38   4.035521e+13  3.559418e+13  \n",
       "37   4.035521e+13  3.559418e+13  \n",
       "61   4.028812e+13  3.559470e+13  \n",
       "71   4.058494e+13  3.559492e+13  \n",
       "75   3.949069e+13  3.559478e+13  \n",
       "83   4.058338e+13  3.559438e+13  \n",
       "70   4.058557e+13  3.559484e+13  \n",
       "116  4.049309e+13  3.559517e+13  \n",
       "51   4.063825e+13  3.559464e+13  \n",
       "58   4.044311e+13  3.559439e+13  \n",
       "120  4.055348e+13  3.559474e+13  \n",
       "123  4.056619e+13  3.559532e+13  \n",
       "93   4.056619e+13  3.559532e+13  \n",
       "101  4.056743e+13  3.559514e+13  \n",
       "124  4.057505e+13  3.559397e+13  \n",
       "104  4.057549e+13  3.559514e+13  \n",
       "94   4.057999e+13  3.559514e+13  \n",
       "89   4.058014e+13  3.559516e+13  \n",
       "111  4.058024e+13  3.559514e+13  \n",
       "119  4.058075e+13  3.559514e+13  \n",
       "88   4.058364e+13  3.559511e+13  \n",
       "100  4.058558e+13  3.559509e+13  \n",
       "110  4.058744e+13  3.559511e+13  \n",
       "108  4.058798e+13  3.559514e+13  \n",
       "103  4.058846e+13  3.559514e+13  \n",
       "113  4.059027e+13  3.559515e+13  \n",
       "87   4.062020e+13  3.559449e+13  \n",
       "91   4.059545e+13  3.559514e+13  \n",
       "114  4.059688e+13  3.559509e+13  \n",
       "86   4.061665e+13  3.559312e+13  \n",
       "98   4.059742e+13  3.559514e+13  \n",
       "90   4.059848e+13  3.559514e+13  \n",
       "107  4.059857e+13  3.559513e+13  \n",
       "115  4.060050e+13  3.559506e+13  \n",
       "95   4.060203e+13  3.559514e+13  \n",
       "97   4.060453e+13  3.559513e+13  \n",
       "4    4.060673e+13  3.559479e+13  \n",
       "112  4.060816e+13  3.559513e+13  \n",
       "6    4.062002e+13  3.559302e+13  \n",
       "11   4.061036e+13  3.559503e+13  \n",
       "106  4.061562e+13  3.559512e+13  \n",
       "118  4.061745e+13  3.559514e+13  \n",
       "105  4.062090e+13  3.559514e+13  \n",
       "102  4.062130e+13  3.559513e+13  \n",
       "96   4.062844e+13  3.559513e+13  \n",
       "99   4.063674e+13  3.559514e+13  \n",
       "122  4.063847e+13  3.559463e+13  \n",
       "13   4.059698e+13  3.559501e+13  \n",
       "53   4.055930e+13  3.559455e+13  \n",
       "92   4.065203e+13  3.559518e+13  \n",
       "72   4.057962e+13  3.559474e+13  \n",
       "117  4.066388e+13  3.559486e+13  \n",
       "109  4.069445e+13  3.559514e+13  \n",
       "121  4.070186e+13  3.559457e+13  \n",
       "57   4.062103e+13  3.559474e+13  \n",
       "52   4.063930e+13  3.559450e+13  \n",
       "85   4.072909e+13  3.559507e+13  \n",
       "14   4.067301e+13  3.559496e+13  \n",
       "55   4.064931e+13  3.559493e+13  \n",
       "9    4.071989e+13  3.559471e+13  \n",
       "59   4.075654e+13  3.559478e+13  \n",
       "12   4.115312e+13  3.559390e+13  \n",
       "84   4.143626e+13  3.559468e+13  \n",
       "0    4.218390e+13  3.559363e+13  \n",
       "74   4.058282e+13  3.559485e+13  \n",
       "10   4.082795e+13  3.559494e+13  \n",
       "73   4.058505e+13  3.559484e+13  "
      ]
     },
     "execution_count": 33,
     "metadata": {},
     "output_type": "execute_result"
    }
   ],
   "source": [
    "s = {'Feature': col_names[0],\n",
    "     'DTR': cv_score_features['1'],\n",
    "     'RFR': cv_score_features['2'],\n",
    "     'XBR': cv_score_features['3'],\n",
    "     'LRE': cv_score_features['4'],\n",
    "     'SVC': cv_score_features['5']}\n",
    "feature_scores=pd.DataFrame(data=s)\n",
    "feature_scores=feature_scores.sort_values(by=['XBR'])\n",
    "feature_scores"
   ]
  },
  {
   "cell_type": "code",
   "execution_count": 34,
   "metadata": {},
   "outputs": [
    {
     "data": {
      "image/png": "[encoded data removed]",
      "text/plain": [
       "<Figure size 2160x2880 with 1 Axes>"
      ]
     },
     "metadata": {
      "needs_background": "light"
     },
     "output_type": "display_data"
    }
   ],
   "source": [
    "importance = pd.DataFrame(dict(graph=feature_scores['Feature'],\n",
    "                               DTR=feature_scores['DTR'],\n",
    "                               RFR=feature_scores['RFR'],\n",
    "                               XBR=feature_scores['XBR'],\n",
    "                               LRE=feature_scores['LRE'],\n",
    "                               SVC=feature_scores['SVC'])) \n",
    "\n",
    "ind = np.arange(len(importance))\n",
    "width = 0.15\n",
    "\n",
    "fig, ax = plt.subplots(figsize=(30,40))\n",
    "ax.barh(ind, importance.DTR, width, color='maroon', label='DTC')\n",
    "ax.barh(ind + width, importance.RFR, width, color='forestgreen', label='RFR')\n",
    "ax.barh(ind + 2*width, importance.XBR, width, color='slategrey', label='XBR')\n",
    "ax.barh(ind + 3*width, importance.LRE, width, color='lightsalmon', label='LRE')\n",
    "ax.set_xlim(0, max(importance.DTR)+min(importance.DTR))\n",
    "plt.xlabel('Importance', fontsize=16)\n",
    "plt.ylabel('Features', fontsize=16)\n",
    "plt.title('Feature Importance (DTR,RFR,XGB,LRE,SVC)',fontsize=20)\n",
    "\n",
    "ax.set(yticks=ind + width, yticklabels=importance.graph, ylim=[2*width - 1, len(importance)])\n",
    "ax.legend()\n",
    "\n",
    "plt.show()"
   ]
  },
  {
   "cell_type": "markdown",
   "metadata": {},
   "source": [
    "According to this method, some position skills, as well as Ball Control and the Overall score are the ten most important features for a low RMSE. \n",
    "\n",
    "Based on our feature importance analysis, we are making the following modifications:\n",
    "- Group position skills into 'Forward Skills', 'Midfield Skills' and 'Defence Skills' and drop single position skills to avoid overemphasizing these features\n",
    "- Drop individual position dummies and only keep the grouped position dummies to avoid duplication of features\n",
    "- Drop all features for that the F-value makes up less than one percent of the summ of all F-values, EXCEPT for when one of these features is within the top ten features for either the ExtraTreeRegressor or the single feature RMSE."
   ]
  },
  {
   "cell_type": "markdown",
   "metadata": {},
   "source": [
    "Grouping position skills and drop single position skills:"
   ]
  },
  {
   "cell_type": "code",
   "execution_count": 35,
   "metadata": {},
   "outputs": [],
   "source": [
    "predictors_df['Forward_Skill'] = predictors_df.loc[:,['LS',  'ST', 'RS',  'LW', 'LF', 'CF', 'RF', 'RW']].mean(axis=1)\n",
    "\n",
    "predictors_df['Midfield_Skill'] = predictors_df.loc[:,['LAM','CAM','RAM', 'LM', 'LCM', 'CM' ,'RCM', 'RM','LDM', 'CDM', 'RDM']].mean(axis=1)\n",
    "\n",
    "predictors_df['Defence_Skill'] = predictors_df.loc[:,['LWB','RWB', 'LB','LCB','CB','RCB','RB']].mean(axis=1)\n",
    "\n",
    "predictors_df = predictors_df.drop(['LS',  'ST', 'RS',  'LW', 'LF', 'CF', 'RF', 'RW',\n",
    "          'LAM','CAM','RAM', 'LM', 'LCM', 'CM' ,'RCM', 'RM','LDM', 'CDM', 'RDM',\n",
    "          'LWB','RWB', 'LB','LCB','CB','RCB','RB'], axis = 1)"
   ]
  },
  {
   "cell_type": "markdown",
   "metadata": {},
   "source": [
    "Drop individual position dummies and only keep grouped position dummies:"
   ]
  },
  {
   "cell_type": "code",
   "execution_count": 36,
   "metadata": {},
   "outputs": [],
   "source": [
    "predictors_df=predictors_df.drop(predictors_df.iloc[:,predictors_df.columns.get_loc('Position_CAM'):predictors_df.columns.get_loc('Position_ST')+1], axis=1)"
   ]
  },
  {
   "cell_type": "markdown",
   "metadata": {},
   "source": [
    "Next, we are dropping all features for which the F-value makes up less than one percent of the total sum of F-values, and which are not among the top ten features neither for RMSE nor ExtraTreeRegressor. To do so, we are indexing the most important features first, extract all values that we do not want to keep and use these as our index in the drop function. Also, we are keeping the Position Groups (Goalkeeper, Defender, Midfielder, Forward), since Goalkeepers have a significantly different value distribution than the other groups. We, therefore, think it will be important to take this into account."
   ]
  },
  {
   "cell_type": "code",
   "execution_count": 37,
   "metadata": {},
   "outputs": [
    {
     "data": {
      "text/html": [
       "<div>\n",
       "<style scoped>\n",
       "    .dataframe tbody tr th:only-of-type {\n",
       "        vertical-align: middle;\n",
       "    }\n",
       "\n",
       "    .dataframe tbody tr th {\n",
       "        vertical-align: top;\n",
       "    }\n",
       "\n",
       "    .dataframe thead th {\n",
       "        text-align: right;\n",
       "    }\n",
       "</style>\n",
       "<table border=\"1\" class=\"dataframe\">\n",
       "  <thead>\n",
       "    <tr style=\"text-align: right;\">\n",
       "      <th></th>\n",
       "      <th>Age</th>\n",
       "      <th>Overall</th>\n",
       "      <th>Potential</th>\n",
       "      <th>Special</th>\n",
       "      <th>Preferred Foot</th>\n",
       "      <th>International Reputation</th>\n",
       "      <th>Weak Foot</th>\n",
       "      <th>Skill Moves</th>\n",
       "      <th>Real Face</th>\n",
       "      <th>Jersey Number</th>\n",
       "      <th>Joined</th>\n",
       "      <th>Loaned From</th>\n",
       "      <th>Contract Valid Until</th>\n",
       "      <th>Height</th>\n",
       "      <th>Weight</th>\n",
       "      <th>Crossing</th>\n",
       "      <th>Finishing</th>\n",
       "      <th>HeadingAccuracy</th>\n",
       "      <th>ShortPassing</th>\n",
       "      <th>Volleys</th>\n",
       "      <th>Dribbling</th>\n",
       "      <th>Curve</th>\n",
       "      <th>FKAccuracy</th>\n",
       "      <th>LongPassing</th>\n",
       "      <th>BallControl</th>\n",
       "      <th>Acceleration</th>\n",
       "      <th>SprintSpeed</th>\n",
       "      <th>Agility</th>\n",
       "      <th>Reactions</th>\n",
       "      <th>Balance</th>\n",
       "      <th>ShotPower</th>\n",
       "      <th>Jumping</th>\n",
       "      <th>Stamina</th>\n",
       "      <th>Strength</th>\n",
       "      <th>LongShots</th>\n",
       "      <th>Aggression</th>\n",
       "      <th>Interceptions</th>\n",
       "      <th>Positioning</th>\n",
       "      <th>Vision</th>\n",
       "      <th>Penalties</th>\n",
       "      <th>Composure</th>\n",
       "      <th>Marking</th>\n",
       "      <th>StandingTackle</th>\n",
       "      <th>SlidingTackle</th>\n",
       "      <th>GKDiving</th>\n",
       "      <th>GKHandling</th>\n",
       "      <th>GKKicking</th>\n",
       "      <th>GKPositioning</th>\n",
       "      <th>GKReflexes</th>\n",
       "      <th>Club_Reputation</th>\n",
       "      <th>Position_Potential</th>\n",
       "      <th>Attacking</th>\n",
       "      <th>Skill</th>\n",
       "      <th>Movement</th>\n",
       "      <th>Power</th>\n",
       "      <th>Mentality</th>\n",
       "      <th>Defending</th>\n",
       "      <th>GoalKeeping</th>\n",
       "      <th>Potential_Difference</th>\n",
       "      <th>Body Type</th>\n",
       "      <th>Attack_WR</th>\n",
       "      <th>Defense_WR</th>\n",
       "      <th>Continent_Africa</th>\n",
       "      <th>Continent_Asia</th>\n",
       "      <th>Continent_Europe</th>\n",
       "      <th>Continent_North America</th>\n",
       "      <th>Continent_Oceania</th>\n",
       "      <th>Continent_South America</th>\n",
       "      <th>Position_Group_Defender</th>\n",
       "      <th>Position_Group_Forward</th>\n",
       "      <th>Position_Group_GoalKeeper</th>\n",
       "      <th>Position_Group_Midfielder</th>\n",
       "      <th>Forward_Skill</th>\n",
       "      <th>Midfield_Skill</th>\n",
       "      <th>Defence_Skill</th>\n",
       "    </tr>\n",
       "  </thead>\n",
       "  <tbody>\n",
       "    <tr>\n",
       "      <td>0</td>\n",
       "      <td>31</td>\n",
       "      <td>94</td>\n",
       "      <td>94</td>\n",
       "      <td>2202</td>\n",
       "      <td>0</td>\n",
       "      <td>5.0</td>\n",
       "      <td>4.0</td>\n",
       "      <td>4.0</td>\n",
       "      <td>1</td>\n",
       "      <td>10.0</td>\n",
       "      <td>5297</td>\n",
       "      <td>0</td>\n",
       "      <td>3</td>\n",
       "      <td>170</td>\n",
       "      <td>159</td>\n",
       "      <td>84.0</td>\n",
       "      <td>95.0</td>\n",
       "      <td>70.0</td>\n",
       "      <td>90.0</td>\n",
       "      <td>86.0</td>\n",
       "      <td>97.0</td>\n",
       "      <td>93.0</td>\n",
       "      <td>94.0</td>\n",
       "      <td>87.0</td>\n",
       "      <td>96.0</td>\n",
       "      <td>91.0</td>\n",
       "      <td>86.0</td>\n",
       "      <td>91.0</td>\n",
       "      <td>95.0</td>\n",
       "      <td>95.0</td>\n",
       "      <td>85.0</td>\n",
       "      <td>68.0</td>\n",
       "      <td>72.0</td>\n",
       "      <td>59.0</td>\n",
       "      <td>94.0</td>\n",
       "      <td>48.0</td>\n",
       "      <td>22.0</td>\n",
       "      <td>94.0</td>\n",
       "      <td>94.0</td>\n",
       "      <td>75.0</td>\n",
       "      <td>96.0</td>\n",
       "      <td>33.0</td>\n",
       "      <td>28.0</td>\n",
       "      <td>26.0</td>\n",
       "      <td>6.0</td>\n",
       "      <td>11.0</td>\n",
       "      <td>15.0</td>\n",
       "      <td>14.0</td>\n",
       "      <td>8.0</td>\n",
       "      <td>2.242424</td>\n",
       "      <td>2</td>\n",
       "      <td>85.0</td>\n",
       "      <td>93.4</td>\n",
       "      <td>91.6</td>\n",
       "      <td>75.6</td>\n",
       "      <td>71.500000</td>\n",
       "      <td>29.000000</td>\n",
       "      <td>10.8</td>\n",
       "      <td>0</td>\n",
       "      <td>1</td>\n",
       "      <td>2</td>\n",
       "      <td>2</td>\n",
       "      <td>0</td>\n",
       "      <td>0</td>\n",
       "      <td>0</td>\n",
       "      <td>0</td>\n",
       "      <td>0</td>\n",
       "      <td>1</td>\n",
       "      <td>0</td>\n",
       "      <td>1</td>\n",
       "      <td>0</td>\n",
       "      <td>0</td>\n",
       "      <td>90.875</td>\n",
       "      <td>81.454545</td>\n",
       "      <td>55.285714</td>\n",
       "    </tr>\n",
       "    <tr>\n",
       "      <td>1</td>\n",
       "      <td>33</td>\n",
       "      <td>94</td>\n",
       "      <td>94</td>\n",
       "      <td>2228</td>\n",
       "      <td>1</td>\n",
       "      <td>5.0</td>\n",
       "      <td>4.0</td>\n",
       "      <td>5.0</td>\n",
       "      <td>1</td>\n",
       "      <td>7.0</td>\n",
       "      <td>175</td>\n",
       "      <td>0</td>\n",
       "      <td>4</td>\n",
       "      <td>188</td>\n",
       "      <td>183</td>\n",
       "      <td>84.0</td>\n",
       "      <td>94.0</td>\n",
       "      <td>89.0</td>\n",
       "      <td>81.0</td>\n",
       "      <td>87.0</td>\n",
       "      <td>88.0</td>\n",
       "      <td>81.0</td>\n",
       "      <td>76.0</td>\n",
       "      <td>77.0</td>\n",
       "      <td>94.0</td>\n",
       "      <td>89.0</td>\n",
       "      <td>91.0</td>\n",
       "      <td>87.0</td>\n",
       "      <td>96.0</td>\n",
       "      <td>70.0</td>\n",
       "      <td>95.0</td>\n",
       "      <td>95.0</td>\n",
       "      <td>88.0</td>\n",
       "      <td>79.0</td>\n",
       "      <td>93.0</td>\n",
       "      <td>63.0</td>\n",
       "      <td>29.0</td>\n",
       "      <td>95.0</td>\n",
       "      <td>82.0</td>\n",
       "      <td>85.0</td>\n",
       "      <td>95.0</td>\n",
       "      <td>28.0</td>\n",
       "      <td>31.0</td>\n",
       "      <td>23.0</td>\n",
       "      <td>7.0</td>\n",
       "      <td>11.0</td>\n",
       "      <td>15.0</td>\n",
       "      <td>14.0</td>\n",
       "      <td>11.0</td>\n",
       "      <td>2.520000</td>\n",
       "      <td>3</td>\n",
       "      <td>87.0</td>\n",
       "      <td>83.2</td>\n",
       "      <td>86.6</td>\n",
       "      <td>90.0</td>\n",
       "      <td>74.833333</td>\n",
       "      <td>27.333333</td>\n",
       "      <td>11.6</td>\n",
       "      <td>0</td>\n",
       "      <td>2</td>\n",
       "      <td>3</td>\n",
       "      <td>1</td>\n",
       "      <td>0</td>\n",
       "      <td>0</td>\n",
       "      <td>1</td>\n",
       "      <td>0</td>\n",
       "      <td>0</td>\n",
       "      <td>0</td>\n",
       "      <td>0</td>\n",
       "      <td>1</td>\n",
       "      <td>0</td>\n",
       "      <td>0</td>\n",
       "      <td>90.125</td>\n",
       "      <td>78.727273</td>\n",
       "      <td>58.714286</td>\n",
       "    </tr>\n",
       "    <tr>\n",
       "      <td>2</td>\n",
       "      <td>26</td>\n",
       "      <td>92</td>\n",
       "      <td>93</td>\n",
       "      <td>2143</td>\n",
       "      <td>1</td>\n",
       "      <td>5.0</td>\n",
       "      <td>5.0</td>\n",
       "      <td>5.0</td>\n",
       "      <td>1</td>\n",
       "      <td>10.0</td>\n",
       "      <td>516</td>\n",
       "      <td>0</td>\n",
       "      <td>4</td>\n",
       "      <td>175</td>\n",
       "      <td>150</td>\n",
       "      <td>79.0</td>\n",
       "      <td>87.0</td>\n",
       "      <td>62.0</td>\n",
       "      <td>84.0</td>\n",
       "      <td>84.0</td>\n",
       "      <td>96.0</td>\n",
       "      <td>88.0</td>\n",
       "      <td>87.0</td>\n",
       "      <td>78.0</td>\n",
       "      <td>95.0</td>\n",
       "      <td>94.0</td>\n",
       "      <td>90.0</td>\n",
       "      <td>96.0</td>\n",
       "      <td>94.0</td>\n",
       "      <td>84.0</td>\n",
       "      <td>80.0</td>\n",
       "      <td>61.0</td>\n",
       "      <td>81.0</td>\n",
       "      <td>49.0</td>\n",
       "      <td>82.0</td>\n",
       "      <td>56.0</td>\n",
       "      <td>36.0</td>\n",
       "      <td>89.0</td>\n",
       "      <td>87.0</td>\n",
       "      <td>81.0</td>\n",
       "      <td>94.0</td>\n",
       "      <td>27.0</td>\n",
       "      <td>24.0</td>\n",
       "      <td>33.0</td>\n",
       "      <td>9.0</td>\n",
       "      <td>9.0</td>\n",
       "      <td>15.0</td>\n",
       "      <td>15.0</td>\n",
       "      <td>11.0</td>\n",
       "      <td>2.233333</td>\n",
       "      <td>3</td>\n",
       "      <td>79.2</td>\n",
       "      <td>88.8</td>\n",
       "      <td>91.6</td>\n",
       "      <td>70.6</td>\n",
       "      <td>73.833333</td>\n",
       "      <td>28.000000</td>\n",
       "      <td>11.8</td>\n",
       "      <td>1</td>\n",
       "      <td>1</td>\n",
       "      <td>3</td>\n",
       "      <td>2</td>\n",
       "      <td>0</td>\n",
       "      <td>0</td>\n",
       "      <td>0</td>\n",
       "      <td>0</td>\n",
       "      <td>0</td>\n",
       "      <td>1</td>\n",
       "      <td>0</td>\n",
       "      <td>1</td>\n",
       "      <td>0</td>\n",
       "      <td>0</td>\n",
       "      <td>87.125</td>\n",
       "      <td>78.727273</td>\n",
       "      <td>55.857143</td>\n",
       "    </tr>\n",
       "    <tr>\n",
       "      <td>3</td>\n",
       "      <td>27</td>\n",
       "      <td>91</td>\n",
       "      <td>93</td>\n",
       "      <td>1471</td>\n",
       "      <td>1</td>\n",
       "      <td>4.0</td>\n",
       "      <td>3.0</td>\n",
       "      <td>1.0</td>\n",
       "      <td>1</td>\n",
       "      <td>1.0</td>\n",
       "      <td>2741</td>\n",
       "      <td>0</td>\n",
       "      <td>2</td>\n",
       "      <td>193</td>\n",
       "      <td>168</td>\n",
       "      <td>17.0</td>\n",
       "      <td>13.0</td>\n",
       "      <td>21.0</td>\n",
       "      <td>50.0</td>\n",
       "      <td>13.0</td>\n",
       "      <td>18.0</td>\n",
       "      <td>21.0</td>\n",
       "      <td>19.0</td>\n",
       "      <td>51.0</td>\n",
       "      <td>42.0</td>\n",
       "      <td>57.0</td>\n",
       "      <td>58.0</td>\n",
       "      <td>60.0</td>\n",
       "      <td>90.0</td>\n",
       "      <td>43.0</td>\n",
       "      <td>31.0</td>\n",
       "      <td>67.0</td>\n",
       "      <td>43.0</td>\n",
       "      <td>64.0</td>\n",
       "      <td>12.0</td>\n",
       "      <td>38.0</td>\n",
       "      <td>30.0</td>\n",
       "      <td>12.0</td>\n",
       "      <td>68.0</td>\n",
       "      <td>40.0</td>\n",
       "      <td>68.0</td>\n",
       "      <td>15.0</td>\n",
       "      <td>21.0</td>\n",
       "      <td>13.0</td>\n",
       "      <td>90.0</td>\n",
       "      <td>85.0</td>\n",
       "      <td>87.0</td>\n",
       "      <td>88.0</td>\n",
       "      <td>94.0</td>\n",
       "      <td>2.090909</td>\n",
       "      <td>0</td>\n",
       "      <td>22.8</td>\n",
       "      <td>30.2</td>\n",
       "      <td>61.6</td>\n",
       "      <td>43.4</td>\n",
       "      <td>42.666667</td>\n",
       "      <td>16.333333</td>\n",
       "      <td>88.8</td>\n",
       "      <td>2</td>\n",
       "      <td>1</td>\n",
       "      <td>2</td>\n",
       "      <td>2</td>\n",
       "      <td>0</td>\n",
       "      <td>0</td>\n",
       "      <td>1</td>\n",
       "      <td>0</td>\n",
       "      <td>0</td>\n",
       "      <td>0</td>\n",
       "      <td>0</td>\n",
       "      <td>0</td>\n",
       "      <td>1</td>\n",
       "      <td>0</td>\n",
       "      <td>0.000</td>\n",
       "      <td>0.000000</td>\n",
       "      <td>0.000000</td>\n",
       "    </tr>\n",
       "    <tr>\n",
       "      <td>4</td>\n",
       "      <td>27</td>\n",
       "      <td>91</td>\n",
       "      <td>92</td>\n",
       "      <td>2281</td>\n",
       "      <td>1</td>\n",
       "      <td>4.0</td>\n",
       "      <td>5.0</td>\n",
       "      <td>4.0</td>\n",
       "      <td>1</td>\n",
       "      <td>7.0</td>\n",
       "      <td>1220</td>\n",
       "      <td>0</td>\n",
       "      <td>5</td>\n",
       "      <td>180</td>\n",
       "      <td>154</td>\n",
       "      <td>93.0</td>\n",
       "      <td>82.0</td>\n",
       "      <td>55.0</td>\n",
       "      <td>92.0</td>\n",
       "      <td>82.0</td>\n",
       "      <td>86.0</td>\n",
       "      <td>85.0</td>\n",
       "      <td>83.0</td>\n",
       "      <td>91.0</td>\n",
       "      <td>91.0</td>\n",
       "      <td>78.0</td>\n",
       "      <td>76.0</td>\n",
       "      <td>79.0</td>\n",
       "      <td>91.0</td>\n",
       "      <td>77.0</td>\n",
       "      <td>91.0</td>\n",
       "      <td>63.0</td>\n",
       "      <td>90.0</td>\n",
       "      <td>75.0</td>\n",
       "      <td>91.0</td>\n",
       "      <td>76.0</td>\n",
       "      <td>61.0</td>\n",
       "      <td>87.0</td>\n",
       "      <td>94.0</td>\n",
       "      <td>79.0</td>\n",
       "      <td>88.0</td>\n",
       "      <td>68.0</td>\n",
       "      <td>58.0</td>\n",
       "      <td>51.0</td>\n",
       "      <td>15.0</td>\n",
       "      <td>13.0</td>\n",
       "      <td>5.0</td>\n",
       "      <td>10.0</td>\n",
       "      <td>13.0</td>\n",
       "      <td>2.090909</td>\n",
       "      <td>3</td>\n",
       "      <td>80.8</td>\n",
       "      <td>87.2</td>\n",
       "      <td>80.2</td>\n",
       "      <td>82.0</td>\n",
       "      <td>80.833333</td>\n",
       "      <td>59.000000</td>\n",
       "      <td>11.2</td>\n",
       "      <td>1</td>\n",
       "      <td>2</td>\n",
       "      <td>3</td>\n",
       "      <td>3</td>\n",
       "      <td>0</td>\n",
       "      <td>0</td>\n",
       "      <td>1</td>\n",
       "      <td>0</td>\n",
       "      <td>0</td>\n",
       "      <td>0</td>\n",
       "      <td>0</td>\n",
       "      <td>0</td>\n",
       "      <td>0</td>\n",
       "      <td>1</td>\n",
       "      <td>85.125</td>\n",
       "      <td>84.727273</td>\n",
       "      <td>71.142857</td>\n",
       "    </tr>\n",
       "  </tbody>\n",
       "</table>\n",
       "</div>"
      ],
      "text/plain": [
       "   Age  Overall  Potential  Special Preferred Foot International Reputation  \\\n",
       "0   31       94         94     2202              0                      5.0   \n",
       "1   33       94         94     2228              1                      5.0   \n",
       "2   26       92         93     2143              1                      5.0   \n",
       "3   27       91         93     1471              1                      4.0   \n",
       "4   27       91         92     2281              1                      4.0   \n",
       "\n",
       "  Weak Foot Skill Moves Real Face  Jersey Number  Joined  Loaned From  \\\n",
       "0       4.0         4.0         1           10.0    5297            0   \n",
       "1       4.0         5.0         1            7.0     175            0   \n",
       "2       5.0         5.0         1           10.0     516            0   \n",
       "3       3.0         1.0         1            1.0    2741            0   \n",
       "4       5.0         4.0         1            7.0    1220            0   \n",
       "\n",
       "   Contract Valid Until  Height  Weight  Crossing  Finishing  HeadingAccuracy  \\\n",
       "0                     3     170     159      84.0       95.0             70.0   \n",
       "1                     4     188     183      84.0       94.0             89.0   \n",
       "2                     4     175     150      79.0       87.0             62.0   \n",
       "3                     2     193     168      17.0       13.0             21.0   \n",
       "4                     5     180     154      93.0       82.0             55.0   \n",
       "\n",
       "   ShortPassing  Volleys  Dribbling  Curve  FKAccuracy  LongPassing  \\\n",
       "0          90.0     86.0       97.0   93.0        94.0         87.0   \n",
       "1          81.0     87.0       88.0   81.0        76.0         77.0   \n",
       "2          84.0     84.0       96.0   88.0        87.0         78.0   \n",
       "3          50.0     13.0       18.0   21.0        19.0         51.0   \n",
       "4          92.0     82.0       86.0   85.0        83.0         91.0   \n",
       "\n",
       "   BallControl  Acceleration  SprintSpeed  Agility  Reactions  Balance  \\\n",
       "0         96.0          91.0         86.0     91.0       95.0     95.0   \n",
       "1         94.0          89.0         91.0     87.0       96.0     70.0   \n",
       "2         95.0          94.0         90.0     96.0       94.0     84.0   \n",
       "3         42.0          57.0         58.0     60.0       90.0     43.0   \n",
       "4         91.0          78.0         76.0     79.0       91.0     77.0   \n",
       "\n",
       "   ShotPower  Jumping  Stamina  Strength  LongShots  Aggression  \\\n",
       "0       85.0     68.0     72.0      59.0       94.0        48.0   \n",
       "1       95.0     95.0     88.0      79.0       93.0        63.0   \n",
       "2       80.0     61.0     81.0      49.0       82.0        56.0   \n",
       "3       31.0     67.0     43.0      64.0       12.0        38.0   \n",
       "4       91.0     63.0     90.0      75.0       91.0        76.0   \n",
       "\n",
       "   Interceptions  Positioning  Vision  Penalties  Composure  Marking  \\\n",
       "0           22.0         94.0    94.0       75.0       96.0     33.0   \n",
       "1           29.0         95.0    82.0       85.0       95.0     28.0   \n",
       "2           36.0         89.0    87.0       81.0       94.0     27.0   \n",
       "3           30.0         12.0    68.0       40.0       68.0     15.0   \n",
       "4           61.0         87.0    94.0       79.0       88.0     68.0   \n",
       "\n",
       "   StandingTackle  SlidingTackle  GKDiving  GKHandling  GKKicking  \\\n",
       "0            28.0           26.0       6.0        11.0       15.0   \n",
       "1            31.0           23.0       7.0        11.0       15.0   \n",
       "2            24.0           33.0       9.0         9.0       15.0   \n",
       "3            21.0           13.0      90.0        85.0       87.0   \n",
       "4            58.0           51.0      15.0        13.0        5.0   \n",
       "\n",
       "   GKPositioning  GKReflexes  Club_Reputation  Position_Potential  Attacking  \\\n",
       "0           14.0         8.0         2.242424                   2       85.0   \n",
       "1           14.0        11.0         2.520000                   3       87.0   \n",
       "2           15.0        11.0         2.233333                   3       79.2   \n",
       "3           88.0        94.0         2.090909                   0       22.8   \n",
       "4           10.0        13.0         2.090909                   3       80.8   \n",
       "\n",
       "   Skill  Movement  Power  Mentality  Defending  GoalKeeping  \\\n",
       "0   93.4      91.6   75.6  71.500000  29.000000         10.8   \n",
       "1   83.2      86.6   90.0  74.833333  27.333333         11.6   \n",
       "2   88.8      91.6   70.6  73.833333  28.000000         11.8   \n",
       "3   30.2      61.6   43.4  42.666667  16.333333         88.8   \n",
       "4   87.2      80.2   82.0  80.833333  59.000000         11.2   \n",
       "\n",
       "   Potential_Difference Body Type Attack_WR Defense_WR Continent_Africa  \\\n",
       "0                     0         1         2          2                0   \n",
       "1                     0         2         3          1                0   \n",
       "2                     1         1         3          2                0   \n",
       "3                     2         1         2          2                0   \n",
       "4                     1         2         3          3                0   \n",
       "\n",
       "  Continent_Asia Continent_Europe Continent_North America Continent_Oceania  \\\n",
       "0              0                0                       0                 0   \n",
       "1              0                1                       0                 0   \n",
       "2              0                0                       0                 0   \n",
       "3              0                1                       0                 0   \n",
       "4              0                1                       0                 0   \n",
       "\n",
       "  Continent_South America Position_Group_Defender Position_Group_Forward  \\\n",
       "0                       1                       0                      1   \n",
       "1                       0                       0                      1   \n",
       "2                       1                       0                      1   \n",
       "3                       0                       0                      0   \n",
       "4                       0                       0                      0   \n",
       "\n",
       "  Position_Group_GoalKeeper Position_Group_Midfielder  Forward_Skill  \\\n",
       "0                         0                         0         90.875   \n",
       "1                         0                         0         90.125   \n",
       "2                         0                         0         87.125   \n",
       "3                         1                         0          0.000   \n",
       "4                         0                         1         85.125   \n",
       "\n",
       "   Midfield_Skill  Defence_Skill  \n",
       "0       81.454545      55.285714  \n",
       "1       78.727273      58.714286  \n",
       "2       78.727273      55.857143  \n",
       "3        0.000000       0.000000  \n",
       "4       84.727273      71.142857  "
      ]
     },
     "execution_count": 37,
     "metadata": {},
     "output_type": "execute_result"
    }
   ],
   "source": [
    "predictors_df.head()"
   ]
  },
  {
   "cell_type": "code",
   "execution_count": 38,
   "metadata": {},
   "outputs": [],
   "source": [
    "featureScores_topten=list(featureScores.sort_values(by='Expl_percent', ascending=False)[0:10]['Specs'])\n",
    "feat_importances_topten=list(feat_importances.sort_values(ascending=False)[0:10].index.values)\n",
    "feature_scores_topten=list(feature_scores[0:10]['Feature'])\n",
    "Position_features=['Position_Group_Defender','Position_Group_Forward','Position_Group_GoalKeeper','Position_Group_Midfielder']\n",
    "features_keep=list(set(featureScores_topten+feat_importances_topten+feature_scores_topten+Position_features))"
   ]
  },
  {
   "cell_type": "code",
   "execution_count": 39,
   "metadata": {},
   "outputs": [],
   "source": [
    "# Matching features to keep with features left in predictors_df\n",
    "features_keep=set(features_keep)& set(predictors_df.columns)"
   ]
  },
  {
   "cell_type": "code",
   "execution_count": 40,
   "metadata": {},
   "outputs": [],
   "source": [
    "features_drop=predictors_df.columns.drop(features_keep)"
   ]
  },
  {
   "cell_type": "code",
   "execution_count": 41,
   "metadata": {},
   "outputs": [],
   "source": [
    "predictors_df=predictors_df.drop(features_drop,axis=1)"
   ]
  },
  {
   "cell_type": "code",
   "execution_count": 42,
   "metadata": {},
   "outputs": [
    {
     "data": {
      "text/html": [
       "<div>\n",
       "<style scoped>\n",
       "    .dataframe tbody tr th:only-of-type {\n",
       "        vertical-align: middle;\n",
       "    }\n",
       "\n",
       "    .dataframe tbody tr th {\n",
       "        vertical-align: top;\n",
       "    }\n",
       "\n",
       "    .dataframe thead th {\n",
       "        text-align: right;\n",
       "    }\n",
       "</style>\n",
       "<table border=\"1\" class=\"dataframe\">\n",
       "  <thead>\n",
       "    <tr style=\"text-align: right;\">\n",
       "      <th></th>\n",
       "      <th>Overall</th>\n",
       "      <th>Potential</th>\n",
       "      <th>Special</th>\n",
       "      <th>International Reputation</th>\n",
       "      <th>Real Face</th>\n",
       "      <th>BallControl</th>\n",
       "      <th>Reactions</th>\n",
       "      <th>Vision</th>\n",
       "      <th>Composure</th>\n",
       "      <th>Club_Reputation</th>\n",
       "      <th>Mentality</th>\n",
       "      <th>Position_Group_Defender</th>\n",
       "      <th>Position_Group_Forward</th>\n",
       "      <th>Position_Group_GoalKeeper</th>\n",
       "      <th>Position_Group_Midfielder</th>\n",
       "    </tr>\n",
       "  </thead>\n",
       "  <tbody>\n",
       "    <tr>\n",
       "      <td>0</td>\n",
       "      <td>94</td>\n",
       "      <td>94</td>\n",
       "      <td>2202</td>\n",
       "      <td>5.0</td>\n",
       "      <td>1</td>\n",
       "      <td>96.0</td>\n",
       "      <td>95.0</td>\n",
       "      <td>94.0</td>\n",
       "      <td>96.0</td>\n",
       "      <td>2.242424</td>\n",
       "      <td>71.500000</td>\n",
       "      <td>0</td>\n",
       "      <td>1</td>\n",
       "      <td>0</td>\n",
       "      <td>0</td>\n",
       "    </tr>\n",
       "    <tr>\n",
       "      <td>1</td>\n",
       "      <td>94</td>\n",
       "      <td>94</td>\n",
       "      <td>2228</td>\n",
       "      <td>5.0</td>\n",
       "      <td>1</td>\n",
       "      <td>94.0</td>\n",
       "      <td>96.0</td>\n",
       "      <td>82.0</td>\n",
       "      <td>95.0</td>\n",
       "      <td>2.520000</td>\n",
       "      <td>74.833333</td>\n",
       "      <td>0</td>\n",
       "      <td>1</td>\n",
       "      <td>0</td>\n",
       "      <td>0</td>\n",
       "    </tr>\n",
       "    <tr>\n",
       "      <td>2</td>\n",
       "      <td>92</td>\n",
       "      <td>93</td>\n",
       "      <td>2143</td>\n",
       "      <td>5.0</td>\n",
       "      <td>1</td>\n",
       "      <td>95.0</td>\n",
       "      <td>94.0</td>\n",
       "      <td>87.0</td>\n",
       "      <td>94.0</td>\n",
       "      <td>2.233333</td>\n",
       "      <td>73.833333</td>\n",
       "      <td>0</td>\n",
       "      <td>1</td>\n",
       "      <td>0</td>\n",
       "      <td>0</td>\n",
       "    </tr>\n",
       "    <tr>\n",
       "      <td>3</td>\n",
       "      <td>91</td>\n",
       "      <td>93</td>\n",
       "      <td>1471</td>\n",
       "      <td>4.0</td>\n",
       "      <td>1</td>\n",
       "      <td>42.0</td>\n",
       "      <td>90.0</td>\n",
       "      <td>68.0</td>\n",
       "      <td>68.0</td>\n",
       "      <td>2.090909</td>\n",
       "      <td>42.666667</td>\n",
       "      <td>0</td>\n",
       "      <td>0</td>\n",
       "      <td>1</td>\n",
       "      <td>0</td>\n",
       "    </tr>\n",
       "    <tr>\n",
       "      <td>4</td>\n",
       "      <td>91</td>\n",
       "      <td>92</td>\n",
       "      <td>2281</td>\n",
       "      <td>4.0</td>\n",
       "      <td>1</td>\n",
       "      <td>91.0</td>\n",
       "      <td>91.0</td>\n",
       "      <td>94.0</td>\n",
       "      <td>88.0</td>\n",
       "      <td>2.090909</td>\n",
       "      <td>80.833333</td>\n",
       "      <td>0</td>\n",
       "      <td>0</td>\n",
       "      <td>0</td>\n",
       "      <td>1</td>\n",
       "    </tr>\n",
       "  </tbody>\n",
       "</table>\n",
       "</div>"
      ],
      "text/plain": [
       "   Overall  Potential  Special International Reputation Real Face  \\\n",
       "0       94         94     2202                      5.0         1   \n",
       "1       94         94     2228                      5.0         1   \n",
       "2       92         93     2143                      5.0         1   \n",
       "3       91         93     1471                      4.0         1   \n",
       "4       91         92     2281                      4.0         1   \n",
       "\n",
       "   BallControl  Reactions  Vision  Composure  Club_Reputation  Mentality  \\\n",
       "0         96.0       95.0    94.0       96.0         2.242424  71.500000   \n",
       "1         94.0       96.0    82.0       95.0         2.520000  74.833333   \n",
       "2         95.0       94.0    87.0       94.0         2.233333  73.833333   \n",
       "3         42.0       90.0    68.0       68.0         2.090909  42.666667   \n",
       "4         91.0       91.0    94.0       88.0         2.090909  80.833333   \n",
       "\n",
       "  Position_Group_Defender Position_Group_Forward Position_Group_GoalKeeper  \\\n",
       "0                       0                      1                         0   \n",
       "1                       0                      1                         0   \n",
       "2                       0                      1                         0   \n",
       "3                       0                      0                         1   \n",
       "4                       0                      0                         0   \n",
       "\n",
       "  Position_Group_Midfielder  \n",
       "0                         0  \n",
       "1                         0  \n",
       "2                         0  \n",
       "3                         0  \n",
       "4                         1  "
      ]
     },
     "execution_count": 42,
     "metadata": {},
     "output_type": "execute_result"
    }
   ],
   "source": [
    "predictors_df.head()"
   ]
  },
  {
   "cell_type": "markdown",
   "metadata": {},
   "source": [
    "We can use the reduced data frame for predicting values again now, and compare the results to our baseline models.\n",
    "\n",
    "### 2.4) Prediction on reduced dataset\n",
    "\n",
    "We first split the data into train and test set. As before, we are using stratified sampling evenly distribute the outliers among samples."
   ]
  },
  {
   "cell_type": "code",
   "execution_count": 43,
   "metadata": {},
   "outputs": [],
   "source": [
    "train_predictors_val, test_predictors_val, train_target_val, test_target_val = train_test_split(predictors_df,\n",
    "                                                                                                target_val,\n",
    "                                                                                                test_size=0.2,\n",
    "                                                                                                stratify=y_binned)"
   ]
  },
  {
   "cell_type": "markdown",
   "metadata": {},
   "source": [
    "Before using the data for prediction, we have to scale them again as we did in the beginning."
   ]
  },
  {
   "cell_type": "code",
   "execution_count": 44,
   "metadata": {},
   "outputs": [],
   "source": [
    "scaler = StandardScaler()\n",
    "\n",
    "train_predictors_val[train_predictors_val.select_dtypes(include=['float64','float32','int64','int32'], exclude=['category']).columns] = scaler.fit_transform(train_predictors_val.select_dtypes(include=['float64','float32','int64','int32'], exclude=['category']))\n",
    "\n",
    "test_predictors_val[test_predictors_val.select_dtypes(include=['float64','float32','int64','int32'], exclude=['category']).columns] = scaler.fit_transform(test_predictors_val.select_dtypes(include=['float64','float32','int64','int32'],exclude=['category']))\n"
   ]
  },
  {
   "cell_type": "code",
   "execution_count": 45,
   "metadata": {},
   "outputs": [],
   "source": [
    "train_predictors_val[train_predictors_val.select_dtypes(include='category').columns]=train_predictors_val[train_predictors_val.select_dtypes(include='category').columns].astype('int')\n",
    "test_predictors_val[test_predictors_val.select_dtypes(include='category').columns]=test_predictors_val[test_predictors_val.select_dtypes(include='category').columns].astype('int')"
   ]
  },
  {
   "cell_type": "markdown",
   "metadata": {},
   "source": [
    "After we have prepared the train and test split, we fit the models and calculate the respective CV, Train and Test errors."
   ]
  },
  {
   "cell_type": "code",
   "execution_count": 46,
   "metadata": {},
   "outputs": [
    {
     "name": "stderr",
     "output_type": "stream",
     "text": [
      "C:\\Users\\wehrm\\AppData\\Local\\Continuum\\anaconda3\\lib\\site-packages\\sklearn\\ensemble\\forest.py:245: FutureWarning:\n",
      "\n",
      "The default value of n_estimators will change from 10 in version 0.20 to 100 in 0.22.\n",
      "\n",
      "C:\\Users\\wehrm\\AppData\\Local\\Continuum\\anaconda3\\lib\\site-packages\\xgboost\\core.py:587: FutureWarning:\n",
      "\n",
      "Series.base is deprecated and will be removed in a future version\n",
      "\n"
     ]
    },
    {
     "name": "stdout",
     "output_type": "stream",
     "text": [
      "[14:37:27] WARNING: C:/Jenkins/workspace/xgboost-win64_release_0.90/src/objective/regression_obj.cu:152: reg:linear is now deprecated in favor of reg:squarederror.\n"
     ]
    },
    {
     "name": "stderr",
     "output_type": "stream",
     "text": [
      "C:\\Users\\wehrm\\AppData\\Local\\Continuum\\anaconda3\\lib\\site-packages\\sklearn\\svm\\base.py:193: FutureWarning:\n",
      "\n",
      "The default value of gamma will change from 'auto' to 'scale' in version 0.22 to account better for unscaled features. Set gamma explicitly to 'auto' or 'scale' to avoid this warning.\n",
      "\n"
     ]
    }
   ],
   "source": [
    "dtr=DecisionTreeRegressor()\n",
    "rfr=RandomForestRegressor()\n",
    "xbr=xgb.XGBRegressor()\n",
    "lre=LinearRegression()\n",
    "svr=SVR()\n",
    "\n",
    "models = [dtr,rfr,xbr,lre,svr]\n",
    "\n",
    "for mod in models:\n",
    "    mod.fit(train_predictors_val, train_target_val)"
   ]
  },
  {
   "cell_type": "code",
   "execution_count": 47,
   "metadata": {},
   "outputs": [],
   "source": [
    "test_error = []\n",
    "\n",
    "# Sequentially fit all models and calculate test score\n",
    "for mod in models:\n",
    "    y_pred = mod.predict(test_predictors_val)\n",
    "    mse_mod = MSE(test_target_val, y_pred)\n",
    "    rmse_mod = round(mse_mod**(1/2))\n",
    "    test_error.append(rmse_mod)"
   ]
  },
  {
   "cell_type": "code",
   "execution_count": 48,
   "metadata": {},
   "outputs": [
    {
     "name": "stderr",
     "output_type": "stream",
     "text": [
      "C:\\Users\\wehrm\\AppData\\Local\\Continuum\\anaconda3\\lib\\site-packages\\sklearn\\model_selection\\_split.py:1978: FutureWarning:\n",
      "\n",
      "The default value of cv will change from 3 to 5 in version 0.22. Specify it explicitly to silence this warning.\n",
      "\n"
     ]
    }
   ],
   "source": [
    "cv_error=[]\n",
    "\n",
    "for mod in models:\n",
    "    MSE_cv_error = -cross_val_score(mod, train_predictors_val,\n",
    "                                    train_target_val, scoring='neg_mean_squared_error', n_jobs=-1)\n",
    "    RMSE_cv = round((MSE_cv_error.mean())**(1/2))\n",
    "    cv_error.append(RMSE_cv)"
   ]
  },
  {
   "cell_type": "code",
   "execution_count": 49,
   "metadata": {},
   "outputs": [],
   "source": [
    "train_error=[]\n",
    "\n",
    "# Sequentially fit all models and calculate train score\n",
    "for mod in models:\n",
    "    y_pred = mod.predict(train_predictors_val)\n",
    "    mse_mod = MSE(train_target_val, y_pred)\n",
    "    rmse_mod = round(mse_mod**(1/2))\n",
    "    train_error.append(rmse_mod)"
   ]
  },
  {
   "cell_type": "code",
   "execution_count": 50,
   "metadata": {
    "scrolled": true
   },
   "outputs": [
    {
     "data": {
      "image/png": "[encoded data removed]",
      "text/plain": [
       "<Figure size 864x432 with 1 Axes>"
      ]
     },
     "metadata": {
      "needs_background": "light"
     },
     "output_type": "display_data"
    }
   ],
   "source": [
    "model_names = ['dtr','rfr','xbr','lre','svc']\n",
    "\n",
    "error = pd.DataFrame(dict(graph=model_names,test_error=test_error, cv_error=cv_error, train_error=train_error)) \n",
    "\n",
    "ind = np.arange(len(error))\n",
    "width = 0.2\n",
    "\n",
    "fig, ax = plt.subplots(figsize=(12,6))\n",
    "ax.barh(ind, error.test_error, width, color='maroon', label='test')\n",
    "ax.barh(ind + width, error.cv_error, width, color='forestgreen', label='cv')\n",
    "ax.barh(ind + 2*width, error.train_error, width, color='slategrey', label='train')\n",
    "ax.set_xlim(0, max(error.cv_error)+min(error.cv_error))\n",
    "plt.xlabel('RMSE', fontsize=16)\n",
    "plt.ylabel('Algorithms', fontsize=16)\n",
    "plt.title('Test, Cross Validation and Train Error per Algorithm',fontsize=20)\n",
    "\n",
    "ax.set(yticks=ind + width, yticklabels=error.graph, ylim=[2*width - 1, len(error)])\n",
    "ax.legend()\n",
    "\n",
    "plt.show()\n"
   ]
  },
  {
   "cell_type": "code",
   "execution_count": 51,
   "metadata": {},
   "outputs": [
    {
     "data": {
      "text/html": [
       "<div>\n",
       "<style scoped>\n",
       "    .dataframe tbody tr th:only-of-type {\n",
       "        vertical-align: middle;\n",
       "    }\n",
       "\n",
       "    .dataframe tbody tr th {\n",
       "        vertical-align: top;\n",
       "    }\n",
       "\n",
       "    .dataframe thead th {\n",
       "        text-align: right;\n",
       "    }\n",
       "</style>\n",
       "<table border=\"1\" class=\"dataframe\">\n",
       "  <thead>\n",
       "    <tr style=\"text-align: right;\">\n",
       "      <th></th>\n",
       "      <th>graph</th>\n",
       "      <th>test_error</th>\n",
       "      <th>cv_error</th>\n",
       "      <th>train_error</th>\n",
       "    </tr>\n",
       "  </thead>\n",
       "  <tbody>\n",
       "    <tr>\n",
       "      <td>0</td>\n",
       "      <td>dtr</td>\n",
       "      <td>1607480.0</td>\n",
       "      <td>1652020.0</td>\n",
       "      <td>0.0</td>\n",
       "    </tr>\n",
       "    <tr>\n",
       "      <td>1</td>\n",
       "      <td>rfr</td>\n",
       "      <td>1109561.0</td>\n",
       "      <td>1252162.0</td>\n",
       "      <td>539757.0</td>\n",
       "    </tr>\n",
       "    <tr>\n",
       "      <td>2</td>\n",
       "      <td>xbr</td>\n",
       "      <td>1084035.0</td>\n",
       "      <td>1185917.0</td>\n",
       "      <td>765875.0</td>\n",
       "    </tr>\n",
       "    <tr>\n",
       "      <td>3</td>\n",
       "      <td>lre</td>\n",
       "      <td>3587924.0</td>\n",
       "      <td>3438748.0</td>\n",
       "      <td>3434508.0</td>\n",
       "    </tr>\n",
       "    <tr>\n",
       "      <td>4</td>\n",
       "      <td>svc</td>\n",
       "      <td>6097043.0</td>\n",
       "      <td>5803173.0</td>\n",
       "      <td>5805194.0</td>\n",
       "    </tr>\n",
       "  </tbody>\n",
       "</table>\n",
       "</div>"
      ],
      "text/plain": [
       "  graph  test_error   cv_error  train_error\n",
       "0   dtr   1607480.0  1652020.0          0.0\n",
       "1   rfr   1109561.0  1252162.0     539757.0\n",
       "2   xbr   1084035.0  1185917.0     765875.0\n",
       "3   lre   3587924.0  3438748.0    3434508.0\n",
       "4   svc   6097043.0  5803173.0    5805194.0"
      ]
     },
     "execution_count": 51,
     "metadata": {},
     "output_type": "execute_result"
    }
   ],
   "source": [
    "error"
   ]
  },
  {
   "cell_type": "markdown",
   "metadata": {},
   "source": [
    "Compared to our first baseline model, the linear regression became a lot more stable, as the test error reduced significantly. The other models where almost uneffected by the reduced data frame. This means we did not loose any predictive power by reducing our dataset, and can continue with the parameter tuning. Decision Tree, Random Forest and XGBoost look most promising.\n",
    "\n",
    "Final look at the feature importance:"
   ]
  },
  {
   "cell_type": "code",
   "execution_count": 52,
   "metadata": {},
   "outputs": [
    {
     "name": "stderr",
     "output_type": "stream",
     "text": [
      "C:\\Users\\wehrm\\AppData\\Local\\Continuum\\anaconda3\\lib\\site-packages\\sklearn\\ensemble\\forest.py:245: FutureWarning:\n",
      "\n",
      "The default value of n_estimators will change from 10 in version 0.20 to 100 in 0.22.\n",
      "\n"
     ]
    },
    {
     "data": {
      "image/png": "[encoded data removed]",
      "text/plain": [
       "<Figure size 2880x1800 with 1 Axes>"
      ]
     },
     "metadata": {
      "needs_background": "light"
     },
     "output_type": "display_data"
    }
   ],
   "source": [
    "model = ExtraTreesRegressor()\n",
    "\n",
    "X = train_predictors_val  \n",
    "y = train_target_val\n",
    "\n",
    "model.fit(X,y)\n",
    "\n",
    "#plot graph of feature importances for better visualization\n",
    "fig, ax = plt.subplots(figsize=(40,25))\n",
    "feat_importances = pd.Series(model.feature_importances_, index=X.columns)\n",
    "feat_importances.nlargest(125).plot(kind='barh')\n",
    "\n",
    "plt.show()"
   ]
  },
  {
   "cell_type": "markdown",
   "metadata": {},
   "source": [
    "## 3.) Parameter tuning\n",
    "\n",
    "We are using GridSearch to iterate over a list of possible parameters for the most important parameters of each model.\n",
    "\n",
    "### 3.1) Decision Tree Regressor"
   ]
  },
  {
   "cell_type": "markdown",
   "metadata": {},
   "source": [
    "We are starting by tuning parameters for the Decision Tree Regressor. As most important features we are identifying the maximum depth, minimum sample leafs, minimum sample split and the maximum number of features to be considered when for the best split. As we can see from the baseline model, the Decision Tree Regressor at this point is highly overfit. \n",
    "\n",
    "**Default settings:**<br>\n",
    "DecisionTreeRegressor(criterion=’mse’, splitter=’best’, max_depth=None, min_samples_split=2, min_samples_leaf=1, min_weight_fraction_leaf=0.0, max_features=None, random_state=None, max_leaf_nodes=None, min_impurity_decrease=0.0, min_impurity_split=None, presort=False)"
   ]
  },
  {
   "cell_type": "code",
   "execution_count": 53,
   "metadata": {},
   "outputs": [
    {
     "name": "stdout",
     "output_type": "stream",
     "text": [
      "Fitting 10 folds for each of 800 candidates, totalling 8000 fits\n"
     ]
    },
    {
     "name": "stderr",
     "output_type": "stream",
     "text": [
      "[Parallel(n_jobs=1)]: Using backend SequentialBackend with 1 concurrent workers.\n"
     ]
    },
    {
     "name": "stdout",
     "output_type": "stream",
     "text": [
      "-2856077542264.771\n",
      "DecisionTreeRegressor(criterion='mse', max_depth=9, max_features=4,\n",
      "                      max_leaf_nodes=None, min_impurity_decrease=0.0,\n",
      "                      min_impurity_split=None, min_samples_leaf=3,\n",
      "                      min_samples_split=2, min_weight_fraction_leaf=0.0,\n",
      "                      presort=False, random_state=None, splitter='best')\n"
     ]
    },
    {
     "name": "stderr",
     "output_type": "stream",
     "text": [
      "[Parallel(n_jobs=1)]: Done 8000 out of 8000 | elapsed:  2.3min finished\n"
     ]
    }
   ],
   "source": [
    "from sklearn.model_selection import GridSearchCV\n",
    "\n",
    "# Parameter's to search\n",
    "max_depth = [1,2,3,4,5,6,7,8,9,10]\n",
    "min_samples_split = [0.1,0.3,0.5,0.7,2]\n",
    "min_samples_leaf = [1,2,3,4]\n",
    "max_features = [1,2,3,4]\n",
    "\n",
    "# Setting up parameter grid\n",
    "hyperparams = {'max_depth': max_depth, 'min_samples_split': min_samples_split, 'min_samples_leaf': min_samples_leaf, \n",
    "               'max_features': max_features}\n",
    "\n",
    "# Run GridSearch CV\n",
    "gd=GridSearchCV(estimator = dtr, param_grid = hyperparams, \n",
    "                verbose=True, cv=10, scoring = 'neg_mean_squared_error')\n",
    "\n",
    "# Fitting model and return results\n",
    "gd.fit(train_predictors_val, train_target_val)\n",
    "print(gd.best_score_)\n",
    "print(gd.best_estimator_)"
   ]
  },
  {
   "cell_type": "markdown",
   "metadata": {},
   "source": [
    "After using GridSearch to identify the best parameters for minimizing the mean squared error, we also have to make sure the model is not under- or overfit."
   ]
  },
  {
   "cell_type": "code",
   "execution_count": 54,
   "metadata": {},
   "outputs": [],
   "source": [
    "dtr=DecisionTreeRegressor(criterion='mse', max_depth=9, max_features=4,\n",
    "                      max_leaf_nodes=None, min_impurity_decrease=0.0,\n",
    "                      min_impurity_split=None, min_samples_leaf=3,\n",
    "                      min_samples_split=2, min_weight_fraction_leaf=0.0,\n",
    "                      presort=False, random_state=None, splitter='best')\n",
    "\n",
    "dtr.fit(train_predictors_val, train_target_val)\n",
    "\n",
    "# Test error\n",
    "y_pred = dtr.predict(test_predictors_val)\n",
    "test_mse_dtr = MSE(test_target_val, y_pred)\n",
    "test_rmse_dtr = round(test_mse_dtr**(1/2))"
   ]
  },
  {
   "cell_type": "code",
   "execution_count": 55,
   "metadata": {},
   "outputs": [
    {
     "name": "stderr",
     "output_type": "stream",
     "text": [
      "C:\\Users\\wehrm\\AppData\\Local\\Continuum\\anaconda3\\lib\\site-packages\\sklearn\\model_selection\\_split.py:1978: FutureWarning:\n",
      "\n",
      "The default value of cv will change from 3 to 5 in version 0.22. Specify it explicitly to silence this warning.\n",
      "\n"
     ]
    }
   ],
   "source": [
    "# Cross-validation error\n",
    "MSE_cv_error_dtr = -cross_val_score(dtr, train_predictors_val,\n",
    "                                    train_target_val, scoring='neg_mean_squared_error', n_jobs=-1)\n",
    "RMSE_cv_dtr = round((MSE_cv_error_dtr.mean())**(1/2))"
   ]
  },
  {
   "cell_type": "code",
   "execution_count": 56,
   "metadata": {},
   "outputs": [],
   "source": [
    "# Train error\n",
    "y_pred = dtr.predict(train_predictors_val)\n",
    "train_mse_dtr = MSE(train_target_val, y_pred)\n",
    "train_rmse_dtr = round(train_mse_dtr**(1/2))"
   ]
  },
  {
   "cell_type": "code",
   "execution_count": 57,
   "metadata": {},
   "outputs": [
    {
     "data": {
      "text/html": [
       "<div>\n",
       "<style scoped>\n",
       "    .dataframe tbody tr th:only-of-type {\n",
       "        vertical-align: middle;\n",
       "    }\n",
       "\n",
       "    .dataframe tbody tr th {\n",
       "        vertical-align: top;\n",
       "    }\n",
       "\n",
       "    .dataframe thead th {\n",
       "        text-align: right;\n",
       "    }\n",
       "</style>\n",
       "<table border=\"1\" class=\"dataframe\">\n",
       "  <thead>\n",
       "    <tr style=\"text-align: right;\">\n",
       "      <th></th>\n",
       "      <th>DTR errors</th>\n",
       "    </tr>\n",
       "  </thead>\n",
       "  <tbody>\n",
       "    <tr>\n",
       "      <td>Test error</td>\n",
       "      <td>1817524.0</td>\n",
       "    </tr>\n",
       "    <tr>\n",
       "      <td>CV error</td>\n",
       "      <td>1777679.0</td>\n",
       "    </tr>\n",
       "    <tr>\n",
       "      <td>Train error</td>\n",
       "      <td>1211908.0</td>\n",
       "    </tr>\n",
       "  </tbody>\n",
       "</table>\n",
       "</div>"
      ],
      "text/plain": [
       "             DTR errors\n",
       "Test error    1817524.0\n",
       "CV error      1777679.0\n",
       "Train error   1211908.0"
      ]
     },
     "execution_count": 57,
     "metadata": {},
     "output_type": "execute_result"
    }
   ],
   "source": [
    "pd.DataFrame([test_rmse_dtr,RMSE_cv_dtr,train_rmse_dtr], \n",
    "             index=['Test error','CV error','Train error'], \n",
    "             columns=['DTR errors'])"
   ]
  },
  {
   "cell_type": "markdown",
   "metadata": {},
   "source": [
    "The train error is significantly lower than the test and cv error, which is an indicator for overfitting. Therefore, we are manually reducing complexity beginning with the optimized parameters model.\n",
    "\n",
    "We recognized that we the maximum depth is quite high. A high maximum depth is more prone to overfitting. We try to reduce the depth to six."
   ]
  },
  {
   "cell_type": "code",
   "execution_count": 58,
   "metadata": {},
   "outputs": [],
   "source": [
    "\n",
    "dtr=DecisionTreeRegressor(criterion='mse', max_depth=6, max_features=4,\n",
    "                      max_leaf_nodes=None, min_impurity_decrease=0.0,\n",
    "                      min_impurity_split=None, min_samples_leaf=3,\n",
    "                      min_samples_split=2, min_weight_fraction_leaf=0.0,\n",
    "                      presort=False, random_state=None, splitter='best')\n",
    "\n",
    "dtr.fit(train_predictors_val, train_target_val)\n",
    "\n",
    "# Test error\n",
    "y_pred = dtr.predict(test_predictors_val)\n",
    "test_mse_dtr = MSE(test_target_val, y_pred)\n",
    "test_rmse_dtr = round(test_mse_dtr**(1/2))"
   ]
  },
  {
   "cell_type": "code",
   "execution_count": 59,
   "metadata": {},
   "outputs": [
    {
     "name": "stderr",
     "output_type": "stream",
     "text": [
      "C:\\Users\\wehrm\\AppData\\Local\\Continuum\\anaconda3\\lib\\site-packages\\sklearn\\model_selection\\_split.py:1978: FutureWarning:\n",
      "\n",
      "The default value of cv will change from 3 to 5 in version 0.22. Specify it explicitly to silence this warning.\n",
      "\n"
     ]
    }
   ],
   "source": [
    "# Cross-validation error\n",
    "MSE_cv_error_dtr = -cross_val_score(dtr, train_predictors_val,\n",
    "                                    train_target_val, scoring='neg_mean_squared_error', n_jobs=-1)\n",
    "RMSE_cv_dtr = round((MSE_cv_error_dtr.mean())**(1/2))"
   ]
  },
  {
   "cell_type": "code",
   "execution_count": 60,
   "metadata": {},
   "outputs": [],
   "source": [
    "# Train error\n",
    "y_pred = dtr.predict(train_predictors_val)\n",
    "train_mse_dtr = MSE(train_target_val, y_pred)\n",
    "train_rmse_dtr = round(train_mse_dtr**(1/2))"
   ]
  },
  {
   "cell_type": "code",
   "execution_count": 61,
   "metadata": {},
   "outputs": [
    {
     "data": {
      "text/html": [
       "<div>\n",
       "<style scoped>\n",
       "    .dataframe tbody tr th:only-of-type {\n",
       "        vertical-align: middle;\n",
       "    }\n",
       "\n",
       "    .dataframe tbody tr th {\n",
       "        vertical-align: top;\n",
       "    }\n",
       "\n",
       "    .dataframe thead th {\n",
       "        text-align: right;\n",
       "    }\n",
       "</style>\n",
       "<table border=\"1\" class=\"dataframe\">\n",
       "  <thead>\n",
       "    <tr style=\"text-align: right;\">\n",
       "      <th></th>\n",
       "      <th>DTR errors</th>\n",
       "    </tr>\n",
       "  </thead>\n",
       "  <tbody>\n",
       "    <tr>\n",
       "      <td>Test error</td>\n",
       "      <td>1990149.0</td>\n",
       "    </tr>\n",
       "    <tr>\n",
       "      <td>CV error</td>\n",
       "      <td>1961092.0</td>\n",
       "    </tr>\n",
       "    <tr>\n",
       "      <td>Train error</td>\n",
       "      <td>1774496.0</td>\n",
       "    </tr>\n",
       "  </tbody>\n",
       "</table>\n",
       "</div>"
      ],
      "text/plain": [
       "             DTR errors\n",
       "Test error    1990149.0\n",
       "CV error      1961092.0\n",
       "Train error   1774496.0"
      ]
     },
     "execution_count": 61,
     "metadata": {},
     "output_type": "execute_result"
    }
   ],
   "source": [
    "pd.DataFrame([test_rmse_dtr,RMSE_cv_dtr,train_rmse_dtr], \n",
    "             index=['Test error','CV error','Train error'], \n",
    "             columns=['DTR errors'])"
   ]
  },
  {
   "cell_type": "markdown",
   "metadata": {},
   "source": [
    "The model still shows some overfitting, but at least the CV and training error are closer now. However, we need to further reduce complexity. We do so by increasing the minimum sample leaf from three to five."
   ]
  },
  {
   "cell_type": "code",
   "execution_count": 62,
   "metadata": {},
   "outputs": [],
   "source": [
    "\n",
    "dtr=DecisionTreeRegressor(criterion='mse', max_depth=6, max_features=4,\n",
    "                      max_leaf_nodes=None, min_impurity_decrease=0.0,\n",
    "                      min_impurity_split=None, min_samples_leaf=5,\n",
    "                      min_samples_split=2, min_weight_fraction_leaf=0.0,\n",
    "                      presort=False, random_state=None, splitter='best')\n",
    "\n",
    "dtr.fit(train_predictors_val, train_target_val)\n",
    "\n",
    "# Test error\n",
    "y_pred = dtr.predict(test_predictors_val)\n",
    "test_mse_dtr = MSE(test_target_val, y_pred)\n",
    "test_rmse_dtr = round(test_mse_dtr**(1/2))"
   ]
  },
  {
   "cell_type": "code",
   "execution_count": 63,
   "metadata": {
    "scrolled": true
   },
   "outputs": [
    {
     "name": "stderr",
     "output_type": "stream",
     "text": [
      "C:\\Users\\wehrm\\AppData\\Local\\Continuum\\anaconda3\\lib\\site-packages\\sklearn\\model_selection\\_split.py:1978: FutureWarning:\n",
      "\n",
      "The default value of cv will change from 3 to 5 in version 0.22. Specify it explicitly to silence this warning.\n",
      "\n"
     ]
    }
   ],
   "source": [
    "# Cross-validation error\n",
    "MSE_cv_error_dtr = -cross_val_score(dtr, train_predictors_val,\n",
    "                                    train_target_val, scoring='neg_mean_squared_error', n_jobs=-1)\n",
    "RMSE_cv_dtr = round((MSE_cv_error_dtr.mean())**(1/2))"
   ]
  },
  {
   "cell_type": "code",
   "execution_count": 64,
   "metadata": {},
   "outputs": [],
   "source": [
    "# Train error\n",
    "y_pred = dtr.predict(train_predictors_val)\n",
    "train_mse_dtr = MSE(train_target_val, y_pred)\n",
    "train_rmse_dtr = round(train_mse_dtr**(1/2))"
   ]
  },
  {
   "cell_type": "code",
   "execution_count": 65,
   "metadata": {},
   "outputs": [
    {
     "data": {
      "text/html": [
       "<div>\n",
       "<style scoped>\n",
       "    .dataframe tbody tr th:only-of-type {\n",
       "        vertical-align: middle;\n",
       "    }\n",
       "\n",
       "    .dataframe tbody tr th {\n",
       "        vertical-align: top;\n",
       "    }\n",
       "\n",
       "    .dataframe thead th {\n",
       "        text-align: right;\n",
       "    }\n",
       "</style>\n",
       "<table border=\"1\" class=\"dataframe\">\n",
       "  <thead>\n",
       "    <tr style=\"text-align: right;\">\n",
       "      <th></th>\n",
       "      <th>DTR errors</th>\n",
       "    </tr>\n",
       "  </thead>\n",
       "  <tbody>\n",
       "    <tr>\n",
       "      <td>Test error</td>\n",
       "      <td>2261811.0</td>\n",
       "    </tr>\n",
       "    <tr>\n",
       "      <td>CV error</td>\n",
       "      <td>1972206.0</td>\n",
       "    </tr>\n",
       "    <tr>\n",
       "      <td>Train error</td>\n",
       "      <td>1724263.0</td>\n",
       "    </tr>\n",
       "  </tbody>\n",
       "</table>\n",
       "</div>"
      ],
      "text/plain": [
       "             DTR errors\n",
       "Test error    2261811.0\n",
       "CV error      1972206.0\n",
       "Train error   1724263.0"
      ]
     },
     "execution_count": 65,
     "metadata": {},
     "output_type": "execute_result"
    }
   ],
   "source": [
    "pd.DataFrame([test_rmse_dtr,RMSE_cv_dtr,train_rmse_dtr], \n",
    "             index=['Test error','CV error','Train error'], \n",
    "             columns=['DTR errors'])"
   ]
  },
  {
   "cell_type": "markdown",
   "metadata": {},
   "source": [
    "CV and train error are pretty much aligned now. The test error is still too high though. Further complexity reduction by increasing the minimum sample split."
   ]
  },
  {
   "cell_type": "code",
   "execution_count": 66,
   "metadata": {},
   "outputs": [],
   "source": [
    "\n",
    "dtr=DecisionTreeRegressor(criterion='mse', max_depth=6, max_features=4,\n",
    "                      max_leaf_nodes=None, min_impurity_decrease=0.0,\n",
    "                      min_impurity_split=None, min_samples_leaf=5,\n",
    "                      min_samples_split=4, min_weight_fraction_leaf=0.0,\n",
    "                      presort=False, random_state=None, splitter='best')\n",
    "\n",
    "dtr.fit(train_predictors_val, train_target_val)\n",
    "\n",
    "# Test error\n",
    "y_pred = dtr.predict(test_predictors_val)\n",
    "test_mse_dtr = MSE(test_target_val, y_pred)\n",
    "test_rmse_dtr = round(test_mse_dtr**(1/2))"
   ]
  },
  {
   "cell_type": "code",
   "execution_count": 67,
   "metadata": {},
   "outputs": [
    {
     "name": "stderr",
     "output_type": "stream",
     "text": [
      "C:\\Users\\wehrm\\AppData\\Local\\Continuum\\anaconda3\\lib\\site-packages\\sklearn\\model_selection\\_split.py:1978: FutureWarning:\n",
      "\n",
      "The default value of cv will change from 3 to 5 in version 0.22. Specify it explicitly to silence this warning.\n",
      "\n"
     ]
    }
   ],
   "source": [
    "# Cross-validation error\n",
    "MSE_cv_error_dtr = -cross_val_score(dtr, train_predictors_val,\n",
    "                                    train_target_val, scoring='neg_mean_squared_error', n_jobs=-1)\n",
    "RMSE_cv_dtr = round((MSE_cv_error_dtr.mean())**(1/2))"
   ]
  },
  {
   "cell_type": "code",
   "execution_count": 68,
   "metadata": {},
   "outputs": [],
   "source": [
    "# Train error\n",
    "y_pred = dtr.predict(train_predictors_val)\n",
    "train_mse_dtr = MSE(train_target_val, y_pred)\n",
    "train_rmse_dtr = round(train_mse_dtr**(1/2))"
   ]
  },
  {
   "cell_type": "code",
   "execution_count": 69,
   "metadata": {},
   "outputs": [
    {
     "data": {
      "text/html": [
       "<div>\n",
       "<style scoped>\n",
       "    .dataframe tbody tr th:only-of-type {\n",
       "        vertical-align: middle;\n",
       "    }\n",
       "\n",
       "    .dataframe tbody tr th {\n",
       "        vertical-align: top;\n",
       "    }\n",
       "\n",
       "    .dataframe thead th {\n",
       "        text-align: right;\n",
       "    }\n",
       "</style>\n",
       "<table border=\"1\" class=\"dataframe\">\n",
       "  <thead>\n",
       "    <tr style=\"text-align: right;\">\n",
       "      <th></th>\n",
       "      <th>DTR errors</th>\n",
       "    </tr>\n",
       "  </thead>\n",
       "  <tbody>\n",
       "    <tr>\n",
       "      <td>Test error</td>\n",
       "      <td>2315590.0</td>\n",
       "    </tr>\n",
       "    <tr>\n",
       "      <td>CV error</td>\n",
       "      <td>1964846.0</td>\n",
       "    </tr>\n",
       "    <tr>\n",
       "      <td>Train error</td>\n",
       "      <td>1731071.0</td>\n",
       "    </tr>\n",
       "  </tbody>\n",
       "</table>\n",
       "</div>"
      ],
      "text/plain": [
       "             DTR errors\n",
       "Test error    2315590.0\n",
       "CV error      1964846.0\n",
       "Train error   1731071.0"
      ]
     },
     "execution_count": 69,
     "metadata": {},
     "output_type": "execute_result"
    }
   ],
   "source": [
    "pd.DataFrame([test_rmse_dtr,RMSE_cv_dtr,train_rmse_dtr], \n",
    "             index=['Test error','CV error','Train error'], \n",
    "             columns=['DTR errors'])"
   ]
  },
  {
   "cell_type": "code",
   "execution_count": 70,
   "metadata": {},
   "outputs": [
    {
     "name": "stdout",
     "output_type": "stream",
     "text": [
      "1.1785\n",
      "0.881\n"
     ]
    }
   ],
   "source": [
    "print(round(test_rmse_dtr/RMSE_cv_dtr,4))\n",
    "print(round(train_rmse_dtr/RMSE_cv_dtr,4))"
   ]
  },
  {
   "cell_type": "markdown",
   "metadata": {},
   "source": [
    "The test error and the CV error show difference of less than five percent (difference for the train error is higher, but this is fluctuating a lot and, therefore, not reliable). We, therefore, assume approximately now under- or overfitting."
   ]
  },
  {
   "cell_type": "markdown",
   "metadata": {},
   "source": [
    "### 3.2) Random Forest Regressor\n",
    "\n",
    "We repeat the same process as before for the Random Forest Regressor. Since Random Forest equals a collection of multiple decision trees, we identify the same parameters as for Decision Tree to be the most important ones. We add only one parameter, namely the number of trees in the forest.\n",
    "\n",
    "**Default Settings:**<br>\n",
    "RandomForestRegressor(n_estimators=’warn’, criterion=’mse’, max_depth=None, min_samples_split=2, min_samples_leaf=1, min_weight_fraction_leaf=0.0, max_features=’auto’, max_leaf_nodes=None, min_impurity_decrease=0.0, min_impurity_split=None, bootstrap=True, oob_score=False, n_jobs=None, random_state=None, verbose=0, warm_start=False)"
   ]
  },
  {
   "cell_type": "code",
   "execution_count": 71,
   "metadata": {},
   "outputs": [
    {
     "name": "stdout",
     "output_type": "stream",
     "text": [
      "Fitting 3 folds for each of 81 candidates, totalling 243 fits\n"
     ]
    },
    {
     "name": "stderr",
     "output_type": "stream",
     "text": [
      "[Parallel(n_jobs=1)]: Using backend SequentialBackend with 1 concurrent workers.\n",
      "[Parallel(n_jobs=1)]: Done 243 out of 243 | elapsed:  1.1min finished\n"
     ]
    },
    {
     "name": "stdout",
     "output_type": "stream",
     "text": [
      "-1365217956288.885\n",
      "RandomForestRegressor(bootstrap=True, criterion='mse', max_depth=8,\n",
      "                      max_features='auto', max_leaf_nodes=None,\n",
      "                      min_impurity_decrease=0.0, min_impurity_split=None,\n",
      "                      min_samples_leaf=2, min_samples_split=2,\n",
      "                      min_weight_fraction_leaf=0.0, n_estimators=100,\n",
      "                      n_jobs=None, oob_score=False, random_state=None,\n",
      "                      verbose=0, warm_start=False)\n"
     ]
    }
   ],
   "source": [
    "# Parameter's to search\n",
    "n_estimators = [5,10,100]\n",
    "max_depth = [1,4,8]\n",
    "min_samples_split = [0.1,0.5,2]\n",
    "min_samples_leaf = [1,2,4]\n",
    "\n",
    "# Setting up parameter grid\n",
    "hyperparams = {'n_estimators': n_estimators,\n",
    "               'max_depth': max_depth, \n",
    "               'min_samples_split': min_samples_split,\n",
    "               'min_samples_leaf': min_samples_leaf}\n",
    "\n",
    "# Run GridSearch CV\n",
    "gd=GridSearchCV(estimator = rfr, param_grid = hyperparams, \n",
    "                verbose=True, cv=3, scoring = 'neg_mean_squared_error')\n",
    "\n",
    "# Fitting model and return results\n",
    "gd.fit(train_predictors_val, train_target_val)\n",
    "print(gd.best_score_)\n",
    "print(gd.best_estimator_)"
   ]
  },
  {
   "cell_type": "markdown",
   "metadata": {},
   "source": [
    "After using GridSearch to identify the best parameters for minimizing the mean squared error, we also have to make sure the model is not under- or overfit."
   ]
  },
  {
   "cell_type": "code",
   "execution_count": 72,
   "metadata": {},
   "outputs": [],
   "source": [
    "rfr=RandomForestRegressor(bootstrap=True, criterion='mse', max_depth=8,\n",
    "                      max_features='auto', max_leaf_nodes=None,\n",
    "                      min_impurity_decrease=0.0, min_impurity_split=None,\n",
    "                      min_samples_leaf=2, min_samples_split=2,\n",
    "                      min_weight_fraction_leaf=0.0, n_estimators=100,\n",
    "                      n_jobs=None, oob_score=False, random_state=None,\n",
    "                      verbose=0, warm_start=False)\n",
    "\n",
    "rfr.fit(train_predictors_val, train_target_val)\n",
    "\n",
    "# Test error\n",
    "y_pred = rfr.predict(test_predictors_val)\n",
    "test_mse_rfr = MSE(test_target_val, y_pred)\n",
    "test_rmse_rfr = round(test_mse_rfr**(1/2))"
   ]
  },
  {
   "cell_type": "code",
   "execution_count": 73,
   "metadata": {
    "scrolled": false
   },
   "outputs": [
    {
     "name": "stderr",
     "output_type": "stream",
     "text": [
      "C:\\Users\\wehrm\\AppData\\Local\\Continuum\\anaconda3\\lib\\site-packages\\sklearn\\model_selection\\_split.py:1978: FutureWarning:\n",
      "\n",
      "The default value of cv will change from 3 to 5 in version 0.22. Specify it explicitly to silence this warning.\n",
      "\n"
     ]
    }
   ],
   "source": [
    "# Cross-validation error\n",
    "MSE_cv_error_rfr = -cross_val_score(rfr, train_predictors_val,\n",
    "                                    train_target_val, scoring='neg_mean_squared_error', n_jobs=-1)\n",
    "RMSE_cv_rfr = round((MSE_cv_error_rfr.mean())**(1/2))"
   ]
  },
  {
   "cell_type": "code",
   "execution_count": 74,
   "metadata": {},
   "outputs": [],
   "source": [
    "# Train error\n",
    "y_pred = rfr.predict(train_predictors_val)\n",
    "train_mse_rfr = MSE(train_target_val, y_pred)\n",
    "train_rmse_rfr = round(train_mse_rfr**(1/2))"
   ]
  },
  {
   "cell_type": "code",
   "execution_count": 75,
   "metadata": {},
   "outputs": [
    {
     "data": {
      "text/html": [
       "<div>\n",
       "<style scoped>\n",
       "    .dataframe tbody tr th:only-of-type {\n",
       "        vertical-align: middle;\n",
       "    }\n",
       "\n",
       "    .dataframe tbody tr th {\n",
       "        vertical-align: top;\n",
       "    }\n",
       "\n",
       "    .dataframe thead th {\n",
       "        text-align: right;\n",
       "    }\n",
       "</style>\n",
       "<table border=\"1\" class=\"dataframe\">\n",
       "  <thead>\n",
       "    <tr style=\"text-align: right;\">\n",
       "      <th></th>\n",
       "      <th>RFR errors</th>\n",
       "    </tr>\n",
       "  </thead>\n",
       "  <tbody>\n",
       "    <tr>\n",
       "      <td>Test error</td>\n",
       "      <td>1140582.0</td>\n",
       "    </tr>\n",
       "    <tr>\n",
       "      <td>CV error</td>\n",
       "      <td>1165992.0</td>\n",
       "    </tr>\n",
       "    <tr>\n",
       "      <td>Train error</td>\n",
       "      <td>748189.0</td>\n",
       "    </tr>\n",
       "  </tbody>\n",
       "</table>\n",
       "</div>"
      ],
      "text/plain": [
       "             RFR errors\n",
       "Test error    1140582.0\n",
       "CV error      1165992.0\n",
       "Train error    748189.0"
      ]
     },
     "execution_count": 75,
     "metadata": {},
     "output_type": "execute_result"
    }
   ],
   "source": [
    "pd.DataFrame([test_rmse_rfr,RMSE_cv_rfr,train_rmse_rfr], \n",
    "             index=['Test error','CV error','Train error'], \n",
    "             columns=['RFR errors'])"
   ]
  },
  {
   "cell_type": "markdown",
   "metadata": {},
   "source": [
    "The CV error is higher than the test error, which can be interpreted as a sign for underfitting (even though the train error is lower than the test error, but that measurement is highly fluctuating). Therefore, we are increasing complexity. First, we are decreasing the the minimum sample leaf to 0.5 and increase the minimum sample split to 200 (as GridSearch chose the highest value for this parameter, so higher values might perform even better)."
   ]
  },
  {
   "cell_type": "code",
   "execution_count": 76,
   "metadata": {},
   "outputs": [],
   "source": [
    "rfr=RandomForestRegressor(bootstrap=True, criterion='mse', max_depth=10,\n",
    "                      max_features='auto', max_leaf_nodes=None,\n",
    "                      min_impurity_decrease=0.0, min_impurity_split=None,\n",
    "                      min_samples_leaf=0.5, min_samples_split=2,\n",
    "                      min_weight_fraction_leaf=0.0, n_estimators=200,\n",
    "                      n_jobs=None, oob_score=False, random_state=None,\n",
    "                      verbose=0, warm_start=False)\n",
    "\n",
    "rfr.fit(train_predictors_val, train_target_val)\n",
    "\n",
    "# Test error\n",
    "y_pred = rfr.predict(test_predictors_val)\n",
    "test_mse_rfr = MSE(test_target_val, y_pred)\n",
    "test_rmse_rfr = round(test_mse_rfr**(1/2))"
   ]
  },
  {
   "cell_type": "code",
   "execution_count": 77,
   "metadata": {},
   "outputs": [
    {
     "name": "stderr",
     "output_type": "stream",
     "text": [
      "C:\\Users\\wehrm\\AppData\\Local\\Continuum\\anaconda3\\lib\\site-packages\\sklearn\\model_selection\\_split.py:1978: FutureWarning:\n",
      "\n",
      "The default value of cv will change from 3 to 5 in version 0.22. Specify it explicitly to silence this warning.\n",
      "\n"
     ]
    }
   ],
   "source": [
    "# Cross-validation error\n",
    "MSE_cv_error_rfr = -cross_val_score(rfr, train_predictors_val,\n",
    "                                    train_target_val, scoring='neg_mean_squared_error', n_jobs=-1)\n",
    "RMSE_cv_rfr = round((MSE_cv_error_rfr.mean())**(1/2))"
   ]
  },
  {
   "cell_type": "code",
   "execution_count": 78,
   "metadata": {},
   "outputs": [],
   "source": [
    "# Train error\n",
    "y_pred = rfr.predict(train_predictors_val)\n",
    "train_mse_rfr = MSE(train_target_val, y_pred)\n",
    "train_rmse_rfr = round(train_mse_rfr**(1/2))"
   ]
  },
  {
   "cell_type": "code",
   "execution_count": 79,
   "metadata": {},
   "outputs": [
    {
     "data": {
      "text/html": [
       "<div>\n",
       "<style scoped>\n",
       "    .dataframe tbody tr th:only-of-type {\n",
       "        vertical-align: middle;\n",
       "    }\n",
       "\n",
       "    .dataframe tbody tr th {\n",
       "        vertical-align: top;\n",
       "    }\n",
       "\n",
       "    .dataframe thead th {\n",
       "        text-align: right;\n",
       "    }\n",
       "</style>\n",
       "<table border=\"1\" class=\"dataframe\">\n",
       "  <thead>\n",
       "    <tr style=\"text-align: right;\">\n",
       "      <th></th>\n",
       "      <th>RFR errors</th>\n",
       "    </tr>\n",
       "  </thead>\n",
       "  <tbody>\n",
       "    <tr>\n",
       "      <td>Test error</td>\n",
       "      <td>5837430.0</td>\n",
       "    </tr>\n",
       "    <tr>\n",
       "      <td>CV error</td>\n",
       "      <td>5540566.0</td>\n",
       "    </tr>\n",
       "    <tr>\n",
       "      <td>Train error</td>\n",
       "      <td>5540533.0</td>\n",
       "    </tr>\n",
       "  </tbody>\n",
       "</table>\n",
       "</div>"
      ],
      "text/plain": [
       "             RFR errors\n",
       "Test error    5837430.0\n",
       "CV error      5540566.0\n",
       "Train error   5540533.0"
      ]
     },
     "execution_count": 79,
     "metadata": {},
     "output_type": "execute_result"
    }
   ],
   "source": [
    "pd.DataFrame([test_rmse_rfr,RMSE_cv_rfr,train_rmse_rfr], \n",
    "             index=['Test error','CV error','Train error'], \n",
    "             columns=['RFR errors'])"
   ]
  },
  {
   "cell_type": "code",
   "execution_count": 80,
   "metadata": {},
   "outputs": [
    {
     "name": "stdout",
     "output_type": "stream",
     "text": [
      "1.0536\n",
      "1.0\n"
     ]
    }
   ],
   "source": [
    "print(round(test_rmse_rfr/RMSE_cv_rfr,4))\n",
    "print(round(train_rmse_rfr/RMSE_cv_rfr,4))"
   ]
  },
  {
   "cell_type": "markdown",
   "metadata": {},
   "source": [
    "Train and CV error show virtually no difference, and the difference between CV and test error is below four percent. Therefore, we assume no significant under- or overfitting."
   ]
  },
  {
   "cell_type": "markdown",
   "metadata": {},
   "source": [
    "### 3.3) Extreme Gradient Boosting (XGB Regressor)\n",
    "\n",
    "\n",
    "\n",
    "\n",
    "Helpful information on XGBoost parameter tuning:\n",
    "https://www.analyticsvidhya.com/blog/2016/03/complete-guide-parameter-tuning-xgboost-with-codes-python/"
   ]
  },
  {
   "cell_type": "code",
   "execution_count": 81,
   "metadata": {},
   "outputs": [
    {
     "name": "stdout",
     "output_type": "stream",
     "text": [
      "Fitting 3 folds for each of 108 candidates, totalling 324 fits\n",
      "[14:46:23] WARNING: C:/Jenkins/workspace/xgboost-win64_release_0.90/src/objective/regression_obj.cu:152: reg:linear is now deprecated in favor of reg:squarederror.\n"
     ]
    },
    {
     "name": "stderr",
     "output_type": "stream",
     "text": [
      "[Parallel(n_jobs=1)]: Using backend SequentialBackend with 1 concurrent workers.\n",
      "C:\\Users\\wehrm\\AppData\\Local\\Continuum\\anaconda3\\lib\\site-packages\\xgboost\\core.py:587: FutureWarning:\n",
      "\n",
      "Series.base is deprecated and will be removed in a future version\n",
      "\n",
      "C:\\Users\\wehrm\\AppData\\Local\\Continuum\\anaconda3\\lib\\site-packages\\xgboost\\core.py:587: FutureWarning:\n",
      "\n",
      "Series.base is deprecated and will be removed in a future version\n",
      "\n"
     ]
    },
    {
     "name": "stdout",
     "output_type": "stream",
     "text": [
      "[14:46:23] WARNING: C:/Jenkins/workspace/xgboost-win64_release_0.90/src/objective/regression_obj.cu:152: reg:linear is now deprecated in favor of reg:squarederror.\n"
     ]
    },
    {
     "name": "stderr",
     "output_type": "stream",
     "text": [
      "C:\\Users\\wehrm\\AppData\\Local\\Continuum\\anaconda3\\lib\\site-packages\\xgboost\\core.py:587: FutureWarning:\n",
      "\n",
      "Series.base is deprecated and will be removed in a future version\n",
      "\n"
     ]
    },
    {
     "name": "stdout",
     "output_type": "stream",
     "text": [
      "[14:46:24] WARNING: C:/Jenkins/workspace/xgboost-win64_release_0.90/src/objective/regression_obj.cu:152: reg:linear is now deprecated in favor of reg:squarederror.\n"
     ]
    },
    {
     "name": "stderr",
     "output_type": "stream",
     "text": [
      "C:\\Users\\wehrm\\AppData\\Local\\Continuum\\anaconda3\\lib\\site-packages\\xgboost\\core.py:587: FutureWarning:\n",
      "\n",
      "Series.base is deprecated and will be removed in a future version\n",
      "\n"
     ]
    },
    {
     "name": "stdout",
     "output_type": "stream",
     "text": [
      "[14:46:24] WARNING: C:/Jenkins/workspace/xgboost-win64_release_0.90/src/objective/regression_obj.cu:152: reg:linear is now deprecated in favor of reg:squarederror.\n"
     ]
    },
    {
     "name": "stderr",
     "output_type": "stream",
     "text": [
      "C:\\Users\\wehrm\\AppData\\Local\\Continuum\\anaconda3\\lib\\site-packages\\xgboost\\core.py:587: FutureWarning:\n",
      "\n",
      "Series.base is deprecated and will be removed in a future version\n",
      "\n"
     ]
    },
    {
     "name": "stdout",
     "output_type": "stream",
     "text": [
      "[14:46:25] WARNING: C:/Jenkins/workspace/xgboost-win64_release_0.90/src/objective/regression_obj.cu:152: reg:linear is now deprecated in favor of reg:squarederror.\n"
     ]
    },
    {
     "name": "stderr",
     "output_type": "stream",
     "text": [
      "C:\\Users\\wehrm\\AppData\\Local\\Continuum\\anaconda3\\lib\\site-packages\\xgboost\\core.py:587: FutureWarning:\n",
      "\n",
      "Series.base is deprecated and will be removed in a future version\n",
      "\n"
     ]
    },
    {
     "name": "stdout",
     "output_type": "stream",
     "text": [
      "[14:46:25] WARNING: C:/Jenkins/workspace/xgboost-win64_release_0.90/src/objective/regression_obj.cu:152: reg:linear is now deprecated in favor of reg:squarederror.\n"
     ]
    },
    {
     "name": "stderr",
     "output_type": "stream",
     "text": [
      "C:\\Users\\wehrm\\AppData\\Local\\Continuum\\anaconda3\\lib\\site-packages\\xgboost\\core.py:587: FutureWarning:\n",
      "\n",
      "Series.base is deprecated and will be removed in a future version\n",
      "\n"
     ]
    },
    {
     "name": "stdout",
     "output_type": "stream",
     "text": [
      "[14:46:26] WARNING: C:/Jenkins/workspace/xgboost-win64_release_0.90/src/objective/regression_obj.cu:152: reg:linear is now deprecated in favor of reg:squarederror.\n"
     ]
    },
    {
     "name": "stderr",
     "output_type": "stream",
     "text": [
      "C:\\Users\\wehrm\\AppData\\Local\\Continuum\\anaconda3\\lib\\site-packages\\xgboost\\core.py:587: FutureWarning:\n",
      "\n",
      "Series.base is deprecated and will be removed in a future version\n",
      "\n"
     ]
    },
    {
     "name": "stdout",
     "output_type": "stream",
     "text": [
      "[14:46:27] WARNING: C:/Jenkins/workspace/xgboost-win64_release_0.90/src/objective/regression_obj.cu:152: reg:linear is now deprecated in favor of reg:squarederror.\n"
     ]
    },
    {
     "name": "stderr",
     "output_type": "stream",
     "text": [
      "C:\\Users\\wehrm\\AppData\\Local\\Continuum\\anaconda3\\lib\\site-packages\\xgboost\\core.py:587: FutureWarning:\n",
      "\n",
      "Series.base is deprecated and will be removed in a future version\n",
      "\n"
     ]
    },
    {
     "name": "stdout",
     "output_type": "stream",
     "text": [
      "[14:46:27] WARNING: C:/Jenkins/workspace/xgboost-win64_release_0.90/src/objective/regression_obj.cu:152: reg:linear is now deprecated in favor of reg:squarederror.\n"
     ]
    },
    {
     "name": "stderr",
     "output_type": "stream",
     "text": [
      "C:\\Users\\wehrm\\AppData\\Local\\Continuum\\anaconda3\\lib\\site-packages\\xgboost\\core.py:587: FutureWarning:\n",
      "\n",
      "Series.base is deprecated and will be removed in a future version\n",
      "\n"
     ]
    },
    {
     "name": "stdout",
     "output_type": "stream",
     "text": [
      "[14:46:27] WARNING: C:/Jenkins/workspace/xgboost-win64_release_0.90/src/objective/regression_obj.cu:152: reg:linear is now deprecated in favor of reg:squarederror.\n"
     ]
    },
    {
     "name": "stderr",
     "output_type": "stream",
     "text": [
      "C:\\Users\\wehrm\\AppData\\Local\\Continuum\\anaconda3\\lib\\site-packages\\xgboost\\core.py:587: FutureWarning:\n",
      "\n",
      "Series.base is deprecated and will be removed in a future version\n",
      "\n"
     ]
    },
    {
     "name": "stdout",
     "output_type": "stream",
     "text": [
      "[14:46:28] WARNING: C:/Jenkins/workspace/xgboost-win64_release_0.90/src/objective/regression_obj.cu:152: reg:linear is now deprecated in favor of reg:squarederror.\n"
     ]
    },
    {
     "name": "stderr",
     "output_type": "stream",
     "text": [
      "C:\\Users\\wehrm\\AppData\\Local\\Continuum\\anaconda3\\lib\\site-packages\\xgboost\\core.py:587: FutureWarning:\n",
      "\n",
      "Series.base is deprecated and will be removed in a future version\n",
      "\n"
     ]
    },
    {
     "name": "stdout",
     "output_type": "stream",
     "text": [
      "[14:46:28] WARNING: C:/Jenkins/workspace/xgboost-win64_release_0.90/src/objective/regression_obj.cu:152: reg:linear is now deprecated in favor of reg:squarederror.\n"
     ]
    },
    {
     "name": "stderr",
     "output_type": "stream",
     "text": [
      "C:\\Users\\wehrm\\AppData\\Local\\Continuum\\anaconda3\\lib\\site-packages\\xgboost\\core.py:587: FutureWarning:\n",
      "\n",
      "Series.base is deprecated and will be removed in a future version\n",
      "\n"
     ]
    },
    {
     "name": "stdout",
     "output_type": "stream",
     "text": [
      "[14:46:28] WARNING: C:/Jenkins/workspace/xgboost-win64_release_0.90/src/objective/regression_obj.cu:152: reg:linear is now deprecated in favor of reg:squarederror.\n"
     ]
    },
    {
     "name": "stderr",
     "output_type": "stream",
     "text": [
      "C:\\Users\\wehrm\\AppData\\Local\\Continuum\\anaconda3\\lib\\site-packages\\xgboost\\core.py:587: FutureWarning:\n",
      "\n",
      "Series.base is deprecated and will be removed in a future version\n",
      "\n"
     ]
    },
    {
     "name": "stdout",
     "output_type": "stream",
     "text": [
      "[14:46:29] WARNING: C:/Jenkins/workspace/xgboost-win64_release_0.90/src/objective/regression_obj.cu:152: reg:linear is now deprecated in favor of reg:squarederror.\n"
     ]
    },
    {
     "name": "stderr",
     "output_type": "stream",
     "text": [
      "C:\\Users\\wehrm\\AppData\\Local\\Continuum\\anaconda3\\lib\\site-packages\\xgboost\\core.py:587: FutureWarning:\n",
      "\n",
      "Series.base is deprecated and will be removed in a future version\n",
      "\n"
     ]
    },
    {
     "name": "stdout",
     "output_type": "stream",
     "text": [
      "[14:46:29] WARNING: C:/Jenkins/workspace/xgboost-win64_release_0.90/src/objective/regression_obj.cu:152: reg:linear is now deprecated in favor of reg:squarederror.\n"
     ]
    },
    {
     "name": "stderr",
     "output_type": "stream",
     "text": [
      "C:\\Users\\wehrm\\AppData\\Local\\Continuum\\anaconda3\\lib\\site-packages\\xgboost\\core.py:587: FutureWarning:\n",
      "\n",
      "Series.base is deprecated and will be removed in a future version\n",
      "\n"
     ]
    },
    {
     "name": "stdout",
     "output_type": "stream",
     "text": [
      "[14:46:30] WARNING: C:/Jenkins/workspace/xgboost-win64_release_0.90/src/objective/regression_obj.cu:152: reg:linear is now deprecated in favor of reg:squarederror.\n"
     ]
    },
    {
     "name": "stderr",
     "output_type": "stream",
     "text": [
      "C:\\Users\\wehrm\\AppData\\Local\\Continuum\\anaconda3\\lib\\site-packages\\xgboost\\core.py:587: FutureWarning:\n",
      "\n",
      "Series.base is deprecated and will be removed in a future version\n",
      "\n"
     ]
    },
    {
     "name": "stdout",
     "output_type": "stream",
     "text": [
      "[14:46:30] WARNING: C:/Jenkins/workspace/xgboost-win64_release_0.90/src/objective/regression_obj.cu:152: reg:linear is now deprecated in favor of reg:squarederror.\n"
     ]
    },
    {
     "name": "stderr",
     "output_type": "stream",
     "text": [
      "C:\\Users\\wehrm\\AppData\\Local\\Continuum\\anaconda3\\lib\\site-packages\\xgboost\\core.py:587: FutureWarning:\n",
      "\n",
      "Series.base is deprecated and will be removed in a future version\n",
      "\n"
     ]
    },
    {
     "name": "stdout",
     "output_type": "stream",
     "text": [
      "[14:46:30] WARNING: C:/Jenkins/workspace/xgboost-win64_release_0.90/src/objective/regression_obj.cu:152: reg:linear is now deprecated in favor of reg:squarederror.\n"
     ]
    },
    {
     "name": "stderr",
     "output_type": "stream",
     "text": [
      "C:\\Users\\wehrm\\AppData\\Local\\Continuum\\anaconda3\\lib\\site-packages\\xgboost\\core.py:587: FutureWarning:\n",
      "\n",
      "Series.base is deprecated and will be removed in a future version\n",
      "\n"
     ]
    },
    {
     "name": "stdout",
     "output_type": "stream",
     "text": [
      "[14:46:31] WARNING: C:/Jenkins/workspace/xgboost-win64_release_0.90/src/objective/regression_obj.cu:152: reg:linear is now deprecated in favor of reg:squarederror.\n"
     ]
    },
    {
     "name": "stderr",
     "output_type": "stream",
     "text": [
      "C:\\Users\\wehrm\\AppData\\Local\\Continuum\\anaconda3\\lib\\site-packages\\xgboost\\core.py:587: FutureWarning:\n",
      "\n",
      "Series.base is deprecated and will be removed in a future version\n",
      "\n"
     ]
    },
    {
     "name": "stdout",
     "output_type": "stream",
     "text": [
      "[14:46:31] WARNING: C:/Jenkins/workspace/xgboost-win64_release_0.90/src/objective/regression_obj.cu:152: reg:linear is now deprecated in favor of reg:squarederror.\n"
     ]
    },
    {
     "name": "stderr",
     "output_type": "stream",
     "text": [
      "C:\\Users\\wehrm\\AppData\\Local\\Continuum\\anaconda3\\lib\\site-packages\\xgboost\\core.py:587: FutureWarning:\n",
      "\n",
      "Series.base is deprecated and will be removed in a future version\n",
      "\n"
     ]
    },
    {
     "name": "stdout",
     "output_type": "stream",
     "text": [
      "[14:46:32] WARNING: C:/Jenkins/workspace/xgboost-win64_release_0.90/src/objective/regression_obj.cu:152: reg:linear is now deprecated in favor of reg:squarederror.\n"
     ]
    },
    {
     "name": "stderr",
     "output_type": "stream",
     "text": [
      "C:\\Users\\wehrm\\AppData\\Local\\Continuum\\anaconda3\\lib\\site-packages\\xgboost\\core.py:587: FutureWarning:\n",
      "\n",
      "Series.base is deprecated and will be removed in a future version\n",
      "\n"
     ]
    },
    {
     "name": "stdout",
     "output_type": "stream",
     "text": [
      "[14:46:33] WARNING: C:/Jenkins/workspace/xgboost-win64_release_0.90/src/objective/regression_obj.cu:152: reg:linear is now deprecated in favor of reg:squarederror.\n"
     ]
    },
    {
     "name": "stderr",
     "output_type": "stream",
     "text": [
      "C:\\Users\\wehrm\\AppData\\Local\\Continuum\\anaconda3\\lib\\site-packages\\xgboost\\core.py:587: FutureWarning:\n",
      "\n",
      "Series.base is deprecated and will be removed in a future version\n",
      "\n"
     ]
    },
    {
     "name": "stdout",
     "output_type": "stream",
     "text": [
      "[14:46:34] WARNING: C:/Jenkins/workspace/xgboost-win64_release_0.90/src/objective/regression_obj.cu:152: reg:linear is now deprecated in favor of reg:squarederror.\n"
     ]
    },
    {
     "name": "stderr",
     "output_type": "stream",
     "text": [
      "C:\\Users\\wehrm\\AppData\\Local\\Continuum\\anaconda3\\lib\\site-packages\\xgboost\\core.py:587: FutureWarning:\n",
      "\n",
      "Series.base is deprecated and will be removed in a future version\n",
      "\n"
     ]
    },
    {
     "name": "stdout",
     "output_type": "stream",
     "text": [
      "[14:46:34] WARNING: C:/Jenkins/workspace/xgboost-win64_release_0.90/src/objective/regression_obj.cu:152: reg:linear is now deprecated in favor of reg:squarederror.\n"
     ]
    },
    {
     "name": "stderr",
     "output_type": "stream",
     "text": [
      "C:\\Users\\wehrm\\AppData\\Local\\Continuum\\anaconda3\\lib\\site-packages\\xgboost\\core.py:587: FutureWarning:\n",
      "\n",
      "Series.base is deprecated and will be removed in a future version\n",
      "\n"
     ]
    },
    {
     "name": "stdout",
     "output_type": "stream",
     "text": [
      "[14:46:35] WARNING: C:/Jenkins/workspace/xgboost-win64_release_0.90/src/objective/regression_obj.cu:152: reg:linear is now deprecated in favor of reg:squarederror.\n"
     ]
    },
    {
     "name": "stderr",
     "output_type": "stream",
     "text": [
      "C:\\Users\\wehrm\\AppData\\Local\\Continuum\\anaconda3\\lib\\site-packages\\xgboost\\core.py:587: FutureWarning:\n",
      "\n",
      "Series.base is deprecated and will be removed in a future version\n",
      "\n"
     ]
    },
    {
     "name": "stdout",
     "output_type": "stream",
     "text": [
      "[14:46:36] WARNING: C:/Jenkins/workspace/xgboost-win64_release_0.90/src/objective/regression_obj.cu:152: reg:linear is now deprecated in favor of reg:squarederror.\n"
     ]
    },
    {
     "name": "stderr",
     "output_type": "stream",
     "text": [
      "C:\\Users\\wehrm\\AppData\\Local\\Continuum\\anaconda3\\lib\\site-packages\\xgboost\\core.py:587: FutureWarning:\n",
      "\n",
      "Series.base is deprecated and will be removed in a future version\n",
      "\n"
     ]
    },
    {
     "name": "stdout",
     "output_type": "stream",
     "text": [
      "[14:46:37] WARNING: C:/Jenkins/workspace/xgboost-win64_release_0.90/src/objective/regression_obj.cu:152: reg:linear is now deprecated in favor of reg:squarederror.\n"
     ]
    },
    {
     "name": "stderr",
     "output_type": "stream",
     "text": [
      "C:\\Users\\wehrm\\AppData\\Local\\Continuum\\anaconda3\\lib\\site-packages\\xgboost\\core.py:587: FutureWarning:\n",
      "\n",
      "Series.base is deprecated and will be removed in a future version\n",
      "\n"
     ]
    },
    {
     "name": "stdout",
     "output_type": "stream",
     "text": [
      "[14:46:38] WARNING: C:/Jenkins/workspace/xgboost-win64_release_0.90/src/objective/regression_obj.cu:152: reg:linear is now deprecated in favor of reg:squarederror.\n"
     ]
    },
    {
     "name": "stderr",
     "output_type": "stream",
     "text": [
      "C:\\Users\\wehrm\\AppData\\Local\\Continuum\\anaconda3\\lib\\site-packages\\xgboost\\core.py:587: FutureWarning:\n",
      "\n",
      "Series.base is deprecated and will be removed in a future version\n",
      "\n"
     ]
    },
    {
     "name": "stdout",
     "output_type": "stream",
     "text": [
      "[14:46:38] WARNING: C:/Jenkins/workspace/xgboost-win64_release_0.90/src/objective/regression_obj.cu:152: reg:linear is now deprecated in favor of reg:squarederror.\n"
     ]
    },
    {
     "name": "stderr",
     "output_type": "stream",
     "text": [
      "C:\\Users\\wehrm\\AppData\\Local\\Continuum\\anaconda3\\lib\\site-packages\\xgboost\\core.py:587: FutureWarning:\n",
      "\n",
      "Series.base is deprecated and will be removed in a future version\n",
      "\n"
     ]
    },
    {
     "name": "stdout",
     "output_type": "stream",
     "text": [
      "[14:46:39] WARNING: C:/Jenkins/workspace/xgboost-win64_release_0.90/src/objective/regression_obj.cu:152: reg:linear is now deprecated in favor of reg:squarederror.\n"
     ]
    },
    {
     "name": "stderr",
     "output_type": "stream",
     "text": [
      "C:\\Users\\wehrm\\AppData\\Local\\Continuum\\anaconda3\\lib\\site-packages\\xgboost\\core.py:587: FutureWarning:\n",
      "\n",
      "Series.base is deprecated and will be removed in a future version\n",
      "\n"
     ]
    },
    {
     "name": "stdout",
     "output_type": "stream",
     "text": [
      "[14:46:40] WARNING: C:/Jenkins/workspace/xgboost-win64_release_0.90/src/objective/regression_obj.cu:152: reg:linear is now deprecated in favor of reg:squarederror.\n"
     ]
    },
    {
     "name": "stderr",
     "output_type": "stream",
     "text": [
      "C:\\Users\\wehrm\\AppData\\Local\\Continuum\\anaconda3\\lib\\site-packages\\xgboost\\core.py:587: FutureWarning:\n",
      "\n",
      "Series.base is deprecated and will be removed in a future version\n",
      "\n"
     ]
    },
    {
     "name": "stdout",
     "output_type": "stream",
     "text": [
      "[14:46:41] WARNING: C:/Jenkins/workspace/xgboost-win64_release_0.90/src/objective/regression_obj.cu:152: reg:linear is now deprecated in favor of reg:squarederror.\n"
     ]
    },
    {
     "name": "stderr",
     "output_type": "stream",
     "text": [
      "C:\\Users\\wehrm\\AppData\\Local\\Continuum\\anaconda3\\lib\\site-packages\\xgboost\\core.py:587: FutureWarning:\n",
      "\n",
      "Series.base is deprecated and will be removed in a future version\n",
      "\n"
     ]
    },
    {
     "name": "stdout",
     "output_type": "stream",
     "text": [
      "[14:46:41] WARNING: C:/Jenkins/workspace/xgboost-win64_release_0.90/src/objective/regression_obj.cu:152: reg:linear is now deprecated in favor of reg:squarederror.\n"
     ]
    },
    {
     "name": "stderr",
     "output_type": "stream",
     "text": [
      "C:\\Users\\wehrm\\AppData\\Local\\Continuum\\anaconda3\\lib\\site-packages\\xgboost\\core.py:587: FutureWarning:\n",
      "\n",
      "Series.base is deprecated and will be removed in a future version\n",
      "\n"
     ]
    },
    {
     "name": "stdout",
     "output_type": "stream",
     "text": [
      "[14:46:42] WARNING: C:/Jenkins/workspace/xgboost-win64_release_0.90/src/objective/regression_obj.cu:152: reg:linear is now deprecated in favor of reg:squarederror.\n"
     ]
    },
    {
     "name": "stderr",
     "output_type": "stream",
     "text": [
      "C:\\Users\\wehrm\\AppData\\Local\\Continuum\\anaconda3\\lib\\site-packages\\xgboost\\core.py:587: FutureWarning:\n",
      "\n",
      "Series.base is deprecated and will be removed in a future version\n",
      "\n"
     ]
    },
    {
     "name": "stdout",
     "output_type": "stream",
     "text": [
      "[14:46:43] WARNING: C:/Jenkins/workspace/xgboost-win64_release_0.90/src/objective/regression_obj.cu:152: reg:linear is now deprecated in favor of reg:squarederror.\n"
     ]
    },
    {
     "name": "stderr",
     "output_type": "stream",
     "text": [
      "C:\\Users\\wehrm\\AppData\\Local\\Continuum\\anaconda3\\lib\\site-packages\\xgboost\\core.py:587: FutureWarning:\n",
      "\n",
      "Series.base is deprecated and will be removed in a future version\n",
      "\n"
     ]
    },
    {
     "name": "stdout",
     "output_type": "stream",
     "text": [
      "[14:46:44] WARNING: C:/Jenkins/workspace/xgboost-win64_release_0.90/src/objective/regression_obj.cu:152: reg:linear is now deprecated in favor of reg:squarederror.\n"
     ]
    },
    {
     "name": "stderr",
     "output_type": "stream",
     "text": [
      "C:\\Users\\wehrm\\AppData\\Local\\Continuum\\anaconda3\\lib\\site-packages\\xgboost\\core.py:587: FutureWarning:\n",
      "\n",
      "Series.base is deprecated and will be removed in a future version\n",
      "\n"
     ]
    },
    {
     "name": "stdout",
     "output_type": "stream",
     "text": [
      "[14:46:44] WARNING: C:/Jenkins/workspace/xgboost-win64_release_0.90/src/objective/regression_obj.cu:152: reg:linear is now deprecated in favor of reg:squarederror.\n"
     ]
    },
    {
     "name": "stderr",
     "output_type": "stream",
     "text": [
      "C:\\Users\\wehrm\\AppData\\Local\\Continuum\\anaconda3\\lib\\site-packages\\xgboost\\core.py:587: FutureWarning:\n",
      "\n",
      "Series.base is deprecated and will be removed in a future version\n",
      "\n"
     ]
    },
    {
     "name": "stdout",
     "output_type": "stream",
     "text": [
      "[14:46:46] WARNING: C:/Jenkins/workspace/xgboost-win64_release_0.90/src/objective/regression_obj.cu:152: reg:linear is now deprecated in favor of reg:squarederror.\n"
     ]
    },
    {
     "name": "stderr",
     "output_type": "stream",
     "text": [
      "C:\\Users\\wehrm\\AppData\\Local\\Continuum\\anaconda3\\lib\\site-packages\\xgboost\\core.py:587: FutureWarning:\n",
      "\n",
      "Series.base is deprecated and will be removed in a future version\n",
      "\n"
     ]
    },
    {
     "name": "stdout",
     "output_type": "stream",
     "text": [
      "[14:46:47] WARNING: C:/Jenkins/workspace/xgboost-win64_release_0.90/src/objective/regression_obj.cu:152: reg:linear is now deprecated in favor of reg:squarederror.\n"
     ]
    },
    {
     "name": "stderr",
     "output_type": "stream",
     "text": [
      "C:\\Users\\wehrm\\AppData\\Local\\Continuum\\anaconda3\\lib\\site-packages\\xgboost\\core.py:587: FutureWarning:\n",
      "\n",
      "Series.base is deprecated and will be removed in a future version\n",
      "\n"
     ]
    },
    {
     "name": "stdout",
     "output_type": "stream",
     "text": [
      "[14:46:49] WARNING: C:/Jenkins/workspace/xgboost-win64_release_0.90/src/objective/regression_obj.cu:152: reg:linear is now deprecated in favor of reg:squarederror.\n"
     ]
    },
    {
     "name": "stderr",
     "output_type": "stream",
     "text": [
      "C:\\Users\\wehrm\\AppData\\Local\\Continuum\\anaconda3\\lib\\site-packages\\xgboost\\core.py:587: FutureWarning:\n",
      "\n",
      "Series.base is deprecated and will be removed in a future version\n",
      "\n"
     ]
    },
    {
     "name": "stdout",
     "output_type": "stream",
     "text": [
      "[14:46:51] WARNING: C:/Jenkins/workspace/xgboost-win64_release_0.90/src/objective/regression_obj.cu:152: reg:linear is now deprecated in favor of reg:squarederror.\n"
     ]
    },
    {
     "name": "stderr",
     "output_type": "stream",
     "text": [
      "C:\\Users\\wehrm\\AppData\\Local\\Continuum\\anaconda3\\lib\\site-packages\\xgboost\\core.py:587: FutureWarning:\n",
      "\n",
      "Series.base is deprecated and will be removed in a future version\n",
      "\n"
     ]
    },
    {
     "name": "stdout",
     "output_type": "stream",
     "text": [
      "[14:46:52] WARNING: C:/Jenkins/workspace/xgboost-win64_release_0.90/src/objective/regression_obj.cu:152: reg:linear is now deprecated in favor of reg:squarederror.\n"
     ]
    },
    {
     "name": "stderr",
     "output_type": "stream",
     "text": [
      "C:\\Users\\wehrm\\AppData\\Local\\Continuum\\anaconda3\\lib\\site-packages\\xgboost\\core.py:587: FutureWarning:\n",
      "\n",
      "Series.base is deprecated and will be removed in a future version\n",
      "\n"
     ]
    },
    {
     "name": "stdout",
     "output_type": "stream",
     "text": [
      "[14:46:54] WARNING: C:/Jenkins/workspace/xgboost-win64_release_0.90/src/objective/regression_obj.cu:152: reg:linear is now deprecated in favor of reg:squarederror.\n"
     ]
    },
    {
     "name": "stderr",
     "output_type": "stream",
     "text": [
      "C:\\Users\\wehrm\\AppData\\Local\\Continuum\\anaconda3\\lib\\site-packages\\xgboost\\core.py:587: FutureWarning:\n",
      "\n",
      "Series.base is deprecated and will be removed in a future version\n",
      "\n"
     ]
    },
    {
     "name": "stdout",
     "output_type": "stream",
     "text": [
      "[14:46:55] WARNING: C:/Jenkins/workspace/xgboost-win64_release_0.90/src/objective/regression_obj.cu:152: reg:linear is now deprecated in favor of reg:squarederror.\n"
     ]
    },
    {
     "name": "stderr",
     "output_type": "stream",
     "text": [
      "C:\\Users\\wehrm\\AppData\\Local\\Continuum\\anaconda3\\lib\\site-packages\\xgboost\\core.py:587: FutureWarning:\n",
      "\n",
      "Series.base is deprecated and will be removed in a future version\n",
      "\n"
     ]
    },
    {
     "name": "stdout",
     "output_type": "stream",
     "text": [
      "[14:46:57] WARNING: C:/Jenkins/workspace/xgboost-win64_release_0.90/src/objective/regression_obj.cu:152: reg:linear is now deprecated in favor of reg:squarederror.\n"
     ]
    },
    {
     "name": "stderr",
     "output_type": "stream",
     "text": [
      "C:\\Users\\wehrm\\AppData\\Local\\Continuum\\anaconda3\\lib\\site-packages\\xgboost\\core.py:587: FutureWarning:\n",
      "\n",
      "Series.base is deprecated and will be removed in a future version\n",
      "\n"
     ]
    },
    {
     "name": "stdout",
     "output_type": "stream",
     "text": [
      "[14:46:58] WARNING: C:/Jenkins/workspace/xgboost-win64_release_0.90/src/objective/regression_obj.cu:152: reg:linear is now deprecated in favor of reg:squarederror.\n"
     ]
    },
    {
     "name": "stderr",
     "output_type": "stream",
     "text": [
      "C:\\Users\\wehrm\\AppData\\Local\\Continuum\\anaconda3\\lib\\site-packages\\xgboost\\core.py:587: FutureWarning:\n",
      "\n",
      "Series.base is deprecated and will be removed in a future version\n",
      "\n"
     ]
    },
    {
     "name": "stdout",
     "output_type": "stream",
     "text": [
      "[14:47:00] WARNING: C:/Jenkins/workspace/xgboost-win64_release_0.90/src/objective/regression_obj.cu:152: reg:linear is now deprecated in favor of reg:squarederror.\n"
     ]
    },
    {
     "name": "stderr",
     "output_type": "stream",
     "text": [
      "C:\\Users\\wehrm\\AppData\\Local\\Continuum\\anaconda3\\lib\\site-packages\\xgboost\\core.py:587: FutureWarning:\n",
      "\n",
      "Series.base is deprecated and will be removed in a future version\n",
      "\n"
     ]
    },
    {
     "name": "stdout",
     "output_type": "stream",
     "text": [
      "[14:47:01] WARNING: C:/Jenkins/workspace/xgboost-win64_release_0.90/src/objective/regression_obj.cu:152: reg:linear is now deprecated in favor of reg:squarederror.\n"
     ]
    },
    {
     "name": "stderr",
     "output_type": "stream",
     "text": [
      "C:\\Users\\wehrm\\AppData\\Local\\Continuum\\anaconda3\\lib\\site-packages\\xgboost\\core.py:587: FutureWarning:\n",
      "\n",
      "Series.base is deprecated and will be removed in a future version\n",
      "\n"
     ]
    },
    {
     "name": "stdout",
     "output_type": "stream",
     "text": [
      "[14:47:02] WARNING: C:/Jenkins/workspace/xgboost-win64_release_0.90/src/objective/regression_obj.cu:152: reg:linear is now deprecated in favor of reg:squarederror.\n"
     ]
    },
    {
     "name": "stderr",
     "output_type": "stream",
     "text": [
      "C:\\Users\\wehrm\\AppData\\Local\\Continuum\\anaconda3\\lib\\site-packages\\xgboost\\core.py:587: FutureWarning:\n",
      "\n",
      "Series.base is deprecated and will be removed in a future version\n",
      "\n"
     ]
    },
    {
     "name": "stdout",
     "output_type": "stream",
     "text": [
      "[14:47:04] WARNING: C:/Jenkins/workspace/xgboost-win64_release_0.90/src/objective/regression_obj.cu:152: reg:linear is now deprecated in favor of reg:squarederror.\n"
     ]
    },
    {
     "name": "stderr",
     "output_type": "stream",
     "text": [
      "C:\\Users\\wehrm\\AppData\\Local\\Continuum\\anaconda3\\lib\\site-packages\\xgboost\\core.py:587: FutureWarning:\n",
      "\n",
      "Series.base is deprecated and will be removed in a future version\n",
      "\n"
     ]
    },
    {
     "name": "stdout",
     "output_type": "stream",
     "text": [
      "[14:47:05] WARNING: C:/Jenkins/workspace/xgboost-win64_release_0.90/src/objective/regression_obj.cu:152: reg:linear is now deprecated in favor of reg:squarederror.\n"
     ]
    },
    {
     "name": "stderr",
     "output_type": "stream",
     "text": [
      "C:\\Users\\wehrm\\AppData\\Local\\Continuum\\anaconda3\\lib\\site-packages\\xgboost\\core.py:587: FutureWarning:\n",
      "\n",
      "Series.base is deprecated and will be removed in a future version\n",
      "\n"
     ]
    },
    {
     "name": "stdout",
     "output_type": "stream",
     "text": [
      "[14:47:07] WARNING: C:/Jenkins/workspace/xgboost-win64_release_0.90/src/objective/regression_obj.cu:152: reg:linear is now deprecated in favor of reg:squarederror.\n"
     ]
    },
    {
     "name": "stderr",
     "output_type": "stream",
     "text": [
      "C:\\Users\\wehrm\\AppData\\Local\\Continuum\\anaconda3\\lib\\site-packages\\xgboost\\core.py:587: FutureWarning:\n",
      "\n",
      "Series.base is deprecated and will be removed in a future version\n",
      "\n"
     ]
    },
    {
     "name": "stdout",
     "output_type": "stream",
     "text": [
      "[14:47:08] WARNING: C:/Jenkins/workspace/xgboost-win64_release_0.90/src/objective/regression_obj.cu:152: reg:linear is now deprecated in favor of reg:squarederror.\n"
     ]
    },
    {
     "name": "stderr",
     "output_type": "stream",
     "text": [
      "C:\\Users\\wehrm\\AppData\\Local\\Continuum\\anaconda3\\lib\\site-packages\\xgboost\\core.py:587: FutureWarning:\n",
      "\n",
      "Series.base is deprecated and will be removed in a future version\n",
      "\n"
     ]
    },
    {
     "name": "stdout",
     "output_type": "stream",
     "text": [
      "[14:47:09] WARNING: C:/Jenkins/workspace/xgboost-win64_release_0.90/src/objective/regression_obj.cu:152: reg:linear is now deprecated in favor of reg:squarederror.\n"
     ]
    },
    {
     "name": "stderr",
     "output_type": "stream",
     "text": [
      "C:\\Users\\wehrm\\AppData\\Local\\Continuum\\anaconda3\\lib\\site-packages\\xgboost\\core.py:587: FutureWarning:\n",
      "\n",
      "Series.base is deprecated and will be removed in a future version\n",
      "\n"
     ]
    },
    {
     "name": "stdout",
     "output_type": "stream",
     "text": [
      "[14:47:11] WARNING: C:/Jenkins/workspace/xgboost-win64_release_0.90/src/objective/regression_obj.cu:152: reg:linear is now deprecated in favor of reg:squarederror.\n"
     ]
    },
    {
     "name": "stderr",
     "output_type": "stream",
     "text": [
      "C:\\Users\\wehrm\\AppData\\Local\\Continuum\\anaconda3\\lib\\site-packages\\xgboost\\core.py:587: FutureWarning:\n",
      "\n",
      "Series.base is deprecated and will be removed in a future version\n",
      "\n"
     ]
    },
    {
     "name": "stdout",
     "output_type": "stream",
     "text": [
      "[14:47:11] WARNING: C:/Jenkins/workspace/xgboost-win64_release_0.90/src/objective/regression_obj.cu:152: reg:linear is now deprecated in favor of reg:squarederror.\n"
     ]
    },
    {
     "name": "stderr",
     "output_type": "stream",
     "text": [
      "C:\\Users\\wehrm\\AppData\\Local\\Continuum\\anaconda3\\lib\\site-packages\\xgboost\\core.py:587: FutureWarning:\n",
      "\n",
      "Series.base is deprecated and will be removed in a future version\n",
      "\n"
     ]
    },
    {
     "name": "stdout",
     "output_type": "stream",
     "text": [
      "[14:47:12] WARNING: C:/Jenkins/workspace/xgboost-win64_release_0.90/src/objective/regression_obj.cu:152: reg:linear is now deprecated in favor of reg:squarederror.\n"
     ]
    },
    {
     "name": "stderr",
     "output_type": "stream",
     "text": [
      "C:\\Users\\wehrm\\AppData\\Local\\Continuum\\anaconda3\\lib\\site-packages\\xgboost\\core.py:587: FutureWarning:\n",
      "\n",
      "Series.base is deprecated and will be removed in a future version\n",
      "\n"
     ]
    },
    {
     "name": "stdout",
     "output_type": "stream",
     "text": [
      "[14:47:12] WARNING: C:/Jenkins/workspace/xgboost-win64_release_0.90/src/objective/regression_obj.cu:152: reg:linear is now deprecated in favor of reg:squarederror.\n"
     ]
    },
    {
     "name": "stderr",
     "output_type": "stream",
     "text": [
      "C:\\Users\\wehrm\\AppData\\Local\\Continuum\\anaconda3\\lib\\site-packages\\xgboost\\core.py:587: FutureWarning:\n",
      "\n",
      "Series.base is deprecated and will be removed in a future version\n",
      "\n"
     ]
    },
    {
     "name": "stdout",
     "output_type": "stream",
     "text": [
      "[14:47:12] WARNING: C:/Jenkins/workspace/xgboost-win64_release_0.90/src/objective/regression_obj.cu:152: reg:linear is now deprecated in favor of reg:squarederror.\n"
     ]
    },
    {
     "name": "stderr",
     "output_type": "stream",
     "text": [
      "C:\\Users\\wehrm\\AppData\\Local\\Continuum\\anaconda3\\lib\\site-packages\\xgboost\\core.py:587: FutureWarning:\n",
      "\n",
      "Series.base is deprecated and will be removed in a future version\n",
      "\n"
     ]
    },
    {
     "name": "stdout",
     "output_type": "stream",
     "text": [
      "[14:47:13] WARNING: C:/Jenkins/workspace/xgboost-win64_release_0.90/src/objective/regression_obj.cu:152: reg:linear is now deprecated in favor of reg:squarederror.\n"
     ]
    },
    {
     "name": "stderr",
     "output_type": "stream",
     "text": [
      "C:\\Users\\wehrm\\AppData\\Local\\Continuum\\anaconda3\\lib\\site-packages\\xgboost\\core.py:587: FutureWarning:\n",
      "\n",
      "Series.base is deprecated and will be removed in a future version\n",
      "\n"
     ]
    },
    {
     "name": "stdout",
     "output_type": "stream",
     "text": [
      "[14:47:13] WARNING: C:/Jenkins/workspace/xgboost-win64_release_0.90/src/objective/regression_obj.cu:152: reg:linear is now deprecated in favor of reg:squarederror.\n"
     ]
    },
    {
     "name": "stderr",
     "output_type": "stream",
     "text": [
      "C:\\Users\\wehrm\\AppData\\Local\\Continuum\\anaconda3\\lib\\site-packages\\xgboost\\core.py:587: FutureWarning:\n",
      "\n",
      "Series.base is deprecated and will be removed in a future version\n",
      "\n"
     ]
    },
    {
     "name": "stdout",
     "output_type": "stream",
     "text": [
      "[14:47:13] WARNING: C:/Jenkins/workspace/xgboost-win64_release_0.90/src/objective/regression_obj.cu:152: reg:linear is now deprecated in favor of reg:squarederror.\n"
     ]
    },
    {
     "name": "stderr",
     "output_type": "stream",
     "text": [
      "C:\\Users\\wehrm\\AppData\\Local\\Continuum\\anaconda3\\lib\\site-packages\\xgboost\\core.py:587: FutureWarning:\n",
      "\n",
      "Series.base is deprecated and will be removed in a future version\n",
      "\n"
     ]
    },
    {
     "name": "stdout",
     "output_type": "stream",
     "text": [
      "[14:47:14] WARNING: C:/Jenkins/workspace/xgboost-win64_release_0.90/src/objective/regression_obj.cu:152: reg:linear is now deprecated in favor of reg:squarederror.\n"
     ]
    },
    {
     "name": "stderr",
     "output_type": "stream",
     "text": [
      "C:\\Users\\wehrm\\AppData\\Local\\Continuum\\anaconda3\\lib\\site-packages\\xgboost\\core.py:587: FutureWarning:\n",
      "\n",
      "Series.base is deprecated and will be removed in a future version\n",
      "\n"
     ]
    },
    {
     "name": "stdout",
     "output_type": "stream",
     "text": [
      "[14:47:14] WARNING: C:/Jenkins/workspace/xgboost-win64_release_0.90/src/objective/regression_obj.cu:152: reg:linear is now deprecated in favor of reg:squarederror.\n"
     ]
    },
    {
     "name": "stderr",
     "output_type": "stream",
     "text": [
      "C:\\Users\\wehrm\\AppData\\Local\\Continuum\\anaconda3\\lib\\site-packages\\xgboost\\core.py:587: FutureWarning:\n",
      "\n",
      "Series.base is deprecated and will be removed in a future version\n",
      "\n"
     ]
    },
    {
     "name": "stdout",
     "output_type": "stream",
     "text": [
      "[14:47:15] WARNING: C:/Jenkins/workspace/xgboost-win64_release_0.90/src/objective/regression_obj.cu:152: reg:linear is now deprecated in favor of reg:squarederror.\n"
     ]
    },
    {
     "name": "stderr",
     "output_type": "stream",
     "text": [
      "C:\\Users\\wehrm\\AppData\\Local\\Continuum\\anaconda3\\lib\\site-packages\\xgboost\\core.py:587: FutureWarning:\n",
      "\n",
      "Series.base is deprecated and will be removed in a future version\n",
      "\n"
     ]
    },
    {
     "name": "stdout",
     "output_type": "stream",
     "text": [
      "[14:47:15] WARNING: C:/Jenkins/workspace/xgboost-win64_release_0.90/src/objective/regression_obj.cu:152: reg:linear is now deprecated in favor of reg:squarederror.\n"
     ]
    },
    {
     "name": "stderr",
     "output_type": "stream",
     "text": [
      "C:\\Users\\wehrm\\AppData\\Local\\Continuum\\anaconda3\\lib\\site-packages\\xgboost\\core.py:587: FutureWarning:\n",
      "\n",
      "Series.base is deprecated and will be removed in a future version\n",
      "\n"
     ]
    },
    {
     "name": "stdout",
     "output_type": "stream",
     "text": [
      "[14:47:15] WARNING: C:/Jenkins/workspace/xgboost-win64_release_0.90/src/objective/regression_obj.cu:152: reg:linear is now deprecated in favor of reg:squarederror.\n"
     ]
    },
    {
     "name": "stderr",
     "output_type": "stream",
     "text": [
      "C:\\Users\\wehrm\\AppData\\Local\\Continuum\\anaconda3\\lib\\site-packages\\xgboost\\core.py:587: FutureWarning:\n",
      "\n",
      "Series.base is deprecated and will be removed in a future version\n",
      "\n"
     ]
    },
    {
     "name": "stdout",
     "output_type": "stream",
     "text": [
      "[14:47:16] WARNING: C:/Jenkins/workspace/xgboost-win64_release_0.90/src/objective/regression_obj.cu:152: reg:linear is now deprecated in favor of reg:squarederror.\n"
     ]
    },
    {
     "name": "stderr",
     "output_type": "stream",
     "text": [
      "C:\\Users\\wehrm\\AppData\\Local\\Continuum\\anaconda3\\lib\\site-packages\\xgboost\\core.py:587: FutureWarning:\n",
      "\n",
      "Series.base is deprecated and will be removed in a future version\n",
      "\n"
     ]
    },
    {
     "name": "stdout",
     "output_type": "stream",
     "text": [
      "[14:47:16] WARNING: C:/Jenkins/workspace/xgboost-win64_release_0.90/src/objective/regression_obj.cu:152: reg:linear is now deprecated in favor of reg:squarederror.\n"
     ]
    },
    {
     "name": "stderr",
     "output_type": "stream",
     "text": [
      "C:\\Users\\wehrm\\AppData\\Local\\Continuum\\anaconda3\\lib\\site-packages\\xgboost\\core.py:587: FutureWarning:\n",
      "\n",
      "Series.base is deprecated and will be removed in a future version\n",
      "\n"
     ]
    },
    {
     "name": "stdout",
     "output_type": "stream",
     "text": [
      "[14:47:17] WARNING: C:/Jenkins/workspace/xgboost-win64_release_0.90/src/objective/regression_obj.cu:152: reg:linear is now deprecated in favor of reg:squarederror.\n"
     ]
    },
    {
     "name": "stderr",
     "output_type": "stream",
     "text": [
      "C:\\Users\\wehrm\\AppData\\Local\\Continuum\\anaconda3\\lib\\site-packages\\xgboost\\core.py:587: FutureWarning:\n",
      "\n",
      "Series.base is deprecated and will be removed in a future version\n",
      "\n"
     ]
    },
    {
     "name": "stdout",
     "output_type": "stream",
     "text": [
      "[14:47:17] WARNING: C:/Jenkins/workspace/xgboost-win64_release_0.90/src/objective/regression_obj.cu:152: reg:linear is now deprecated in favor of reg:squarederror.\n"
     ]
    },
    {
     "name": "stderr",
     "output_type": "stream",
     "text": [
      "C:\\Users\\wehrm\\AppData\\Local\\Continuum\\anaconda3\\lib\\site-packages\\xgboost\\core.py:587: FutureWarning:\n",
      "\n",
      "Series.base is deprecated and will be removed in a future version\n",
      "\n"
     ]
    },
    {
     "name": "stdout",
     "output_type": "stream",
     "text": [
      "[14:47:17] WARNING: C:/Jenkins/workspace/xgboost-win64_release_0.90/src/objective/regression_obj.cu:152: reg:linear is now deprecated in favor of reg:squarederror.\n"
     ]
    },
    {
     "name": "stderr",
     "output_type": "stream",
     "text": [
      "C:\\Users\\wehrm\\AppData\\Local\\Continuum\\anaconda3\\lib\\site-packages\\xgboost\\core.py:587: FutureWarning:\n",
      "\n",
      "Series.base is deprecated and will be removed in a future version\n",
      "\n"
     ]
    },
    {
     "name": "stdout",
     "output_type": "stream",
     "text": [
      "[14:47:18] WARNING: C:/Jenkins/workspace/xgboost-win64_release_0.90/src/objective/regression_obj.cu:152: reg:linear is now deprecated in favor of reg:squarederror.\n"
     ]
    },
    {
     "name": "stderr",
     "output_type": "stream",
     "text": [
      "C:\\Users\\wehrm\\AppData\\Local\\Continuum\\anaconda3\\lib\\site-packages\\xgboost\\core.py:587: FutureWarning:\n",
      "\n",
      "Series.base is deprecated and will be removed in a future version\n",
      "\n"
     ]
    },
    {
     "name": "stdout",
     "output_type": "stream",
     "text": [
      "[14:47:19] WARNING: C:/Jenkins/workspace/xgboost-win64_release_0.90/src/objective/regression_obj.cu:152: reg:linear is now deprecated in favor of reg:squarederror.\n"
     ]
    },
    {
     "name": "stderr",
     "output_type": "stream",
     "text": [
      "C:\\Users\\wehrm\\AppData\\Local\\Continuum\\anaconda3\\lib\\site-packages\\xgboost\\core.py:587: FutureWarning:\n",
      "\n",
      "Series.base is deprecated and will be removed in a future version\n",
      "\n"
     ]
    },
    {
     "name": "stdout",
     "output_type": "stream",
     "text": [
      "[14:47:20] WARNING: C:/Jenkins/workspace/xgboost-win64_release_0.90/src/objective/regression_obj.cu:152: reg:linear is now deprecated in favor of reg:squarederror.\n"
     ]
    },
    {
     "name": "stderr",
     "output_type": "stream",
     "text": [
      "C:\\Users\\wehrm\\AppData\\Local\\Continuum\\anaconda3\\lib\\site-packages\\xgboost\\core.py:587: FutureWarning:\n",
      "\n",
      "Series.base is deprecated and will be removed in a future version\n",
      "\n"
     ]
    },
    {
     "name": "stdout",
     "output_type": "stream",
     "text": [
      "[14:47:21] WARNING: C:/Jenkins/workspace/xgboost-win64_release_0.90/src/objective/regression_obj.cu:152: reg:linear is now deprecated in favor of reg:squarederror.\n"
     ]
    },
    {
     "name": "stderr",
     "output_type": "stream",
     "text": [
      "C:\\Users\\wehrm\\AppData\\Local\\Continuum\\anaconda3\\lib\\site-packages\\xgboost\\core.py:587: FutureWarning:\n",
      "\n",
      "Series.base is deprecated and will be removed in a future version\n",
      "\n"
     ]
    },
    {
     "name": "stdout",
     "output_type": "stream",
     "text": [
      "[14:47:22] WARNING: C:/Jenkins/workspace/xgboost-win64_release_0.90/src/objective/regression_obj.cu:152: reg:linear is now deprecated in favor of reg:squarederror.\n"
     ]
    },
    {
     "name": "stderr",
     "output_type": "stream",
     "text": [
      "C:\\Users\\wehrm\\AppData\\Local\\Continuum\\anaconda3\\lib\\site-packages\\xgboost\\core.py:587: FutureWarning:\n",
      "\n",
      "Series.base is deprecated and will be removed in a future version\n",
      "\n"
     ]
    },
    {
     "name": "stdout",
     "output_type": "stream",
     "text": [
      "[14:47:23] WARNING: C:/Jenkins/workspace/xgboost-win64_release_0.90/src/objective/regression_obj.cu:152: reg:linear is now deprecated in favor of reg:squarederror.\n"
     ]
    },
    {
     "name": "stderr",
     "output_type": "stream",
     "text": [
      "C:\\Users\\wehrm\\AppData\\Local\\Continuum\\anaconda3\\lib\\site-packages\\xgboost\\core.py:587: FutureWarning:\n",
      "\n",
      "Series.base is deprecated and will be removed in a future version\n",
      "\n"
     ]
    },
    {
     "name": "stdout",
     "output_type": "stream",
     "text": [
      "[14:47:24] WARNING: C:/Jenkins/workspace/xgboost-win64_release_0.90/src/objective/regression_obj.cu:152: reg:linear is now deprecated in favor of reg:squarederror.\n"
     ]
    },
    {
     "name": "stderr",
     "output_type": "stream",
     "text": [
      "C:\\Users\\wehrm\\AppData\\Local\\Continuum\\anaconda3\\lib\\site-packages\\xgboost\\core.py:587: FutureWarning:\n",
      "\n",
      "Series.base is deprecated and will be removed in a future version\n",
      "\n"
     ]
    },
    {
     "name": "stdout",
     "output_type": "stream",
     "text": [
      "[14:47:24] WARNING: C:/Jenkins/workspace/xgboost-win64_release_0.90/src/objective/regression_obj.cu:152: reg:linear is now deprecated in favor of reg:squarederror.\n"
     ]
    },
    {
     "name": "stderr",
     "output_type": "stream",
     "text": [
      "C:\\Users\\wehrm\\AppData\\Local\\Continuum\\anaconda3\\lib\\site-packages\\xgboost\\core.py:587: FutureWarning:\n",
      "\n",
      "Series.base is deprecated and will be removed in a future version\n",
      "\n"
     ]
    },
    {
     "name": "stdout",
     "output_type": "stream",
     "text": [
      "[14:47:25] WARNING: C:/Jenkins/workspace/xgboost-win64_release_0.90/src/objective/regression_obj.cu:152: reg:linear is now deprecated in favor of reg:squarederror.\n"
     ]
    },
    {
     "name": "stderr",
     "output_type": "stream",
     "text": [
      "C:\\Users\\wehrm\\AppData\\Local\\Continuum\\anaconda3\\lib\\site-packages\\xgboost\\core.py:587: FutureWarning:\n",
      "\n",
      "Series.base is deprecated and will be removed in a future version\n",
      "\n"
     ]
    },
    {
     "name": "stdout",
     "output_type": "stream",
     "text": [
      "[14:47:26] WARNING: C:/Jenkins/workspace/xgboost-win64_release_0.90/src/objective/regression_obj.cu:152: reg:linear is now deprecated in favor of reg:squarederror.\n"
     ]
    },
    {
     "name": "stderr",
     "output_type": "stream",
     "text": [
      "C:\\Users\\wehrm\\AppData\\Local\\Continuum\\anaconda3\\lib\\site-packages\\xgboost\\core.py:587: FutureWarning:\n",
      "\n",
      "Series.base is deprecated and will be removed in a future version\n",
      "\n"
     ]
    },
    {
     "name": "stdout",
     "output_type": "stream",
     "text": [
      "[14:47:27] WARNING: C:/Jenkins/workspace/xgboost-win64_release_0.90/src/objective/regression_obj.cu:152: reg:linear is now deprecated in favor of reg:squarederror.\n"
     ]
    },
    {
     "name": "stderr",
     "output_type": "stream",
     "text": [
      "C:\\Users\\wehrm\\AppData\\Local\\Continuum\\anaconda3\\lib\\site-packages\\xgboost\\core.py:587: FutureWarning:\n",
      "\n",
      "Series.base is deprecated and will be removed in a future version\n",
      "\n"
     ]
    },
    {
     "name": "stdout",
     "output_type": "stream",
     "text": [
      "[14:47:27] WARNING: C:/Jenkins/workspace/xgboost-win64_release_0.90/src/objective/regression_obj.cu:152: reg:linear is now deprecated in favor of reg:squarederror.\n"
     ]
    },
    {
     "name": "stderr",
     "output_type": "stream",
     "text": [
      "C:\\Users\\wehrm\\AppData\\Local\\Continuum\\anaconda3\\lib\\site-packages\\xgboost\\core.py:587: FutureWarning:\n",
      "\n",
      "Series.base is deprecated and will be removed in a future version\n",
      "\n"
     ]
    },
    {
     "name": "stdout",
     "output_type": "stream",
     "text": [
      "[14:47:28] WARNING: C:/Jenkins/workspace/xgboost-win64_release_0.90/src/objective/regression_obj.cu:152: reg:linear is now deprecated in favor of reg:squarederror.\n"
     ]
    },
    {
     "name": "stderr",
     "output_type": "stream",
     "text": [
      "C:\\Users\\wehrm\\AppData\\Local\\Continuum\\anaconda3\\lib\\site-packages\\xgboost\\core.py:587: FutureWarning:\n",
      "\n",
      "Series.base is deprecated and will be removed in a future version\n",
      "\n"
     ]
    },
    {
     "name": "stdout",
     "output_type": "stream",
     "text": [
      "[14:47:29] WARNING: C:/Jenkins/workspace/xgboost-win64_release_0.90/src/objective/regression_obj.cu:152: reg:linear is now deprecated in favor of reg:squarederror.\n"
     ]
    },
    {
     "name": "stderr",
     "output_type": "stream",
     "text": [
      "C:\\Users\\wehrm\\AppData\\Local\\Continuum\\anaconda3\\lib\\site-packages\\xgboost\\core.py:587: FutureWarning:\n",
      "\n",
      "Series.base is deprecated and will be removed in a future version\n",
      "\n"
     ]
    },
    {
     "name": "stdout",
     "output_type": "stream",
     "text": [
      "[14:47:30] WARNING: C:/Jenkins/workspace/xgboost-win64_release_0.90/src/objective/regression_obj.cu:152: reg:linear is now deprecated in favor of reg:squarederror.\n"
     ]
    },
    {
     "name": "stderr",
     "output_type": "stream",
     "text": [
      "C:\\Users\\wehrm\\AppData\\Local\\Continuum\\anaconda3\\lib\\site-packages\\xgboost\\core.py:587: FutureWarning:\n",
      "\n",
      "Series.base is deprecated and will be removed in a future version\n",
      "\n"
     ]
    },
    {
     "name": "stdout",
     "output_type": "stream",
     "text": [
      "[14:47:31] WARNING: C:/Jenkins/workspace/xgboost-win64_release_0.90/src/objective/regression_obj.cu:152: reg:linear is now deprecated in favor of reg:squarederror.\n"
     ]
    },
    {
     "name": "stderr",
     "output_type": "stream",
     "text": [
      "C:\\Users\\wehrm\\AppData\\Local\\Continuum\\anaconda3\\lib\\site-packages\\xgboost\\core.py:587: FutureWarning:\n",
      "\n",
      "Series.base is deprecated and will be removed in a future version\n",
      "\n"
     ]
    },
    {
     "name": "stdout",
     "output_type": "stream",
     "text": [
      "[14:47:31] WARNING: C:/Jenkins/workspace/xgboost-win64_release_0.90/src/objective/regression_obj.cu:152: reg:linear is now deprecated in favor of reg:squarederror.\n"
     ]
    },
    {
     "name": "stderr",
     "output_type": "stream",
     "text": [
      "C:\\Users\\wehrm\\AppData\\Local\\Continuum\\anaconda3\\lib\\site-packages\\xgboost\\core.py:587: FutureWarning:\n",
      "\n",
      "Series.base is deprecated and will be removed in a future version\n",
      "\n"
     ]
    },
    {
     "name": "stdout",
     "output_type": "stream",
     "text": [
      "[14:47:32] WARNING: C:/Jenkins/workspace/xgboost-win64_release_0.90/src/objective/regression_obj.cu:152: reg:linear is now deprecated in favor of reg:squarederror.\n"
     ]
    },
    {
     "name": "stderr",
     "output_type": "stream",
     "text": [
      "C:\\Users\\wehrm\\AppData\\Local\\Continuum\\anaconda3\\lib\\site-packages\\xgboost\\core.py:587: FutureWarning:\n",
      "\n",
      "Series.base is deprecated and will be removed in a future version\n",
      "\n"
     ]
    },
    {
     "name": "stdout",
     "output_type": "stream",
     "text": [
      "[14:47:33] WARNING: C:/Jenkins/workspace/xgboost-win64_release_0.90/src/objective/regression_obj.cu:152: reg:linear is now deprecated in favor of reg:squarederror.\n"
     ]
    },
    {
     "name": "stderr",
     "output_type": "stream",
     "text": [
      "C:\\Users\\wehrm\\AppData\\Local\\Continuum\\anaconda3\\lib\\site-packages\\xgboost\\core.py:587: FutureWarning:\n",
      "\n",
      "Series.base is deprecated and will be removed in a future version\n",
      "\n"
     ]
    },
    {
     "name": "stdout",
     "output_type": "stream",
     "text": [
      "[14:47:35] WARNING: C:/Jenkins/workspace/xgboost-win64_release_0.90/src/objective/regression_obj.cu:152: reg:linear is now deprecated in favor of reg:squarederror.\n"
     ]
    },
    {
     "name": "stderr",
     "output_type": "stream",
     "text": [
      "C:\\Users\\wehrm\\AppData\\Local\\Continuum\\anaconda3\\lib\\site-packages\\xgboost\\core.py:587: FutureWarning:\n",
      "\n",
      "Series.base is deprecated and will be removed in a future version\n",
      "\n"
     ]
    },
    {
     "name": "stdout",
     "output_type": "stream",
     "text": [
      "[14:47:37] WARNING: C:/Jenkins/workspace/xgboost-win64_release_0.90/src/objective/regression_obj.cu:152: reg:linear is now deprecated in favor of reg:squarederror.\n"
     ]
    },
    {
     "name": "stderr",
     "output_type": "stream",
     "text": [
      "C:\\Users\\wehrm\\AppData\\Local\\Continuum\\anaconda3\\lib\\site-packages\\xgboost\\core.py:587: FutureWarning:\n",
      "\n",
      "Series.base is deprecated and will be removed in a future version\n",
      "\n"
     ]
    },
    {
     "name": "stdout",
     "output_type": "stream",
     "text": [
      "[14:47:39] WARNING: C:/Jenkins/workspace/xgboost-win64_release_0.90/src/objective/regression_obj.cu:152: reg:linear is now deprecated in favor of reg:squarederror.\n"
     ]
    },
    {
     "name": "stderr",
     "output_type": "stream",
     "text": [
      "C:\\Users\\wehrm\\AppData\\Local\\Continuum\\anaconda3\\lib\\site-packages\\xgboost\\core.py:587: FutureWarning:\n",
      "\n",
      "Series.base is deprecated and will be removed in a future version\n",
      "\n"
     ]
    },
    {
     "name": "stdout",
     "output_type": "stream",
     "text": [
      "[14:47:40] WARNING: C:/Jenkins/workspace/xgboost-win64_release_0.90/src/objective/regression_obj.cu:152: reg:linear is now deprecated in favor of reg:squarederror.\n"
     ]
    },
    {
     "name": "stderr",
     "output_type": "stream",
     "text": [
      "C:\\Users\\wehrm\\AppData\\Local\\Continuum\\anaconda3\\lib\\site-packages\\xgboost\\core.py:587: FutureWarning:\n",
      "\n",
      "Series.base is deprecated and will be removed in a future version\n",
      "\n"
     ]
    },
    {
     "name": "stdout",
     "output_type": "stream",
     "text": [
      "[14:47:42] WARNING: C:/Jenkins/workspace/xgboost-win64_release_0.90/src/objective/regression_obj.cu:152: reg:linear is now deprecated in favor of reg:squarederror.\n"
     ]
    },
    {
     "name": "stderr",
     "output_type": "stream",
     "text": [
      "C:\\Users\\wehrm\\AppData\\Local\\Continuum\\anaconda3\\lib\\site-packages\\xgboost\\core.py:587: FutureWarning:\n",
      "\n",
      "Series.base is deprecated and will be removed in a future version\n",
      "\n"
     ]
    },
    {
     "name": "stdout",
     "output_type": "stream",
     "text": [
      "[14:47:43] WARNING: C:/Jenkins/workspace/xgboost-win64_release_0.90/src/objective/regression_obj.cu:152: reg:linear is now deprecated in favor of reg:squarederror.\n"
     ]
    },
    {
     "name": "stderr",
     "output_type": "stream",
     "text": [
      "C:\\Users\\wehrm\\AppData\\Local\\Continuum\\anaconda3\\lib\\site-packages\\xgboost\\core.py:587: FutureWarning:\n",
      "\n",
      "Series.base is deprecated and will be removed in a future version\n",
      "\n"
     ]
    },
    {
     "name": "stdout",
     "output_type": "stream",
     "text": [
      "[14:47:45] WARNING: C:/Jenkins/workspace/xgboost-win64_release_0.90/src/objective/regression_obj.cu:152: reg:linear is now deprecated in favor of reg:squarederror.\n"
     ]
    },
    {
     "name": "stderr",
     "output_type": "stream",
     "text": [
      "C:\\Users\\wehrm\\AppData\\Local\\Continuum\\anaconda3\\lib\\site-packages\\xgboost\\core.py:587: FutureWarning:\n",
      "\n",
      "Series.base is deprecated and will be removed in a future version\n",
      "\n"
     ]
    },
    {
     "name": "stdout",
     "output_type": "stream",
     "text": [
      "[14:47:46] WARNING: C:/Jenkins/workspace/xgboost-win64_release_0.90/src/objective/regression_obj.cu:152: reg:linear is now deprecated in favor of reg:squarederror.\n"
     ]
    },
    {
     "name": "stderr",
     "output_type": "stream",
     "text": [
      "C:\\Users\\wehrm\\AppData\\Local\\Continuum\\anaconda3\\lib\\site-packages\\xgboost\\core.py:587: FutureWarning:\n",
      "\n",
      "Series.base is deprecated and will be removed in a future version\n",
      "\n"
     ]
    },
    {
     "name": "stdout",
     "output_type": "stream",
     "text": [
      "[14:47:48] WARNING: C:/Jenkins/workspace/xgboost-win64_release_0.90/src/objective/regression_obj.cu:152: reg:linear is now deprecated in favor of reg:squarederror.\n"
     ]
    },
    {
     "name": "stderr",
     "output_type": "stream",
     "text": [
      "C:\\Users\\wehrm\\AppData\\Local\\Continuum\\anaconda3\\lib\\site-packages\\xgboost\\core.py:587: FutureWarning:\n",
      "\n",
      "Series.base is deprecated and will be removed in a future version\n",
      "\n"
     ]
    },
    {
     "name": "stdout",
     "output_type": "stream",
     "text": [
      "[14:47:49] WARNING: C:/Jenkins/workspace/xgboost-win64_release_0.90/src/objective/regression_obj.cu:152: reg:linear is now deprecated in favor of reg:squarederror.\n"
     ]
    },
    {
     "name": "stderr",
     "output_type": "stream",
     "text": [
      "C:\\Users\\wehrm\\AppData\\Local\\Continuum\\anaconda3\\lib\\site-packages\\xgboost\\core.py:587: FutureWarning:\n",
      "\n",
      "Series.base is deprecated and will be removed in a future version\n",
      "\n"
     ]
    },
    {
     "name": "stdout",
     "output_type": "stream",
     "text": [
      "[14:47:50] WARNING: C:/Jenkins/workspace/xgboost-win64_release_0.90/src/objective/regression_obj.cu:152: reg:linear is now deprecated in favor of reg:squarederror.\n"
     ]
    },
    {
     "name": "stderr",
     "output_type": "stream",
     "text": [
      "C:\\Users\\wehrm\\AppData\\Local\\Continuum\\anaconda3\\lib\\site-packages\\xgboost\\core.py:587: FutureWarning:\n",
      "\n",
      "Series.base is deprecated and will be removed in a future version\n",
      "\n"
     ]
    },
    {
     "name": "stdout",
     "output_type": "stream",
     "text": [
      "[14:47:52] WARNING: C:/Jenkins/workspace/xgboost-win64_release_0.90/src/objective/regression_obj.cu:152: reg:linear is now deprecated in favor of reg:squarederror.\n"
     ]
    },
    {
     "name": "stderr",
     "output_type": "stream",
     "text": [
      "C:\\Users\\wehrm\\AppData\\Local\\Continuum\\anaconda3\\lib\\site-packages\\xgboost\\core.py:587: FutureWarning:\n",
      "\n",
      "Series.base is deprecated and will be removed in a future version\n",
      "\n"
     ]
    },
    {
     "name": "stdout",
     "output_type": "stream",
     "text": [
      "[14:47:53] WARNING: C:/Jenkins/workspace/xgboost-win64_release_0.90/src/objective/regression_obj.cu:152: reg:linear is now deprecated in favor of reg:squarederror.\n"
     ]
    },
    {
     "name": "stderr",
     "output_type": "stream",
     "text": [
      "C:\\Users\\wehrm\\AppData\\Local\\Continuum\\anaconda3\\lib\\site-packages\\xgboost\\core.py:587: FutureWarning:\n",
      "\n",
      "Series.base is deprecated and will be removed in a future version\n",
      "\n"
     ]
    },
    {
     "name": "stdout",
     "output_type": "stream",
     "text": [
      "[14:47:55] WARNING: C:/Jenkins/workspace/xgboost-win64_release_0.90/src/objective/regression_obj.cu:152: reg:linear is now deprecated in favor of reg:squarederror.\n"
     ]
    },
    {
     "name": "stderr",
     "output_type": "stream",
     "text": [
      "C:\\Users\\wehrm\\AppData\\Local\\Continuum\\anaconda3\\lib\\site-packages\\xgboost\\core.py:587: FutureWarning:\n",
      "\n",
      "Series.base is deprecated and will be removed in a future version\n",
      "\n"
     ]
    },
    {
     "name": "stdout",
     "output_type": "stream",
     "text": [
      "[14:47:56] WARNING: C:/Jenkins/workspace/xgboost-win64_release_0.90/src/objective/regression_obj.cu:152: reg:linear is now deprecated in favor of reg:squarederror.\n"
     ]
    },
    {
     "name": "stderr",
     "output_type": "stream",
     "text": [
      "C:\\Users\\wehrm\\AppData\\Local\\Continuum\\anaconda3\\lib\\site-packages\\xgboost\\core.py:587: FutureWarning:\n",
      "\n",
      "Series.base is deprecated and will be removed in a future version\n",
      "\n"
     ]
    },
    {
     "name": "stdout",
     "output_type": "stream",
     "text": [
      "[14:47:58] WARNING: C:/Jenkins/workspace/xgboost-win64_release_0.90/src/objective/regression_obj.cu:152: reg:linear is now deprecated in favor of reg:squarederror.\n"
     ]
    },
    {
     "name": "stderr",
     "output_type": "stream",
     "text": [
      "C:\\Users\\wehrm\\AppData\\Local\\Continuum\\anaconda3\\lib\\site-packages\\xgboost\\core.py:587: FutureWarning:\n",
      "\n",
      "Series.base is deprecated and will be removed in a future version\n",
      "\n"
     ]
    },
    {
     "name": "stdout",
     "output_type": "stream",
     "text": [
      "[14:47:59] WARNING: C:/Jenkins/workspace/xgboost-win64_release_0.90/src/objective/regression_obj.cu:152: reg:linear is now deprecated in favor of reg:squarederror.\n"
     ]
    },
    {
     "name": "stderr",
     "output_type": "stream",
     "text": [
      "C:\\Users\\wehrm\\AppData\\Local\\Continuum\\anaconda3\\lib\\site-packages\\xgboost\\core.py:587: FutureWarning:\n",
      "\n",
      "Series.base is deprecated and will be removed in a future version\n",
      "\n"
     ]
    },
    {
     "name": "stdout",
     "output_type": "stream",
     "text": [
      "[14:48:00] WARNING: C:/Jenkins/workspace/xgboost-win64_release_0.90/src/objective/regression_obj.cu:152: reg:linear is now deprecated in favor of reg:squarederror.\n"
     ]
    },
    {
     "name": "stderr",
     "output_type": "stream",
     "text": [
      "C:\\Users\\wehrm\\AppData\\Local\\Continuum\\anaconda3\\lib\\site-packages\\xgboost\\core.py:587: FutureWarning:\n",
      "\n",
      "Series.base is deprecated and will be removed in a future version\n",
      "\n"
     ]
    },
    {
     "name": "stdout",
     "output_type": "stream",
     "text": [
      "[14:48:01] WARNING: C:/Jenkins/workspace/xgboost-win64_release_0.90/src/objective/regression_obj.cu:152: reg:linear is now deprecated in favor of reg:squarederror.\n"
     ]
    },
    {
     "name": "stderr",
     "output_type": "stream",
     "text": [
      "C:\\Users\\wehrm\\AppData\\Local\\Continuum\\anaconda3\\lib\\site-packages\\xgboost\\core.py:587: FutureWarning:\n",
      "\n",
      "Series.base is deprecated and will be removed in a future version\n",
      "\n"
     ]
    },
    {
     "name": "stdout",
     "output_type": "stream",
     "text": [
      "[14:48:01] WARNING: C:/Jenkins/workspace/xgboost-win64_release_0.90/src/objective/regression_obj.cu:152: reg:linear is now deprecated in favor of reg:squarederror.\n"
     ]
    },
    {
     "name": "stderr",
     "output_type": "stream",
     "text": [
      "C:\\Users\\wehrm\\AppData\\Local\\Continuum\\anaconda3\\lib\\site-packages\\xgboost\\core.py:587: FutureWarning:\n",
      "\n",
      "Series.base is deprecated and will be removed in a future version\n",
      "\n"
     ]
    },
    {
     "name": "stdout",
     "output_type": "stream",
     "text": [
      "[14:48:02] WARNING: C:/Jenkins/workspace/xgboost-win64_release_0.90/src/objective/regression_obj.cu:152: reg:linear is now deprecated in favor of reg:squarederror.\n"
     ]
    },
    {
     "name": "stderr",
     "output_type": "stream",
     "text": [
      "C:\\Users\\wehrm\\AppData\\Local\\Continuum\\anaconda3\\lib\\site-packages\\xgboost\\core.py:587: FutureWarning:\n",
      "\n",
      "Series.base is deprecated and will be removed in a future version\n",
      "\n"
     ]
    },
    {
     "name": "stdout",
     "output_type": "stream",
     "text": [
      "[14:48:02] WARNING: C:/Jenkins/workspace/xgboost-win64_release_0.90/src/objective/regression_obj.cu:152: reg:linear is now deprecated in favor of reg:squarederror.\n"
     ]
    },
    {
     "name": "stderr",
     "output_type": "stream",
     "text": [
      "C:\\Users\\wehrm\\AppData\\Local\\Continuum\\anaconda3\\lib\\site-packages\\xgboost\\core.py:587: FutureWarning:\n",
      "\n",
      "Series.base is deprecated and will be removed in a future version\n",
      "\n"
     ]
    },
    {
     "name": "stdout",
     "output_type": "stream",
     "text": [
      "[14:48:02] WARNING: C:/Jenkins/workspace/xgboost-win64_release_0.90/src/objective/regression_obj.cu:152: reg:linear is now deprecated in favor of reg:squarederror.\n"
     ]
    },
    {
     "name": "stderr",
     "output_type": "stream",
     "text": [
      "C:\\Users\\wehrm\\AppData\\Local\\Continuum\\anaconda3\\lib\\site-packages\\xgboost\\core.py:587: FutureWarning:\n",
      "\n",
      "Series.base is deprecated and will be removed in a future version\n",
      "\n"
     ]
    },
    {
     "name": "stdout",
     "output_type": "stream",
     "text": [
      "[14:48:03] WARNING: C:/Jenkins/workspace/xgboost-win64_release_0.90/src/objective/regression_obj.cu:152: reg:linear is now deprecated in favor of reg:squarederror.\n"
     ]
    },
    {
     "name": "stderr",
     "output_type": "stream",
     "text": [
      "C:\\Users\\wehrm\\AppData\\Local\\Continuum\\anaconda3\\lib\\site-packages\\xgboost\\core.py:587: FutureWarning:\n",
      "\n",
      "Series.base is deprecated and will be removed in a future version\n",
      "\n"
     ]
    },
    {
     "name": "stdout",
     "output_type": "stream",
     "text": [
      "[14:48:03] WARNING: C:/Jenkins/workspace/xgboost-win64_release_0.90/src/objective/regression_obj.cu:152: reg:linear is now deprecated in favor of reg:squarederror.\n"
     ]
    },
    {
     "name": "stderr",
     "output_type": "stream",
     "text": [
      "C:\\Users\\wehrm\\AppData\\Local\\Continuum\\anaconda3\\lib\\site-packages\\xgboost\\core.py:587: FutureWarning:\n",
      "\n",
      "Series.base is deprecated and will be removed in a future version\n",
      "\n"
     ]
    },
    {
     "name": "stdout",
     "output_type": "stream",
     "text": [
      "[14:48:04] WARNING: C:/Jenkins/workspace/xgboost-win64_release_0.90/src/objective/regression_obj.cu:152: reg:linear is now deprecated in favor of reg:squarederror.\n"
     ]
    },
    {
     "name": "stderr",
     "output_type": "stream",
     "text": [
      "C:\\Users\\wehrm\\AppData\\Local\\Continuum\\anaconda3\\lib\\site-packages\\xgboost\\core.py:587: FutureWarning:\n",
      "\n",
      "Series.base is deprecated and will be removed in a future version\n",
      "\n"
     ]
    },
    {
     "name": "stdout",
     "output_type": "stream",
     "text": [
      "[14:48:04] WARNING: C:/Jenkins/workspace/xgboost-win64_release_0.90/src/objective/regression_obj.cu:152: reg:linear is now deprecated in favor of reg:squarederror.\n"
     ]
    },
    {
     "name": "stderr",
     "output_type": "stream",
     "text": [
      "C:\\Users\\wehrm\\AppData\\Local\\Continuum\\anaconda3\\lib\\site-packages\\xgboost\\core.py:587: FutureWarning:\n",
      "\n",
      "Series.base is deprecated and will be removed in a future version\n",
      "\n"
     ]
    },
    {
     "name": "stdout",
     "output_type": "stream",
     "text": [
      "[14:48:04] WARNING: C:/Jenkins/workspace/xgboost-win64_release_0.90/src/objective/regression_obj.cu:152: reg:linear is now deprecated in favor of reg:squarederror.\n"
     ]
    },
    {
     "name": "stderr",
     "output_type": "stream",
     "text": [
      "C:\\Users\\wehrm\\AppData\\Local\\Continuum\\anaconda3\\lib\\site-packages\\xgboost\\core.py:587: FutureWarning:\n",
      "\n",
      "Series.base is deprecated and will be removed in a future version\n",
      "\n"
     ]
    },
    {
     "name": "stdout",
     "output_type": "stream",
     "text": [
      "[14:48:05] WARNING: C:/Jenkins/workspace/xgboost-win64_release_0.90/src/objective/regression_obj.cu:152: reg:linear is now deprecated in favor of reg:squarederror.\n"
     ]
    },
    {
     "name": "stderr",
     "output_type": "stream",
     "text": [
      "C:\\Users\\wehrm\\AppData\\Local\\Continuum\\anaconda3\\lib\\site-packages\\xgboost\\core.py:587: FutureWarning:\n",
      "\n",
      "Series.base is deprecated and will be removed in a future version\n",
      "\n"
     ]
    },
    {
     "name": "stdout",
     "output_type": "stream",
     "text": [
      "[14:48:05] WARNING: C:/Jenkins/workspace/xgboost-win64_release_0.90/src/objective/regression_obj.cu:152: reg:linear is now deprecated in favor of reg:squarederror.\n"
     ]
    },
    {
     "name": "stderr",
     "output_type": "stream",
     "text": [
      "C:\\Users\\wehrm\\AppData\\Local\\Continuum\\anaconda3\\lib\\site-packages\\xgboost\\core.py:587: FutureWarning:\n",
      "\n",
      "Series.base is deprecated and will be removed in a future version\n",
      "\n"
     ]
    },
    {
     "name": "stdout",
     "output_type": "stream",
     "text": [
      "[14:48:06] WARNING: C:/Jenkins/workspace/xgboost-win64_release_0.90/src/objective/regression_obj.cu:152: reg:linear is now deprecated in favor of reg:squarederror.\n"
     ]
    },
    {
     "name": "stderr",
     "output_type": "stream",
     "text": [
      "C:\\Users\\wehrm\\AppData\\Local\\Continuum\\anaconda3\\lib\\site-packages\\xgboost\\core.py:587: FutureWarning:\n",
      "\n",
      "Series.base is deprecated and will be removed in a future version\n",
      "\n"
     ]
    },
    {
     "name": "stdout",
     "output_type": "stream",
     "text": [
      "[14:48:06] WARNING: C:/Jenkins/workspace/xgboost-win64_release_0.90/src/objective/regression_obj.cu:152: reg:linear is now deprecated in favor of reg:squarederror.\n"
     ]
    },
    {
     "name": "stderr",
     "output_type": "stream",
     "text": [
      "C:\\Users\\wehrm\\AppData\\Local\\Continuum\\anaconda3\\lib\\site-packages\\xgboost\\core.py:587: FutureWarning:\n",
      "\n",
      "Series.base is deprecated and will be removed in a future version\n",
      "\n"
     ]
    },
    {
     "name": "stdout",
     "output_type": "stream",
     "text": [
      "[14:48:06] WARNING: C:/Jenkins/workspace/xgboost-win64_release_0.90/src/objective/regression_obj.cu:152: reg:linear is now deprecated in favor of reg:squarederror.\n"
     ]
    },
    {
     "name": "stderr",
     "output_type": "stream",
     "text": [
      "C:\\Users\\wehrm\\AppData\\Local\\Continuum\\anaconda3\\lib\\site-packages\\xgboost\\core.py:587: FutureWarning:\n",
      "\n",
      "Series.base is deprecated and will be removed in a future version\n",
      "\n"
     ]
    },
    {
     "name": "stdout",
     "output_type": "stream",
     "text": [
      "[14:48:07] WARNING: C:/Jenkins/workspace/xgboost-win64_release_0.90/src/objective/regression_obj.cu:152: reg:linear is now deprecated in favor of reg:squarederror.\n"
     ]
    },
    {
     "name": "stderr",
     "output_type": "stream",
     "text": [
      "C:\\Users\\wehrm\\AppData\\Local\\Continuum\\anaconda3\\lib\\site-packages\\xgboost\\core.py:587: FutureWarning:\n",
      "\n",
      "Series.base is deprecated and will be removed in a future version\n",
      "\n"
     ]
    },
    {
     "name": "stdout",
     "output_type": "stream",
     "text": [
      "[14:48:07] WARNING: C:/Jenkins/workspace/xgboost-win64_release_0.90/src/objective/regression_obj.cu:152: reg:linear is now deprecated in favor of reg:squarederror.\n"
     ]
    },
    {
     "name": "stderr",
     "output_type": "stream",
     "text": [
      "C:\\Users\\wehrm\\AppData\\Local\\Continuum\\anaconda3\\lib\\site-packages\\xgboost\\core.py:587: FutureWarning:\n",
      "\n",
      "Series.base is deprecated and will be removed in a future version\n",
      "\n"
     ]
    },
    {
     "name": "stdout",
     "output_type": "stream",
     "text": [
      "[14:48:08] WARNING: C:/Jenkins/workspace/xgboost-win64_release_0.90/src/objective/regression_obj.cu:152: reg:linear is now deprecated in favor of reg:squarederror.\n"
     ]
    },
    {
     "name": "stderr",
     "output_type": "stream",
     "text": [
      "C:\\Users\\wehrm\\AppData\\Local\\Continuum\\anaconda3\\lib\\site-packages\\xgboost\\core.py:587: FutureWarning:\n",
      "\n",
      "Series.base is deprecated and will be removed in a future version\n",
      "\n"
     ]
    },
    {
     "name": "stdout",
     "output_type": "stream",
     "text": [
      "[14:48:08] WARNING: C:/Jenkins/workspace/xgboost-win64_release_0.90/src/objective/regression_obj.cu:152: reg:linear is now deprecated in favor of reg:squarederror.\n"
     ]
    },
    {
     "name": "stderr",
     "output_type": "stream",
     "text": [
      "C:\\Users\\wehrm\\AppData\\Local\\Continuum\\anaconda3\\lib\\site-packages\\xgboost\\core.py:587: FutureWarning:\n",
      "\n",
      "Series.base is deprecated and will be removed in a future version\n",
      "\n"
     ]
    },
    {
     "name": "stdout",
     "output_type": "stream",
     "text": [
      "[14:48:09] WARNING: C:/Jenkins/workspace/xgboost-win64_release_0.90/src/objective/regression_obj.cu:152: reg:linear is now deprecated in favor of reg:squarederror.\n"
     ]
    },
    {
     "name": "stderr",
     "output_type": "stream",
     "text": [
      "C:\\Users\\wehrm\\AppData\\Local\\Continuum\\anaconda3\\lib\\site-packages\\xgboost\\core.py:587: FutureWarning:\n",
      "\n",
      "Series.base is deprecated and will be removed in a future version\n",
      "\n"
     ]
    },
    {
     "name": "stdout",
     "output_type": "stream",
     "text": [
      "[14:48:10] WARNING: C:/Jenkins/workspace/xgboost-win64_release_0.90/src/objective/regression_obj.cu:152: reg:linear is now deprecated in favor of reg:squarederror.\n"
     ]
    },
    {
     "name": "stderr",
     "output_type": "stream",
     "text": [
      "C:\\Users\\wehrm\\AppData\\Local\\Continuum\\anaconda3\\lib\\site-packages\\xgboost\\core.py:587: FutureWarning:\n",
      "\n",
      "Series.base is deprecated and will be removed in a future version\n",
      "\n"
     ]
    },
    {
     "name": "stdout",
     "output_type": "stream",
     "text": [
      "[14:48:11] WARNING: C:/Jenkins/workspace/xgboost-win64_release_0.90/src/objective/regression_obj.cu:152: reg:linear is now deprecated in favor of reg:squarederror.\n"
     ]
    },
    {
     "name": "stderr",
     "output_type": "stream",
     "text": [
      "C:\\Users\\wehrm\\AppData\\Local\\Continuum\\anaconda3\\lib\\site-packages\\xgboost\\core.py:587: FutureWarning:\n",
      "\n",
      "Series.base is deprecated and will be removed in a future version\n",
      "\n"
     ]
    },
    {
     "name": "stdout",
     "output_type": "stream",
     "text": [
      "[14:48:12] WARNING: C:/Jenkins/workspace/xgboost-win64_release_0.90/src/objective/regression_obj.cu:152: reg:linear is now deprecated in favor of reg:squarederror.\n"
     ]
    },
    {
     "name": "stderr",
     "output_type": "stream",
     "text": [
      "C:\\Users\\wehrm\\AppData\\Local\\Continuum\\anaconda3\\lib\\site-packages\\xgboost\\core.py:587: FutureWarning:\n",
      "\n",
      "Series.base is deprecated and will be removed in a future version\n",
      "\n"
     ]
    },
    {
     "name": "stdout",
     "output_type": "stream",
     "text": [
      "[14:48:12] WARNING: C:/Jenkins/workspace/xgboost-win64_release_0.90/src/objective/regression_obj.cu:152: reg:linear is now deprecated in favor of reg:squarederror.\n"
     ]
    },
    {
     "name": "stderr",
     "output_type": "stream",
     "text": [
      "C:\\Users\\wehrm\\AppData\\Local\\Continuum\\anaconda3\\lib\\site-packages\\xgboost\\core.py:587: FutureWarning:\n",
      "\n",
      "Series.base is deprecated and will be removed in a future version\n",
      "\n"
     ]
    },
    {
     "name": "stdout",
     "output_type": "stream",
     "text": [
      "[14:48:13] WARNING: C:/Jenkins/workspace/xgboost-win64_release_0.90/src/objective/regression_obj.cu:152: reg:linear is now deprecated in favor of reg:squarederror.\n"
     ]
    },
    {
     "name": "stderr",
     "output_type": "stream",
     "text": [
      "C:\\Users\\wehrm\\AppData\\Local\\Continuum\\anaconda3\\lib\\site-packages\\xgboost\\core.py:587: FutureWarning:\n",
      "\n",
      "Series.base is deprecated and will be removed in a future version\n",
      "\n"
     ]
    },
    {
     "name": "stdout",
     "output_type": "stream",
     "text": [
      "[14:48:14] WARNING: C:/Jenkins/workspace/xgboost-win64_release_0.90/src/objective/regression_obj.cu:152: reg:linear is now deprecated in favor of reg:squarederror.\n"
     ]
    },
    {
     "name": "stderr",
     "output_type": "stream",
     "text": [
      "C:\\Users\\wehrm\\AppData\\Local\\Continuum\\anaconda3\\lib\\site-packages\\xgboost\\core.py:587: FutureWarning:\n",
      "\n",
      "Series.base is deprecated and will be removed in a future version\n",
      "\n"
     ]
    },
    {
     "name": "stdout",
     "output_type": "stream",
     "text": [
      "[14:48:15] WARNING: C:/Jenkins/workspace/xgboost-win64_release_0.90/src/objective/regression_obj.cu:152: reg:linear is now deprecated in favor of reg:squarederror.\n"
     ]
    },
    {
     "name": "stderr",
     "output_type": "stream",
     "text": [
      "C:\\Users\\wehrm\\AppData\\Local\\Continuum\\anaconda3\\lib\\site-packages\\xgboost\\core.py:587: FutureWarning:\n",
      "\n",
      "Series.base is deprecated and will be removed in a future version\n",
      "\n"
     ]
    },
    {
     "name": "stdout",
     "output_type": "stream",
     "text": [
      "[14:48:16] WARNING: C:/Jenkins/workspace/xgboost-win64_release_0.90/src/objective/regression_obj.cu:152: reg:linear is now deprecated in favor of reg:squarederror.\n"
     ]
    },
    {
     "name": "stderr",
     "output_type": "stream",
     "text": [
      "C:\\Users\\wehrm\\AppData\\Local\\Continuum\\anaconda3\\lib\\site-packages\\xgboost\\core.py:587: FutureWarning:\n",
      "\n",
      "Series.base is deprecated and will be removed in a future version\n",
      "\n"
     ]
    },
    {
     "name": "stdout",
     "output_type": "stream",
     "text": [
      "[14:48:16] WARNING: C:/Jenkins/workspace/xgboost-win64_release_0.90/src/objective/regression_obj.cu:152: reg:linear is now deprecated in favor of reg:squarederror.\n"
     ]
    },
    {
     "name": "stderr",
     "output_type": "stream",
     "text": [
      "C:\\Users\\wehrm\\AppData\\Local\\Continuum\\anaconda3\\lib\\site-packages\\xgboost\\core.py:587: FutureWarning:\n",
      "\n",
      "Series.base is deprecated and will be removed in a future version\n",
      "\n"
     ]
    },
    {
     "name": "stdout",
     "output_type": "stream",
     "text": [
      "[14:48:17] WARNING: C:/Jenkins/workspace/xgboost-win64_release_0.90/src/objective/regression_obj.cu:152: reg:linear is now deprecated in favor of reg:squarederror.\n"
     ]
    },
    {
     "name": "stderr",
     "output_type": "stream",
     "text": [
      "C:\\Users\\wehrm\\AppData\\Local\\Continuum\\anaconda3\\lib\\site-packages\\xgboost\\core.py:587: FutureWarning:\n",
      "\n",
      "Series.base is deprecated and will be removed in a future version\n",
      "\n"
     ]
    },
    {
     "name": "stdout",
     "output_type": "stream",
     "text": [
      "[14:48:18] WARNING: C:/Jenkins/workspace/xgboost-win64_release_0.90/src/objective/regression_obj.cu:152: reg:linear is now deprecated in favor of reg:squarederror.\n"
     ]
    },
    {
     "name": "stderr",
     "output_type": "stream",
     "text": [
      "C:\\Users\\wehrm\\AppData\\Local\\Continuum\\anaconda3\\lib\\site-packages\\xgboost\\core.py:587: FutureWarning:\n",
      "\n",
      "Series.base is deprecated and will be removed in a future version\n",
      "\n"
     ]
    },
    {
     "name": "stdout",
     "output_type": "stream",
     "text": [
      "[14:48:19] WARNING: C:/Jenkins/workspace/xgboost-win64_release_0.90/src/objective/regression_obj.cu:152: reg:linear is now deprecated in favor of reg:squarederror.\n"
     ]
    },
    {
     "name": "stderr",
     "output_type": "stream",
     "text": [
      "C:\\Users\\wehrm\\AppData\\Local\\Continuum\\anaconda3\\lib\\site-packages\\xgboost\\core.py:587: FutureWarning:\n",
      "\n",
      "Series.base is deprecated and will be removed in a future version\n",
      "\n"
     ]
    },
    {
     "name": "stdout",
     "output_type": "stream",
     "text": [
      "[14:48:20] WARNING: C:/Jenkins/workspace/xgboost-win64_release_0.90/src/objective/regression_obj.cu:152: reg:linear is now deprecated in favor of reg:squarederror.\n"
     ]
    },
    {
     "name": "stderr",
     "output_type": "stream",
     "text": [
      "C:\\Users\\wehrm\\AppData\\Local\\Continuum\\anaconda3\\lib\\site-packages\\xgboost\\core.py:587: FutureWarning:\n",
      "\n",
      "Series.base is deprecated and will be removed in a future version\n",
      "\n"
     ]
    },
    {
     "name": "stdout",
     "output_type": "stream",
     "text": [
      "[14:48:21] WARNING: C:/Jenkins/workspace/xgboost-win64_release_0.90/src/objective/regression_obj.cu:152: reg:linear is now deprecated in favor of reg:squarederror.\n"
     ]
    },
    {
     "name": "stderr",
     "output_type": "stream",
     "text": [
      "C:\\Users\\wehrm\\AppData\\Local\\Continuum\\anaconda3\\lib\\site-packages\\xgboost\\core.py:587: FutureWarning:\n",
      "\n",
      "Series.base is deprecated and will be removed in a future version\n",
      "\n"
     ]
    },
    {
     "name": "stdout",
     "output_type": "stream",
     "text": [
      "[14:48:21] WARNING: C:/Jenkins/workspace/xgboost-win64_release_0.90/src/objective/regression_obj.cu:152: reg:linear is now deprecated in favor of reg:squarederror.\n"
     ]
    },
    {
     "name": "stderr",
     "output_type": "stream",
     "text": [
      "C:\\Users\\wehrm\\AppData\\Local\\Continuum\\anaconda3\\lib\\site-packages\\xgboost\\core.py:587: FutureWarning:\n",
      "\n",
      "Series.base is deprecated and will be removed in a future version\n",
      "\n"
     ]
    },
    {
     "name": "stdout",
     "output_type": "stream",
     "text": [
      "[14:48:22] WARNING: C:/Jenkins/workspace/xgboost-win64_release_0.90/src/objective/regression_obj.cu:152: reg:linear is now deprecated in favor of reg:squarederror.\n"
     ]
    },
    {
     "name": "stderr",
     "output_type": "stream",
     "text": [
      "C:\\Users\\wehrm\\AppData\\Local\\Continuum\\anaconda3\\lib\\site-packages\\xgboost\\core.py:587: FutureWarning:\n",
      "\n",
      "Series.base is deprecated and will be removed in a future version\n",
      "\n"
     ]
    },
    {
     "name": "stdout",
     "output_type": "stream",
     "text": [
      "[14:48:24] WARNING: C:/Jenkins/workspace/xgboost-win64_release_0.90/src/objective/regression_obj.cu:152: reg:linear is now deprecated in favor of reg:squarederror.\n"
     ]
    },
    {
     "name": "stderr",
     "output_type": "stream",
     "text": [
      "C:\\Users\\wehrm\\AppData\\Local\\Continuum\\anaconda3\\lib\\site-packages\\xgboost\\core.py:587: FutureWarning:\n",
      "\n",
      "Series.base is deprecated and will be removed in a future version\n",
      "\n"
     ]
    },
    {
     "name": "stdout",
     "output_type": "stream",
     "text": [
      "[14:48:25] WARNING: C:/Jenkins/workspace/xgboost-win64_release_0.90/src/objective/regression_obj.cu:152: reg:linear is now deprecated in favor of reg:squarederror.\n"
     ]
    },
    {
     "name": "stderr",
     "output_type": "stream",
     "text": [
      "C:\\Users\\wehrm\\AppData\\Local\\Continuum\\anaconda3\\lib\\site-packages\\xgboost\\core.py:587: FutureWarning:\n",
      "\n",
      "Series.base is deprecated and will be removed in a future version\n",
      "\n"
     ]
    },
    {
     "name": "stdout",
     "output_type": "stream",
     "text": [
      "[14:48:27] WARNING: C:/Jenkins/workspace/xgboost-win64_release_0.90/src/objective/regression_obj.cu:152: reg:linear is now deprecated in favor of reg:squarederror.\n"
     ]
    },
    {
     "name": "stderr",
     "output_type": "stream",
     "text": [
      "C:\\Users\\wehrm\\AppData\\Local\\Continuum\\anaconda3\\lib\\site-packages\\xgboost\\core.py:587: FutureWarning:\n",
      "\n",
      "Series.base is deprecated and will be removed in a future version\n",
      "\n"
     ]
    },
    {
     "name": "stdout",
     "output_type": "stream",
     "text": [
      "[14:48:28] WARNING: C:/Jenkins/workspace/xgboost-win64_release_0.90/src/objective/regression_obj.cu:152: reg:linear is now deprecated in favor of reg:squarederror.\n"
     ]
    },
    {
     "name": "stderr",
     "output_type": "stream",
     "text": [
      "C:\\Users\\wehrm\\AppData\\Local\\Continuum\\anaconda3\\lib\\site-packages\\xgboost\\core.py:587: FutureWarning:\n",
      "\n",
      "Series.base is deprecated and will be removed in a future version\n",
      "\n"
     ]
    },
    {
     "name": "stdout",
     "output_type": "stream",
     "text": [
      "[14:48:29] WARNING: C:/Jenkins/workspace/xgboost-win64_release_0.90/src/objective/regression_obj.cu:152: reg:linear is now deprecated in favor of reg:squarederror.\n"
     ]
    },
    {
     "name": "stderr",
     "output_type": "stream",
     "text": [
      "C:\\Users\\wehrm\\AppData\\Local\\Continuum\\anaconda3\\lib\\site-packages\\xgboost\\core.py:587: FutureWarning:\n",
      "\n",
      "Series.base is deprecated and will be removed in a future version\n",
      "\n"
     ]
    },
    {
     "name": "stdout",
     "output_type": "stream",
     "text": [
      "[14:48:31] WARNING: C:/Jenkins/workspace/xgboost-win64_release_0.90/src/objective/regression_obj.cu:152: reg:linear is now deprecated in favor of reg:squarederror.\n"
     ]
    },
    {
     "name": "stderr",
     "output_type": "stream",
     "text": [
      "C:\\Users\\wehrm\\AppData\\Local\\Continuum\\anaconda3\\lib\\site-packages\\xgboost\\core.py:587: FutureWarning:\n",
      "\n",
      "Series.base is deprecated and will be removed in a future version\n",
      "\n"
     ]
    },
    {
     "name": "stdout",
     "output_type": "stream",
     "text": [
      "[14:48:32] WARNING: C:/Jenkins/workspace/xgboost-win64_release_0.90/src/objective/regression_obj.cu:152: reg:linear is now deprecated in favor of reg:squarederror.\n"
     ]
    },
    {
     "name": "stderr",
     "output_type": "stream",
     "text": [
      "C:\\Users\\wehrm\\AppData\\Local\\Continuum\\anaconda3\\lib\\site-packages\\xgboost\\core.py:587: FutureWarning:\n",
      "\n",
      "Series.base is deprecated and will be removed in a future version\n",
      "\n"
     ]
    },
    {
     "name": "stdout",
     "output_type": "stream",
     "text": [
      "[14:48:34] WARNING: C:/Jenkins/workspace/xgboost-win64_release_0.90/src/objective/regression_obj.cu:152: reg:linear is now deprecated in favor of reg:squarederror.\n"
     ]
    },
    {
     "name": "stderr",
     "output_type": "stream",
     "text": [
      "C:\\Users\\wehrm\\AppData\\Local\\Continuum\\anaconda3\\lib\\site-packages\\xgboost\\core.py:587: FutureWarning:\n",
      "\n",
      "Series.base is deprecated and will be removed in a future version\n",
      "\n"
     ]
    },
    {
     "name": "stdout",
     "output_type": "stream",
     "text": [
      "[14:48:35] WARNING: C:/Jenkins/workspace/xgboost-win64_release_0.90/src/objective/regression_obj.cu:152: reg:linear is now deprecated in favor of reg:squarederror.\n"
     ]
    },
    {
     "name": "stderr",
     "output_type": "stream",
     "text": [
      "C:\\Users\\wehrm\\AppData\\Local\\Continuum\\anaconda3\\lib\\site-packages\\xgboost\\core.py:587: FutureWarning:\n",
      "\n",
      "Series.base is deprecated and will be removed in a future version\n",
      "\n"
     ]
    },
    {
     "name": "stdout",
     "output_type": "stream",
     "text": [
      "[14:48:37] WARNING: C:/Jenkins/workspace/xgboost-win64_release_0.90/src/objective/regression_obj.cu:152: reg:linear is now deprecated in favor of reg:squarederror.\n"
     ]
    },
    {
     "name": "stderr",
     "output_type": "stream",
     "text": [
      "C:\\Users\\wehrm\\AppData\\Local\\Continuum\\anaconda3\\lib\\site-packages\\xgboost\\core.py:587: FutureWarning:\n",
      "\n",
      "Series.base is deprecated and will be removed in a future version\n",
      "\n"
     ]
    },
    {
     "name": "stdout",
     "output_type": "stream",
     "text": [
      "[14:48:38] WARNING: C:/Jenkins/workspace/xgboost-win64_release_0.90/src/objective/regression_obj.cu:152: reg:linear is now deprecated in favor of reg:squarederror.\n"
     ]
    },
    {
     "name": "stderr",
     "output_type": "stream",
     "text": [
      "C:\\Users\\wehrm\\AppData\\Local\\Continuum\\anaconda3\\lib\\site-packages\\xgboost\\core.py:587: FutureWarning:\n",
      "\n",
      "Series.base is deprecated and will be removed in a future version\n",
      "\n"
     ]
    },
    {
     "name": "stdout",
     "output_type": "stream",
     "text": [
      "[14:48:39] WARNING: C:/Jenkins/workspace/xgboost-win64_release_0.90/src/objective/regression_obj.cu:152: reg:linear is now deprecated in favor of reg:squarederror.\n"
     ]
    },
    {
     "name": "stderr",
     "output_type": "stream",
     "text": [
      "C:\\Users\\wehrm\\AppData\\Local\\Continuum\\anaconda3\\lib\\site-packages\\xgboost\\core.py:587: FutureWarning:\n",
      "\n",
      "Series.base is deprecated and will be removed in a future version\n",
      "\n"
     ]
    },
    {
     "name": "stdout",
     "output_type": "stream",
     "text": [
      "[14:48:41] WARNING: C:/Jenkins/workspace/xgboost-win64_release_0.90/src/objective/regression_obj.cu:152: reg:linear is now deprecated in favor of reg:squarederror.\n"
     ]
    },
    {
     "name": "stderr",
     "output_type": "stream",
     "text": [
      "C:\\Users\\wehrm\\AppData\\Local\\Continuum\\anaconda3\\lib\\site-packages\\xgboost\\core.py:587: FutureWarning:\n",
      "\n",
      "Series.base is deprecated and will be removed in a future version\n",
      "\n"
     ]
    },
    {
     "name": "stdout",
     "output_type": "stream",
     "text": [
      "[14:48:42] WARNING: C:/Jenkins/workspace/xgboost-win64_release_0.90/src/objective/regression_obj.cu:152: reg:linear is now deprecated in favor of reg:squarederror.\n"
     ]
    },
    {
     "name": "stderr",
     "output_type": "stream",
     "text": [
      "C:\\Users\\wehrm\\AppData\\Local\\Continuum\\anaconda3\\lib\\site-packages\\xgboost\\core.py:587: FutureWarning:\n",
      "\n",
      "Series.base is deprecated and will be removed in a future version\n",
      "\n"
     ]
    },
    {
     "name": "stdout",
     "output_type": "stream",
     "text": [
      "[14:48:44] WARNING: C:/Jenkins/workspace/xgboost-win64_release_0.90/src/objective/regression_obj.cu:152: reg:linear is now deprecated in favor of reg:squarederror.\n"
     ]
    },
    {
     "name": "stderr",
     "output_type": "stream",
     "text": [
      "C:\\Users\\wehrm\\AppData\\Local\\Continuum\\anaconda3\\lib\\site-packages\\xgboost\\core.py:587: FutureWarning:\n",
      "\n",
      "Series.base is deprecated and will be removed in a future version\n",
      "\n"
     ]
    },
    {
     "name": "stdout",
     "output_type": "stream",
     "text": [
      "[14:48:45] WARNING: C:/Jenkins/workspace/xgboost-win64_release_0.90/src/objective/regression_obj.cu:152: reg:linear is now deprecated in favor of reg:squarederror.\n"
     ]
    },
    {
     "name": "stderr",
     "output_type": "stream",
     "text": [
      "C:\\Users\\wehrm\\AppData\\Local\\Continuum\\anaconda3\\lib\\site-packages\\xgboost\\core.py:587: FutureWarning:\n",
      "\n",
      "Series.base is deprecated and will be removed in a future version\n",
      "\n"
     ]
    },
    {
     "name": "stdout",
     "output_type": "stream",
     "text": [
      "[14:48:46] WARNING: C:/Jenkins/workspace/xgboost-win64_release_0.90/src/objective/regression_obj.cu:152: reg:linear is now deprecated in favor of reg:squarederror.\n"
     ]
    },
    {
     "name": "stderr",
     "output_type": "stream",
     "text": [
      "C:\\Users\\wehrm\\AppData\\Local\\Continuum\\anaconda3\\lib\\site-packages\\xgboost\\core.py:587: FutureWarning:\n",
      "\n",
      "Series.base is deprecated and will be removed in a future version\n",
      "\n"
     ]
    },
    {
     "name": "stdout",
     "output_type": "stream",
     "text": [
      "[14:48:48] WARNING: C:/Jenkins/workspace/xgboost-win64_release_0.90/src/objective/regression_obj.cu:152: reg:linear is now deprecated in favor of reg:squarederror.\n"
     ]
    },
    {
     "name": "stderr",
     "output_type": "stream",
     "text": [
      "C:\\Users\\wehrm\\AppData\\Local\\Continuum\\anaconda3\\lib\\site-packages\\xgboost\\core.py:587: FutureWarning:\n",
      "\n",
      "Series.base is deprecated and will be removed in a future version\n",
      "\n"
     ]
    },
    {
     "name": "stdout",
     "output_type": "stream",
     "text": [
      "[14:48:48] WARNING: C:/Jenkins/workspace/xgboost-win64_release_0.90/src/objective/regression_obj.cu:152: reg:linear is now deprecated in favor of reg:squarederror.\n"
     ]
    },
    {
     "name": "stderr",
     "output_type": "stream",
     "text": [
      "C:\\Users\\wehrm\\AppData\\Local\\Continuum\\anaconda3\\lib\\site-packages\\xgboost\\core.py:587: FutureWarning:\n",
      "\n",
      "Series.base is deprecated and will be removed in a future version\n",
      "\n"
     ]
    },
    {
     "name": "stdout",
     "output_type": "stream",
     "text": [
      "[14:48:48] WARNING: C:/Jenkins/workspace/xgboost-win64_release_0.90/src/objective/regression_obj.cu:152: reg:linear is now deprecated in favor of reg:squarederror.\n"
     ]
    },
    {
     "name": "stderr",
     "output_type": "stream",
     "text": [
      "C:\\Users\\wehrm\\AppData\\Local\\Continuum\\anaconda3\\lib\\site-packages\\xgboost\\core.py:587: FutureWarning:\n",
      "\n",
      "Series.base is deprecated and will be removed in a future version\n",
      "\n"
     ]
    },
    {
     "name": "stdout",
     "output_type": "stream",
     "text": [
      "[14:48:49] WARNING: C:/Jenkins/workspace/xgboost-win64_release_0.90/src/objective/regression_obj.cu:152: reg:linear is now deprecated in favor of reg:squarederror.\n"
     ]
    },
    {
     "name": "stderr",
     "output_type": "stream",
     "text": [
      "C:\\Users\\wehrm\\AppData\\Local\\Continuum\\anaconda3\\lib\\site-packages\\xgboost\\core.py:587: FutureWarning:\n",
      "\n",
      "Series.base is deprecated and will be removed in a future version\n",
      "\n"
     ]
    },
    {
     "name": "stdout",
     "output_type": "stream",
     "text": [
      "[14:48:49] WARNING: C:/Jenkins/workspace/xgboost-win64_release_0.90/src/objective/regression_obj.cu:152: reg:linear is now deprecated in favor of reg:squarederror.\n"
     ]
    },
    {
     "name": "stderr",
     "output_type": "stream",
     "text": [
      "C:\\Users\\wehrm\\AppData\\Local\\Continuum\\anaconda3\\lib\\site-packages\\xgboost\\core.py:587: FutureWarning:\n",
      "\n",
      "Series.base is deprecated and will be removed in a future version\n",
      "\n"
     ]
    },
    {
     "name": "stdout",
     "output_type": "stream",
     "text": [
      "[14:48:49] WARNING: C:/Jenkins/workspace/xgboost-win64_release_0.90/src/objective/regression_obj.cu:152: reg:linear is now deprecated in favor of reg:squarederror.\n"
     ]
    },
    {
     "name": "stderr",
     "output_type": "stream",
     "text": [
      "C:\\Users\\wehrm\\AppData\\Local\\Continuum\\anaconda3\\lib\\site-packages\\xgboost\\core.py:587: FutureWarning:\n",
      "\n",
      "Series.base is deprecated and will be removed in a future version\n",
      "\n"
     ]
    },
    {
     "name": "stdout",
     "output_type": "stream",
     "text": [
      "[14:48:50] WARNING: C:/Jenkins/workspace/xgboost-win64_release_0.90/src/objective/regression_obj.cu:152: reg:linear is now deprecated in favor of reg:squarederror.\n"
     ]
    },
    {
     "name": "stderr",
     "output_type": "stream",
     "text": [
      "C:\\Users\\wehrm\\AppData\\Local\\Continuum\\anaconda3\\lib\\site-packages\\xgboost\\core.py:587: FutureWarning:\n",
      "\n",
      "Series.base is deprecated and will be removed in a future version\n",
      "\n"
     ]
    },
    {
     "name": "stdout",
     "output_type": "stream",
     "text": [
      "[14:48:50] WARNING: C:/Jenkins/workspace/xgboost-win64_release_0.90/src/objective/regression_obj.cu:152: reg:linear is now deprecated in favor of reg:squarederror.\n"
     ]
    },
    {
     "name": "stderr",
     "output_type": "stream",
     "text": [
      "C:\\Users\\wehrm\\AppData\\Local\\Continuum\\anaconda3\\lib\\site-packages\\xgboost\\core.py:587: FutureWarning:\n",
      "\n",
      "Series.base is deprecated and will be removed in a future version\n",
      "\n"
     ]
    },
    {
     "name": "stdout",
     "output_type": "stream",
     "text": [
      "[14:48:51] WARNING: C:/Jenkins/workspace/xgboost-win64_release_0.90/src/objective/regression_obj.cu:152: reg:linear is now deprecated in favor of reg:squarederror.\n"
     ]
    },
    {
     "name": "stderr",
     "output_type": "stream",
     "text": [
      "C:\\Users\\wehrm\\AppData\\Local\\Continuum\\anaconda3\\lib\\site-packages\\xgboost\\core.py:587: FutureWarning:\n",
      "\n",
      "Series.base is deprecated and will be removed in a future version\n",
      "\n"
     ]
    },
    {
     "name": "stdout",
     "output_type": "stream",
     "text": [
      "[14:48:51] WARNING: C:/Jenkins/workspace/xgboost-win64_release_0.90/src/objective/regression_obj.cu:152: reg:linear is now deprecated in favor of reg:squarederror.\n"
     ]
    },
    {
     "name": "stderr",
     "output_type": "stream",
     "text": [
      "C:\\Users\\wehrm\\AppData\\Local\\Continuum\\anaconda3\\lib\\site-packages\\xgboost\\core.py:587: FutureWarning:\n",
      "\n",
      "Series.base is deprecated and will be removed in a future version\n",
      "\n"
     ]
    },
    {
     "name": "stdout",
     "output_type": "stream",
     "text": [
      "[14:48:51] WARNING: C:/Jenkins/workspace/xgboost-win64_release_0.90/src/objective/regression_obj.cu:152: reg:linear is now deprecated in favor of reg:squarederror.\n"
     ]
    },
    {
     "name": "stderr",
     "output_type": "stream",
     "text": [
      "C:\\Users\\wehrm\\AppData\\Local\\Continuum\\anaconda3\\lib\\site-packages\\xgboost\\core.py:587: FutureWarning:\n",
      "\n",
      "Series.base is deprecated and will be removed in a future version\n",
      "\n"
     ]
    },
    {
     "name": "stdout",
     "output_type": "stream",
     "text": [
      "[14:48:52] WARNING: C:/Jenkins/workspace/xgboost-win64_release_0.90/src/objective/regression_obj.cu:152: reg:linear is now deprecated in favor of reg:squarederror.\n"
     ]
    },
    {
     "name": "stderr",
     "output_type": "stream",
     "text": [
      "C:\\Users\\wehrm\\AppData\\Local\\Continuum\\anaconda3\\lib\\site-packages\\xgboost\\core.py:587: FutureWarning:\n",
      "\n",
      "Series.base is deprecated and will be removed in a future version\n",
      "\n"
     ]
    },
    {
     "name": "stdout",
     "output_type": "stream",
     "text": [
      "[14:48:52] WARNING: C:/Jenkins/workspace/xgboost-win64_release_0.90/src/objective/regression_obj.cu:152: reg:linear is now deprecated in favor of reg:squarederror.\n"
     ]
    },
    {
     "name": "stderr",
     "output_type": "stream",
     "text": [
      "C:\\Users\\wehrm\\AppData\\Local\\Continuum\\anaconda3\\lib\\site-packages\\xgboost\\core.py:587: FutureWarning:\n",
      "\n",
      "Series.base is deprecated and will be removed in a future version\n",
      "\n"
     ]
    },
    {
     "name": "stdout",
     "output_type": "stream",
     "text": [
      "[14:48:53] WARNING: C:/Jenkins/workspace/xgboost-win64_release_0.90/src/objective/regression_obj.cu:152: reg:linear is now deprecated in favor of reg:squarederror.\n"
     ]
    },
    {
     "name": "stderr",
     "output_type": "stream",
     "text": [
      "C:\\Users\\wehrm\\AppData\\Local\\Continuum\\anaconda3\\lib\\site-packages\\xgboost\\core.py:587: FutureWarning:\n",
      "\n",
      "Series.base is deprecated and will be removed in a future version\n",
      "\n"
     ]
    },
    {
     "name": "stdout",
     "output_type": "stream",
     "text": [
      "[14:48:53] WARNING: C:/Jenkins/workspace/xgboost-win64_release_0.90/src/objective/regression_obj.cu:152: reg:linear is now deprecated in favor of reg:squarederror.\n"
     ]
    },
    {
     "name": "stderr",
     "output_type": "stream",
     "text": [
      "C:\\Users\\wehrm\\AppData\\Local\\Continuum\\anaconda3\\lib\\site-packages\\xgboost\\core.py:587: FutureWarning:\n",
      "\n",
      "Series.base is deprecated and will be removed in a future version\n",
      "\n"
     ]
    },
    {
     "name": "stdout",
     "output_type": "stream",
     "text": [
      "[14:48:53] WARNING: C:/Jenkins/workspace/xgboost-win64_release_0.90/src/objective/regression_obj.cu:152: reg:linear is now deprecated in favor of reg:squarederror.\n"
     ]
    },
    {
     "name": "stderr",
     "output_type": "stream",
     "text": [
      "C:\\Users\\wehrm\\AppData\\Local\\Continuum\\anaconda3\\lib\\site-packages\\xgboost\\core.py:587: FutureWarning:\n",
      "\n",
      "Series.base is deprecated and will be removed in a future version\n",
      "\n"
     ]
    },
    {
     "name": "stdout",
     "output_type": "stream",
     "text": [
      "[14:48:54] WARNING: C:/Jenkins/workspace/xgboost-win64_release_0.90/src/objective/regression_obj.cu:152: reg:linear is now deprecated in favor of reg:squarederror.\n"
     ]
    },
    {
     "name": "stderr",
     "output_type": "stream",
     "text": [
      "C:\\Users\\wehrm\\AppData\\Local\\Continuum\\anaconda3\\lib\\site-packages\\xgboost\\core.py:587: FutureWarning:\n",
      "\n",
      "Series.base is deprecated and will be removed in a future version\n",
      "\n"
     ]
    },
    {
     "name": "stdout",
     "output_type": "stream",
     "text": [
      "[14:48:54] WARNING: C:/Jenkins/workspace/xgboost-win64_release_0.90/src/objective/regression_obj.cu:152: reg:linear is now deprecated in favor of reg:squarederror.\n"
     ]
    },
    {
     "name": "stderr",
     "output_type": "stream",
     "text": [
      "C:\\Users\\wehrm\\AppData\\Local\\Continuum\\anaconda3\\lib\\site-packages\\xgboost\\core.py:587: FutureWarning:\n",
      "\n",
      "Series.base is deprecated and will be removed in a future version\n",
      "\n"
     ]
    },
    {
     "name": "stdout",
     "output_type": "stream",
     "text": [
      "[14:48:54] WARNING: C:/Jenkins/workspace/xgboost-win64_release_0.90/src/objective/regression_obj.cu:152: reg:linear is now deprecated in favor of reg:squarederror.\n"
     ]
    },
    {
     "name": "stderr",
     "output_type": "stream",
     "text": [
      "C:\\Users\\wehrm\\AppData\\Local\\Continuum\\anaconda3\\lib\\site-packages\\xgboost\\core.py:587: FutureWarning:\n",
      "\n",
      "Series.base is deprecated and will be removed in a future version\n",
      "\n"
     ]
    },
    {
     "name": "stdout",
     "output_type": "stream",
     "text": [
      "[14:48:55] WARNING: C:/Jenkins/workspace/xgboost-win64_release_0.90/src/objective/regression_obj.cu:152: reg:linear is now deprecated in favor of reg:squarederror.\n"
     ]
    },
    {
     "name": "stderr",
     "output_type": "stream",
     "text": [
      "C:\\Users\\wehrm\\AppData\\Local\\Continuum\\anaconda3\\lib\\site-packages\\xgboost\\core.py:587: FutureWarning:\n",
      "\n",
      "Series.base is deprecated and will be removed in a future version\n",
      "\n"
     ]
    },
    {
     "name": "stdout",
     "output_type": "stream",
     "text": [
      "[14:48:56] WARNING: C:/Jenkins/workspace/xgboost-win64_release_0.90/src/objective/regression_obj.cu:152: reg:linear is now deprecated in favor of reg:squarederror.\n"
     ]
    },
    {
     "name": "stderr",
     "output_type": "stream",
     "text": [
      "C:\\Users\\wehrm\\AppData\\Local\\Continuum\\anaconda3\\lib\\site-packages\\xgboost\\core.py:587: FutureWarning:\n",
      "\n",
      "Series.base is deprecated and will be removed in a future version\n",
      "\n"
     ]
    },
    {
     "name": "stdout",
     "output_type": "stream",
     "text": [
      "[14:48:57] WARNING: C:/Jenkins/workspace/xgboost-win64_release_0.90/src/objective/regression_obj.cu:152: reg:linear is now deprecated in favor of reg:squarederror.\n"
     ]
    },
    {
     "name": "stderr",
     "output_type": "stream",
     "text": [
      "C:\\Users\\wehrm\\AppData\\Local\\Continuum\\anaconda3\\lib\\site-packages\\xgboost\\core.py:587: FutureWarning:\n",
      "\n",
      "Series.base is deprecated and will be removed in a future version\n",
      "\n"
     ]
    },
    {
     "name": "stdout",
     "output_type": "stream",
     "text": [
      "[14:48:58] WARNING: C:/Jenkins/workspace/xgboost-win64_release_0.90/src/objective/regression_obj.cu:152: reg:linear is now deprecated in favor of reg:squarederror.\n"
     ]
    },
    {
     "name": "stderr",
     "output_type": "stream",
     "text": [
      "C:\\Users\\wehrm\\AppData\\Local\\Continuum\\anaconda3\\lib\\site-packages\\xgboost\\core.py:587: FutureWarning:\n",
      "\n",
      "Series.base is deprecated and will be removed in a future version\n",
      "\n"
     ]
    },
    {
     "name": "stdout",
     "output_type": "stream",
     "text": [
      "[14:48:58] WARNING: C:/Jenkins/workspace/xgboost-win64_release_0.90/src/objective/regression_obj.cu:152: reg:linear is now deprecated in favor of reg:squarederror.\n"
     ]
    },
    {
     "name": "stderr",
     "output_type": "stream",
     "text": [
      "C:\\Users\\wehrm\\AppData\\Local\\Continuum\\anaconda3\\lib\\site-packages\\xgboost\\core.py:587: FutureWarning:\n",
      "\n",
      "Series.base is deprecated and will be removed in a future version\n",
      "\n"
     ]
    },
    {
     "name": "stdout",
     "output_type": "stream",
     "text": [
      "[14:48:59] WARNING: C:/Jenkins/workspace/xgboost-win64_release_0.90/src/objective/regression_obj.cu:152: reg:linear is now deprecated in favor of reg:squarederror.\n"
     ]
    },
    {
     "name": "stderr",
     "output_type": "stream",
     "text": [
      "C:\\Users\\wehrm\\AppData\\Local\\Continuum\\anaconda3\\lib\\site-packages\\xgboost\\core.py:587: FutureWarning:\n",
      "\n",
      "Series.base is deprecated and will be removed in a future version\n",
      "\n"
     ]
    },
    {
     "name": "stdout",
     "output_type": "stream",
     "text": [
      "[14:49:00] WARNING: C:/Jenkins/workspace/xgboost-win64_release_0.90/src/objective/regression_obj.cu:152: reg:linear is now deprecated in favor of reg:squarederror.\n"
     ]
    },
    {
     "name": "stderr",
     "output_type": "stream",
     "text": [
      "C:\\Users\\wehrm\\AppData\\Local\\Continuum\\anaconda3\\lib\\site-packages\\xgboost\\core.py:587: FutureWarning:\n",
      "\n",
      "Series.base is deprecated and will be removed in a future version\n",
      "\n"
     ]
    },
    {
     "name": "stdout",
     "output_type": "stream",
     "text": [
      "[14:49:00] WARNING: C:/Jenkins/workspace/xgboost-win64_release_0.90/src/objective/regression_obj.cu:152: reg:linear is now deprecated in favor of reg:squarederror.\n"
     ]
    },
    {
     "name": "stderr",
     "output_type": "stream",
     "text": [
      "C:\\Users\\wehrm\\AppData\\Local\\Continuum\\anaconda3\\lib\\site-packages\\xgboost\\core.py:587: FutureWarning:\n",
      "\n",
      "Series.base is deprecated and will be removed in a future version\n",
      "\n"
     ]
    },
    {
     "name": "stdout",
     "output_type": "stream",
     "text": [
      "[14:49:01] WARNING: C:/Jenkins/workspace/xgboost-win64_release_0.90/src/objective/regression_obj.cu:152: reg:linear is now deprecated in favor of reg:squarederror.\n"
     ]
    },
    {
     "name": "stderr",
     "output_type": "stream",
     "text": [
      "C:\\Users\\wehrm\\AppData\\Local\\Continuum\\anaconda3\\lib\\site-packages\\xgboost\\core.py:587: FutureWarning:\n",
      "\n",
      "Series.base is deprecated and will be removed in a future version\n",
      "\n"
     ]
    },
    {
     "name": "stdout",
     "output_type": "stream",
     "text": [
      "[14:49:02] WARNING: C:/Jenkins/workspace/xgboost-win64_release_0.90/src/objective/regression_obj.cu:152: reg:linear is now deprecated in favor of reg:squarederror.\n"
     ]
    },
    {
     "name": "stderr",
     "output_type": "stream",
     "text": [
      "C:\\Users\\wehrm\\AppData\\Local\\Continuum\\anaconda3\\lib\\site-packages\\xgboost\\core.py:587: FutureWarning:\n",
      "\n",
      "Series.base is deprecated and will be removed in a future version\n",
      "\n"
     ]
    },
    {
     "name": "stdout",
     "output_type": "stream",
     "text": [
      "[14:49:02] WARNING: C:/Jenkins/workspace/xgboost-win64_release_0.90/src/objective/regression_obj.cu:152: reg:linear is now deprecated in favor of reg:squarederror.\n"
     ]
    },
    {
     "name": "stderr",
     "output_type": "stream",
     "text": [
      "C:\\Users\\wehrm\\AppData\\Local\\Continuum\\anaconda3\\lib\\site-packages\\xgboost\\core.py:587: FutureWarning:\n",
      "\n",
      "Series.base is deprecated and will be removed in a future version\n",
      "\n"
     ]
    },
    {
     "name": "stdout",
     "output_type": "stream",
     "text": [
      "[14:49:03] WARNING: C:/Jenkins/workspace/xgboost-win64_release_0.90/src/objective/regression_obj.cu:152: reg:linear is now deprecated in favor of reg:squarederror.\n"
     ]
    },
    {
     "name": "stderr",
     "output_type": "stream",
     "text": [
      "C:\\Users\\wehrm\\AppData\\Local\\Continuum\\anaconda3\\lib\\site-packages\\xgboost\\core.py:587: FutureWarning:\n",
      "\n",
      "Series.base is deprecated and will be removed in a future version\n",
      "\n"
     ]
    },
    {
     "name": "stdout",
     "output_type": "stream",
     "text": [
      "[14:49:04] WARNING: C:/Jenkins/workspace/xgboost-win64_release_0.90/src/objective/regression_obj.cu:152: reg:linear is now deprecated in favor of reg:squarederror.\n"
     ]
    },
    {
     "name": "stderr",
     "output_type": "stream",
     "text": [
      "C:\\Users\\wehrm\\AppData\\Local\\Continuum\\anaconda3\\lib\\site-packages\\xgboost\\core.py:587: FutureWarning:\n",
      "\n",
      "Series.base is deprecated and will be removed in a future version\n",
      "\n"
     ]
    },
    {
     "name": "stdout",
     "output_type": "stream",
     "text": [
      "[14:49:05] WARNING: C:/Jenkins/workspace/xgboost-win64_release_0.90/src/objective/regression_obj.cu:152: reg:linear is now deprecated in favor of reg:squarederror.\n"
     ]
    },
    {
     "name": "stderr",
     "output_type": "stream",
     "text": [
      "C:\\Users\\wehrm\\AppData\\Local\\Continuum\\anaconda3\\lib\\site-packages\\xgboost\\core.py:587: FutureWarning:\n",
      "\n",
      "Series.base is deprecated and will be removed in a future version\n",
      "\n"
     ]
    },
    {
     "name": "stdout",
     "output_type": "stream",
     "text": [
      "[14:49:05] WARNING: C:/Jenkins/workspace/xgboost-win64_release_0.90/src/objective/regression_obj.cu:152: reg:linear is now deprecated in favor of reg:squarederror.\n"
     ]
    },
    {
     "name": "stderr",
     "output_type": "stream",
     "text": [
      "C:\\Users\\wehrm\\AppData\\Local\\Continuum\\anaconda3\\lib\\site-packages\\xgboost\\core.py:587: FutureWarning:\n",
      "\n",
      "Series.base is deprecated and will be removed in a future version\n",
      "\n"
     ]
    },
    {
     "name": "stdout",
     "output_type": "stream",
     "text": [
      "[14:49:06] WARNING: C:/Jenkins/workspace/xgboost-win64_release_0.90/src/objective/regression_obj.cu:152: reg:linear is now deprecated in favor of reg:squarederror.\n"
     ]
    },
    {
     "name": "stderr",
     "output_type": "stream",
     "text": [
      "C:\\Users\\wehrm\\AppData\\Local\\Continuum\\anaconda3\\lib\\site-packages\\xgboost\\core.py:587: FutureWarning:\n",
      "\n",
      "Series.base is deprecated and will be removed in a future version\n",
      "\n"
     ]
    },
    {
     "name": "stdout",
     "output_type": "stream",
     "text": [
      "[14:49:07] WARNING: C:/Jenkins/workspace/xgboost-win64_release_0.90/src/objective/regression_obj.cu:152: reg:linear is now deprecated in favor of reg:squarederror.\n"
     ]
    },
    {
     "name": "stderr",
     "output_type": "stream",
     "text": [
      "C:\\Users\\wehrm\\AppData\\Local\\Continuum\\anaconda3\\lib\\site-packages\\xgboost\\core.py:587: FutureWarning:\n",
      "\n",
      "Series.base is deprecated and will be removed in a future version\n",
      "\n"
     ]
    },
    {
     "name": "stdout",
     "output_type": "stream",
     "text": [
      "[14:49:07] WARNING: C:/Jenkins/workspace/xgboost-win64_release_0.90/src/objective/regression_obj.cu:152: reg:linear is now deprecated in favor of reg:squarederror.\n"
     ]
    },
    {
     "name": "stderr",
     "output_type": "stream",
     "text": [
      "C:\\Users\\wehrm\\AppData\\Local\\Continuum\\anaconda3\\lib\\site-packages\\xgboost\\core.py:587: FutureWarning:\n",
      "\n",
      "Series.base is deprecated and will be removed in a future version\n",
      "\n"
     ]
    },
    {
     "name": "stdout",
     "output_type": "stream",
     "text": [
      "[14:49:09] WARNING: C:/Jenkins/workspace/xgboost-win64_release_0.90/src/objective/regression_obj.cu:152: reg:linear is now deprecated in favor of reg:squarederror.\n"
     ]
    },
    {
     "name": "stderr",
     "output_type": "stream",
     "text": [
      "C:\\Users\\wehrm\\AppData\\Local\\Continuum\\anaconda3\\lib\\site-packages\\xgboost\\core.py:587: FutureWarning:\n",
      "\n",
      "Series.base is deprecated and will be removed in a future version\n",
      "\n"
     ]
    },
    {
     "name": "stdout",
     "output_type": "stream",
     "text": [
      "[14:49:10] WARNING: C:/Jenkins/workspace/xgboost-win64_release_0.90/src/objective/regression_obj.cu:152: reg:linear is now deprecated in favor of reg:squarederror.\n"
     ]
    },
    {
     "name": "stderr",
     "output_type": "stream",
     "text": [
      "C:\\Users\\wehrm\\AppData\\Local\\Continuum\\anaconda3\\lib\\site-packages\\xgboost\\core.py:587: FutureWarning:\n",
      "\n",
      "Series.base is deprecated and will be removed in a future version\n",
      "\n"
     ]
    },
    {
     "name": "stdout",
     "output_type": "stream",
     "text": [
      "[14:49:12] WARNING: C:/Jenkins/workspace/xgboost-win64_release_0.90/src/objective/regression_obj.cu:152: reg:linear is now deprecated in favor of reg:squarederror.\n"
     ]
    },
    {
     "name": "stderr",
     "output_type": "stream",
     "text": [
      "C:\\Users\\wehrm\\AppData\\Local\\Continuum\\anaconda3\\lib\\site-packages\\xgboost\\core.py:587: FutureWarning:\n",
      "\n",
      "Series.base is deprecated and will be removed in a future version\n",
      "\n"
     ]
    },
    {
     "name": "stdout",
     "output_type": "stream",
     "text": [
      "[14:49:13] WARNING: C:/Jenkins/workspace/xgboost-win64_release_0.90/src/objective/regression_obj.cu:152: reg:linear is now deprecated in favor of reg:squarederror.\n"
     ]
    },
    {
     "name": "stderr",
     "output_type": "stream",
     "text": [
      "C:\\Users\\wehrm\\AppData\\Local\\Continuum\\anaconda3\\lib\\site-packages\\xgboost\\core.py:587: FutureWarning:\n",
      "\n",
      "Series.base is deprecated and will be removed in a future version\n",
      "\n"
     ]
    },
    {
     "name": "stdout",
     "output_type": "stream",
     "text": [
      "[14:49:14] WARNING: C:/Jenkins/workspace/xgboost-win64_release_0.90/src/objective/regression_obj.cu:152: reg:linear is now deprecated in favor of reg:squarederror.\n"
     ]
    },
    {
     "name": "stderr",
     "output_type": "stream",
     "text": [
      "C:\\Users\\wehrm\\AppData\\Local\\Continuum\\anaconda3\\lib\\site-packages\\xgboost\\core.py:587: FutureWarning:\n",
      "\n",
      "Series.base is deprecated and will be removed in a future version\n",
      "\n"
     ]
    },
    {
     "name": "stdout",
     "output_type": "stream",
     "text": [
      "[14:49:15] WARNING: C:/Jenkins/workspace/xgboost-win64_release_0.90/src/objective/regression_obj.cu:152: reg:linear is now deprecated in favor of reg:squarederror.\n"
     ]
    },
    {
     "name": "stderr",
     "output_type": "stream",
     "text": [
      "C:\\Users\\wehrm\\AppData\\Local\\Continuum\\anaconda3\\lib\\site-packages\\xgboost\\core.py:587: FutureWarning:\n",
      "\n",
      "Series.base is deprecated and will be removed in a future version\n",
      "\n"
     ]
    },
    {
     "name": "stdout",
     "output_type": "stream",
     "text": [
      "[14:49:17] WARNING: C:/Jenkins/workspace/xgboost-win64_release_0.90/src/objective/regression_obj.cu:152: reg:linear is now deprecated in favor of reg:squarederror.\n"
     ]
    },
    {
     "name": "stderr",
     "output_type": "stream",
     "text": [
      "C:\\Users\\wehrm\\AppData\\Local\\Continuum\\anaconda3\\lib\\site-packages\\xgboost\\core.py:587: FutureWarning:\n",
      "\n",
      "Series.base is deprecated and will be removed in a future version\n",
      "\n"
     ]
    },
    {
     "name": "stdout",
     "output_type": "stream",
     "text": [
      "[14:49:18] WARNING: C:/Jenkins/workspace/xgboost-win64_release_0.90/src/objective/regression_obj.cu:152: reg:linear is now deprecated in favor of reg:squarederror.\n"
     ]
    },
    {
     "name": "stderr",
     "output_type": "stream",
     "text": [
      "C:\\Users\\wehrm\\AppData\\Local\\Continuum\\anaconda3\\lib\\site-packages\\xgboost\\core.py:587: FutureWarning:\n",
      "\n",
      "Series.base is deprecated and will be removed in a future version\n",
      "\n"
     ]
    },
    {
     "name": "stdout",
     "output_type": "stream",
     "text": [
      "[14:49:20] WARNING: C:/Jenkins/workspace/xgboost-win64_release_0.90/src/objective/regression_obj.cu:152: reg:linear is now deprecated in favor of reg:squarederror.\n"
     ]
    },
    {
     "name": "stderr",
     "output_type": "stream",
     "text": [
      "C:\\Users\\wehrm\\AppData\\Local\\Continuum\\anaconda3\\lib\\site-packages\\xgboost\\core.py:587: FutureWarning:\n",
      "\n",
      "Series.base is deprecated and will be removed in a future version\n",
      "\n"
     ]
    },
    {
     "name": "stdout",
     "output_type": "stream",
     "text": [
      "[14:49:21] WARNING: C:/Jenkins/workspace/xgboost-win64_release_0.90/src/objective/regression_obj.cu:152: reg:linear is now deprecated in favor of reg:squarederror.\n"
     ]
    },
    {
     "name": "stderr",
     "output_type": "stream",
     "text": [
      "C:\\Users\\wehrm\\AppData\\Local\\Continuum\\anaconda3\\lib\\site-packages\\xgboost\\core.py:587: FutureWarning:\n",
      "\n",
      "Series.base is deprecated and will be removed in a future version\n",
      "\n"
     ]
    },
    {
     "name": "stdout",
     "output_type": "stream",
     "text": [
      "[14:49:22] WARNING: C:/Jenkins/workspace/xgboost-win64_release_0.90/src/objective/regression_obj.cu:152: reg:linear is now deprecated in favor of reg:squarederror.\n"
     ]
    },
    {
     "name": "stderr",
     "output_type": "stream",
     "text": [
      "C:\\Users\\wehrm\\AppData\\Local\\Continuum\\anaconda3\\lib\\site-packages\\xgboost\\core.py:587: FutureWarning:\n",
      "\n",
      "Series.base is deprecated and will be removed in a future version\n",
      "\n"
     ]
    },
    {
     "name": "stdout",
     "output_type": "stream",
     "text": [
      "[14:49:23] WARNING: C:/Jenkins/workspace/xgboost-win64_release_0.90/src/objective/regression_obj.cu:152: reg:linear is now deprecated in favor of reg:squarederror.\n"
     ]
    },
    {
     "name": "stderr",
     "output_type": "stream",
     "text": [
      "C:\\Users\\wehrm\\AppData\\Local\\Continuum\\anaconda3\\lib\\site-packages\\xgboost\\core.py:587: FutureWarning:\n",
      "\n",
      "Series.base is deprecated and will be removed in a future version\n",
      "\n"
     ]
    },
    {
     "name": "stdout",
     "output_type": "stream",
     "text": [
      "[14:49:25] WARNING: C:/Jenkins/workspace/xgboost-win64_release_0.90/src/objective/regression_obj.cu:152: reg:linear is now deprecated in favor of reg:squarederror.\n"
     ]
    },
    {
     "name": "stderr",
     "output_type": "stream",
     "text": [
      "C:\\Users\\wehrm\\AppData\\Local\\Continuum\\anaconda3\\lib\\site-packages\\xgboost\\core.py:587: FutureWarning:\n",
      "\n",
      "Series.base is deprecated and will be removed in a future version\n",
      "\n"
     ]
    },
    {
     "name": "stdout",
     "output_type": "stream",
     "text": [
      "[14:49:26] WARNING: C:/Jenkins/workspace/xgboost-win64_release_0.90/src/objective/regression_obj.cu:152: reg:linear is now deprecated in favor of reg:squarederror.\n"
     ]
    },
    {
     "name": "stderr",
     "output_type": "stream",
     "text": [
      "C:\\Users\\wehrm\\AppData\\Local\\Continuum\\anaconda3\\lib\\site-packages\\xgboost\\core.py:587: FutureWarning:\n",
      "\n",
      "Series.base is deprecated and will be removed in a future version\n",
      "\n"
     ]
    },
    {
     "name": "stdout",
     "output_type": "stream",
     "text": [
      "[14:49:28] WARNING: C:/Jenkins/workspace/xgboost-win64_release_0.90/src/objective/regression_obj.cu:152: reg:linear is now deprecated in favor of reg:squarederror.\n"
     ]
    },
    {
     "name": "stderr",
     "output_type": "stream",
     "text": [
      "C:\\Users\\wehrm\\AppData\\Local\\Continuum\\anaconda3\\lib\\site-packages\\xgboost\\core.py:587: FutureWarning:\n",
      "\n",
      "Series.base is deprecated and will be removed in a future version\n",
      "\n"
     ]
    },
    {
     "name": "stdout",
     "output_type": "stream",
     "text": [
      "[14:49:29] WARNING: C:/Jenkins/workspace/xgboost-win64_release_0.90/src/objective/regression_obj.cu:152: reg:linear is now deprecated in favor of reg:squarederror.\n"
     ]
    },
    {
     "name": "stderr",
     "output_type": "stream",
     "text": [
      "C:\\Users\\wehrm\\AppData\\Local\\Continuum\\anaconda3\\lib\\site-packages\\xgboost\\core.py:587: FutureWarning:\n",
      "\n",
      "Series.base is deprecated and will be removed in a future version\n",
      "\n"
     ]
    },
    {
     "name": "stdout",
     "output_type": "stream",
     "text": [
      "[14:49:30] WARNING: C:/Jenkins/workspace/xgboost-win64_release_0.90/src/objective/regression_obj.cu:152: reg:linear is now deprecated in favor of reg:squarederror.\n"
     ]
    },
    {
     "name": "stderr",
     "output_type": "stream",
     "text": [
      "C:\\Users\\wehrm\\AppData\\Local\\Continuum\\anaconda3\\lib\\site-packages\\xgboost\\core.py:587: FutureWarning:\n",
      "\n",
      "Series.base is deprecated and will be removed in a future version\n",
      "\n"
     ]
    },
    {
     "name": "stdout",
     "output_type": "stream",
     "text": [
      "[14:49:31] WARNING: C:/Jenkins/workspace/xgboost-win64_release_0.90/src/objective/regression_obj.cu:152: reg:linear is now deprecated in favor of reg:squarederror.\n"
     ]
    },
    {
     "name": "stderr",
     "output_type": "stream",
     "text": [
      "C:\\Users\\wehrm\\AppData\\Local\\Continuum\\anaconda3\\lib\\site-packages\\xgboost\\core.py:587: FutureWarning:\n",
      "\n",
      "Series.base is deprecated and will be removed in a future version\n",
      "\n"
     ]
    },
    {
     "name": "stdout",
     "output_type": "stream",
     "text": [
      "[14:49:31] WARNING: C:/Jenkins/workspace/xgboost-win64_release_0.90/src/objective/regression_obj.cu:152: reg:linear is now deprecated in favor of reg:squarederror.\n"
     ]
    },
    {
     "name": "stderr",
     "output_type": "stream",
     "text": [
      "C:\\Users\\wehrm\\AppData\\Local\\Continuum\\anaconda3\\lib\\site-packages\\xgboost\\core.py:587: FutureWarning:\n",
      "\n",
      "Series.base is deprecated and will be removed in a future version\n",
      "\n"
     ]
    },
    {
     "name": "stdout",
     "output_type": "stream",
     "text": [
      "[14:49:32] WARNING: C:/Jenkins/workspace/xgboost-win64_release_0.90/src/objective/regression_obj.cu:152: reg:linear is now deprecated in favor of reg:squarederror.\n"
     ]
    },
    {
     "name": "stderr",
     "output_type": "stream",
     "text": [
      "C:\\Users\\wehrm\\AppData\\Local\\Continuum\\anaconda3\\lib\\site-packages\\xgboost\\core.py:587: FutureWarning:\n",
      "\n",
      "Series.base is deprecated and will be removed in a future version\n",
      "\n"
     ]
    },
    {
     "name": "stdout",
     "output_type": "stream",
     "text": [
      "[14:49:32] WARNING: C:/Jenkins/workspace/xgboost-win64_release_0.90/src/objective/regression_obj.cu:152: reg:linear is now deprecated in favor of reg:squarederror.\n"
     ]
    },
    {
     "name": "stderr",
     "output_type": "stream",
     "text": [
      "C:\\Users\\wehrm\\AppData\\Local\\Continuum\\anaconda3\\lib\\site-packages\\xgboost\\core.py:587: FutureWarning:\n",
      "\n",
      "Series.base is deprecated and will be removed in a future version\n",
      "\n"
     ]
    },
    {
     "name": "stdout",
     "output_type": "stream",
     "text": [
      "[14:49:32] WARNING: C:/Jenkins/workspace/xgboost-win64_release_0.90/src/objective/regression_obj.cu:152: reg:linear is now deprecated in favor of reg:squarederror.\n"
     ]
    },
    {
     "name": "stderr",
     "output_type": "stream",
     "text": [
      "C:\\Users\\wehrm\\AppData\\Local\\Continuum\\anaconda3\\lib\\site-packages\\xgboost\\core.py:587: FutureWarning:\n",
      "\n",
      "Series.base is deprecated and will be removed in a future version\n",
      "\n"
     ]
    },
    {
     "name": "stdout",
     "output_type": "stream",
     "text": [
      "[14:49:33] WARNING: C:/Jenkins/workspace/xgboost-win64_release_0.90/src/objective/regression_obj.cu:152: reg:linear is now deprecated in favor of reg:squarederror.\n"
     ]
    },
    {
     "name": "stderr",
     "output_type": "stream",
     "text": [
      "C:\\Users\\wehrm\\AppData\\Local\\Continuum\\anaconda3\\lib\\site-packages\\xgboost\\core.py:587: FutureWarning:\n",
      "\n",
      "Series.base is deprecated and will be removed in a future version\n",
      "\n"
     ]
    },
    {
     "name": "stdout",
     "output_type": "stream",
     "text": [
      "[14:49:33] WARNING: C:/Jenkins/workspace/xgboost-win64_release_0.90/src/objective/regression_obj.cu:152: reg:linear is now deprecated in favor of reg:squarederror.\n"
     ]
    },
    {
     "name": "stderr",
     "output_type": "stream",
     "text": [
      "C:\\Users\\wehrm\\AppData\\Local\\Continuum\\anaconda3\\lib\\site-packages\\xgboost\\core.py:587: FutureWarning:\n",
      "\n",
      "Series.base is deprecated and will be removed in a future version\n",
      "\n"
     ]
    },
    {
     "name": "stdout",
     "output_type": "stream",
     "text": [
      "[14:49:33] WARNING: C:/Jenkins/workspace/xgboost-win64_release_0.90/src/objective/regression_obj.cu:152: reg:linear is now deprecated in favor of reg:squarederror.\n"
     ]
    },
    {
     "name": "stderr",
     "output_type": "stream",
     "text": [
      "C:\\Users\\wehrm\\AppData\\Local\\Continuum\\anaconda3\\lib\\site-packages\\xgboost\\core.py:587: FutureWarning:\n",
      "\n",
      "Series.base is deprecated and will be removed in a future version\n",
      "\n"
     ]
    },
    {
     "name": "stdout",
     "output_type": "stream",
     "text": [
      "[14:49:34] WARNING: C:/Jenkins/workspace/xgboost-win64_release_0.90/src/objective/regression_obj.cu:152: reg:linear is now deprecated in favor of reg:squarederror.\n"
     ]
    },
    {
     "name": "stderr",
     "output_type": "stream",
     "text": [
      "C:\\Users\\wehrm\\AppData\\Local\\Continuum\\anaconda3\\lib\\site-packages\\xgboost\\core.py:587: FutureWarning:\n",
      "\n",
      "Series.base is deprecated and will be removed in a future version\n",
      "\n"
     ]
    },
    {
     "name": "stdout",
     "output_type": "stream",
     "text": [
      "[14:49:34] WARNING: C:/Jenkins/workspace/xgboost-win64_release_0.90/src/objective/regression_obj.cu:152: reg:linear is now deprecated in favor of reg:squarederror.\n"
     ]
    },
    {
     "name": "stderr",
     "output_type": "stream",
     "text": [
      "C:\\Users\\wehrm\\AppData\\Local\\Continuum\\anaconda3\\lib\\site-packages\\xgboost\\core.py:587: FutureWarning:\n",
      "\n",
      "Series.base is deprecated and will be removed in a future version\n",
      "\n"
     ]
    },
    {
     "name": "stdout",
     "output_type": "stream",
     "text": [
      "[14:49:34] WARNING: C:/Jenkins/workspace/xgboost-win64_release_0.90/src/objective/regression_obj.cu:152: reg:linear is now deprecated in favor of reg:squarederror.\n"
     ]
    },
    {
     "name": "stderr",
     "output_type": "stream",
     "text": [
      "C:\\Users\\wehrm\\AppData\\Local\\Continuum\\anaconda3\\lib\\site-packages\\xgboost\\core.py:587: FutureWarning:\n",
      "\n",
      "Series.base is deprecated and will be removed in a future version\n",
      "\n"
     ]
    },
    {
     "name": "stdout",
     "output_type": "stream",
     "text": [
      "[14:49:35] WARNING: C:/Jenkins/workspace/xgboost-win64_release_0.90/src/objective/regression_obj.cu:152: reg:linear is now deprecated in favor of reg:squarederror.\n"
     ]
    },
    {
     "name": "stderr",
     "output_type": "stream",
     "text": [
      "C:\\Users\\wehrm\\AppData\\Local\\Continuum\\anaconda3\\lib\\site-packages\\xgboost\\core.py:587: FutureWarning:\n",
      "\n",
      "Series.base is deprecated and will be removed in a future version\n",
      "\n"
     ]
    },
    {
     "name": "stdout",
     "output_type": "stream",
     "text": [
      "[14:49:35] WARNING: C:/Jenkins/workspace/xgboost-win64_release_0.90/src/objective/regression_obj.cu:152: reg:linear is now deprecated in favor of reg:squarederror.\n"
     ]
    },
    {
     "name": "stderr",
     "output_type": "stream",
     "text": [
      "C:\\Users\\wehrm\\AppData\\Local\\Continuum\\anaconda3\\lib\\site-packages\\xgboost\\core.py:587: FutureWarning:\n",
      "\n",
      "Series.base is deprecated and will be removed in a future version\n",
      "\n"
     ]
    },
    {
     "name": "stdout",
     "output_type": "stream",
     "text": [
      "[14:49:36] WARNING: C:/Jenkins/workspace/xgboost-win64_release_0.90/src/objective/regression_obj.cu:152: reg:linear is now deprecated in favor of reg:squarederror.\n"
     ]
    },
    {
     "name": "stderr",
     "output_type": "stream",
     "text": [
      "C:\\Users\\wehrm\\AppData\\Local\\Continuum\\anaconda3\\lib\\site-packages\\xgboost\\core.py:587: FutureWarning:\n",
      "\n",
      "Series.base is deprecated and will be removed in a future version\n",
      "\n"
     ]
    },
    {
     "name": "stdout",
     "output_type": "stream",
     "text": [
      "[14:49:36] WARNING: C:/Jenkins/workspace/xgboost-win64_release_0.90/src/objective/regression_obj.cu:152: reg:linear is now deprecated in favor of reg:squarederror.\n"
     ]
    },
    {
     "name": "stderr",
     "output_type": "stream",
     "text": [
      "C:\\Users\\wehrm\\AppData\\Local\\Continuum\\anaconda3\\lib\\site-packages\\xgboost\\core.py:587: FutureWarning:\n",
      "\n",
      "Series.base is deprecated and will be removed in a future version\n",
      "\n"
     ]
    },
    {
     "name": "stdout",
     "output_type": "stream",
     "text": [
      "[14:49:36] WARNING: C:/Jenkins/workspace/xgboost-win64_release_0.90/src/objective/regression_obj.cu:152: reg:linear is now deprecated in favor of reg:squarederror.\n"
     ]
    },
    {
     "name": "stderr",
     "output_type": "stream",
     "text": [
      "C:\\Users\\wehrm\\AppData\\Local\\Continuum\\anaconda3\\lib\\site-packages\\xgboost\\core.py:587: FutureWarning:\n",
      "\n",
      "Series.base is deprecated and will be removed in a future version\n",
      "\n"
     ]
    },
    {
     "name": "stdout",
     "output_type": "stream",
     "text": [
      "[14:49:37] WARNING: C:/Jenkins/workspace/xgboost-win64_release_0.90/src/objective/regression_obj.cu:152: reg:linear is now deprecated in favor of reg:squarederror.\n"
     ]
    },
    {
     "name": "stderr",
     "output_type": "stream",
     "text": [
      "C:\\Users\\wehrm\\AppData\\Local\\Continuum\\anaconda3\\lib\\site-packages\\xgboost\\core.py:587: FutureWarning:\n",
      "\n",
      "Series.base is deprecated and will be removed in a future version\n",
      "\n"
     ]
    },
    {
     "name": "stdout",
     "output_type": "stream",
     "text": [
      "[14:49:37] WARNING: C:/Jenkins/workspace/xgboost-win64_release_0.90/src/objective/regression_obj.cu:152: reg:linear is now deprecated in favor of reg:squarederror.\n"
     ]
    },
    {
     "name": "stderr",
     "output_type": "stream",
     "text": [
      "C:\\Users\\wehrm\\AppData\\Local\\Continuum\\anaconda3\\lib\\site-packages\\xgboost\\core.py:587: FutureWarning:\n",
      "\n",
      "Series.base is deprecated and will be removed in a future version\n",
      "\n"
     ]
    },
    {
     "name": "stdout",
     "output_type": "stream",
     "text": [
      "[14:49:37] WARNING: C:/Jenkins/workspace/xgboost-win64_release_0.90/src/objective/regression_obj.cu:152: reg:linear is now deprecated in favor of reg:squarederror.\n"
     ]
    },
    {
     "name": "stderr",
     "output_type": "stream",
     "text": [
      "C:\\Users\\wehrm\\AppData\\Local\\Continuum\\anaconda3\\lib\\site-packages\\xgboost\\core.py:587: FutureWarning:\n",
      "\n",
      "Series.base is deprecated and will be removed in a future version\n",
      "\n"
     ]
    },
    {
     "name": "stdout",
     "output_type": "stream",
     "text": [
      "[14:49:38] WARNING: C:/Jenkins/workspace/xgboost-win64_release_0.90/src/objective/regression_obj.cu:152: reg:linear is now deprecated in favor of reg:squarederror.\n"
     ]
    },
    {
     "name": "stderr",
     "output_type": "stream",
     "text": [
      "C:\\Users\\wehrm\\AppData\\Local\\Continuum\\anaconda3\\lib\\site-packages\\xgboost\\core.py:587: FutureWarning:\n",
      "\n",
      "Series.base is deprecated and will be removed in a future version\n",
      "\n"
     ]
    },
    {
     "name": "stdout",
     "output_type": "stream",
     "text": [
      "[14:49:39] WARNING: C:/Jenkins/workspace/xgboost-win64_release_0.90/src/objective/regression_obj.cu:152: reg:linear is now deprecated in favor of reg:squarederror.\n"
     ]
    },
    {
     "name": "stderr",
     "output_type": "stream",
     "text": [
      "C:\\Users\\wehrm\\AppData\\Local\\Continuum\\anaconda3\\lib\\site-packages\\xgboost\\core.py:587: FutureWarning:\n",
      "\n",
      "Series.base is deprecated and will be removed in a future version\n",
      "\n"
     ]
    },
    {
     "name": "stdout",
     "output_type": "stream",
     "text": [
      "[14:49:40] WARNING: C:/Jenkins/workspace/xgboost-win64_release_0.90/src/objective/regression_obj.cu:152: reg:linear is now deprecated in favor of reg:squarederror.\n"
     ]
    },
    {
     "name": "stderr",
     "output_type": "stream",
     "text": [
      "C:\\Users\\wehrm\\AppData\\Local\\Continuum\\anaconda3\\lib\\site-packages\\xgboost\\core.py:587: FutureWarning:\n",
      "\n",
      "Series.base is deprecated and will be removed in a future version\n",
      "\n"
     ]
    },
    {
     "name": "stdout",
     "output_type": "stream",
     "text": [
      "[14:49:41] WARNING: C:/Jenkins/workspace/xgboost-win64_release_0.90/src/objective/regression_obj.cu:152: reg:linear is now deprecated in favor of reg:squarederror.\n"
     ]
    },
    {
     "name": "stderr",
     "output_type": "stream",
     "text": [
      "C:\\Users\\wehrm\\AppData\\Local\\Continuum\\anaconda3\\lib\\site-packages\\xgboost\\core.py:587: FutureWarning:\n",
      "\n",
      "Series.base is deprecated and will be removed in a future version\n",
      "\n"
     ]
    },
    {
     "name": "stdout",
     "output_type": "stream",
     "text": [
      "[14:49:41] WARNING: C:/Jenkins/workspace/xgboost-win64_release_0.90/src/objective/regression_obj.cu:152: reg:linear is now deprecated in favor of reg:squarederror.\n"
     ]
    },
    {
     "name": "stderr",
     "output_type": "stream",
     "text": [
      "C:\\Users\\wehrm\\AppData\\Local\\Continuum\\anaconda3\\lib\\site-packages\\xgboost\\core.py:587: FutureWarning:\n",
      "\n",
      "Series.base is deprecated and will be removed in a future version\n",
      "\n"
     ]
    },
    {
     "name": "stdout",
     "output_type": "stream",
     "text": [
      "[14:49:42] WARNING: C:/Jenkins/workspace/xgboost-win64_release_0.90/src/objective/regression_obj.cu:152: reg:linear is now deprecated in favor of reg:squarederror.\n"
     ]
    },
    {
     "name": "stderr",
     "output_type": "stream",
     "text": [
      "C:\\Users\\wehrm\\AppData\\Local\\Continuum\\anaconda3\\lib\\site-packages\\xgboost\\core.py:587: FutureWarning:\n",
      "\n",
      "Series.base is deprecated and will be removed in a future version\n",
      "\n"
     ]
    },
    {
     "name": "stdout",
     "output_type": "stream",
     "text": [
      "[14:49:43] WARNING: C:/Jenkins/workspace/xgboost-win64_release_0.90/src/objective/regression_obj.cu:152: reg:linear is now deprecated in favor of reg:squarederror.\n"
     ]
    },
    {
     "name": "stderr",
     "output_type": "stream",
     "text": [
      "C:\\Users\\wehrm\\AppData\\Local\\Continuum\\anaconda3\\lib\\site-packages\\xgboost\\core.py:587: FutureWarning:\n",
      "\n",
      "Series.base is deprecated and will be removed in a future version\n",
      "\n"
     ]
    },
    {
     "name": "stdout",
     "output_type": "stream",
     "text": [
      "[14:49:44] WARNING: C:/Jenkins/workspace/xgboost-win64_release_0.90/src/objective/regression_obj.cu:152: reg:linear is now deprecated in favor of reg:squarederror.\n"
     ]
    },
    {
     "name": "stderr",
     "output_type": "stream",
     "text": [
      "C:\\Users\\wehrm\\AppData\\Local\\Continuum\\anaconda3\\lib\\site-packages\\xgboost\\core.py:587: FutureWarning:\n",
      "\n",
      "Series.base is deprecated and will be removed in a future version\n",
      "\n"
     ]
    },
    {
     "name": "stdout",
     "output_type": "stream",
     "text": [
      "[14:49:44] WARNING: C:/Jenkins/workspace/xgboost-win64_release_0.90/src/objective/regression_obj.cu:152: reg:linear is now deprecated in favor of reg:squarederror.\n"
     ]
    },
    {
     "name": "stderr",
     "output_type": "stream",
     "text": [
      "C:\\Users\\wehrm\\AppData\\Local\\Continuum\\anaconda3\\lib\\site-packages\\xgboost\\core.py:587: FutureWarning:\n",
      "\n",
      "Series.base is deprecated and will be removed in a future version\n",
      "\n"
     ]
    },
    {
     "name": "stdout",
     "output_type": "stream",
     "text": [
      "[14:49:45] WARNING: C:/Jenkins/workspace/xgboost-win64_release_0.90/src/objective/regression_obj.cu:152: reg:linear is now deprecated in favor of reg:squarederror.\n"
     ]
    },
    {
     "name": "stderr",
     "output_type": "stream",
     "text": [
      "C:\\Users\\wehrm\\AppData\\Local\\Continuum\\anaconda3\\lib\\site-packages\\xgboost\\core.py:587: FutureWarning:\n",
      "\n",
      "Series.base is deprecated and will be removed in a future version\n",
      "\n"
     ]
    },
    {
     "name": "stdout",
     "output_type": "stream",
     "text": [
      "[14:49:46] WARNING: C:/Jenkins/workspace/xgboost-win64_release_0.90/src/objective/regression_obj.cu:152: reg:linear is now deprecated in favor of reg:squarederror.\n"
     ]
    },
    {
     "name": "stderr",
     "output_type": "stream",
     "text": [
      "C:\\Users\\wehrm\\AppData\\Local\\Continuum\\anaconda3\\lib\\site-packages\\xgboost\\core.py:587: FutureWarning:\n",
      "\n",
      "Series.base is deprecated and will be removed in a future version\n",
      "\n"
     ]
    },
    {
     "name": "stdout",
     "output_type": "stream",
     "text": [
      "[14:49:46] WARNING: C:/Jenkins/workspace/xgboost-win64_release_0.90/src/objective/regression_obj.cu:152: reg:linear is now deprecated in favor of reg:squarederror.\n"
     ]
    },
    {
     "name": "stderr",
     "output_type": "stream",
     "text": [
      "C:\\Users\\wehrm\\AppData\\Local\\Continuum\\anaconda3\\lib\\site-packages\\xgboost\\core.py:587: FutureWarning:\n",
      "\n",
      "Series.base is deprecated and will be removed in a future version\n",
      "\n"
     ]
    },
    {
     "name": "stdout",
     "output_type": "stream",
     "text": [
      "[14:49:47] WARNING: C:/Jenkins/workspace/xgboost-win64_release_0.90/src/objective/regression_obj.cu:152: reg:linear is now deprecated in favor of reg:squarederror.\n"
     ]
    },
    {
     "name": "stderr",
     "output_type": "stream",
     "text": [
      "C:\\Users\\wehrm\\AppData\\Local\\Continuum\\anaconda3\\lib\\site-packages\\xgboost\\core.py:587: FutureWarning:\n",
      "\n",
      "Series.base is deprecated and will be removed in a future version\n",
      "\n"
     ]
    },
    {
     "name": "stdout",
     "output_type": "stream",
     "text": [
      "[14:49:48] WARNING: C:/Jenkins/workspace/xgboost-win64_release_0.90/src/objective/regression_obj.cu:152: reg:linear is now deprecated in favor of reg:squarederror.\n"
     ]
    },
    {
     "name": "stderr",
     "output_type": "stream",
     "text": [
      "C:\\Users\\wehrm\\AppData\\Local\\Continuum\\anaconda3\\lib\\site-packages\\xgboost\\core.py:587: FutureWarning:\n",
      "\n",
      "Series.base is deprecated and will be removed in a future version\n",
      "\n"
     ]
    },
    {
     "name": "stdout",
     "output_type": "stream",
     "text": [
      "[14:49:49] WARNING: C:/Jenkins/workspace/xgboost-win64_release_0.90/src/objective/regression_obj.cu:152: reg:linear is now deprecated in favor of reg:squarederror.\n"
     ]
    },
    {
     "name": "stderr",
     "output_type": "stream",
     "text": [
      "C:\\Users\\wehrm\\AppData\\Local\\Continuum\\anaconda3\\lib\\site-packages\\xgboost\\core.py:587: FutureWarning:\n",
      "\n",
      "Series.base is deprecated and will be removed in a future version\n",
      "\n"
     ]
    },
    {
     "name": "stdout",
     "output_type": "stream",
     "text": [
      "[14:49:49] WARNING: C:/Jenkins/workspace/xgboost-win64_release_0.90/src/objective/regression_obj.cu:152: reg:linear is now deprecated in favor of reg:squarederror.\n"
     ]
    },
    {
     "name": "stderr",
     "output_type": "stream",
     "text": [
      "C:\\Users\\wehrm\\AppData\\Local\\Continuum\\anaconda3\\lib\\site-packages\\xgboost\\core.py:587: FutureWarning:\n",
      "\n",
      "Series.base is deprecated and will be removed in a future version\n",
      "\n"
     ]
    },
    {
     "name": "stdout",
     "output_type": "stream",
     "text": [
      "[14:49:50] WARNING: C:/Jenkins/workspace/xgboost-win64_release_0.90/src/objective/regression_obj.cu:152: reg:linear is now deprecated in favor of reg:squarederror.\n"
     ]
    },
    {
     "name": "stderr",
     "output_type": "stream",
     "text": [
      "C:\\Users\\wehrm\\AppData\\Local\\Continuum\\anaconda3\\lib\\site-packages\\xgboost\\core.py:587: FutureWarning:\n",
      "\n",
      "Series.base is deprecated and will be removed in a future version\n",
      "\n"
     ]
    },
    {
     "name": "stdout",
     "output_type": "stream",
     "text": [
      "[14:49:50] WARNING: C:/Jenkins/workspace/xgboost-win64_release_0.90/src/objective/regression_obj.cu:152: reg:linear is now deprecated in favor of reg:squarederror.\n"
     ]
    },
    {
     "name": "stderr",
     "output_type": "stream",
     "text": [
      "C:\\Users\\wehrm\\AppData\\Local\\Continuum\\anaconda3\\lib\\site-packages\\xgboost\\core.py:587: FutureWarning:\n",
      "\n",
      "Series.base is deprecated and will be removed in a future version\n",
      "\n"
     ]
    },
    {
     "name": "stdout",
     "output_type": "stream",
     "text": [
      "[14:49:52] WARNING: C:/Jenkins/workspace/xgboost-win64_release_0.90/src/objective/regression_obj.cu:152: reg:linear is now deprecated in favor of reg:squarederror.\n"
     ]
    },
    {
     "name": "stderr",
     "output_type": "stream",
     "text": [
      "C:\\Users\\wehrm\\AppData\\Local\\Continuum\\anaconda3\\lib\\site-packages\\xgboost\\core.py:587: FutureWarning:\n",
      "\n",
      "Series.base is deprecated and will be removed in a future version\n",
      "\n"
     ]
    },
    {
     "name": "stdout",
     "output_type": "stream",
     "text": [
      "[14:49:53] WARNING: C:/Jenkins/workspace/xgboost-win64_release_0.90/src/objective/regression_obj.cu:152: reg:linear is now deprecated in favor of reg:squarederror.\n"
     ]
    },
    {
     "name": "stderr",
     "output_type": "stream",
     "text": [
      "C:\\Users\\wehrm\\AppData\\Local\\Continuum\\anaconda3\\lib\\site-packages\\xgboost\\core.py:587: FutureWarning:\n",
      "\n",
      "Series.base is deprecated and will be removed in a future version\n",
      "\n"
     ]
    },
    {
     "name": "stdout",
     "output_type": "stream",
     "text": [
      "[14:49:55] WARNING: C:/Jenkins/workspace/xgboost-win64_release_0.90/src/objective/regression_obj.cu:152: reg:linear is now deprecated in favor of reg:squarederror.\n"
     ]
    },
    {
     "name": "stderr",
     "output_type": "stream",
     "text": [
      "C:\\Users\\wehrm\\AppData\\Local\\Continuum\\anaconda3\\lib\\site-packages\\xgboost\\core.py:587: FutureWarning:\n",
      "\n",
      "Series.base is deprecated and will be removed in a future version\n",
      "\n"
     ]
    },
    {
     "name": "stdout",
     "output_type": "stream",
     "text": [
      "[14:49:56] WARNING: C:/Jenkins/workspace/xgboost-win64_release_0.90/src/objective/regression_obj.cu:152: reg:linear is now deprecated in favor of reg:squarederror.\n"
     ]
    },
    {
     "name": "stderr",
     "output_type": "stream",
     "text": [
      "C:\\Users\\wehrm\\AppData\\Local\\Continuum\\anaconda3\\lib\\site-packages\\xgboost\\core.py:587: FutureWarning:\n",
      "\n",
      "Series.base is deprecated and will be removed in a future version\n",
      "\n"
     ]
    },
    {
     "name": "stdout",
     "output_type": "stream",
     "text": [
      "[14:49:57] WARNING: C:/Jenkins/workspace/xgboost-win64_release_0.90/src/objective/regression_obj.cu:152: reg:linear is now deprecated in favor of reg:squarederror.\n"
     ]
    },
    {
     "name": "stderr",
     "output_type": "stream",
     "text": [
      "C:\\Users\\wehrm\\AppData\\Local\\Continuum\\anaconda3\\lib\\site-packages\\xgboost\\core.py:587: FutureWarning:\n",
      "\n",
      "Series.base is deprecated and will be removed in a future version\n",
      "\n"
     ]
    },
    {
     "name": "stdout",
     "output_type": "stream",
     "text": [
      "[14:49:59] WARNING: C:/Jenkins/workspace/xgboost-win64_release_0.90/src/objective/regression_obj.cu:152: reg:linear is now deprecated in favor of reg:squarederror.\n"
     ]
    },
    {
     "name": "stderr",
     "output_type": "stream",
     "text": [
      "C:\\Users\\wehrm\\AppData\\Local\\Continuum\\anaconda3\\lib\\site-packages\\xgboost\\core.py:587: FutureWarning:\n",
      "\n",
      "Series.base is deprecated and will be removed in a future version\n",
      "\n"
     ]
    },
    {
     "name": "stdout",
     "output_type": "stream",
     "text": [
      "[14:50:00] WARNING: C:/Jenkins/workspace/xgboost-win64_release_0.90/src/objective/regression_obj.cu:152: reg:linear is now deprecated in favor of reg:squarederror.\n"
     ]
    },
    {
     "name": "stderr",
     "output_type": "stream",
     "text": [
      "C:\\Users\\wehrm\\AppData\\Local\\Continuum\\anaconda3\\lib\\site-packages\\xgboost\\core.py:587: FutureWarning:\n",
      "\n",
      "Series.base is deprecated and will be removed in a future version\n",
      "\n"
     ]
    },
    {
     "name": "stdout",
     "output_type": "stream",
     "text": [
      "[14:50:02] WARNING: C:/Jenkins/workspace/xgboost-win64_release_0.90/src/objective/regression_obj.cu:152: reg:linear is now deprecated in favor of reg:squarederror.\n"
     ]
    },
    {
     "name": "stderr",
     "output_type": "stream",
     "text": [
      "C:\\Users\\wehrm\\AppData\\Local\\Continuum\\anaconda3\\lib\\site-packages\\xgboost\\core.py:587: FutureWarning:\n",
      "\n",
      "Series.base is deprecated and will be removed in a future version\n",
      "\n"
     ]
    },
    {
     "name": "stdout",
     "output_type": "stream",
     "text": [
      "[14:50:03] WARNING: C:/Jenkins/workspace/xgboost-win64_release_0.90/src/objective/regression_obj.cu:152: reg:linear is now deprecated in favor of reg:squarederror.\n"
     ]
    },
    {
     "name": "stderr",
     "output_type": "stream",
     "text": [
      "C:\\Users\\wehrm\\AppData\\Local\\Continuum\\anaconda3\\lib\\site-packages\\xgboost\\core.py:587: FutureWarning:\n",
      "\n",
      "Series.base is deprecated and will be removed in a future version\n",
      "\n"
     ]
    },
    {
     "name": "stdout",
     "output_type": "stream",
     "text": [
      "[14:50:04] WARNING: C:/Jenkins/workspace/xgboost-win64_release_0.90/src/objective/regression_obj.cu:152: reg:linear is now deprecated in favor of reg:squarederror.\n"
     ]
    },
    {
     "name": "stderr",
     "output_type": "stream",
     "text": [
      "C:\\Users\\wehrm\\AppData\\Local\\Continuum\\anaconda3\\lib\\site-packages\\xgboost\\core.py:587: FutureWarning:\n",
      "\n",
      "Series.base is deprecated and will be removed in a future version\n",
      "\n"
     ]
    },
    {
     "name": "stdout",
     "output_type": "stream",
     "text": [
      "[14:50:05] WARNING: C:/Jenkins/workspace/xgboost-win64_release_0.90/src/objective/regression_obj.cu:152: reg:linear is now deprecated in favor of reg:squarederror.\n"
     ]
    },
    {
     "name": "stderr",
     "output_type": "stream",
     "text": [
      "C:\\Users\\wehrm\\AppData\\Local\\Continuum\\anaconda3\\lib\\site-packages\\xgboost\\core.py:587: FutureWarning:\n",
      "\n",
      "Series.base is deprecated and will be removed in a future version\n",
      "\n"
     ]
    },
    {
     "name": "stdout",
     "output_type": "stream",
     "text": [
      "[14:50:06] WARNING: C:/Jenkins/workspace/xgboost-win64_release_0.90/src/objective/regression_obj.cu:152: reg:linear is now deprecated in favor of reg:squarederror.\n"
     ]
    },
    {
     "name": "stderr",
     "output_type": "stream",
     "text": [
      "C:\\Users\\wehrm\\AppData\\Local\\Continuum\\anaconda3\\lib\\site-packages\\xgboost\\core.py:587: FutureWarning:\n",
      "\n",
      "Series.base is deprecated and will be removed in a future version\n",
      "\n"
     ]
    },
    {
     "name": "stdout",
     "output_type": "stream",
     "text": [
      "[14:50:08] WARNING: C:/Jenkins/workspace/xgboost-win64_release_0.90/src/objective/regression_obj.cu:152: reg:linear is now deprecated in favor of reg:squarederror.\n"
     ]
    },
    {
     "name": "stderr",
     "output_type": "stream",
     "text": [
      "C:\\Users\\wehrm\\AppData\\Local\\Continuum\\anaconda3\\lib\\site-packages\\xgboost\\core.py:587: FutureWarning:\n",
      "\n",
      "Series.base is deprecated and will be removed in a future version\n",
      "\n"
     ]
    },
    {
     "name": "stdout",
     "output_type": "stream",
     "text": [
      "[14:50:09] WARNING: C:/Jenkins/workspace/xgboost-win64_release_0.90/src/objective/regression_obj.cu:152: reg:linear is now deprecated in favor of reg:squarederror.\n"
     ]
    },
    {
     "name": "stderr",
     "output_type": "stream",
     "text": [
      "C:\\Users\\wehrm\\AppData\\Local\\Continuum\\anaconda3\\lib\\site-packages\\xgboost\\core.py:587: FutureWarning:\n",
      "\n",
      "Series.base is deprecated and will be removed in a future version\n",
      "\n"
     ]
    },
    {
     "name": "stdout",
     "output_type": "stream",
     "text": [
      "[14:50:11] WARNING: C:/Jenkins/workspace/xgboost-win64_release_0.90/src/objective/regression_obj.cu:152: reg:linear is now deprecated in favor of reg:squarederror.\n"
     ]
    },
    {
     "name": "stderr",
     "output_type": "stream",
     "text": [
      "C:\\Users\\wehrm\\AppData\\Local\\Continuum\\anaconda3\\lib\\site-packages\\xgboost\\core.py:587: FutureWarning:\n",
      "\n",
      "Series.base is deprecated and will be removed in a future version\n",
      "\n"
     ]
    },
    {
     "name": "stdout",
     "output_type": "stream",
     "text": [
      "[14:50:12] WARNING: C:/Jenkins/workspace/xgboost-win64_release_0.90/src/objective/regression_obj.cu:152: reg:linear is now deprecated in favor of reg:squarederror.\n"
     ]
    },
    {
     "name": "stderr",
     "output_type": "stream",
     "text": [
      "C:\\Users\\wehrm\\AppData\\Local\\Continuum\\anaconda3\\lib\\site-packages\\xgboost\\core.py:587: FutureWarning:\n",
      "\n",
      "Series.base is deprecated and will be removed in a future version\n",
      "\n"
     ]
    },
    {
     "name": "stdout",
     "output_type": "stream",
     "text": [
      "[14:50:13] WARNING: C:/Jenkins/workspace/xgboost-win64_release_0.90/src/objective/regression_obj.cu:152: reg:linear is now deprecated in favor of reg:squarederror.\n"
     ]
    },
    {
     "name": "stderr",
     "output_type": "stream",
     "text": [
      "C:\\Users\\wehrm\\AppData\\Local\\Continuum\\anaconda3\\lib\\site-packages\\xgboost\\core.py:587: FutureWarning:\n",
      "\n",
      "Series.base is deprecated and will be removed in a future version\n",
      "\n"
     ]
    },
    {
     "name": "stdout",
     "output_type": "stream",
     "text": [
      "[14:50:14] WARNING: C:/Jenkins/workspace/xgboost-win64_release_0.90/src/objective/regression_obj.cu:152: reg:linear is now deprecated in favor of reg:squarederror.\n"
     ]
    },
    {
     "name": "stderr",
     "output_type": "stream",
     "text": [
      "C:\\Users\\wehrm\\AppData\\Local\\Continuum\\anaconda3\\lib\\site-packages\\xgboost\\core.py:587: FutureWarning:\n",
      "\n",
      "Series.base is deprecated and will be removed in a future version\n",
      "\n"
     ]
    },
    {
     "name": "stdout",
     "output_type": "stream",
     "text": [
      "[14:50:14] WARNING: C:/Jenkins/workspace/xgboost-win64_release_0.90/src/objective/regression_obj.cu:152: reg:linear is now deprecated in favor of reg:squarederror.\n"
     ]
    },
    {
     "name": "stderr",
     "output_type": "stream",
     "text": [
      "C:\\Users\\wehrm\\AppData\\Local\\Continuum\\anaconda3\\lib\\site-packages\\xgboost\\core.py:587: FutureWarning:\n",
      "\n",
      "Series.base is deprecated and will be removed in a future version\n",
      "\n"
     ]
    },
    {
     "name": "stdout",
     "output_type": "stream",
     "text": [
      "[14:50:15] WARNING: C:/Jenkins/workspace/xgboost-win64_release_0.90/src/objective/regression_obj.cu:152: reg:linear is now deprecated in favor of reg:squarederror.\n"
     ]
    },
    {
     "name": "stderr",
     "output_type": "stream",
     "text": [
      "C:\\Users\\wehrm\\AppData\\Local\\Continuum\\anaconda3\\lib\\site-packages\\xgboost\\core.py:587: FutureWarning:\n",
      "\n",
      "Series.base is deprecated and will be removed in a future version\n",
      "\n"
     ]
    },
    {
     "name": "stdout",
     "output_type": "stream",
     "text": [
      "[14:50:15] WARNING: C:/Jenkins/workspace/xgboost-win64_release_0.90/src/objective/regression_obj.cu:152: reg:linear is now deprecated in favor of reg:squarederror.\n"
     ]
    },
    {
     "name": "stderr",
     "output_type": "stream",
     "text": [
      "C:\\Users\\wehrm\\AppData\\Local\\Continuum\\anaconda3\\lib\\site-packages\\xgboost\\core.py:587: FutureWarning:\n",
      "\n",
      "Series.base is deprecated and will be removed in a future version\n",
      "\n"
     ]
    },
    {
     "name": "stdout",
     "output_type": "stream",
     "text": [
      "[14:50:15] WARNING: C:/Jenkins/workspace/xgboost-win64_release_0.90/src/objective/regression_obj.cu:152: reg:linear is now deprecated in favor of reg:squarederror.\n"
     ]
    },
    {
     "name": "stderr",
     "output_type": "stream",
     "text": [
      "C:\\Users\\wehrm\\AppData\\Local\\Continuum\\anaconda3\\lib\\site-packages\\xgboost\\core.py:587: FutureWarning:\n",
      "\n",
      "Series.base is deprecated and will be removed in a future version\n",
      "\n"
     ]
    },
    {
     "name": "stdout",
     "output_type": "stream",
     "text": [
      "[14:50:16] WARNING: C:/Jenkins/workspace/xgboost-win64_release_0.90/src/objective/regression_obj.cu:152: reg:linear is now deprecated in favor of reg:squarederror.\n"
     ]
    },
    {
     "name": "stderr",
     "output_type": "stream",
     "text": [
      "C:\\Users\\wehrm\\AppData\\Local\\Continuum\\anaconda3\\lib\\site-packages\\xgboost\\core.py:587: FutureWarning:\n",
      "\n",
      "Series.base is deprecated and will be removed in a future version\n",
      "\n"
     ]
    },
    {
     "name": "stdout",
     "output_type": "stream",
     "text": [
      "[14:50:16] WARNING: C:/Jenkins/workspace/xgboost-win64_release_0.90/src/objective/regression_obj.cu:152: reg:linear is now deprecated in favor of reg:squarederror.\n"
     ]
    },
    {
     "name": "stderr",
     "output_type": "stream",
     "text": [
      "C:\\Users\\wehrm\\AppData\\Local\\Continuum\\anaconda3\\lib\\site-packages\\xgboost\\core.py:587: FutureWarning:\n",
      "\n",
      "Series.base is deprecated and will be removed in a future version\n",
      "\n"
     ]
    },
    {
     "name": "stdout",
     "output_type": "stream",
     "text": [
      "[14:50:16] WARNING: C:/Jenkins/workspace/xgboost-win64_release_0.90/src/objective/regression_obj.cu:152: reg:linear is now deprecated in favor of reg:squarederror.\n"
     ]
    },
    {
     "name": "stderr",
     "output_type": "stream",
     "text": [
      "C:\\Users\\wehrm\\AppData\\Local\\Continuum\\anaconda3\\lib\\site-packages\\xgboost\\core.py:587: FutureWarning:\n",
      "\n",
      "Series.base is deprecated and will be removed in a future version\n",
      "\n"
     ]
    },
    {
     "name": "stdout",
     "output_type": "stream",
     "text": [
      "[14:50:17] WARNING: C:/Jenkins/workspace/xgboost-win64_release_0.90/src/objective/regression_obj.cu:152: reg:linear is now deprecated in favor of reg:squarederror.\n"
     ]
    },
    {
     "name": "stderr",
     "output_type": "stream",
     "text": [
      "C:\\Users\\wehrm\\AppData\\Local\\Continuum\\anaconda3\\lib\\site-packages\\xgboost\\core.py:587: FutureWarning:\n",
      "\n",
      "Series.base is deprecated and will be removed in a future version\n",
      "\n"
     ]
    },
    {
     "name": "stdout",
     "output_type": "stream",
     "text": [
      "[14:50:17] WARNING: C:/Jenkins/workspace/xgboost-win64_release_0.90/src/objective/regression_obj.cu:152: reg:linear is now deprecated in favor of reg:squarederror.\n"
     ]
    },
    {
     "name": "stderr",
     "output_type": "stream",
     "text": [
      "C:\\Users\\wehrm\\AppData\\Local\\Continuum\\anaconda3\\lib\\site-packages\\xgboost\\core.py:587: FutureWarning:\n",
      "\n",
      "Series.base is deprecated and will be removed in a future version\n",
      "\n"
     ]
    },
    {
     "name": "stdout",
     "output_type": "stream",
     "text": [
      "[14:50:18] WARNING: C:/Jenkins/workspace/xgboost-win64_release_0.90/src/objective/regression_obj.cu:152: reg:linear is now deprecated in favor of reg:squarederror.\n"
     ]
    },
    {
     "name": "stderr",
     "output_type": "stream",
     "text": [
      "C:\\Users\\wehrm\\AppData\\Local\\Continuum\\anaconda3\\lib\\site-packages\\xgboost\\core.py:587: FutureWarning:\n",
      "\n",
      "Series.base is deprecated and will be removed in a future version\n",
      "\n"
     ]
    },
    {
     "name": "stdout",
     "output_type": "stream",
     "text": [
      "[14:50:18] WARNING: C:/Jenkins/workspace/xgboost-win64_release_0.90/src/objective/regression_obj.cu:152: reg:linear is now deprecated in favor of reg:squarederror.\n"
     ]
    },
    {
     "name": "stderr",
     "output_type": "stream",
     "text": [
      "C:\\Users\\wehrm\\AppData\\Local\\Continuum\\anaconda3\\lib\\site-packages\\xgboost\\core.py:587: FutureWarning:\n",
      "\n",
      "Series.base is deprecated and will be removed in a future version\n",
      "\n"
     ]
    },
    {
     "name": "stdout",
     "output_type": "stream",
     "text": [
      "[14:50:18] WARNING: C:/Jenkins/workspace/xgboost-win64_release_0.90/src/objective/regression_obj.cu:152: reg:linear is now deprecated in favor of reg:squarederror.\n"
     ]
    },
    {
     "name": "stderr",
     "output_type": "stream",
     "text": [
      "C:\\Users\\wehrm\\AppData\\Local\\Continuum\\anaconda3\\lib\\site-packages\\xgboost\\core.py:587: FutureWarning:\n",
      "\n",
      "Series.base is deprecated and will be removed in a future version\n",
      "\n"
     ]
    },
    {
     "name": "stdout",
     "output_type": "stream",
     "text": [
      "[14:50:19] WARNING: C:/Jenkins/workspace/xgboost-win64_release_0.90/src/objective/regression_obj.cu:152: reg:linear is now deprecated in favor of reg:squarederror.\n"
     ]
    },
    {
     "name": "stderr",
     "output_type": "stream",
     "text": [
      "C:\\Users\\wehrm\\AppData\\Local\\Continuum\\anaconda3\\lib\\site-packages\\xgboost\\core.py:587: FutureWarning:\n",
      "\n",
      "Series.base is deprecated and will be removed in a future version\n",
      "\n"
     ]
    },
    {
     "name": "stdout",
     "output_type": "stream",
     "text": [
      "[14:50:19] WARNING: C:/Jenkins/workspace/xgboost-win64_release_0.90/src/objective/regression_obj.cu:152: reg:linear is now deprecated in favor of reg:squarederror.\n"
     ]
    },
    {
     "name": "stderr",
     "output_type": "stream",
     "text": [
      "C:\\Users\\wehrm\\AppData\\Local\\Continuum\\anaconda3\\lib\\site-packages\\xgboost\\core.py:587: FutureWarning:\n",
      "\n",
      "Series.base is deprecated and will be removed in a future version\n",
      "\n"
     ]
    },
    {
     "name": "stdout",
     "output_type": "stream",
     "text": [
      "[14:50:19] WARNING: C:/Jenkins/workspace/xgboost-win64_release_0.90/src/objective/regression_obj.cu:152: reg:linear is now deprecated in favor of reg:squarederror.\n"
     ]
    },
    {
     "name": "stderr",
     "output_type": "stream",
     "text": [
      "C:\\Users\\wehrm\\AppData\\Local\\Continuum\\anaconda3\\lib\\site-packages\\xgboost\\core.py:587: FutureWarning:\n",
      "\n",
      "Series.base is deprecated and will be removed in a future version\n",
      "\n"
     ]
    },
    {
     "name": "stdout",
     "output_type": "stream",
     "text": [
      "[14:50:20] WARNING: C:/Jenkins/workspace/xgboost-win64_release_0.90/src/objective/regression_obj.cu:152: reg:linear is now deprecated in favor of reg:squarederror.\n"
     ]
    },
    {
     "name": "stderr",
     "output_type": "stream",
     "text": [
      "C:\\Users\\wehrm\\AppData\\Local\\Continuum\\anaconda3\\lib\\site-packages\\xgboost\\core.py:587: FutureWarning:\n",
      "\n",
      "Series.base is deprecated and will be removed in a future version\n",
      "\n"
     ]
    },
    {
     "name": "stdout",
     "output_type": "stream",
     "text": [
      "[14:50:20] WARNING: C:/Jenkins/workspace/xgboost-win64_release_0.90/src/objective/regression_obj.cu:152: reg:linear is now deprecated in favor of reg:squarederror.\n"
     ]
    },
    {
     "name": "stderr",
     "output_type": "stream",
     "text": [
      "C:\\Users\\wehrm\\AppData\\Local\\Continuum\\anaconda3\\lib\\site-packages\\xgboost\\core.py:587: FutureWarning:\n",
      "\n",
      "Series.base is deprecated and will be removed in a future version\n",
      "\n"
     ]
    },
    {
     "name": "stdout",
     "output_type": "stream",
     "text": [
      "[14:50:20] WARNING: C:/Jenkins/workspace/xgboost-win64_release_0.90/src/objective/regression_obj.cu:152: reg:linear is now deprecated in favor of reg:squarederror.\n"
     ]
    },
    {
     "name": "stderr",
     "output_type": "stream",
     "text": [
      "C:\\Users\\wehrm\\AppData\\Local\\Continuum\\anaconda3\\lib\\site-packages\\xgboost\\core.py:587: FutureWarning:\n",
      "\n",
      "Series.base is deprecated and will be removed in a future version\n",
      "\n"
     ]
    },
    {
     "name": "stdout",
     "output_type": "stream",
     "text": [
      "[14:50:21] WARNING: C:/Jenkins/workspace/xgboost-win64_release_0.90/src/objective/regression_obj.cu:152: reg:linear is now deprecated in favor of reg:squarederror.\n"
     ]
    },
    {
     "name": "stderr",
     "output_type": "stream",
     "text": [
      "C:\\Users\\wehrm\\AppData\\Local\\Continuum\\anaconda3\\lib\\site-packages\\xgboost\\core.py:587: FutureWarning:\n",
      "\n",
      "Series.base is deprecated and will be removed in a future version\n",
      "\n"
     ]
    },
    {
     "name": "stdout",
     "output_type": "stream",
     "text": [
      "[14:50:22] WARNING: C:/Jenkins/workspace/xgboost-win64_release_0.90/src/objective/regression_obj.cu:152: reg:linear is now deprecated in favor of reg:squarederror.\n"
     ]
    },
    {
     "name": "stderr",
     "output_type": "stream",
     "text": [
      "C:\\Users\\wehrm\\AppData\\Local\\Continuum\\anaconda3\\lib\\site-packages\\xgboost\\core.py:587: FutureWarning:\n",
      "\n",
      "Series.base is deprecated and will be removed in a future version\n",
      "\n"
     ]
    },
    {
     "name": "stdout",
     "output_type": "stream",
     "text": [
      "[14:50:23] WARNING: C:/Jenkins/workspace/xgboost-win64_release_0.90/src/objective/regression_obj.cu:152: reg:linear is now deprecated in favor of reg:squarederror.\n"
     ]
    },
    {
     "name": "stderr",
     "output_type": "stream",
     "text": [
      "C:\\Users\\wehrm\\AppData\\Local\\Continuum\\anaconda3\\lib\\site-packages\\xgboost\\core.py:587: FutureWarning:\n",
      "\n",
      "Series.base is deprecated and will be removed in a future version\n",
      "\n"
     ]
    },
    {
     "name": "stdout",
     "output_type": "stream",
     "text": [
      "[14:50:23] WARNING: C:/Jenkins/workspace/xgboost-win64_release_0.90/src/objective/regression_obj.cu:152: reg:linear is now deprecated in favor of reg:squarederror.\n"
     ]
    },
    {
     "name": "stderr",
     "output_type": "stream",
     "text": [
      "C:\\Users\\wehrm\\AppData\\Local\\Continuum\\anaconda3\\lib\\site-packages\\xgboost\\core.py:587: FutureWarning:\n",
      "\n",
      "Series.base is deprecated and will be removed in a future version\n",
      "\n"
     ]
    },
    {
     "name": "stdout",
     "output_type": "stream",
     "text": [
      "[14:50:24] WARNING: C:/Jenkins/workspace/xgboost-win64_release_0.90/src/objective/regression_obj.cu:152: reg:linear is now deprecated in favor of reg:squarederror.\n"
     ]
    },
    {
     "name": "stderr",
     "output_type": "stream",
     "text": [
      "C:\\Users\\wehrm\\AppData\\Local\\Continuum\\anaconda3\\lib\\site-packages\\xgboost\\core.py:587: FutureWarning:\n",
      "\n",
      "Series.base is deprecated and will be removed in a future version\n",
      "\n"
     ]
    },
    {
     "name": "stdout",
     "output_type": "stream",
     "text": [
      "[14:50:25] WARNING: C:/Jenkins/workspace/xgboost-win64_release_0.90/src/objective/regression_obj.cu:152: reg:linear is now deprecated in favor of reg:squarederror.\n"
     ]
    },
    {
     "name": "stderr",
     "output_type": "stream",
     "text": [
      "C:\\Users\\wehrm\\AppData\\Local\\Continuum\\anaconda3\\lib\\site-packages\\xgboost\\core.py:587: FutureWarning:\n",
      "\n",
      "Series.base is deprecated and will be removed in a future version\n",
      "\n"
     ]
    },
    {
     "name": "stdout",
     "output_type": "stream",
     "text": [
      "[14:50:26] WARNING: C:/Jenkins/workspace/xgboost-win64_release_0.90/src/objective/regression_obj.cu:152: reg:linear is now deprecated in favor of reg:squarederror.\n"
     ]
    },
    {
     "name": "stderr",
     "output_type": "stream",
     "text": [
      "C:\\Users\\wehrm\\AppData\\Local\\Continuum\\anaconda3\\lib\\site-packages\\xgboost\\core.py:587: FutureWarning:\n",
      "\n",
      "Series.base is deprecated and will be removed in a future version\n",
      "\n"
     ]
    },
    {
     "name": "stdout",
     "output_type": "stream",
     "text": [
      "[14:50:26] WARNING: C:/Jenkins/workspace/xgboost-win64_release_0.90/src/objective/regression_obj.cu:152: reg:linear is now deprecated in favor of reg:squarederror.\n"
     ]
    },
    {
     "name": "stderr",
     "output_type": "stream",
     "text": [
      "C:\\Users\\wehrm\\AppData\\Local\\Continuum\\anaconda3\\lib\\site-packages\\xgboost\\core.py:587: FutureWarning:\n",
      "\n",
      "Series.base is deprecated and will be removed in a future version\n",
      "\n"
     ]
    },
    {
     "name": "stdout",
     "output_type": "stream",
     "text": [
      "[14:50:27] WARNING: C:/Jenkins/workspace/xgboost-win64_release_0.90/src/objective/regression_obj.cu:152: reg:linear is now deprecated in favor of reg:squarederror.\n"
     ]
    },
    {
     "name": "stderr",
     "output_type": "stream",
     "text": [
      "C:\\Users\\wehrm\\AppData\\Local\\Continuum\\anaconda3\\lib\\site-packages\\xgboost\\core.py:587: FutureWarning:\n",
      "\n",
      "Series.base is deprecated and will be removed in a future version\n",
      "\n"
     ]
    },
    {
     "name": "stdout",
     "output_type": "stream",
     "text": [
      "[14:50:28] WARNING: C:/Jenkins/workspace/xgboost-win64_release_0.90/src/objective/regression_obj.cu:152: reg:linear is now deprecated in favor of reg:squarederror.\n"
     ]
    },
    {
     "name": "stderr",
     "output_type": "stream",
     "text": [
      "C:\\Users\\wehrm\\AppData\\Local\\Continuum\\anaconda3\\lib\\site-packages\\xgboost\\core.py:587: FutureWarning:\n",
      "\n",
      "Series.base is deprecated and will be removed in a future version\n",
      "\n"
     ]
    },
    {
     "name": "stdout",
     "output_type": "stream",
     "text": [
      "[14:50:28] WARNING: C:/Jenkins/workspace/xgboost-win64_release_0.90/src/objective/regression_obj.cu:152: reg:linear is now deprecated in favor of reg:squarederror.\n"
     ]
    },
    {
     "name": "stderr",
     "output_type": "stream",
     "text": [
      "C:\\Users\\wehrm\\AppData\\Local\\Continuum\\anaconda3\\lib\\site-packages\\xgboost\\core.py:587: FutureWarning:\n",
      "\n",
      "Series.base is deprecated and will be removed in a future version\n",
      "\n"
     ]
    },
    {
     "name": "stdout",
     "output_type": "stream",
     "text": [
      "[14:50:29] WARNING: C:/Jenkins/workspace/xgboost-win64_release_0.90/src/objective/regression_obj.cu:152: reg:linear is now deprecated in favor of reg:squarederror.\n"
     ]
    },
    {
     "name": "stderr",
     "output_type": "stream",
     "text": [
      "C:\\Users\\wehrm\\AppData\\Local\\Continuum\\anaconda3\\lib\\site-packages\\xgboost\\core.py:587: FutureWarning:\n",
      "\n",
      "Series.base is deprecated and will be removed in a future version\n",
      "\n"
     ]
    },
    {
     "name": "stdout",
     "output_type": "stream",
     "text": [
      "[14:50:30] WARNING: C:/Jenkins/workspace/xgboost-win64_release_0.90/src/objective/regression_obj.cu:152: reg:linear is now deprecated in favor of reg:squarederror.\n"
     ]
    },
    {
     "name": "stderr",
     "output_type": "stream",
     "text": [
      "C:\\Users\\wehrm\\AppData\\Local\\Continuum\\anaconda3\\lib\\site-packages\\xgboost\\core.py:587: FutureWarning:\n",
      "\n",
      "Series.base is deprecated and will be removed in a future version\n",
      "\n"
     ]
    },
    {
     "name": "stdout",
     "output_type": "stream",
     "text": [
      "[14:50:31] WARNING: C:/Jenkins/workspace/xgboost-win64_release_0.90/src/objective/regression_obj.cu:152: reg:linear is now deprecated in favor of reg:squarederror.\n"
     ]
    },
    {
     "name": "stderr",
     "output_type": "stream",
     "text": [
      "C:\\Users\\wehrm\\AppData\\Local\\Continuum\\anaconda3\\lib\\site-packages\\xgboost\\core.py:587: FutureWarning:\n",
      "\n",
      "Series.base is deprecated and will be removed in a future version\n",
      "\n"
     ]
    },
    {
     "name": "stdout",
     "output_type": "stream",
     "text": [
      "[14:50:31] WARNING: C:/Jenkins/workspace/xgboost-win64_release_0.90/src/objective/regression_obj.cu:152: reg:linear is now deprecated in favor of reg:squarederror.\n"
     ]
    },
    {
     "name": "stderr",
     "output_type": "stream",
     "text": [
      "C:\\Users\\wehrm\\AppData\\Local\\Continuum\\anaconda3\\lib\\site-packages\\xgboost\\core.py:587: FutureWarning:\n",
      "\n",
      "Series.base is deprecated and will be removed in a future version\n",
      "\n"
     ]
    },
    {
     "name": "stdout",
     "output_type": "stream",
     "text": [
      "[14:50:32] WARNING: C:/Jenkins/workspace/xgboost-win64_release_0.90/src/objective/regression_obj.cu:152: reg:linear is now deprecated in favor of reg:squarederror.\n"
     ]
    },
    {
     "name": "stderr",
     "output_type": "stream",
     "text": [
      "C:\\Users\\wehrm\\AppData\\Local\\Continuum\\anaconda3\\lib\\site-packages\\xgboost\\core.py:587: FutureWarning:\n",
      "\n",
      "Series.base is deprecated and will be removed in a future version\n",
      "\n"
     ]
    },
    {
     "name": "stdout",
     "output_type": "stream",
     "text": [
      "[14:50:33] WARNING: C:/Jenkins/workspace/xgboost-win64_release_0.90/src/objective/regression_obj.cu:152: reg:linear is now deprecated in favor of reg:squarederror.\n"
     ]
    },
    {
     "name": "stderr",
     "output_type": "stream",
     "text": [
      "C:\\Users\\wehrm\\AppData\\Local\\Continuum\\anaconda3\\lib\\site-packages\\xgboost\\core.py:587: FutureWarning:\n",
      "\n",
      "Series.base is deprecated and will be removed in a future version\n",
      "\n"
     ]
    },
    {
     "name": "stdout",
     "output_type": "stream",
     "text": [
      "[14:50:33] WARNING: C:/Jenkins/workspace/xgboost-win64_release_0.90/src/objective/regression_obj.cu:152: reg:linear is now deprecated in favor of reg:squarederror.\n"
     ]
    },
    {
     "name": "stderr",
     "output_type": "stream",
     "text": [
      "C:\\Users\\wehrm\\AppData\\Local\\Continuum\\anaconda3\\lib\\site-packages\\xgboost\\core.py:587: FutureWarning:\n",
      "\n",
      "Series.base is deprecated and will be removed in a future version\n",
      "\n"
     ]
    },
    {
     "name": "stdout",
     "output_type": "stream",
     "text": [
      "[14:50:35] WARNING: C:/Jenkins/workspace/xgboost-win64_release_0.90/src/objective/regression_obj.cu:152: reg:linear is now deprecated in favor of reg:squarederror.\n"
     ]
    },
    {
     "name": "stderr",
     "output_type": "stream",
     "text": [
      "C:\\Users\\wehrm\\AppData\\Local\\Continuum\\anaconda3\\lib\\site-packages\\xgboost\\core.py:587: FutureWarning:\n",
      "\n",
      "Series.base is deprecated and will be removed in a future version\n",
      "\n"
     ]
    },
    {
     "name": "stdout",
     "output_type": "stream",
     "text": [
      "[14:50:36] WARNING: C:/Jenkins/workspace/xgboost-win64_release_0.90/src/objective/regression_obj.cu:152: reg:linear is now deprecated in favor of reg:squarederror.\n"
     ]
    },
    {
     "name": "stderr",
     "output_type": "stream",
     "text": [
      "C:\\Users\\wehrm\\AppData\\Local\\Continuum\\anaconda3\\lib\\site-packages\\xgboost\\core.py:587: FutureWarning:\n",
      "\n",
      "Series.base is deprecated and will be removed in a future version\n",
      "\n"
     ]
    },
    {
     "name": "stdout",
     "output_type": "stream",
     "text": [
      "[14:50:38] WARNING: C:/Jenkins/workspace/xgboost-win64_release_0.90/src/objective/regression_obj.cu:152: reg:linear is now deprecated in favor of reg:squarederror.\n"
     ]
    },
    {
     "name": "stderr",
     "output_type": "stream",
     "text": [
      "C:\\Users\\wehrm\\AppData\\Local\\Continuum\\anaconda3\\lib\\site-packages\\xgboost\\core.py:587: FutureWarning:\n",
      "\n",
      "Series.base is deprecated and will be removed in a future version\n",
      "\n"
     ]
    },
    {
     "name": "stdout",
     "output_type": "stream",
     "text": [
      "[14:50:39] WARNING: C:/Jenkins/workspace/xgboost-win64_release_0.90/src/objective/regression_obj.cu:152: reg:linear is now deprecated in favor of reg:squarederror.\n"
     ]
    },
    {
     "name": "stderr",
     "output_type": "stream",
     "text": [
      "C:\\Users\\wehrm\\AppData\\Local\\Continuum\\anaconda3\\lib\\site-packages\\xgboost\\core.py:587: FutureWarning:\n",
      "\n",
      "Series.base is deprecated and will be removed in a future version\n",
      "\n"
     ]
    },
    {
     "name": "stdout",
     "output_type": "stream",
     "text": [
      "[14:50:40] WARNING: C:/Jenkins/workspace/xgboost-win64_release_0.90/src/objective/regression_obj.cu:152: reg:linear is now deprecated in favor of reg:squarederror.\n"
     ]
    },
    {
     "name": "stderr",
     "output_type": "stream",
     "text": [
      "C:\\Users\\wehrm\\AppData\\Local\\Continuum\\anaconda3\\lib\\site-packages\\xgboost\\core.py:587: FutureWarning:\n",
      "\n",
      "Series.base is deprecated and will be removed in a future version\n",
      "\n"
     ]
    },
    {
     "name": "stdout",
     "output_type": "stream",
     "text": [
      "[14:50:41] WARNING: C:/Jenkins/workspace/xgboost-win64_release_0.90/src/objective/regression_obj.cu:152: reg:linear is now deprecated in favor of reg:squarederror.\n"
     ]
    },
    {
     "name": "stderr",
     "output_type": "stream",
     "text": [
      "C:\\Users\\wehrm\\AppData\\Local\\Continuum\\anaconda3\\lib\\site-packages\\xgboost\\core.py:587: FutureWarning:\n",
      "\n",
      "Series.base is deprecated and will be removed in a future version\n",
      "\n"
     ]
    },
    {
     "name": "stdout",
     "output_type": "stream",
     "text": [
      "[14:50:43] WARNING: C:/Jenkins/workspace/xgboost-win64_release_0.90/src/objective/regression_obj.cu:152: reg:linear is now deprecated in favor of reg:squarederror.\n"
     ]
    },
    {
     "name": "stderr",
     "output_type": "stream",
     "text": [
      "C:\\Users\\wehrm\\AppData\\Local\\Continuum\\anaconda3\\lib\\site-packages\\xgboost\\core.py:587: FutureWarning:\n",
      "\n",
      "Series.base is deprecated and will be removed in a future version\n",
      "\n"
     ]
    },
    {
     "name": "stdout",
     "output_type": "stream",
     "text": [
      "[14:50:44] WARNING: C:/Jenkins/workspace/xgboost-win64_release_0.90/src/objective/regression_obj.cu:152: reg:linear is now deprecated in favor of reg:squarederror.\n"
     ]
    },
    {
     "name": "stderr",
     "output_type": "stream",
     "text": [
      "C:\\Users\\wehrm\\AppData\\Local\\Continuum\\anaconda3\\lib\\site-packages\\xgboost\\core.py:587: FutureWarning:\n",
      "\n",
      "Series.base is deprecated and will be removed in a future version\n",
      "\n"
     ]
    },
    {
     "name": "stdout",
     "output_type": "stream",
     "text": [
      "[14:50:46] WARNING: C:/Jenkins/workspace/xgboost-win64_release_0.90/src/objective/regression_obj.cu:152: reg:linear is now deprecated in favor of reg:squarederror.\n"
     ]
    },
    {
     "name": "stderr",
     "output_type": "stream",
     "text": [
      "C:\\Users\\wehrm\\AppData\\Local\\Continuum\\anaconda3\\lib\\site-packages\\xgboost\\core.py:587: FutureWarning:\n",
      "\n",
      "Series.base is deprecated and will be removed in a future version\n",
      "\n"
     ]
    },
    {
     "name": "stdout",
     "output_type": "stream",
     "text": [
      "[14:50:47] WARNING: C:/Jenkins/workspace/xgboost-win64_release_0.90/src/objective/regression_obj.cu:152: reg:linear is now deprecated in favor of reg:squarederror.\n"
     ]
    },
    {
     "name": "stderr",
     "output_type": "stream",
     "text": [
      "C:\\Users\\wehrm\\AppData\\Local\\Continuum\\anaconda3\\lib\\site-packages\\xgboost\\core.py:587: FutureWarning:\n",
      "\n",
      "Series.base is deprecated and will be removed in a future version\n",
      "\n"
     ]
    },
    {
     "name": "stdout",
     "output_type": "stream",
     "text": [
      "[14:50:48] WARNING: C:/Jenkins/workspace/xgboost-win64_release_0.90/src/objective/regression_obj.cu:152: reg:linear is now deprecated in favor of reg:squarederror.\n"
     ]
    },
    {
     "name": "stderr",
     "output_type": "stream",
     "text": [
      "C:\\Users\\wehrm\\AppData\\Local\\Continuum\\anaconda3\\lib\\site-packages\\xgboost\\core.py:587: FutureWarning:\n",
      "\n",
      "Series.base is deprecated and will be removed in a future version\n",
      "\n"
     ]
    },
    {
     "name": "stdout",
     "output_type": "stream",
     "text": [
      "[14:50:49] WARNING: C:/Jenkins/workspace/xgboost-win64_release_0.90/src/objective/regression_obj.cu:152: reg:linear is now deprecated in favor of reg:squarederror.\n"
     ]
    },
    {
     "name": "stderr",
     "output_type": "stream",
     "text": [
      "C:\\Users\\wehrm\\AppData\\Local\\Continuum\\anaconda3\\lib\\site-packages\\xgboost\\core.py:587: FutureWarning:\n",
      "\n",
      "Series.base is deprecated and will be removed in a future version\n",
      "\n"
     ]
    },
    {
     "name": "stdout",
     "output_type": "stream",
     "text": [
      "[14:50:51] WARNING: C:/Jenkins/workspace/xgboost-win64_release_0.90/src/objective/regression_obj.cu:152: reg:linear is now deprecated in favor of reg:squarederror.\n"
     ]
    },
    {
     "name": "stderr",
     "output_type": "stream",
     "text": [
      "C:\\Users\\wehrm\\AppData\\Local\\Continuum\\anaconda3\\lib\\site-packages\\xgboost\\core.py:587: FutureWarning:\n",
      "\n",
      "Series.base is deprecated and will be removed in a future version\n",
      "\n"
     ]
    },
    {
     "name": "stdout",
     "output_type": "stream",
     "text": [
      "[14:50:52] WARNING: C:/Jenkins/workspace/xgboost-win64_release_0.90/src/objective/regression_obj.cu:152: reg:linear is now deprecated in favor of reg:squarederror.\n"
     ]
    },
    {
     "name": "stderr",
     "output_type": "stream",
     "text": [
      "C:\\Users\\wehrm\\AppData\\Local\\Continuum\\anaconda3\\lib\\site-packages\\xgboost\\core.py:587: FutureWarning:\n",
      "\n",
      "Series.base is deprecated and will be removed in a future version\n",
      "\n"
     ]
    },
    {
     "name": "stdout",
     "output_type": "stream",
     "text": [
      "[14:50:53] WARNING: C:/Jenkins/workspace/xgboost-win64_release_0.90/src/objective/regression_obj.cu:152: reg:linear is now deprecated in favor of reg:squarederror.\n"
     ]
    },
    {
     "name": "stderr",
     "output_type": "stream",
     "text": [
      "C:\\Users\\wehrm\\AppData\\Local\\Continuum\\anaconda3\\lib\\site-packages\\xgboost\\core.py:587: FutureWarning:\n",
      "\n",
      "Series.base is deprecated and will be removed in a future version\n",
      "\n"
     ]
    },
    {
     "name": "stdout",
     "output_type": "stream",
     "text": [
      "[14:50:55] WARNING: C:/Jenkins/workspace/xgboost-win64_release_0.90/src/objective/regression_obj.cu:152: reg:linear is now deprecated in favor of reg:squarederror.\n"
     ]
    },
    {
     "name": "stderr",
     "output_type": "stream",
     "text": [
      "C:\\Users\\wehrm\\AppData\\Local\\Continuum\\anaconda3\\lib\\site-packages\\xgboost\\core.py:587: FutureWarning:\n",
      "\n",
      "Series.base is deprecated and will be removed in a future version\n",
      "\n"
     ]
    },
    {
     "name": "stdout",
     "output_type": "stream",
     "text": [
      "[14:50:56] WARNING: C:/Jenkins/workspace/xgboost-win64_release_0.90/src/objective/regression_obj.cu:152: reg:linear is now deprecated in favor of reg:squarederror.\n"
     ]
    },
    {
     "name": "stderr",
     "output_type": "stream",
     "text": [
      "[Parallel(n_jobs=1)]: Done 324 out of 324 | elapsed:  4.6min finished\n",
      "C:\\Users\\wehrm\\AppData\\Local\\Continuum\\anaconda3\\lib\\site-packages\\xgboost\\core.py:587: FutureWarning:\n",
      "\n",
      "Series.base is deprecated and will be removed in a future version\n",
      "\n"
     ]
    },
    {
     "name": "stdout",
     "output_type": "stream",
     "text": [
      "[14:50:57] WARNING: C:/Jenkins/workspace/xgboost-win64_release_0.90/src/objective/regression_obj.cu:152: reg:linear is now deprecated in favor of reg:squarederror.\n",
      "-1146679041680.3508\n",
      "XGBRegressor(base_score=0.5, booster='gbtree', colsample_bylevel=1,\n",
      "             colsample_bynode=1, colsample_bytree=1, eta=0.1, gamma=0,\n",
      "             importance_type='gain', learning_rate=0.1, max_delta_step=0,\n",
      "             max_depth=8, min_child_weight=6, missing=None, n_estimators=100,\n",
      "             n_jobs=1, nthread=None, objective='reg:linear', random_state=0,\n",
      "             reg_alpha=0, reg_lambda=1, scale_pos_weight=1, seed=None,\n",
      "             silent=None, subsample=0.5, verbosity=1)\n"
     ]
    }
   ],
   "source": [
    "max_depth = [1,4,8]\n",
    "min_child_weight = [1,4,6]\n",
    "gamma = [0,0.5]\n",
    "eta = [0.1,0.2,0.3]\n",
    "subsample = [0.5,1]\n",
    "\n",
    "# Setting up parameter grid\n",
    "hyperparams = {'max_depth': max_depth,\n",
    "               'min_child_weight': min_child_weight, \n",
    "               'gamma': gamma,\n",
    "               'eta': eta,\n",
    "              'subsample': subsample}\n",
    "\n",
    "# Run GridSearch CV\n",
    "gd=GridSearchCV(estimator = xbr, param_grid = hyperparams, \n",
    "                verbose=True, cv=3, scoring = 'neg_mean_squared_error')\n",
    "\n",
    "# Fitting model and return results\n",
    "gd.fit(train_predictors_val, train_target_val)\n",
    "print(gd.best_score_)\n",
    "print(gd.best_estimator_)"
   ]
  },
  {
   "cell_type": "code",
   "execution_count": 82,
   "metadata": {},
   "outputs": [
    {
     "name": "stdout",
     "output_type": "stream",
     "text": [
      "[14:52:39] WARNING: C:/Jenkins/workspace/xgboost-win64_release_0.90/src/objective/regression_obj.cu:152: reg:linear is now deprecated in favor of reg:squarederror.\n"
     ]
    }
   ],
   "source": [
    "xbr=xgb.XGBRegressor(base_score=0.5, booster='gbtree', colsample_bylevel=1,\n",
    "             colsample_bynode=1, colsample_bytree=1, eta=0.1, gamma=0,\n",
    "             importance_type='gain', learning_rate=0.1, max_delta_step=0,\n",
    "             max_depth=8, min_child_weight=6, missing=None, n_estimators=100,\n",
    "             n_jobs=1, nthread=None, objective='reg:linear', random_state=0,\n",
    "             reg_alpha=0, reg_lambda=1, scale_pos_weight=1, seed=None,\n",
    "             silent=None, subsample=0.5, verbosity=1)\n",
    "\n",
    "xbr.fit(train_predictors_val, train_target_val)\n",
    "\n",
    "# Test error\n",
    "y_pred = xbr.predict(test_predictors_val)\n",
    "test_mse_xbr = MSE(test_target_val, y_pred)\n",
    "test_rmse_xbr = round(test_mse_xbr**(1/2))"
   ]
  },
  {
   "cell_type": "code",
   "execution_count": 83,
   "metadata": {
    "scrolled": true
   },
   "outputs": [
    {
     "name": "stderr",
     "output_type": "stream",
     "text": [
      "C:\\Users\\wehrm\\AppData\\Local\\Continuum\\anaconda3\\lib\\site-packages\\sklearn\\model_selection\\_split.py:1978: FutureWarning:\n",
      "\n",
      "The default value of cv will change from 3 to 5 in version 0.22. Specify it explicitly to silence this warning.\n",
      "\n"
     ]
    }
   ],
   "source": [
    "# Cross-validation error\n",
    "MSE_cv_error_xbr = -cross_val_score(xbr, train_predictors_val,\n",
    "                                    train_target_val, scoring='neg_mean_squared_error', n_jobs=-1)\n",
    "RMSE_cv_xbr = round((MSE_cv_error_xbr.mean())**(1/2))"
   ]
  },
  {
   "cell_type": "code",
   "execution_count": 84,
   "metadata": {},
   "outputs": [],
   "source": [
    "# Train error\n",
    "y_pred = xbr.predict(train_predictors_val)\n",
    "train_mse_xbr = MSE(train_target_val, y_pred)\n",
    "train_rmse_xbr = round(train_mse_xbr**(1/2))"
   ]
  },
  {
   "cell_type": "code",
   "execution_count": 85,
   "metadata": {},
   "outputs": [
    {
     "data": {
      "text/html": [
       "<div>\n",
       "<style scoped>\n",
       "    .dataframe tbody tr th:only-of-type {\n",
       "        vertical-align: middle;\n",
       "    }\n",
       "\n",
       "    .dataframe tbody tr th {\n",
       "        vertical-align: top;\n",
       "    }\n",
       "\n",
       "    .dataframe thead th {\n",
       "        text-align: right;\n",
       "    }\n",
       "</style>\n",
       "<table border=\"1\" class=\"dataframe\">\n",
       "  <thead>\n",
       "    <tr style=\"text-align: right;\">\n",
       "      <th></th>\n",
       "      <th>XBR errors</th>\n",
       "    </tr>\n",
       "  </thead>\n",
       "  <tbody>\n",
       "    <tr>\n",
       "      <td>Test error</td>\n",
       "      <td>1068804.0</td>\n",
       "    </tr>\n",
       "    <tr>\n",
       "      <td>CV error</td>\n",
       "      <td>1070831.0</td>\n",
       "    </tr>\n",
       "    <tr>\n",
       "      <td>Train error</td>\n",
       "      <td>580964.0</td>\n",
       "    </tr>\n",
       "  </tbody>\n",
       "</table>\n",
       "</div>"
      ],
      "text/plain": [
       "             XBR errors\n",
       "Test error    1068804.0\n",
       "CV error      1070831.0\n",
       "Train error    580964.0"
      ]
     },
     "execution_count": 85,
     "metadata": {},
     "output_type": "execute_result"
    }
   ],
   "source": [
    "pd.DataFrame([test_rmse_xbr,RMSE_cv_xbr,train_rmse_xbr], \n",
    "             index=['Test error','CV error','Train error'], \n",
    "             columns=['XBR errors'])"
   ]
  },
  {
   "cell_type": "markdown",
   "metadata": {},
   "source": [
    "Once again, as for Random Forest, the model shows signs of underfitting (since the test error is lower than the cross-validation error). Also, train error and cv error do not align. We increase complexity by decreasing the subsample (also, setting number of estimates to 140, as GridSearch chose the maximum number given, which indicates that more estimators might be needed; 140 equals one percent of the training dataset)."
   ]
  },
  {
   "cell_type": "code",
   "execution_count": 126,
   "metadata": {},
   "outputs": [
    {
     "name": "stderr",
     "output_type": "stream",
     "text": [
      "C:\\Users\\wehrm\\AppData\\Local\\Continuum\\anaconda3\\lib\\site-packages\\xgboost\\core.py:587: FutureWarning:\n",
      "\n",
      "Series.base is deprecated and will be removed in a future version\n",
      "\n"
     ]
    },
    {
     "name": "stdout",
     "output_type": "stream",
     "text": [
      "[14:57:00] WARNING: C:/Jenkins/workspace/xgboost-win64_release_0.90/src/objective/regression_obj.cu:152: reg:linear is now deprecated in favor of reg:squarederror.\n"
     ]
    }
   ],
   "source": [
    "xbr=xgb.XGBRegressor(base_score=0.5, booster='gbtree', colsample_bylevel=1,\n",
    "             colsample_bynode=1, colsample_bytree=1, eta=0.1, gamma=0,\n",
    "             importance_type='gain', learning_rate=0.1, max_delta_step=0,\n",
    "             max_depth=8, min_child_weight=6, missing=None, n_estimators=140,\n",
    "             n_jobs=1, nthread=None, objective='reg:linear', random_state=0,\n",
    "             reg_alpha=0, reg_lambda=1, scale_pos_weight=1, seed=None,\n",
    "             silent=None, subsample=.15, verbosity=1)\n",
    "\n",
    "xbr.fit(train_predictors_val, train_target_val)\n",
    "\n",
    "# Test error\n",
    "y_pred = xbr.predict(test_predictors_val)\n",
    "test_mse_xbr = MSE(test_target_val, y_pred)\n",
    "test_rmse_xbr = round(test_mse_xbr**(1/2))"
   ]
  },
  {
   "cell_type": "code",
   "execution_count": 127,
   "metadata": {
    "scrolled": true
   },
   "outputs": [
    {
     "name": "stderr",
     "output_type": "stream",
     "text": [
      "C:\\Users\\wehrm\\AppData\\Local\\Continuum\\anaconda3\\lib\\site-packages\\sklearn\\model_selection\\_split.py:1978: FutureWarning:\n",
      "\n",
      "The default value of cv will change from 3 to 5 in version 0.22. Specify it explicitly to silence this warning.\n",
      "\n"
     ]
    }
   ],
   "source": [
    "# Cross-validation error\n",
    "MSE_cv_error_xbr = -cross_val_score(xbr, train_predictors_val,\n",
    "                                    train_target_val, scoring='neg_mean_squared_error', n_jobs=-1)\n",
    "RMSE_cv_xbr = round((MSE_cv_error_xbr.mean())**(1/2))"
   ]
  },
  {
   "cell_type": "code",
   "execution_count": 128,
   "metadata": {},
   "outputs": [],
   "source": [
    "# Train error\n",
    "y_pred = xbr.predict(train_predictors_val)\n",
    "train_mse_xbr = MSE(train_target_val, y_pred)\n",
    "train_rmse_xbr = round(train_mse_xbr**(1/2))"
   ]
  },
  {
   "cell_type": "code",
   "execution_count": 129,
   "metadata": {},
   "outputs": [
    {
     "data": {
      "text/html": [
       "<div>\n",
       "<style scoped>\n",
       "    .dataframe tbody tr th:only-of-type {\n",
       "        vertical-align: middle;\n",
       "    }\n",
       "\n",
       "    .dataframe tbody tr th {\n",
       "        vertical-align: top;\n",
       "    }\n",
       "\n",
       "    .dataframe thead th {\n",
       "        text-align: right;\n",
       "    }\n",
       "</style>\n",
       "<table border=\"1\" class=\"dataframe\">\n",
       "  <thead>\n",
       "    <tr style=\"text-align: right;\">\n",
       "      <th></th>\n",
       "      <th>XBR errors</th>\n",
       "    </tr>\n",
       "  </thead>\n",
       "  <tbody>\n",
       "    <tr>\n",
       "      <td>Test error</td>\n",
       "      <td>1186515.0</td>\n",
       "    </tr>\n",
       "    <tr>\n",
       "      <td>CV error</td>\n",
       "      <td>1273765.0</td>\n",
       "    </tr>\n",
       "    <tr>\n",
       "      <td>Train error</td>\n",
       "      <td>899196.0</td>\n",
       "    </tr>\n",
       "  </tbody>\n",
       "</table>\n",
       "</div>"
      ],
      "text/plain": [
       "             XBR errors\n",
       "Test error    1186515.0\n",
       "CV error      1273765.0\n",
       "Train error    899196.0"
      ]
     },
     "execution_count": 129,
     "metadata": {},
     "output_type": "execute_result"
    }
   ],
   "source": [
    "pd.DataFrame([test_rmse_xbr,RMSE_cv_xbr,train_rmse_xbr], \n",
    "             index=['Test error','CV error','Train error'], \n",
    "             columns=['XBR errors'])"
   ]
  },
  {
   "cell_type": "markdown",
   "metadata": {},
   "source": [
    "Train and CV error came a little bit closer toghether. However, the overall error also increased. Next, we are trying to decrease the variance in the model by reducing the maximum depth."
   ]
  },
  {
   "cell_type": "code",
   "execution_count": 146,
   "metadata": {},
   "outputs": [
    {
     "name": "stderr",
     "output_type": "stream",
     "text": [
      "C:\\Users\\wehrm\\AppData\\Local\\Continuum\\anaconda3\\lib\\site-packages\\xgboost\\core.py:587: FutureWarning:\n",
      "\n",
      "Series.base is deprecated and will be removed in a future version\n",
      "\n"
     ]
    },
    {
     "name": "stdout",
     "output_type": "stream",
     "text": [
      "[14:58:29] WARNING: C:/Jenkins/workspace/xgboost-win64_release_0.90/src/objective/regression_obj.cu:152: reg:linear is now deprecated in favor of reg:squarederror.\n"
     ]
    }
   ],
   "source": [
    "xbr=xgb.XGBRegressor(base_score=0.5, booster='gbtree', colsample_bylevel=1,\n",
    "             colsample_bynode=1, colsample_bytree=1, eta=0.1, gamma=0,\n",
    "             importance_type='gain', learning_rate=0.1, max_delta_step=0,\n",
    "             max_depth=6, min_child_weight=6, missing=None, n_estimators=140,\n",
    "             n_jobs=1, nthread=None, objective='reg:linear', random_state=0,\n",
    "             reg_alpha=0, reg_lambda=1, scale_pos_weight=1, seed=None,\n",
    "             silent=None, subsample=.15, verbosity=1)\n",
    "\n",
    "xbr.fit(train_predictors_val, train_target_val)\n",
    "\n",
    "# Test error\n",
    "y_pred = xbr.predict(test_predictors_val)\n",
    "test_mse_xbr = MSE(test_target_val, y_pred)\n",
    "test_rmse_xbr = round(test_mse_xbr**(1/2))"
   ]
  },
  {
   "cell_type": "code",
   "execution_count": 147,
   "metadata": {
    "scrolled": false
   },
   "outputs": [
    {
     "name": "stderr",
     "output_type": "stream",
     "text": [
      "C:\\Users\\wehrm\\AppData\\Local\\Continuum\\anaconda3\\lib\\site-packages\\sklearn\\model_selection\\_split.py:1978: FutureWarning:\n",
      "\n",
      "The default value of cv will change from 3 to 5 in version 0.22. Specify it explicitly to silence this warning.\n",
      "\n"
     ]
    }
   ],
   "source": [
    "# Cross-validation error\n",
    "MSE_cv_error_xbr = -cross_val_score(xbr, train_predictors_val,\n",
    "                                    train_target_val, scoring='neg_mean_squared_error', n_jobs=-1)\n",
    "RMSE_cv_xbr = round((MSE_cv_error_xbr.mean())**(1/2))"
   ]
  },
  {
   "cell_type": "code",
   "execution_count": 148,
   "metadata": {},
   "outputs": [],
   "source": [
    "# Train error\n",
    "y_pred = xbr.predict(train_predictors_val)\n",
    "train_mse_xbr = MSE(train_target_val, y_pred)\n",
    "train_rmse_xbr = round(train_mse_xbr**(1/2))"
   ]
  },
  {
   "cell_type": "code",
   "execution_count": 149,
   "metadata": {},
   "outputs": [
    {
     "data": {
      "text/html": [
       "<div>\n",
       "<style scoped>\n",
       "    .dataframe tbody tr th:only-of-type {\n",
       "        vertical-align: middle;\n",
       "    }\n",
       "\n",
       "    .dataframe tbody tr th {\n",
       "        vertical-align: top;\n",
       "    }\n",
       "\n",
       "    .dataframe thead th {\n",
       "        text-align: right;\n",
       "    }\n",
       "</style>\n",
       "<table border=\"1\" class=\"dataframe\">\n",
       "  <thead>\n",
       "    <tr style=\"text-align: right;\">\n",
       "      <th></th>\n",
       "      <th>XBR errors</th>\n",
       "    </tr>\n",
       "  </thead>\n",
       "  <tbody>\n",
       "    <tr>\n",
       "      <td>Test error</td>\n",
       "      <td>1186330.0</td>\n",
       "    </tr>\n",
       "    <tr>\n",
       "      <td>CV error</td>\n",
       "      <td>1265565.0</td>\n",
       "    </tr>\n",
       "    <tr>\n",
       "      <td>Train error</td>\n",
       "      <td>915878.0</td>\n",
       "    </tr>\n",
       "  </tbody>\n",
       "</table>\n",
       "</div>"
      ],
      "text/plain": [
       "             XBR errors\n",
       "Test error    1186330.0\n",
       "CV error      1265565.0\n",
       "Train error    915878.0"
      ]
     },
     "execution_count": 149,
     "metadata": {},
     "output_type": "execute_result"
    }
   ],
   "source": [
    "pd.DataFrame([test_rmse_xbr,RMSE_cv_xbr,train_rmse_xbr], \n",
    "             index=['Test error','CV error','Train error'], \n",
    "             columns=['XBR errors'])"
   ]
  },
  {
   "cell_type": "markdown",
   "metadata": {},
   "source": [
    "Decreasing the maximum depth helped stabilizing the model variance. However, it looks like it is still some tuning needed. \n",
    "\n",
    "A node is split only when the resulting split gives a positive reduction in the loss function. Gamma specifies the minimum loss reduction required to make a split. Therefore, we are increasing gamma to see whether that could improve our results."
   ]
  },
  {
   "cell_type": "code",
   "execution_count": 150,
   "metadata": {},
   "outputs": [
    {
     "name": "stderr",
     "output_type": "stream",
     "text": [
      "C:\\Users\\wehrm\\AppData\\Local\\Continuum\\anaconda3\\lib\\site-packages\\xgboost\\core.py:587: FutureWarning:\n",
      "\n",
      "Series.base is deprecated and will be removed in a future version\n",
      "\n"
     ]
    },
    {
     "name": "stdout",
     "output_type": "stream",
     "text": [
      "[14:59:17] WARNING: C:/Jenkins/workspace/xgboost-win64_release_0.90/src/objective/regression_obj.cu:152: reg:linear is now deprecated in favor of reg:squarederror.\n"
     ]
    }
   ],
   "source": [
    "xbr=xgb.XGBRegressor(base_score=0.5, booster='gbtree', colsample_bylevel=1,\n",
    "             colsample_bynode=1, colsample_bytree=1, eta=0.1, gamma=0.5,\n",
    "             importance_type='gain', learning_rate=0.1, max_delta_step=0,\n",
    "             max_depth=6, min_child_weight=6, missing=None, n_estimators=140,\n",
    "             n_jobs=1, nthread=None, objective='reg:linear', random_state=0,\n",
    "             reg_alpha=0, reg_lambda=1, scale_pos_weight=1, seed=None,\n",
    "             silent=None, subsample=.15, verbosity=1)\n",
    "\n",
    "xbr.fit(train_predictors_val, train_target_val)\n",
    "\n",
    "# Test error\n",
    "y_pred = xbr.predict(test_predictors_val)\n",
    "test_mse_xbr = MSE(test_target_val, y_pred)\n",
    "test_rmse_xbr = round(test_mse_xbr**(1/2))"
   ]
  },
  {
   "cell_type": "code",
   "execution_count": 151,
   "metadata": {
    "scrolled": false
   },
   "outputs": [
    {
     "name": "stderr",
     "output_type": "stream",
     "text": [
      "C:\\Users\\wehrm\\AppData\\Local\\Continuum\\anaconda3\\lib\\site-packages\\sklearn\\model_selection\\_split.py:1978: FutureWarning:\n",
      "\n",
      "The default value of cv will change from 3 to 5 in version 0.22. Specify it explicitly to silence this warning.\n",
      "\n"
     ]
    }
   ],
   "source": [
    "# Cross-validation error\n",
    "MSE_cv_error_xbr = -cross_val_score(xbr, train_predictors_val,\n",
    "                                    train_target_val, scoring='neg_mean_squared_error', n_jobs=-1)\n",
    "RMSE_cv_xbr = round((MSE_cv_error_xbr.mean())**(1/2))"
   ]
  },
  {
   "cell_type": "code",
   "execution_count": 152,
   "metadata": {},
   "outputs": [],
   "source": [
    "# Train error\n",
    "y_pred = xbr.predict(train_predictors_val)\n",
    "train_mse_xbr = MSE(train_target_val, y_pred)\n",
    "train_rmse_xbr = round(train_mse_xbr**(1/2))"
   ]
  },
  {
   "cell_type": "code",
   "execution_count": 153,
   "metadata": {},
   "outputs": [
    {
     "data": {
      "text/html": [
       "<div>\n",
       "<style scoped>\n",
       "    .dataframe tbody tr th:only-of-type {\n",
       "        vertical-align: middle;\n",
       "    }\n",
       "\n",
       "    .dataframe tbody tr th {\n",
       "        vertical-align: top;\n",
       "    }\n",
       "\n",
       "    .dataframe thead th {\n",
       "        text-align: right;\n",
       "    }\n",
       "</style>\n",
       "<table border=\"1\" class=\"dataframe\">\n",
       "  <thead>\n",
       "    <tr style=\"text-align: right;\">\n",
       "      <th></th>\n",
       "      <th>XBR errors</th>\n",
       "    </tr>\n",
       "  </thead>\n",
       "  <tbody>\n",
       "    <tr>\n",
       "      <td>Test error</td>\n",
       "      <td>1186330.0</td>\n",
       "    </tr>\n",
       "    <tr>\n",
       "      <td>CV error</td>\n",
       "      <td>1265565.0</td>\n",
       "    </tr>\n",
       "    <tr>\n",
       "      <td>Train error</td>\n",
       "      <td>915878.0</td>\n",
       "    </tr>\n",
       "  </tbody>\n",
       "</table>\n",
       "</div>"
      ],
      "text/plain": [
       "             XBR errors\n",
       "Test error    1186330.0\n",
       "CV error      1265565.0\n",
       "Train error    915878.0"
      ]
     },
     "execution_count": 153,
     "metadata": {},
     "output_type": "execute_result"
    }
   ],
   "source": [
    "pd.DataFrame([test_rmse_xbr,RMSE_cv_xbr,train_rmse_xbr], \n",
    "             index=['Test error','CV error','Train error'], \n",
    "             columns=['XBR errors'])"
   ]
  },
  {
   "cell_type": "markdown",
   "metadata": {},
   "source": [
    "Changing gamma did not reduce the bias, but increased the variance of the model. Therefore, we are going back to gamma = 0. Instead, we decrease eta (the learning rate per node), to hopefully increase our accuracy."
   ]
  },
  {
   "cell_type": "code",
   "execution_count": 154,
   "metadata": {},
   "outputs": [
    {
     "name": "stderr",
     "output_type": "stream",
     "text": [
      "C:\\Users\\wehrm\\AppData\\Local\\Continuum\\anaconda3\\lib\\site-packages\\xgboost\\core.py:587: FutureWarning:\n",
      "\n",
      "Series.base is deprecated and will be removed in a future version\n",
      "\n"
     ]
    },
    {
     "name": "stdout",
     "output_type": "stream",
     "text": [
      "[15:00:08] WARNING: C:/Jenkins/workspace/xgboost-win64_release_0.90/src/objective/regression_obj.cu:152: reg:linear is now deprecated in favor of reg:squarederror.\n"
     ]
    }
   ],
   "source": [
    "xbr=xgb.XGBRegressor(base_score=0.5, booster='gbtree', colsample_bylevel=1,\n",
    "             colsample_bynode=1, colsample_bytree=1, eta=0.01, gamma=0.5,\n",
    "             importance_type='gain', learning_rate=0.1, max_delta_step=0,\n",
    "             max_depth=6, min_child_weight=6, missing=None, n_estimators=140,\n",
    "             n_jobs=1, nthread=None, objective='reg:linear', random_state=0,\n",
    "             reg_alpha=0, reg_lambda=1, scale_pos_weight=1, seed=None,\n",
    "             silent=None, subsample=.15, verbosity=1)\n",
    "\n",
    "\n",
    "xbr.fit(train_predictors_val, train_target_val)\n",
    "\n",
    "# Test error\n",
    "y_pred = xbr.predict(test_predictors_val)\n",
    "test_mse_xbr = MSE(test_target_val, y_pred)\n",
    "test_rmse_xbr = round(test_mse_xbr**(1/2))"
   ]
  },
  {
   "cell_type": "code",
   "execution_count": 155,
   "metadata": {
    "scrolled": false
   },
   "outputs": [
    {
     "name": "stderr",
     "output_type": "stream",
     "text": [
      "C:\\Users\\wehrm\\AppData\\Local\\Continuum\\anaconda3\\lib\\site-packages\\sklearn\\model_selection\\_split.py:1978: FutureWarning:\n",
      "\n",
      "The default value of cv will change from 3 to 5 in version 0.22. Specify it explicitly to silence this warning.\n",
      "\n"
     ]
    }
   ],
   "source": [
    "# Cross-validation error\n",
    "MSE_cv_error_xbr = -cross_val_score(xbr, train_predictors_val,\n",
    "                                    train_target_val, scoring='neg_mean_squared_error', n_jobs=-1)\n",
    "RMSE_cv_xbr = round((MSE_cv_error_xbr.mean())**(1/2))"
   ]
  },
  {
   "cell_type": "code",
   "execution_count": 156,
   "metadata": {},
   "outputs": [],
   "source": [
    "# Train error\n",
    "y_pred = xbr.predict(train_predictors_val)\n",
    "train_mse_xbr = MSE(train_target_val, y_pred)\n",
    "train_rmse_xbr = round(train_mse_xbr**(1/2))"
   ]
  },
  {
   "cell_type": "code",
   "execution_count": 157,
   "metadata": {},
   "outputs": [
    {
     "data": {
      "text/html": [
       "<div>\n",
       "<style scoped>\n",
       "    .dataframe tbody tr th:only-of-type {\n",
       "        vertical-align: middle;\n",
       "    }\n",
       "\n",
       "    .dataframe tbody tr th {\n",
       "        vertical-align: top;\n",
       "    }\n",
       "\n",
       "    .dataframe thead th {\n",
       "        text-align: right;\n",
       "    }\n",
       "</style>\n",
       "<table border=\"1\" class=\"dataframe\">\n",
       "  <thead>\n",
       "    <tr style=\"text-align: right;\">\n",
       "      <th></th>\n",
       "      <th>XBR errors</th>\n",
       "    </tr>\n",
       "  </thead>\n",
       "  <tbody>\n",
       "    <tr>\n",
       "      <td>Test error</td>\n",
       "      <td>1186330.0</td>\n",
       "    </tr>\n",
       "    <tr>\n",
       "      <td>CV error</td>\n",
       "      <td>1265565.0</td>\n",
       "    </tr>\n",
       "    <tr>\n",
       "      <td>Train error</td>\n",
       "      <td>915878.0</td>\n",
       "    </tr>\n",
       "  </tbody>\n",
       "</table>\n",
       "</div>"
      ],
      "text/plain": [
       "             XBR errors\n",
       "Test error    1186330.0\n",
       "CV error      1265565.0\n",
       "Train error    915878.0"
      ]
     },
     "execution_count": 157,
     "metadata": {},
     "output_type": "execute_result"
    }
   ],
   "source": [
    "pd.DataFrame([test_rmse_xbr,RMSE_cv_xbr,train_rmse_xbr], \n",
    "             index=['Test error','CV error','Train error'], \n",
    "             columns=['XBR errors'])"
   ]
  },
  {
   "cell_type": "markdown",
   "metadata": {},
   "source": [
    "Decreasing eta did not help to significantly decrease our RMSE or decrease the variance in the model. In a final attempt, we decrease the minimum sum of weights of all observations required in a child (min_child_weight) to hopefully increase accuracy."
   ]
  },
  {
   "cell_type": "code",
   "execution_count": 166,
   "metadata": {},
   "outputs": [
    {
     "name": "stderr",
     "output_type": "stream",
     "text": [
      "C:\\Users\\wehrm\\AppData\\Local\\Continuum\\anaconda3\\lib\\site-packages\\xgboost\\core.py:587: FutureWarning:\n",
      "\n",
      "Series.base is deprecated and will be removed in a future version\n",
      "\n"
     ]
    },
    {
     "name": "stdout",
     "output_type": "stream",
     "text": [
      "[15:01:16] WARNING: C:/Jenkins/workspace/xgboost-win64_release_0.90/src/objective/regression_obj.cu:152: reg:linear is now deprecated in favor of reg:squarederror.\n"
     ]
    }
   ],
   "source": [
    "xbr=xgb.XGBRegressor(base_score=0.5, booster='gbtree', colsample_bylevel=1,\n",
    "             colsample_bynode=1, colsample_bytree=1, eta=0.1, gamma=0.5,\n",
    "             importance_type='gain', learning_rate=0.1, max_delta_step=0,\n",
    "             max_depth=6, min_child_weight=2, missing=None, n_estimators=140,\n",
    "             n_jobs=1, nthread=None, objective='reg:linear', random_state=0,\n",
    "             reg_alpha=0, reg_lambda=1, scale_pos_weight=1, seed=None,\n",
    "             silent=None, subsample=.15, verbosity=1)\n",
    "\n",
    "xbr.fit(train_predictors_val, train_target_val)\n",
    "\n",
    "# Test error\n",
    "y_pred = xbr.predict(test_predictors_val)\n",
    "test_mse_xbr = MSE(test_target_val, y_pred)\n",
    "test_rmse_xbr = round(test_mse_xbr**(1/2))"
   ]
  },
  {
   "cell_type": "code",
   "execution_count": 167,
   "metadata": {
    "scrolled": true
   },
   "outputs": [
    {
     "name": "stderr",
     "output_type": "stream",
     "text": [
      "C:\\Users\\wehrm\\AppData\\Local\\Continuum\\anaconda3\\lib\\site-packages\\sklearn\\model_selection\\_split.py:1978: FutureWarning:\n",
      "\n",
      "The default value of cv will change from 3 to 5 in version 0.22. Specify it explicitly to silence this warning.\n",
      "\n"
     ]
    }
   ],
   "source": [
    "# Cross-validation error\n",
    "MSE_cv_error_xbr = -cross_val_score(xbr, train_predictors_val,\n",
    "                                    train_target_val, scoring='neg_mean_squared_error', n_jobs=-1)\n",
    "RMSE_cv_xbr = round((MSE_cv_error_xbr.mean())**(1/2))"
   ]
  },
  {
   "cell_type": "code",
   "execution_count": 168,
   "metadata": {},
   "outputs": [],
   "source": [
    "# Train error\n",
    "y_pred = xbr.predict(train_predictors_val)\n",
    "train_mse_xbr = MSE(train_target_val, y_pred)\n",
    "train_rmse_xbr = round(train_mse_xbr**(1/2))"
   ]
  },
  {
   "cell_type": "code",
   "execution_count": 169,
   "metadata": {},
   "outputs": [
    {
     "data": {
      "text/html": [
       "<div>\n",
       "<style scoped>\n",
       "    .dataframe tbody tr th:only-of-type {\n",
       "        vertical-align: middle;\n",
       "    }\n",
       "\n",
       "    .dataframe tbody tr th {\n",
       "        vertical-align: top;\n",
       "    }\n",
       "\n",
       "    .dataframe thead th {\n",
       "        text-align: right;\n",
       "    }\n",
       "</style>\n",
       "<table border=\"1\" class=\"dataframe\">\n",
       "  <thead>\n",
       "    <tr style=\"text-align: right;\">\n",
       "      <th></th>\n",
       "      <th>XBR errors</th>\n",
       "    </tr>\n",
       "  </thead>\n",
       "  <tbody>\n",
       "    <tr>\n",
       "      <td>Test error</td>\n",
       "      <td>1182594.0</td>\n",
       "    </tr>\n",
       "    <tr>\n",
       "      <td>CV error</td>\n",
       "      <td>1142286.0</td>\n",
       "    </tr>\n",
       "    <tr>\n",
       "      <td>Train error</td>\n",
       "      <td>773277.0</td>\n",
       "    </tr>\n",
       "  </tbody>\n",
       "</table>\n",
       "</div>"
      ],
      "text/plain": [
       "             XBR errors\n",
       "Test error    1182594.0\n",
       "CV error      1142286.0\n",
       "Train error    773277.0"
      ]
     },
     "execution_count": 169,
     "metadata": {},
     "output_type": "execute_result"
    }
   ],
   "source": [
    "pd.DataFrame([test_rmse_xbr,RMSE_cv_xbr,train_rmse_xbr], \n",
    "             index=['Test error','CV error','Train error'], \n",
    "             columns=['XBR errors'])"
   ]
  },
  {
   "cell_type": "markdown",
   "metadata": {},
   "source": [
    "Doing so does not have a significant effect either. Instead, it even slightly increases variance. Therefore, we accept the variance in the model (before changing min_child_weight) and move on to Linear Regression."
   ]
  },
  {
   "cell_type": "markdown",
   "metadata": {},
   "source": [
    "### 3.4) Linear Regression\n",
    "\n",
    "For Linear Regression, there is not much parameter tuning to do. The only change we are making to the model is to set fit_intercept parameter to False, as we already centered the data before.\n",
    "\n",
    "**Default model:**\n",
    "LinearRegression(fit_intercept=True, normalize=False, copy_X=True, n_jobs=None)"
   ]
  },
  {
   "cell_type": "code",
   "execution_count": 170,
   "metadata": {},
   "outputs": [],
   "source": [
    "lre=LinearRegression(fit_intercept=False, normalize=False, copy_X=True, n_jobs=None)\n",
    "\n",
    "lre.fit(train_predictors_val, train_target_val)\n",
    "\n",
    "# Test error\n",
    "y_pred = lre.predict(test_predictors_val)\n",
    "test_mse_lre = MSE(test_target_val, y_pred)\n",
    "test_rmse_lre = round(test_mse_lre**(1/2))"
   ]
  },
  {
   "cell_type": "code",
   "execution_count": 171,
   "metadata": {
    "scrolled": false
   },
   "outputs": [
    {
     "name": "stderr",
     "output_type": "stream",
     "text": [
      "C:\\Users\\wehrm\\AppData\\Local\\Continuum\\anaconda3\\lib\\site-packages\\sklearn\\model_selection\\_split.py:1978: FutureWarning:\n",
      "\n",
      "The default value of cv will change from 3 to 5 in version 0.22. Specify it explicitly to silence this warning.\n",
      "\n"
     ]
    }
   ],
   "source": [
    "# Cross-validation error\n",
    "MSE_cv_error_lre = -cross_val_score(lre, train_predictors_val,\n",
    "                                    train_target_val, scoring='neg_mean_squared_error', n_jobs=-1)\n",
    "RMSE_cv_lre = round((MSE_cv_error_lre.mean())**(1/2))"
   ]
  },
  {
   "cell_type": "code",
   "execution_count": 172,
   "metadata": {},
   "outputs": [],
   "source": [
    "# Train error\n",
    "y_pred = lre.predict(train_predictors_val)\n",
    "train_mse_lre = MSE(train_target_val, y_pred)\n",
    "train_rmse_lre = round(train_mse_lre**(1/2))"
   ]
  },
  {
   "cell_type": "code",
   "execution_count": 173,
   "metadata": {},
   "outputs": [
    {
     "data": {
      "text/html": [
       "<div>\n",
       "<style scoped>\n",
       "    .dataframe tbody tr th:only-of-type {\n",
       "        vertical-align: middle;\n",
       "    }\n",
       "\n",
       "    .dataframe tbody tr th {\n",
       "        vertical-align: top;\n",
       "    }\n",
       "\n",
       "    .dataframe thead th {\n",
       "        text-align: right;\n",
       "    }\n",
       "</style>\n",
       "<table border=\"1\" class=\"dataframe\">\n",
       "  <thead>\n",
       "    <tr style=\"text-align: right;\">\n",
       "      <th></th>\n",
       "      <th>RFR errors</th>\n",
       "    </tr>\n",
       "  </thead>\n",
       "  <tbody>\n",
       "    <tr>\n",
       "      <td>Test error</td>\n",
       "      <td>3587924.0</td>\n",
       "    </tr>\n",
       "    <tr>\n",
       "      <td>CV error</td>\n",
       "      <td>3438748.0</td>\n",
       "    </tr>\n",
       "    <tr>\n",
       "      <td>Train error</td>\n",
       "      <td>3434508.0</td>\n",
       "    </tr>\n",
       "  </tbody>\n",
       "</table>\n",
       "</div>"
      ],
      "text/plain": [
       "             RFR errors\n",
       "Test error    3587924.0\n",
       "CV error      3438748.0\n",
       "Train error   3434508.0"
      ]
     },
     "execution_count": 173,
     "metadata": {},
     "output_type": "execute_result"
    }
   ],
   "source": [
    "pd.DataFrame([test_rmse_lre,RMSE_cv_lre,train_rmse_lre], \n",
    "             index=['Test error','CV error','Train error'], \n",
    "             columns=['RFR errors'])"
   ]
  },
  {
   "cell_type": "markdown",
   "metadata": {},
   "source": [
    "Excluding the intercept term did not change anything for our prediction compared to the base model. Even though the RMSE is quite high, the model shows very stable results."
   ]
  },
  {
   "cell_type": "markdown",
   "metadata": {},
   "source": [
    "### 3.5) Epsilon Support Vector Regression\n",
    "\n",
    "\n",
    "**Default model:**<br>\n",
    "SVR(kernel=’rbf’, degree=3, gamma=’auto_deprecated’, coef0=0.0, tol=0.001, C=1.0, epsilon=0.1, shrinking=True, cache_size=200, verbose=False, max_iter=-1)"
   ]
  },
  {
   "cell_type": "code",
   "execution_count": 174,
   "metadata": {},
   "outputs": [
    {
     "name": "stdout",
     "output_type": "stream",
     "text": [
      "Fitting 3 folds for each of 20 candidates, totalling 60 fits\n"
     ]
    },
    {
     "name": "stderr",
     "output_type": "stream",
     "text": [
      "[Parallel(n_jobs=1)]: Using backend SequentialBackend with 1 concurrent workers.\n",
      "[Parallel(n_jobs=1)]: Done  60 out of  60 | elapsed:  4.5min finished\n"
     ]
    },
    {
     "name": "stdout",
     "output_type": "stream",
     "text": [
      "-33642840426335.918\n",
      "SVR(C=10, cache_size=200, coef0=0.0, degree=3, epsilon=0.1, gamma=0.1,\n",
      "    kernel='rbf', max_iter=-1, shrinking=True, tol=0.001, verbose=False)\n"
     ]
    }
   ],
   "source": [
    "C = [0.001, 0.01, 0.1, 1, 10]\n",
    "gamma = [0.001, 0.01, 0.1, 1]\n",
    "\n",
    "# Setting up parameter grid\n",
    "hyperparams = {'C': C,\n",
    "               'gamma': gamma}\n",
    "\n",
    "# Run GridSearch CV\n",
    "gd=GridSearchCV(estimator = svr, param_grid = hyperparams, \n",
    "                verbose=True, cv=3, scoring = 'neg_mean_squared_error')\n",
    "\n",
    "# Fitting model and return results\n",
    "gd.fit(train_predictors_val, train_target_val)\n",
    "print(gd.best_score_)\n",
    "print(gd.best_estimator_)"
   ]
  },
  {
   "cell_type": "code",
   "execution_count": 175,
   "metadata": {},
   "outputs": [],
   "source": [
    "svr=SVR(C=10, cache_size=200, coef0=0.0, degree=3, epsilon=0.1, gamma=0.1,\n",
    "    kernel='rbf', max_iter=-1, shrinking=True, tol=0.001, verbose=False)\n",
    "\n",
    "svr.fit(train_predictors_val, train_target_val)\n",
    "\n",
    "# Test error\n",
    "y_pred = svr.predict(test_predictors_val)\n",
    "test_mse_svr = MSE(test_target_val, y_pred)\n",
    "test_rmse_svr = round(test_mse_svr**(1/2))"
   ]
  },
  {
   "cell_type": "code",
   "execution_count": 176,
   "metadata": {
    "scrolled": true
   },
   "outputs": [
    {
     "name": "stderr",
     "output_type": "stream",
     "text": [
      "C:\\Users\\wehrm\\AppData\\Local\\Continuum\\anaconda3\\lib\\site-packages\\sklearn\\model_selection\\_split.py:1978: FutureWarning:\n",
      "\n",
      "The default value of cv will change from 3 to 5 in version 0.22. Specify it explicitly to silence this warning.\n",
      "\n"
     ]
    }
   ],
   "source": [
    "# Cross-validation error\n",
    "MSE_cv_error_svr = -cross_val_score(svr, train_predictors_val,\n",
    "                                    train_target_val, scoring='neg_mean_squared_error', n_jobs=-1)\n",
    "RMSE_cv_svr = round((MSE_cv_error_svr.mean())**(1/2))"
   ]
  },
  {
   "cell_type": "code",
   "execution_count": 177,
   "metadata": {},
   "outputs": [],
   "source": [
    "# Train error\n",
    "y_pred = svr.predict(train_predictors_val)\n",
    "train_mse_svr = MSE(train_target_val, y_pred)\n",
    "train_rmse_svr = round(train_mse_svr**(1/2))"
   ]
  },
  {
   "cell_type": "code",
   "execution_count": 178,
   "metadata": {},
   "outputs": [
    {
     "data": {
      "text/html": [
       "<div>\n",
       "<style scoped>\n",
       "    .dataframe tbody tr th:only-of-type {\n",
       "        vertical-align: middle;\n",
       "    }\n",
       "\n",
       "    .dataframe tbody tr th {\n",
       "        vertical-align: top;\n",
       "    }\n",
       "\n",
       "    .dataframe thead th {\n",
       "        text-align: right;\n",
       "    }\n",
       "</style>\n",
       "<table border=\"1\" class=\"dataframe\">\n",
       "  <thead>\n",
       "    <tr style=\"text-align: right;\">\n",
       "      <th></th>\n",
       "      <th>SVR errors</th>\n",
       "    </tr>\n",
       "  </thead>\n",
       "  <tbody>\n",
       "    <tr>\n",
       "      <td>Test error</td>\n",
       "      <td>6091026.0</td>\n",
       "    </tr>\n",
       "    <tr>\n",
       "      <td>CV error</td>\n",
       "      <td>5800242.0</td>\n",
       "    </tr>\n",
       "    <tr>\n",
       "      <td>Train error</td>\n",
       "      <td>5798892.0</td>\n",
       "    </tr>\n",
       "  </tbody>\n",
       "</table>\n",
       "</div>"
      ],
      "text/plain": [
       "             SVR errors\n",
       "Test error    6091026.0\n",
       "CV error      5800242.0\n",
       "Train error   5798892.0"
      ]
     },
     "execution_count": 178,
     "metadata": {},
     "output_type": "execute_result"
    }
   ],
   "source": [
    "pd.DataFrame([test_rmse_svr,RMSE_cv_svr,train_rmse_svr], \n",
    "             index=['Test error','CV error','Train error'], \n",
    "             columns=['SVR errors'])"
   ]
  },
  {
   "cell_type": "markdown",
   "metadata": {},
   "source": [
    "Even though the RMSE itself is quite high, we get very stable results. Lets see whether using different kernels could improve our RMSE. By default, SVR uses the Gaussian RBF kernel. We try to use a linear kernel instead."
   ]
  },
  {
   "cell_type": "code",
   "execution_count": 179,
   "metadata": {},
   "outputs": [],
   "source": [
    "svr=SVR(C=10, cache_size=200, coef0=0.0, degree=3, epsilon=0.1, gamma=0.1,\n",
    "    kernel='linear', max_iter=-1, shrinking=True, tol=0.001, verbose=False)\n",
    "\n",
    "svr.fit(train_predictors_val, train_target_val)\n",
    "\n",
    "# Test error\n",
    "y_pred = svr.predict(test_predictors_val)\n",
    "test_mse_svr = MSE(test_target_val, y_pred)\n",
    "test_rmse_svr = round(test_mse_svr**(1/2))"
   ]
  },
  {
   "cell_type": "code",
   "execution_count": 180,
   "metadata": {
    "scrolled": true
   },
   "outputs": [
    {
     "name": "stderr",
     "output_type": "stream",
     "text": [
      "C:\\Users\\wehrm\\AppData\\Local\\Continuum\\anaconda3\\lib\\site-packages\\sklearn\\model_selection\\_split.py:1978: FutureWarning:\n",
      "\n",
      "The default value of cv will change from 3 to 5 in version 0.22. Specify it explicitly to silence this warning.\n",
      "\n"
     ]
    }
   ],
   "source": [
    "# Cross-validation error\n",
    "MSE_cv_error_svr = -cross_val_score(svr, train_predictors_val,\n",
    "                                    train_target_val, scoring='neg_mean_squared_error', n_jobs=-1)\n",
    "RMSE_cv_svr = round((MSE_cv_error_svr.mean())**(1/2))"
   ]
  },
  {
   "cell_type": "code",
   "execution_count": 181,
   "metadata": {},
   "outputs": [],
   "source": [
    "# Train error\n",
    "y_pred = svr.predict(train_predictors_val)\n",
    "train_mse_svr = MSE(train_target_val, y_pred)\n",
    "train_rmse_svr = round(train_mse_svr**(1/2))"
   ]
  },
  {
   "cell_type": "code",
   "execution_count": 182,
   "metadata": {},
   "outputs": [
    {
     "data": {
      "text/html": [
       "<div>\n",
       "<style scoped>\n",
       "    .dataframe tbody tr th:only-of-type {\n",
       "        vertical-align: middle;\n",
       "    }\n",
       "\n",
       "    .dataframe tbody tr th {\n",
       "        vertical-align: top;\n",
       "    }\n",
       "\n",
       "    .dataframe thead th {\n",
       "        text-align: right;\n",
       "    }\n",
       "</style>\n",
       "<table border=\"1\" class=\"dataframe\">\n",
       "  <thead>\n",
       "    <tr style=\"text-align: right;\">\n",
       "      <th></th>\n",
       "      <th>SVR errors</th>\n",
       "    </tr>\n",
       "  </thead>\n",
       "  <tbody>\n",
       "    <tr>\n",
       "      <td>Test error</td>\n",
       "      <td>5854694.0</td>\n",
       "    </tr>\n",
       "    <tr>\n",
       "      <td>CV error</td>\n",
       "      <td>5619461.0</td>\n",
       "    </tr>\n",
       "    <tr>\n",
       "      <td>Train error</td>\n",
       "      <td>5560873.0</td>\n",
       "    </tr>\n",
       "  </tbody>\n",
       "</table>\n",
       "</div>"
      ],
      "text/plain": [
       "             SVR errors\n",
       "Test error    5854694.0\n",
       "CV error      5619461.0\n",
       "Train error   5560873.0"
      ]
     },
     "execution_count": 182,
     "metadata": {},
     "output_type": "execute_result"
    }
   ],
   "source": [
    "pd.DataFrame([test_rmse_svr,RMSE_cv_svr,train_rmse_svr], \n",
    "             index=['Test error','CV error','Train error'], \n",
    "             columns=['SVR errors'])"
   ]
  },
  {
   "cell_type": "markdown",
   "metadata": {},
   "source": [
    "A Linear kernel did not help much. Next we use a polynomil kernel."
   ]
  },
  {
   "cell_type": "code",
   "execution_count": 183,
   "metadata": {},
   "outputs": [],
   "source": [
    "svr=SVR(C=10, cache_size=200, coef0=0.0, degree=3, epsilon=0.1, gamma=0.1,\n",
    "    kernel='poly', max_iter=-1, shrinking=True, tol=0.001, verbose=False)\n",
    "\n",
    "svr.fit(train_predictors_val, train_target_val)\n",
    "\n",
    "# Test error\n",
    "y_pred = svr.predict(test_predictors_val)\n",
    "test_mse_svr = MSE(test_target_val, y_pred)\n",
    "test_rmse_svr = round(test_mse_svr**(1/2))"
   ]
  },
  {
   "cell_type": "code",
   "execution_count": 184,
   "metadata": {
    "scrolled": true
   },
   "outputs": [
    {
     "name": "stderr",
     "output_type": "stream",
     "text": [
      "C:\\Users\\wehrm\\AppData\\Local\\Continuum\\anaconda3\\lib\\site-packages\\sklearn\\model_selection\\_split.py:1978: FutureWarning:\n",
      "\n",
      "The default value of cv will change from 3 to 5 in version 0.22. Specify it explicitly to silence this warning.\n",
      "\n"
     ]
    }
   ],
   "source": [
    "# Cross-validation error\n",
    "MSE_cv_error_svr = -cross_val_score(svr, train_predictors_val,\n",
    "                                    train_target_val, scoring='neg_mean_squared_error', n_jobs=-1)\n",
    "RMSE_cv_svr = round((MSE_cv_error_svr.mean())**(1/2))"
   ]
  },
  {
   "cell_type": "code",
   "execution_count": 185,
   "metadata": {},
   "outputs": [],
   "source": [
    "# Train error\n",
    "y_pred = svr.predict(train_predictors_val)\n",
    "train_mse_svr = MSE(train_target_val, y_pred)\n",
    "train_rmse_svr = round(train_mse_svr**(1/2))"
   ]
  },
  {
   "cell_type": "code",
   "execution_count": 186,
   "metadata": {},
   "outputs": [
    {
     "data": {
      "text/html": [
       "<div>\n",
       "<style scoped>\n",
       "    .dataframe tbody tr th:only-of-type {\n",
       "        vertical-align: middle;\n",
       "    }\n",
       "\n",
       "    .dataframe tbody tr th {\n",
       "        vertical-align: top;\n",
       "    }\n",
       "\n",
       "    .dataframe thead th {\n",
       "        text-align: right;\n",
       "    }\n",
       "</style>\n",
       "<table border=\"1\" class=\"dataframe\">\n",
       "  <thead>\n",
       "    <tr style=\"text-align: right;\">\n",
       "      <th></th>\n",
       "      <th>SVR errors</th>\n",
       "    </tr>\n",
       "  </thead>\n",
       "  <tbody>\n",
       "    <tr>\n",
       "      <td>Test error</td>\n",
       "      <td>5917741.0</td>\n",
       "    </tr>\n",
       "    <tr>\n",
       "      <td>CV error</td>\n",
       "      <td>5690448.0</td>\n",
       "    </tr>\n",
       "    <tr>\n",
       "      <td>Train error</td>\n",
       "      <td>5638680.0</td>\n",
       "    </tr>\n",
       "  </tbody>\n",
       "</table>\n",
       "</div>"
      ],
      "text/plain": [
       "             SVR errors\n",
       "Test error    5917741.0\n",
       "CV error      5690448.0\n",
       "Train error   5638680.0"
      ]
     },
     "execution_count": 186,
     "metadata": {},
     "output_type": "execute_result"
    }
   ],
   "source": [
    "pd.DataFrame([test_rmse_svr,RMSE_cv_svr,train_rmse_svr], \n",
    "             index=['Test error','CV error','Train error'], \n",
    "             columns=['SVR errors'])"
   ]
  },
  {
   "cell_type": "markdown",
   "metadata": {},
   "source": [
    "As for the linear kernel, our result did not change significantly. Finally, we are using a sigmoid kernel."
   ]
  },
  {
   "cell_type": "code",
   "execution_count": 630,
   "metadata": {},
   "outputs": [],
   "source": [
    "svr=SVR(C=10, cache_size=200, coef0=0.0, degree=3, epsilon=0.1, gamma=0.1,\n",
    "    kernel='sigmoid', max_iter=-1, shrinking=True, tol=0.001, verbose=False)\n",
    "\n",
    "svr.fit(train_predictors_val, train_target_val)\n",
    "\n",
    "# Test error\n",
    "y_pred = svr.predict(test_predictors_val)\n",
    "test_mse_svr = MSE(test_target_val, y_pred)\n",
    "test_rmse_svr = round(test_mse_svr**(1/2))"
   ]
  },
  {
   "cell_type": "code",
   "execution_count": 631,
   "metadata": {
    "scrolled": true
   },
   "outputs": [
    {
     "name": "stderr",
     "output_type": "stream",
     "text": [
      "C:\\Users\\wehrm\\AppData\\Local\\Continuum\\anaconda3\\lib\\site-packages\\sklearn\\model_selection\\_split.py:1978: FutureWarning:\n",
      "\n",
      "The default value of cv will change from 3 to 5 in version 0.22. Specify it explicitly to silence this warning.\n",
      "\n"
     ]
    }
   ],
   "source": [
    "# Cross-validation error\n",
    "MSE_cv_error_svr = -cross_val_score(svr, train_predictors_val,\n",
    "                                    train_target_val, scoring='neg_mean_squared_error', n_jobs=-1)\n",
    "RMSE_cv_svr = round((MSE_cv_error_svr.mean())**(1/2))"
   ]
  },
  {
   "cell_type": "code",
   "execution_count": 632,
   "metadata": {},
   "outputs": [],
   "source": [
    "# Train error\n",
    "y_pred = svr.predict(train_predictors_val)\n",
    "train_mse_svr = MSE(train_target_val, y_pred)\n",
    "train_rmse_svr = round(train_mse_svr**(1/2))"
   ]
  },
  {
   "cell_type": "code",
   "execution_count": 633,
   "metadata": {},
   "outputs": [
    {
     "data": {
      "text/html": [
       "<div>\n",
       "<style scoped>\n",
       "    .dataframe tbody tr th:only-of-type {\n",
       "        vertical-align: middle;\n",
       "    }\n",
       "\n",
       "    .dataframe tbody tr th {\n",
       "        vertical-align: top;\n",
       "    }\n",
       "\n",
       "    .dataframe thead th {\n",
       "        text-align: right;\n",
       "    }\n",
       "</style>\n",
       "<table border=\"1\" class=\"dataframe\">\n",
       "  <thead>\n",
       "    <tr style=\"text-align: right;\">\n",
       "      <th></th>\n",
       "      <th>SVR errors</th>\n",
       "    </tr>\n",
       "  </thead>\n",
       "  <tbody>\n",
       "    <tr>\n",
       "      <td>Test error</td>\n",
       "      <td>6009328.0</td>\n",
       "    </tr>\n",
       "    <tr>\n",
       "      <td>CV error</td>\n",
       "      <td>5823318.0</td>\n",
       "    </tr>\n",
       "    <tr>\n",
       "      <td>Train error</td>\n",
       "      <td>5823789.0</td>\n",
       "    </tr>\n",
       "  </tbody>\n",
       "</table>\n",
       "</div>"
      ],
      "text/plain": [
       "             SVR errors\n",
       "Test error    6009328.0\n",
       "CV error      5823318.0\n",
       "Train error   5823789.0"
      ]
     },
     "execution_count": 633,
     "metadata": {},
     "output_type": "execute_result"
    }
   ],
   "source": [
    "pd.DataFrame([test_rmse_svr,RMSE_cv_svr,train_rmse_svr], \n",
    "             index=['Test error','CV error','Train error'], \n",
    "             columns=['SVR errors'])"
   ]
  },
  {
   "cell_type": "markdown",
   "metadata": {},
   "source": [
    "Once again, no significant change. In the following, we are using the linear kernel, since that one performed best (even though the differences where marginal)."
   ]
  },
  {
   "cell_type": "markdown",
   "metadata": {},
   "source": [
    "### 3.6) Final comparison of tuned models"
   ]
  },
  {
   "cell_type": "markdown",
   "metadata": {},
   "source": [
    "In order to make a decision for a final model, we are comparing the tuned models."
   ]
  },
  {
   "cell_type": "code",
   "execution_count": 187,
   "metadata": {},
   "outputs": [
    {
     "name": "stderr",
     "output_type": "stream",
     "text": [
      "C:\\Users\\wehrm\\AppData\\Local\\Continuum\\anaconda3\\lib\\site-packages\\xgboost\\core.py:587: FutureWarning:\n",
      "\n",
      "Series.base is deprecated and will be removed in a future version\n",
      "\n"
     ]
    },
    {
     "name": "stdout",
     "output_type": "stream",
     "text": [
      "[15:12:27] WARNING: C:/Jenkins/workspace/xgboost-win64_release_0.90/src/objective/regression_obj.cu:152: reg:linear is now deprecated in favor of reg:squarederror.\n"
     ]
    }
   ],
   "source": [
    "dtr=DecisionTreeRegressor(criterion='mse', max_depth=6, max_features=4,\n",
    "                      max_leaf_nodes=None, min_impurity_decrease=0.0,\n",
    "                      min_impurity_split=None, min_samples_leaf=5,\n",
    "                      min_samples_split=4, min_weight_fraction_leaf=0.0,\n",
    "                      presort=False, random_state=None, splitter='best')\n",
    "\n",
    "rfr=RandomForestRegressor(bootstrap=True, criterion='mse', max_depth=10,\n",
    "                      max_features='auto', max_leaf_nodes=None,\n",
    "                      min_impurity_decrease=0.0, min_impurity_split=None,\n",
    "                      min_samples_leaf=0.5, min_samples_split=2,\n",
    "                      min_weight_fraction_leaf=0.0, n_estimators=200,\n",
    "                      n_jobs=None, oob_score=False, random_state=None,\n",
    "                      verbose=0, warm_start=False)\n",
    "\n",
    "xbr=xgb.XGBRegressor(base_score=0.5, booster='gbtree', colsample_bylevel=1,\n",
    "             colsample_bynode=1, colsample_bytree=1, eta=0.01, gamma=0.5,\n",
    "             importance_type='gain', learning_rate=0.1, max_delta_step=0,\n",
    "             max_depth=6, min_child_weight=6, missing=None, n_estimators=140,\n",
    "             n_jobs=1, nthread=None, objective='reg:linear', random_state=0,\n",
    "             reg_alpha=0, reg_lambda=1, scale_pos_weight=1, seed=None,\n",
    "             silent=None, subsample=.15, verbosity=1)\n",
    "\n",
    "lre=LinearRegression(fit_intercept=False, normalize=False, copy_X=True, n_jobs=None)\n",
    "\n",
    "svr=SVR(C=10, cache_size=200, coef0=0.0, degree=3, epsilon=0.1, gamma=0.1,\n",
    "    kernel='linear', max_iter=-1, shrinking=True, tol=0.001, verbose=False)\n",
    "\n",
    "models = [dtr,rfr,xbr,lre,svr]\n",
    "\n",
    "for mod in models:\n",
    "    mod.fit(train_predictors_val, train_target_val)"
   ]
  },
  {
   "cell_type": "code",
   "execution_count": 188,
   "metadata": {},
   "outputs": [],
   "source": [
    "test_error = []\n",
    "\n",
    "# Sequentially fit all models and calculate test score\n",
    "for mod in models:\n",
    "    y_pred = mod.predict(test_predictors_val)\n",
    "    mse_mod = MSE(test_target_val, y_pred)\n",
    "    rmse_mod = round(mse_mod**(1/2))\n",
    "    test_error.append(rmse_mod)"
   ]
  },
  {
   "cell_type": "code",
   "execution_count": 189,
   "metadata": {},
   "outputs": [
    {
     "name": "stderr",
     "output_type": "stream",
     "text": [
      "C:\\Users\\wehrm\\AppData\\Local\\Continuum\\anaconda3\\lib\\site-packages\\sklearn\\model_selection\\_split.py:1978: FutureWarning:\n",
      "\n",
      "The default value of cv will change from 3 to 5 in version 0.22. Specify it explicitly to silence this warning.\n",
      "\n"
     ]
    }
   ],
   "source": [
    "cv_error=[]\n",
    "\n",
    "for mod in models:\n",
    "    MSE_cv_error = -cross_val_score(mod, train_predictors_val,\n",
    "                                    train_target_val, scoring='neg_mean_squared_error', n_jobs=-1)\n",
    "    RMSE_cv = round((MSE_cv_error.mean())**(1/2))\n",
    "    cv_error.append(RMSE_cv)"
   ]
  },
  {
   "cell_type": "code",
   "execution_count": 190,
   "metadata": {},
   "outputs": [],
   "source": [
    "train_error=[]\n",
    "\n",
    "# Sequentially fit all models and calculate train score\n",
    "for mod in models:\n",
    "    y_pred = mod.predict(train_predictors_val)\n",
    "    mse_mod = MSE(train_target_val, y_pred)\n",
    "    rmse_mod = round(mse_mod**(1/2))\n",
    "    train_error.append(rmse_mod)"
   ]
  },
  {
   "cell_type": "code",
   "execution_count": 191,
   "metadata": {},
   "outputs": [
    {
     "data": {
      "image/png": "[encoded data removed]",
      "text/plain": [
       "<Figure size 864x432 with 1 Axes>"
      ]
     },
     "metadata": {
      "needs_background": "light"
     },
     "output_type": "display_data"
    }
   ],
   "source": [
    "model_names = ['dtr','rfr','xbr','lre','svc']\n",
    "\n",
    "error = pd.DataFrame(dict(graph=model_names,test_error=test_error, cv_error=cv_error, train_error=train_error)) \n",
    "\n",
    "ind = np.arange(len(error))\n",
    "width = 0.2\n",
    "\n",
    "fig, ax = plt.subplots(figsize=(12,6))\n",
    "ax.barh(ind, error.test_error, width, color='maroon', label='test')\n",
    "ax.barh(ind + width, error.cv_error, width, color='forestgreen', label='cv')\n",
    "ax.barh(ind + 2*width, error.train_error, width, color='slategrey', label='train')\n",
    "ax.set_xlim(0, max(error.cv_error)+min(error.cv_error))\n",
    "plt.xlabel('RMSE', fontsize=16)\n",
    "plt.ylabel('Algorithms', fontsize=16)\n",
    "plt.title('Test, Cross Validation and Train Error per Algorithm',fontsize=20)\n",
    "\n",
    "ax.set(yticks=ind + width, yticklabels=error.graph, ylim=[2*width - 1, len(error)])\n",
    "ax.legend()\n",
    "\n",
    "plt.show()\n"
   ]
  },
  {
   "cell_type": "code",
   "execution_count": 192,
   "metadata": {},
   "outputs": [
    {
     "data": {
      "text/html": [
       "<div>\n",
       "<style scoped>\n",
       "    .dataframe tbody tr th:only-of-type {\n",
       "        vertical-align: middle;\n",
       "    }\n",
       "\n",
       "    .dataframe tbody tr th {\n",
       "        vertical-align: top;\n",
       "    }\n",
       "\n",
       "    .dataframe thead th {\n",
       "        text-align: right;\n",
       "    }\n",
       "</style>\n",
       "<table border=\"1\" class=\"dataframe\">\n",
       "  <thead>\n",
       "    <tr style=\"text-align: right;\">\n",
       "      <th></th>\n",
       "      <th>graph</th>\n",
       "      <th>test_error</th>\n",
       "      <th>cv_error</th>\n",
       "      <th>train_error</th>\n",
       "    </tr>\n",
       "  </thead>\n",
       "  <tbody>\n",
       "    <tr>\n",
       "      <td>0</td>\n",
       "      <td>dtr</td>\n",
       "      <td>1769111.0</td>\n",
       "      <td>1933184.0</td>\n",
       "      <td>1601429.0</td>\n",
       "    </tr>\n",
       "    <tr>\n",
       "      <td>1</td>\n",
       "      <td>rfr</td>\n",
       "      <td>5837386.0</td>\n",
       "      <td>5540553.0</td>\n",
       "      <td>5540532.0</td>\n",
       "    </tr>\n",
       "    <tr>\n",
       "      <td>2</td>\n",
       "      <td>xbr</td>\n",
       "      <td>1186330.0</td>\n",
       "      <td>1265565.0</td>\n",
       "      <td>915878.0</td>\n",
       "    </tr>\n",
       "    <tr>\n",
       "      <td>3</td>\n",
       "      <td>lre</td>\n",
       "      <td>3587924.0</td>\n",
       "      <td>3438748.0</td>\n",
       "      <td>3434508.0</td>\n",
       "    </tr>\n",
       "    <tr>\n",
       "      <td>4</td>\n",
       "      <td>svc</td>\n",
       "      <td>5854694.0</td>\n",
       "      <td>5619461.0</td>\n",
       "      <td>5560873.0</td>\n",
       "    </tr>\n",
       "  </tbody>\n",
       "</table>\n",
       "</div>"
      ],
      "text/plain": [
       "  graph  test_error   cv_error  train_error\n",
       "0   dtr   1769111.0  1933184.0    1601429.0\n",
       "1   rfr   5837386.0  5540553.0    5540532.0\n",
       "2   xbr   1186330.0  1265565.0     915878.0\n",
       "3   lre   3587924.0  3438748.0    3434508.0\n",
       "4   svc   5854694.0  5619461.0    5560873.0"
      ]
     },
     "execution_count": 192,
     "metadata": {},
     "output_type": "execute_result"
    }
   ],
   "source": [
    "error"
   ]
  },
  {
   "cell_type": "markdown",
   "metadata": {},
   "source": [
    "Extreme Gradient Boosting delivers by far the lowest RMSE amongst our models, even though it shows some variance due to underfitting (based on CV and test error comparison). The most stable models, but with a significantly higher RMSE than XGBoost, are Linear Regression, Random Forest and Support Vector Regression. Decision Tree has a relatively low RMSE, but shows signs of high variance. \n",
    "\n",
    "Considering the high variance of the Decision Tree and the high bias (RMSE) of Support Vector Regressor, Linear Regression and Random Forest, we decide to accept the variance in XGBoost in favour of the lower overall bias this model seems to have."
   ]
  },
  {
   "cell_type": "markdown",
   "metadata": {},
   "source": [
    "## 4.) Using models for final prediction\n",
    "\n",
    "**Putting the prediction into business presepective:**<br>\n",
    "In this step we are loading the pickle we have derived from the anomaly detection algorithm. In terms of business this means the clubs has\n",
    "\n",
    "1.) Selected a subset of players based either on position and overall skill or based on a similar player and<br>\n",
    "2.) Our anomaly detection model has identified under- and overvalued players amongst the previously defined subset.\n",
    "\n",
    "The subset of undervalued players is now used to predict these players instrinsic value, so the club gets an idea about how high the first bid for this player should be.\n",
    "\n",
    "**Technical perspective:**<br>\n",
    "From a technical perspective, we are loading the subset of undervalued players and apply the same transformations to it as we did for the training set. We then use the transformed subset to predict the players intrinsic value and save the results in a csv file to give to the club as a final report."
   ]
  },
  {
   "cell_type": "code",
   "execution_count": 193,
   "metadata": {},
   "outputs": [],
   "source": [
    "with open('undervalue_players.pkl', 'rb') as f:\n",
    "    undervalued_players = pickle.load(f)"
   ]
  },
  {
   "cell_type": "code",
   "execution_count": 194,
   "metadata": {},
   "outputs": [],
   "source": [
    "with open('predictors_anomaly.pkl', 'rb') as f:\n",
    "    predictors_anomaly = pickle.load(f)"
   ]
  },
  {
   "cell_type": "markdown",
   "metadata": {},
   "source": [
    "Extracting the subset of undervalued players from predictors_anomaly data frame."
   ]
  },
  {
   "cell_type": "code",
   "execution_count": 195,
   "metadata": {},
   "outputs": [],
   "source": [
    "predictors_anomaly_processed=predictors_anomaly[predictors_anomaly['ID'].isin(list(undervalued_players['ID']))].copy()"
   ]
  },
  {
   "cell_type": "code",
   "execution_count": 196,
   "metadata": {},
   "outputs": [
    {
     "data": {
      "text/html": [
       "<div>\n",
       "<style scoped>\n",
       "    .dataframe tbody tr th:only-of-type {\n",
       "        vertical-align: middle;\n",
       "    }\n",
       "\n",
       "    .dataframe tbody tr th {\n",
       "        vertical-align: top;\n",
       "    }\n",
       "\n",
       "    .dataframe thead th {\n",
       "        text-align: right;\n",
       "    }\n",
       "</style>\n",
       "<table border=\"1\" class=\"dataframe\">\n",
       "  <thead>\n",
       "    <tr style=\"text-align: right;\">\n",
       "      <th></th>\n",
       "      <th>ID</th>\n",
       "      <th>Age</th>\n",
       "      <th>Overall</th>\n",
       "      <th>Potential</th>\n",
       "      <th>Value</th>\n",
       "      <th>Special</th>\n",
       "      <th>Preferred Foot</th>\n",
       "      <th>International Reputation</th>\n",
       "      <th>Weak Foot</th>\n",
       "      <th>Skill Moves</th>\n",
       "      <th>Real Face</th>\n",
       "      <th>Jersey Number</th>\n",
       "      <th>Joined</th>\n",
       "      <th>Loaned From</th>\n",
       "      <th>Contract Valid Until</th>\n",
       "      <th>Height</th>\n",
       "      <th>Weight</th>\n",
       "      <th>LS</th>\n",
       "      <th>ST</th>\n",
       "      <th>RS</th>\n",
       "      <th>LW</th>\n",
       "      <th>LF</th>\n",
       "      <th>CF</th>\n",
       "      <th>RF</th>\n",
       "      <th>RW</th>\n",
       "      <th>LAM</th>\n",
       "      <th>CAM</th>\n",
       "      <th>RAM</th>\n",
       "      <th>LM</th>\n",
       "      <th>LCM</th>\n",
       "      <th>CM</th>\n",
       "      <th>RCM</th>\n",
       "      <th>RM</th>\n",
       "      <th>LWB</th>\n",
       "      <th>LDM</th>\n",
       "      <th>CDM</th>\n",
       "      <th>RDM</th>\n",
       "      <th>RWB</th>\n",
       "      <th>LB</th>\n",
       "      <th>LCB</th>\n",
       "      <th>CB</th>\n",
       "      <th>RCB</th>\n",
       "      <th>RB</th>\n",
       "      <th>Crossing</th>\n",
       "      <th>Finishing</th>\n",
       "      <th>HeadingAccuracy</th>\n",
       "      <th>ShortPassing</th>\n",
       "      <th>Volleys</th>\n",
       "      <th>Dribbling</th>\n",
       "      <th>Curve</th>\n",
       "      <th>FKAccuracy</th>\n",
       "      <th>LongPassing</th>\n",
       "      <th>BallControl</th>\n",
       "      <th>Acceleration</th>\n",
       "      <th>SprintSpeed</th>\n",
       "      <th>Agility</th>\n",
       "      <th>Reactions</th>\n",
       "      <th>Balance</th>\n",
       "      <th>ShotPower</th>\n",
       "      <th>Jumping</th>\n",
       "      <th>Stamina</th>\n",
       "      <th>Strength</th>\n",
       "      <th>LongShots</th>\n",
       "      <th>Aggression</th>\n",
       "      <th>Interceptions</th>\n",
       "      <th>Positioning</th>\n",
       "      <th>Vision</th>\n",
       "      <th>Penalties</th>\n",
       "      <th>Composure</th>\n",
       "      <th>Marking</th>\n",
       "      <th>StandingTackle</th>\n",
       "      <th>SlidingTackle</th>\n",
       "      <th>GKDiving</th>\n",
       "      <th>GKHandling</th>\n",
       "      <th>GKKicking</th>\n",
       "      <th>GKPositioning</th>\n",
       "      <th>GKReflexes</th>\n",
       "      <th>Club_Reputation</th>\n",
       "      <th>Position_Potential</th>\n",
       "      <th>Attacking</th>\n",
       "      <th>Skill</th>\n",
       "      <th>Movement</th>\n",
       "      <th>Power</th>\n",
       "      <th>Mentality</th>\n",
       "      <th>Defending</th>\n",
       "      <th>GoalKeeping</th>\n",
       "      <th>Potential_Difference</th>\n",
       "      <th>anomaly</th>\n",
       "      <th>Body Type</th>\n",
       "      <th>Attack_WR</th>\n",
       "      <th>Defense_WR</th>\n",
       "      <th>Position_CAM</th>\n",
       "      <th>Position_CB</th>\n",
       "      <th>Position_CDM</th>\n",
       "      <th>Position_CF</th>\n",
       "      <th>Position_CM</th>\n",
       "      <th>Position_GK</th>\n",
       "      <th>Position_LAM</th>\n",
       "      <th>Position_LB</th>\n",
       "      <th>Position_LCB</th>\n",
       "      <th>Position_LCM</th>\n",
       "      <th>Position_LDM</th>\n",
       "      <th>Position_LF</th>\n",
       "      <th>Position_LM</th>\n",
       "      <th>Position_LS</th>\n",
       "      <th>Position_LW</th>\n",
       "      <th>Position_LWB</th>\n",
       "      <th>Position_RAM</th>\n",
       "      <th>Position_RB</th>\n",
       "      <th>Position_RCB</th>\n",
       "      <th>Position_RCM</th>\n",
       "      <th>Position_RDM</th>\n",
       "      <th>Position_RF</th>\n",
       "      <th>Position_RM</th>\n",
       "      <th>Position_RS</th>\n",
       "      <th>Position_RW</th>\n",
       "      <th>Position_RWB</th>\n",
       "      <th>Position_ST</th>\n",
       "      <th>Continent_Africa</th>\n",
       "      <th>Continent_Asia</th>\n",
       "      <th>Continent_Europe</th>\n",
       "      <th>Continent_North America</th>\n",
       "      <th>Continent_Oceania</th>\n",
       "      <th>Continent_South America</th>\n",
       "      <th>Position_Group_Defender</th>\n",
       "      <th>Position_Group_Forward</th>\n",
       "      <th>Position_Group_GoalKeeper</th>\n",
       "      <th>Position_Group_Midfielder</th>\n",
       "    </tr>\n",
       "  </thead>\n",
       "  <tbody>\n",
       "    <tr>\n",
       "      <td>1045</td>\n",
       "      <td>1045</td>\n",
       "      <td>31</td>\n",
       "      <td>77</td>\n",
       "      <td>77</td>\n",
       "      <td>7500000.0</td>\n",
       "      <td>2094</td>\n",
       "      <td>1</td>\n",
       "      <td>3.0</td>\n",
       "      <td>4.0</td>\n",
       "      <td>4.0</td>\n",
       "      <td>1</td>\n",
       "      <td>14.0</td>\n",
       "      <td>0</td>\n",
       "      <td>1</td>\n",
       "      <td>2</td>\n",
       "      <td>178</td>\n",
       "      <td>168</td>\n",
       "      <td>73</td>\n",
       "      <td>73</td>\n",
       "      <td>73</td>\n",
       "      <td>76</td>\n",
       "      <td>76</td>\n",
       "      <td>76</td>\n",
       "      <td>76</td>\n",
       "      <td>76</td>\n",
       "      <td>77</td>\n",
       "      <td>77</td>\n",
       "      <td>77</td>\n",
       "      <td>76</td>\n",
       "      <td>75</td>\n",
       "      <td>75</td>\n",
       "      <td>75</td>\n",
       "      <td>76</td>\n",
       "      <td>69</td>\n",
       "      <td>70</td>\n",
       "      <td>70</td>\n",
       "      <td>70</td>\n",
       "      <td>69</td>\n",
       "      <td>67</td>\n",
       "      <td>67</td>\n",
       "      <td>67</td>\n",
       "      <td>67</td>\n",
       "      <td>67</td>\n",
       "      <td>77.0</td>\n",
       "      <td>71.0</td>\n",
       "      <td>65.0</td>\n",
       "      <td>79.0</td>\n",
       "      <td>78.0</td>\n",
       "      <td>79.0</td>\n",
       "      <td>79.0</td>\n",
       "      <td>64.0</td>\n",
       "      <td>78.0</td>\n",
       "      <td>80.0</td>\n",
       "      <td>75.0</td>\n",
       "      <td>68.0</td>\n",
       "      <td>81.0</td>\n",
       "      <td>74.0</td>\n",
       "      <td>76.0</td>\n",
       "      <td>75.0</td>\n",
       "      <td>78.0</td>\n",
       "      <td>59.0</td>\n",
       "      <td>68.0</td>\n",
       "      <td>75.0</td>\n",
       "      <td>80.0</td>\n",
       "      <td>61.0</td>\n",
       "      <td>77.0</td>\n",
       "      <td>80.0</td>\n",
       "      <td>73.0</td>\n",
       "      <td>79.0</td>\n",
       "      <td>69.0</td>\n",
       "      <td>63.0</td>\n",
       "      <td>60.0</td>\n",
       "      <td>11.0</td>\n",
       "      <td>7.0</td>\n",
       "      <td>11.0</td>\n",
       "      <td>12.0</td>\n",
       "      <td>11.0</td>\n",
       "      <td>1.500000</td>\n",
       "      <td>3</td>\n",
       "      <td>74.0</td>\n",
       "      <td>76.0</td>\n",
       "      <td>74.8</td>\n",
       "      <td>71.0</td>\n",
       "      <td>75.000000</td>\n",
       "      <td>64.000000</td>\n",
       "      <td>10.4</td>\n",
       "      <td>0</td>\n",
       "      <td>1</td>\n",
       "      <td>2</td>\n",
       "      <td>3</td>\n",
       "      <td>3</td>\n",
       "      <td>0</td>\n",
       "      <td>0</td>\n",
       "      <td>0</td>\n",
       "      <td>0</td>\n",
       "      <td>1</td>\n",
       "      <td>0</td>\n",
       "      <td>0</td>\n",
       "      <td>0</td>\n",
       "      <td>0</td>\n",
       "      <td>0</td>\n",
       "      <td>0</td>\n",
       "      <td>0</td>\n",
       "      <td>0</td>\n",
       "      <td>0</td>\n",
       "      <td>0</td>\n",
       "      <td>0</td>\n",
       "      <td>0</td>\n",
       "      <td>0</td>\n",
       "      <td>0</td>\n",
       "      <td>0</td>\n",
       "      <td>0</td>\n",
       "      <td>0</td>\n",
       "      <td>0</td>\n",
       "      <td>0</td>\n",
       "      <td>0</td>\n",
       "      <td>0</td>\n",
       "      <td>0</td>\n",
       "      <td>0</td>\n",
       "      <td>1</td>\n",
       "      <td>0</td>\n",
       "      <td>0</td>\n",
       "      <td>0</td>\n",
       "      <td>0</td>\n",
       "      <td>0</td>\n",
       "      <td>0</td>\n",
       "      <td>0</td>\n",
       "      <td>1</td>\n",
       "    </tr>\n",
       "    <tr>\n",
       "      <td>1443</td>\n",
       "      <td>1443</td>\n",
       "      <td>33</td>\n",
       "      <td>76</td>\n",
       "      <td>76</td>\n",
       "      <td>4700000.0</td>\n",
       "      <td>2001</td>\n",
       "      <td>1</td>\n",
       "      <td>2.0</td>\n",
       "      <td>3.0</td>\n",
       "      <td>4.0</td>\n",
       "      <td>0</td>\n",
       "      <td>19.0</td>\n",
       "      <td>706</td>\n",
       "      <td>0</td>\n",
       "      <td>1</td>\n",
       "      <td>178</td>\n",
       "      <td>165</td>\n",
       "      <td>72</td>\n",
       "      <td>72</td>\n",
       "      <td>72</td>\n",
       "      <td>75</td>\n",
       "      <td>74</td>\n",
       "      <td>74</td>\n",
       "      <td>74</td>\n",
       "      <td>75</td>\n",
       "      <td>74</td>\n",
       "      <td>74</td>\n",
       "      <td>74</td>\n",
       "      <td>74</td>\n",
       "      <td>71</td>\n",
       "      <td>71</td>\n",
       "      <td>71</td>\n",
       "      <td>74</td>\n",
       "      <td>65</td>\n",
       "      <td>63</td>\n",
       "      <td>63</td>\n",
       "      <td>63</td>\n",
       "      <td>65</td>\n",
       "      <td>62</td>\n",
       "      <td>57</td>\n",
       "      <td>57</td>\n",
       "      <td>57</td>\n",
       "      <td>62</td>\n",
       "      <td>75.0</td>\n",
       "      <td>73.0</td>\n",
       "      <td>59.0</td>\n",
       "      <td>80.0</td>\n",
       "      <td>61.0</td>\n",
       "      <td>74.0</td>\n",
       "      <td>86.0</td>\n",
       "      <td>79.0</td>\n",
       "      <td>69.0</td>\n",
       "      <td>77.0</td>\n",
       "      <td>76.0</td>\n",
       "      <td>77.0</td>\n",
       "      <td>78.0</td>\n",
       "      <td>74.0</td>\n",
       "      <td>73.0</td>\n",
       "      <td>73.0</td>\n",
       "      <td>64.0</td>\n",
       "      <td>78.0</td>\n",
       "      <td>68.0</td>\n",
       "      <td>74.0</td>\n",
       "      <td>71.0</td>\n",
       "      <td>42.0</td>\n",
       "      <td>71.0</td>\n",
       "      <td>72.0</td>\n",
       "      <td>81.0</td>\n",
       "      <td>72.0</td>\n",
       "      <td>50.0</td>\n",
       "      <td>52.0</td>\n",
       "      <td>47.0</td>\n",
       "      <td>8.0</td>\n",
       "      <td>8.0</td>\n",
       "      <td>8.0</td>\n",
       "      <td>11.0</td>\n",
       "      <td>12.0</td>\n",
       "      <td>1.222222</td>\n",
       "      <td>2</td>\n",
       "      <td>69.6</td>\n",
       "      <td>77.0</td>\n",
       "      <td>75.6</td>\n",
       "      <td>71.4</td>\n",
       "      <td>68.166667</td>\n",
       "      <td>49.666667</td>\n",
       "      <td>9.4</td>\n",
       "      <td>0</td>\n",
       "      <td>1</td>\n",
       "      <td>2</td>\n",
       "      <td>3</td>\n",
       "      <td>2</td>\n",
       "      <td>0</td>\n",
       "      <td>0</td>\n",
       "      <td>0</td>\n",
       "      <td>0</td>\n",
       "      <td>0</td>\n",
       "      <td>0</td>\n",
       "      <td>0</td>\n",
       "      <td>0</td>\n",
       "      <td>0</td>\n",
       "      <td>0</td>\n",
       "      <td>0</td>\n",
       "      <td>0</td>\n",
       "      <td>0</td>\n",
       "      <td>0</td>\n",
       "      <td>0</td>\n",
       "      <td>0</td>\n",
       "      <td>0</td>\n",
       "      <td>0</td>\n",
       "      <td>0</td>\n",
       "      <td>0</td>\n",
       "      <td>0</td>\n",
       "      <td>0</td>\n",
       "      <td>0</td>\n",
       "      <td>0</td>\n",
       "      <td>1</td>\n",
       "      <td>0</td>\n",
       "      <td>0</td>\n",
       "      <td>0</td>\n",
       "      <td>0</td>\n",
       "      <td>1</td>\n",
       "      <td>0</td>\n",
       "      <td>0</td>\n",
       "      <td>0</td>\n",
       "      <td>0</td>\n",
       "      <td>1</td>\n",
       "      <td>0</td>\n",
       "      <td>0</td>\n",
       "    </tr>\n",
       "    <tr>\n",
       "      <td>2802</td>\n",
       "      <td>2802</td>\n",
       "      <td>32</td>\n",
       "      <td>73</td>\n",
       "      <td>73</td>\n",
       "      <td>2300000.0</td>\n",
       "      <td>2050</td>\n",
       "      <td>0</td>\n",
       "      <td>3.0</td>\n",
       "      <td>3.0</td>\n",
       "      <td>3.0</td>\n",
       "      <td>0</td>\n",
       "      <td>44.0</td>\n",
       "      <td>74</td>\n",
       "      <td>0</td>\n",
       "      <td>3</td>\n",
       "      <td>180</td>\n",
       "      <td>174</td>\n",
       "      <td>69</td>\n",
       "      <td>69</td>\n",
       "      <td>69</td>\n",
       "      <td>72</td>\n",
       "      <td>71</td>\n",
       "      <td>71</td>\n",
       "      <td>71</td>\n",
       "      <td>72</td>\n",
       "      <td>74</td>\n",
       "      <td>74</td>\n",
       "      <td>74</td>\n",
       "      <td>72</td>\n",
       "      <td>76</td>\n",
       "      <td>76</td>\n",
       "      <td>76</td>\n",
       "      <td>72</td>\n",
       "      <td>68</td>\n",
       "      <td>71</td>\n",
       "      <td>71</td>\n",
       "      <td>71</td>\n",
       "      <td>68</td>\n",
       "      <td>67</td>\n",
       "      <td>67</td>\n",
       "      <td>67</td>\n",
       "      <td>67</td>\n",
       "      <td>67</td>\n",
       "      <td>82.0</td>\n",
       "      <td>61.0</td>\n",
       "      <td>67.0</td>\n",
       "      <td>83.0</td>\n",
       "      <td>70.0</td>\n",
       "      <td>73.0</td>\n",
       "      <td>83.0</td>\n",
       "      <td>81.0</td>\n",
       "      <td>85.0</td>\n",
       "      <td>82.0</td>\n",
       "      <td>60.0</td>\n",
       "      <td>53.0</td>\n",
       "      <td>69.0</td>\n",
       "      <td>69.0</td>\n",
       "      <td>75.0</td>\n",
       "      <td>80.0</td>\n",
       "      <td>74.0</td>\n",
       "      <td>54.0</td>\n",
       "      <td>72.0</td>\n",
       "      <td>80.0</td>\n",
       "      <td>71.0</td>\n",
       "      <td>71.0</td>\n",
       "      <td>65.0</td>\n",
       "      <td>80.0</td>\n",
       "      <td>73.0</td>\n",
       "      <td>81.0</td>\n",
       "      <td>40.0</td>\n",
       "      <td>72.0</td>\n",
       "      <td>70.0</td>\n",
       "      <td>16.0</td>\n",
       "      <td>7.0</td>\n",
       "      <td>9.0</td>\n",
       "      <td>8.0</td>\n",
       "      <td>15.0</td>\n",
       "      <td>1.444444</td>\n",
       "      <td>3</td>\n",
       "      <td>72.6</td>\n",
       "      <td>80.8</td>\n",
       "      <td>65.2</td>\n",
       "      <td>72.0</td>\n",
       "      <td>73.500000</td>\n",
       "      <td>60.666667</td>\n",
       "      <td>11.0</td>\n",
       "      <td>0</td>\n",
       "      <td>1</td>\n",
       "      <td>2</td>\n",
       "      <td>2</td>\n",
       "      <td>2</td>\n",
       "      <td>0</td>\n",
       "      <td>0</td>\n",
       "      <td>1</td>\n",
       "      <td>0</td>\n",
       "      <td>0</td>\n",
       "      <td>0</td>\n",
       "      <td>0</td>\n",
       "      <td>0</td>\n",
       "      <td>0</td>\n",
       "      <td>0</td>\n",
       "      <td>0</td>\n",
       "      <td>0</td>\n",
       "      <td>0</td>\n",
       "      <td>0</td>\n",
       "      <td>0</td>\n",
       "      <td>0</td>\n",
       "      <td>0</td>\n",
       "      <td>0</td>\n",
       "      <td>0</td>\n",
       "      <td>0</td>\n",
       "      <td>0</td>\n",
       "      <td>0</td>\n",
       "      <td>0</td>\n",
       "      <td>0</td>\n",
       "      <td>0</td>\n",
       "      <td>0</td>\n",
       "      <td>0</td>\n",
       "      <td>0</td>\n",
       "      <td>0</td>\n",
       "      <td>1</td>\n",
       "      <td>0</td>\n",
       "      <td>0</td>\n",
       "      <td>0</td>\n",
       "      <td>0</td>\n",
       "      <td>0</td>\n",
       "      <td>0</td>\n",
       "      <td>1</td>\n",
       "    </tr>\n",
       "  </tbody>\n",
       "</table>\n",
       "</div>"
      ],
      "text/plain": [
       "        ID  Age  Overall  Potential      Value  Special  Preferred Foot  \\\n",
       "1045  1045   31       77         77  7500000.0     2094               1   \n",
       "1443  1443   33       76         76  4700000.0     2001               1   \n",
       "2802  2802   32       73         73  2300000.0     2050               0   \n",
       "\n",
       "      International Reputation  Weak Foot  Skill Moves  Real Face  \\\n",
       "1045                       3.0        4.0          4.0          1   \n",
       "1443                       2.0        3.0          4.0          0   \n",
       "2802                       3.0        3.0          3.0          0   \n",
       "\n",
       "      Jersey Number  Joined  Loaned From  Contract Valid Until  Height  \\\n",
       "1045           14.0       0            1                     2     178   \n",
       "1443           19.0     706            0                     1     178   \n",
       "2802           44.0      74            0                     3     180   \n",
       "\n",
       "      Weight  LS  ST  RS  LW  LF  CF  RF  RW  LAM  CAM  RAM  LM  LCM  CM  RCM  \\\n",
       "1045     168  73  73  73  76  76  76  76  76   77   77   77  76   75  75   75   \n",
       "1443     165  72  72  72  75  74  74  74  75   74   74   74  74   71  71   71   \n",
       "2802     174  69  69  69  72  71  71  71  72   74   74   74  72   76  76   76   \n",
       "\n",
       "      RM  LWB  LDM  CDM  RDM  RWB  LB  LCB  CB  RCB  RB  Crossing  Finishing  \\\n",
       "1045  76   69   70   70   70   69  67   67  67   67  67      77.0       71.0   \n",
       "1443  74   65   63   63   63   65  62   57  57   57  62      75.0       73.0   \n",
       "2802  72   68   71   71   71   68  67   67  67   67  67      82.0       61.0   \n",
       "\n",
       "      HeadingAccuracy  ShortPassing  Volleys  Dribbling  Curve  FKAccuracy  \\\n",
       "1045             65.0          79.0     78.0       79.0   79.0        64.0   \n",
       "1443             59.0          80.0     61.0       74.0   86.0        79.0   \n",
       "2802             67.0          83.0     70.0       73.0   83.0        81.0   \n",
       "\n",
       "      LongPassing  BallControl  Acceleration  SprintSpeed  Agility  Reactions  \\\n",
       "1045         78.0         80.0          75.0         68.0     81.0       74.0   \n",
       "1443         69.0         77.0          76.0         77.0     78.0       74.0   \n",
       "2802         85.0         82.0          60.0         53.0     69.0       69.0   \n",
       "\n",
       "      Balance  ShotPower  Jumping  Stamina  Strength  LongShots  Aggression  \\\n",
       "1045     76.0       75.0     78.0     59.0      68.0       75.0        80.0   \n",
       "1443     73.0       73.0     64.0     78.0      68.0       74.0        71.0   \n",
       "2802     75.0       80.0     74.0     54.0      72.0       80.0        71.0   \n",
       "\n",
       "      Interceptions  Positioning  Vision  Penalties  Composure  Marking  \\\n",
       "1045           61.0         77.0    80.0       73.0       79.0     69.0   \n",
       "1443           42.0         71.0    72.0       81.0       72.0     50.0   \n",
       "2802           71.0         65.0    80.0       73.0       81.0     40.0   \n",
       "\n",
       "      StandingTackle  SlidingTackle  GKDiving  GKHandling  GKKicking  \\\n",
       "1045            63.0           60.0      11.0         7.0       11.0   \n",
       "1443            52.0           47.0       8.0         8.0        8.0   \n",
       "2802            72.0           70.0      16.0         7.0        9.0   \n",
       "\n",
       "      GKPositioning  GKReflexes  Club_Reputation  Position_Potential  \\\n",
       "1045           12.0        11.0         1.500000                   3   \n",
       "1443           11.0        12.0         1.222222                   2   \n",
       "2802            8.0        15.0         1.444444                   3   \n",
       "\n",
       "      Attacking  Skill  Movement  Power  Mentality  Defending  GoalKeeping  \\\n",
       "1045       74.0   76.0      74.8   71.0  75.000000  64.000000         10.4   \n",
       "1443       69.6   77.0      75.6   71.4  68.166667  49.666667          9.4   \n",
       "2802       72.6   80.8      65.2   72.0  73.500000  60.666667         11.0   \n",
       "\n",
       "      Potential_Difference  anomaly  Body Type  Attack_WR  Defense_WR  \\\n",
       "1045                     0        1          2          3           3   \n",
       "1443                     0        1          2          3           2   \n",
       "2802                     0        1          2          2           2   \n",
       "\n",
       "      Position_CAM  Position_CB  Position_CDM  Position_CF  Position_CM  \\\n",
       "1045             0            0             0            0            1   \n",
       "1443             0            0             0            0            0   \n",
       "2802             0            0             1            0            0   \n",
       "\n",
       "      Position_GK  Position_LAM  Position_LB  Position_LCB  Position_LCM  \\\n",
       "1045            0             0            0             0             0   \n",
       "1443            0             0            0             0             0   \n",
       "2802            0             0            0             0             0   \n",
       "\n",
       "      Position_LDM  Position_LF  Position_LM  Position_LS  Position_LW  \\\n",
       "1045             0            0            0            0            0   \n",
       "1443             0            0            0            0            0   \n",
       "2802             0            0            0            0            0   \n",
       "\n",
       "      Position_LWB  Position_RAM  Position_RB  Position_RCB  Position_RCM  \\\n",
       "1045             0             0            0             0             0   \n",
       "1443             0             0            0             0             0   \n",
       "2802             0             0            0             0             0   \n",
       "\n",
       "      Position_RDM  Position_RF  Position_RM  Position_RS  Position_RW  \\\n",
       "1045             0            0            0            0            0   \n",
       "1443             0            0            0            0            1   \n",
       "2802             0            0            0            0            0   \n",
       "\n",
       "      Position_RWB  Position_ST  Continent_Africa  Continent_Asia  \\\n",
       "1045             0            0                 0               1   \n",
       "1443             0            0                 0               0   \n",
       "2802             0            0                 0               0   \n",
       "\n",
       "      Continent_Europe  Continent_North America  Continent_Oceania  \\\n",
       "1045                 0                        0                  0   \n",
       "1443                 1                        0                  0   \n",
       "2802                 1                        0                  0   \n",
       "\n",
       "      Continent_South America  Position_Group_Defender  \\\n",
       "1045                        0                        0   \n",
       "1443                        0                        0   \n",
       "2802                        0                        0   \n",
       "\n",
       "      Position_Group_Forward  Position_Group_GoalKeeper  \\\n",
       "1045                       0                          0   \n",
       "1443                       1                          0   \n",
       "2802                       0                          0   \n",
       "\n",
       "      Position_Group_Midfielder  \n",
       "1045                          1  \n",
       "1443                          0  \n",
       "2802                          1  "
      ]
     },
     "execution_count": 196,
     "metadata": {},
     "output_type": "execute_result"
    }
   ],
   "source": [
    "predictors_anomaly_processed.head()"
   ]
  },
  {
   "cell_type": "code",
   "execution_count": 197,
   "metadata": {
    "scrolled": true
   },
   "outputs": [
    {
     "data": {
      "text/html": [
       "<div>\n",
       "<style scoped>\n",
       "    .dataframe tbody tr th:only-of-type {\n",
       "        vertical-align: middle;\n",
       "    }\n",
       "\n",
       "    .dataframe tbody tr th {\n",
       "        vertical-align: top;\n",
       "    }\n",
       "\n",
       "    .dataframe thead th {\n",
       "        text-align: right;\n",
       "    }\n",
       "</style>\n",
       "<table border=\"1\" class=\"dataframe\">\n",
       "  <thead>\n",
       "    <tr style=\"text-align: right;\">\n",
       "      <th></th>\n",
       "      <th>Overall</th>\n",
       "      <th>Potential</th>\n",
       "      <th>Special</th>\n",
       "      <th>International Reputation</th>\n",
       "      <th>Real Face</th>\n",
       "      <th>BallControl</th>\n",
       "      <th>Reactions</th>\n",
       "      <th>Vision</th>\n",
       "      <th>Composure</th>\n",
       "      <th>Club_Reputation</th>\n",
       "      <th>Mentality</th>\n",
       "      <th>Position_Group_Defender</th>\n",
       "      <th>Position_Group_Forward</th>\n",
       "      <th>Position_Group_GoalKeeper</th>\n",
       "      <th>Position_Group_Midfielder</th>\n",
       "    </tr>\n",
       "  </thead>\n",
       "  <tbody>\n",
       "    <tr>\n",
       "      <td>2540</td>\n",
       "      <td>1.121234</td>\n",
       "      <td>1.736760</td>\n",
       "      <td>1.087923</td>\n",
       "      <td>1</td>\n",
       "      <td>0</td>\n",
       "      <td>0.879658</td>\n",
       "      <td>0.683807</td>\n",
       "      <td>1.321442</td>\n",
       "      <td>0.468988</td>\n",
       "      <td>0.309200</td>\n",
       "      <td>0.996850</td>\n",
       "      <td>0</td>\n",
       "      <td>0</td>\n",
       "      <td>0</td>\n",
       "      <td>1</td>\n",
       "    </tr>\n",
       "    <tr>\n",
       "      <td>14643</td>\n",
       "      <td>-0.904369</td>\n",
       "      <td>-1.845045</td>\n",
       "      <td>-0.259031</td>\n",
       "      <td>1</td>\n",
       "      <td>0</td>\n",
       "      <td>0.099739</td>\n",
       "      <td>-0.758910</td>\n",
       "      <td>-1.366165</td>\n",
       "      <td>-1.635112</td>\n",
       "      <td>-0.505285</td>\n",
       "      <td>-0.615435</td>\n",
       "      <td>1</td>\n",
       "      <td>0</td>\n",
       "      <td>0</td>\n",
       "      <td>0</td>\n",
       "    </tr>\n",
       "    <tr>\n",
       "      <td>6185</td>\n",
       "      <td>0.397804</td>\n",
       "      <td>0.271476</td>\n",
       "      <td>0.548407</td>\n",
       "      <td>1</td>\n",
       "      <td>0</td>\n",
       "      <td>0.819664</td>\n",
       "      <td>-0.093041</td>\n",
       "      <td>0.684904</td>\n",
       "      <td>0.907342</td>\n",
       "      <td>-0.505285</td>\n",
       "      <td>0.204371</td>\n",
       "      <td>0</td>\n",
       "      <td>0</td>\n",
       "      <td>0</td>\n",
       "      <td>1</td>\n",
       "    </tr>\n",
       "    <tr>\n",
       "      <td>531</td>\n",
       "      <td>1.989350</td>\n",
       "      <td>1.411141</td>\n",
       "      <td>1.983446</td>\n",
       "      <td>2</td>\n",
       "      <td>1</td>\n",
       "      <td>1.299614</td>\n",
       "      <td>2.015546</td>\n",
       "      <td>1.887254</td>\n",
       "      <td>2.047063</td>\n",
       "      <td>0.580695</td>\n",
       "      <td>2.130915</td>\n",
       "      <td>0</td>\n",
       "      <td>0</td>\n",
       "      <td>0</td>\n",
       "      <td>1</td>\n",
       "    </tr>\n",
       "    <tr>\n",
       "      <td>4458</td>\n",
       "      <td>0.687176</td>\n",
       "      <td>-0.054143</td>\n",
       "      <td>1.069572</td>\n",
       "      <td>1</td>\n",
       "      <td>0</td>\n",
       "      <td>0.699677</td>\n",
       "      <td>0.794785</td>\n",
       "      <td>0.967810</td>\n",
       "      <td>0.819671</td>\n",
       "      <td>-0.505285</td>\n",
       "      <td>1.174475</td>\n",
       "      <td>1</td>\n",
       "      <td>0</td>\n",
       "      <td>0</td>\n",
       "      <td>0</td>\n",
       "    </tr>\n",
       "  </tbody>\n",
       "</table>\n",
       "</div>"
      ],
      "text/plain": [
       "        Overall  Potential   Special  International Reputation  Real Face  \\\n",
       "2540   1.121234   1.736760  1.087923                         1          0   \n",
       "14643 -0.904369  -1.845045 -0.259031                         1          0   \n",
       "6185   0.397804   0.271476  0.548407                         1          0   \n",
       "531    1.989350   1.411141  1.983446                         2          1   \n",
       "4458   0.687176  -0.054143  1.069572                         1          0   \n",
       "\n",
       "       BallControl  Reactions    Vision  Composure  Club_Reputation  \\\n",
       "2540      0.879658   0.683807  1.321442   0.468988         0.309200   \n",
       "14643     0.099739  -0.758910 -1.366165  -1.635112        -0.505285   \n",
       "6185      0.819664  -0.093041  0.684904   0.907342        -0.505285   \n",
       "531       1.299614   2.015546  1.887254   2.047063         0.580695   \n",
       "4458      0.699677   0.794785  0.967810   0.819671        -0.505285   \n",
       "\n",
       "       Mentality  Position_Group_Defender  Position_Group_Forward  \\\n",
       "2540    0.996850                        0                       0   \n",
       "14643  -0.615435                        1                       0   \n",
       "6185    0.204371                        0                       0   \n",
       "531     2.130915                        0                       0   \n",
       "4458    1.174475                        1                       0   \n",
       "\n",
       "       Position_Group_GoalKeeper  Position_Group_Midfielder  \n",
       "2540                           0                          1  \n",
       "14643                          0                          0  \n",
       "6185                           0                          1  \n",
       "531                            0                          1  \n",
       "4458                           0                          0  "
      ]
     },
     "execution_count": 197,
     "metadata": {},
     "output_type": "execute_result"
    }
   ],
   "source": [
    "train_predictors_val.head()"
   ]
  },
  {
   "cell_type": "markdown",
   "metadata": {},
   "source": [
    "### 4.1) Preparing subset\n",
    "\n",
    "First, we are dropping all features that we did not use to train our final models. Also, we are transforming the categorical features to type categorical (if they were not already of type categorical)."
   ]
  },
  {
   "cell_type": "code",
   "execution_count": 198,
   "metadata": {},
   "outputs": [],
   "source": [
    "predictors_anomaly_processed=predictors_anomaly_processed[train_predictors_val.columns]\n",
    "predictors_anomaly_processed[['International Reputation','Real Face']]=predictors_anomaly_processed[['International Reputation','Real Face']].astype('category')"
   ]
  },
  {
   "cell_type": "markdown",
   "metadata": {},
   "source": [
    "Next, we are scaling all continuous features and back-transform categorical features to int (as the model does not accept categorical input)."
   ]
  },
  {
   "cell_type": "code",
   "execution_count": 199,
   "metadata": {},
   "outputs": [],
   "source": [
    "scaler = StandardScaler()\n",
    "\n",
    "predictors_anomaly_processed[predictors_anomaly_processed.select_dtypes(include=['float64','float32','int64','int32'], exclude=['category']).columns] = scaler.fit_transform(predictors_anomaly_processed.select_dtypes(include=['float64','float32','int64','int32'], exclude=['category']))\n"
   ]
  },
  {
   "cell_type": "code",
   "execution_count": 200,
   "metadata": {},
   "outputs": [],
   "source": [
    "predictors_anomaly_processed[predictors_anomaly_processed.select_dtypes(include='category').columns]=predictors_anomaly_processed[predictors_anomaly_processed.select_dtypes(include='category').columns].astype('int')"
   ]
  },
  {
   "cell_type": "code",
   "execution_count": 201,
   "metadata": {},
   "outputs": [
    {
     "data": {
      "text/html": [
       "<div>\n",
       "<style scoped>\n",
       "    .dataframe tbody tr th:only-of-type {\n",
       "        vertical-align: middle;\n",
       "    }\n",
       "\n",
       "    .dataframe tbody tr th {\n",
       "        vertical-align: top;\n",
       "    }\n",
       "\n",
       "    .dataframe thead th {\n",
       "        text-align: right;\n",
       "    }\n",
       "</style>\n",
       "<table border=\"1\" class=\"dataframe\">\n",
       "  <thead>\n",
       "    <tr style=\"text-align: right;\">\n",
       "      <th></th>\n",
       "      <th>Overall</th>\n",
       "      <th>Potential</th>\n",
       "      <th>Special</th>\n",
       "      <th>International Reputation</th>\n",
       "      <th>Real Face</th>\n",
       "      <th>BallControl</th>\n",
       "      <th>Reactions</th>\n",
       "      <th>Vision</th>\n",
       "      <th>Composure</th>\n",
       "      <th>Club_Reputation</th>\n",
       "      <th>Mentality</th>\n",
       "      <th>Position_Group_Defender</th>\n",
       "      <th>Position_Group_Forward</th>\n",
       "      <th>Position_Group_GoalKeeper</th>\n",
       "      <th>Position_Group_Midfielder</th>\n",
       "    </tr>\n",
       "  </thead>\n",
       "  <tbody>\n",
       "    <tr>\n",
       "      <td>1045</td>\n",
       "      <td>0.980581</td>\n",
       "      <td>0.980581</td>\n",
       "      <td>1.202217</td>\n",
       "      <td>3</td>\n",
       "      <td>1</td>\n",
       "      <td>0.162221</td>\n",
       "      <td>0.707107</td>\n",
       "      <td>0.707107</td>\n",
       "      <td>0.431934</td>\n",
       "      <td>0.92582</td>\n",
       "      <td>0.947282</td>\n",
       "      <td>0</td>\n",
       "      <td>0</td>\n",
       "      <td>0</td>\n",
       "      <td>1</td>\n",
       "    </tr>\n",
       "    <tr>\n",
       "      <td>1443</td>\n",
       "      <td>0.392232</td>\n",
       "      <td>0.392232</td>\n",
       "      <td>-1.246094</td>\n",
       "      <td>2</td>\n",
       "      <td>0</td>\n",
       "      <td>-1.297771</td>\n",
       "      <td>0.707107</td>\n",
       "      <td>-1.414214</td>\n",
       "      <td>-1.382189</td>\n",
       "      <td>-1.38873</td>\n",
       "      <td>-1.383032</td>\n",
       "      <td>0</td>\n",
       "      <td>1</td>\n",
       "      <td>0</td>\n",
       "      <td>0</td>\n",
       "    </tr>\n",
       "    <tr>\n",
       "      <td>2802</td>\n",
       "      <td>-1.372813</td>\n",
       "      <td>-1.372813</td>\n",
       "      <td>0.043877</td>\n",
       "      <td>3</td>\n",
       "      <td>0</td>\n",
       "      <td>1.135550</td>\n",
       "      <td>-1.414214</td>\n",
       "      <td>0.707107</td>\n",
       "      <td>0.950255</td>\n",
       "      <td>0.46291</td>\n",
       "      <td>0.435750</td>\n",
       "      <td>0</td>\n",
       "      <td>0</td>\n",
       "      <td>0</td>\n",
       "      <td>1</td>\n",
       "    </tr>\n",
       "  </tbody>\n",
       "</table>\n",
       "</div>"
      ],
      "text/plain": [
       "       Overall  Potential   Special  International Reputation  Real Face  \\\n",
       "1045  0.980581   0.980581  1.202217                         3          1   \n",
       "1443  0.392232   0.392232 -1.246094                         2          0   \n",
       "2802 -1.372813  -1.372813  0.043877                         3          0   \n",
       "\n",
       "      BallControl  Reactions    Vision  Composure  Club_Reputation  Mentality  \\\n",
       "1045     0.162221   0.707107  0.707107   0.431934          0.92582   0.947282   \n",
       "1443    -1.297771   0.707107 -1.414214  -1.382189         -1.38873  -1.383032   \n",
       "2802     1.135550  -1.414214  0.707107   0.950255          0.46291   0.435750   \n",
       "\n",
       "      Position_Group_Defender  Position_Group_Forward  \\\n",
       "1045                        0                       0   \n",
       "1443                        0                       1   \n",
       "2802                        0                       0   \n",
       "\n",
       "      Position_Group_GoalKeeper  Position_Group_Midfielder  \n",
       "1045                          0                          1  \n",
       "1443                          0                          0  \n",
       "2802                          0                          1  "
      ]
     },
     "execution_count": 201,
     "metadata": {},
     "output_type": "execute_result"
    }
   ],
   "source": [
    "predictors_anomaly_processed"
   ]
  },
  {
   "cell_type": "markdown",
   "metadata": {},
   "source": [
    "Now that we have prepared our final data frame, we can move on to predicting the players values."
   ]
  },
  {
   "cell_type": "markdown",
   "metadata": {},
   "source": [
    "### 4.2) Final bid recommendation (prediction)"
   ]
  },
  {
   "cell_type": "code",
   "execution_count": 211,
   "metadata": {},
   "outputs": [],
   "source": [
    "predictions = abs(xbr.predict(predictors_anomaly_processed))\n",
    "\n",
    "recommendation = pd.concat([pd.DataFrame(undervalued_players['ID']), pd.DataFrame(undervalued_players['Name']), pd.DataFrame(predictions)], axis = 'columns')\n",
    "\n",
    "recommendation.columns = ['ID', 'Name', 'Bid Recommendation']\n",
    "recommendation.to_csv('UndervaluedPlayers_BidRecommendation.csv', header = True, index = False)"
   ]
  },
  {
   "cell_type": "code",
   "execution_count": null,
   "metadata": {},
   "outputs": [],
   "source": []
  }
 ],
 "metadata": {
  "colab": {
   "collapsed_sections": [
    "wkjJ5jFt1atv",
    "dlA9qH-wjrs0"
   ],
   "name": "Copy of Data Mining Project.ipynb",
   "provenance": [],
   "toc_visible": true,
   "version": "0.3.2"
  },
  "kernelspec": {
   "display_name": "Python 3",
   "language": "python",
   "name": "python3"
  },
  "language_info": {
   "codemirror_mode": {
    "name": "ipython",
    "version": 3
   },
   "file_extension": ".py",
   "mimetype": "text/x-python",
   "name": "python",
   "nbconvert_exporter": "python",
   "pygments_lexer": "ipython3",
   "version": "3.7.1"
  }
 },
 "nbformat": 4,
 "nbformat_minor": 1
}
